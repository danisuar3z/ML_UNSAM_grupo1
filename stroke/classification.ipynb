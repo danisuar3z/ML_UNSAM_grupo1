{
 "cells": [
  {
   "cell_type": "code",
   "execution_count": 1,
   "metadata": {},
   "outputs": [],
   "source": [
    "# IMPORTS\n",
    "import numpy as np\n",
    "import pandas as pd\n",
    "from matplotlib import pyplot as plt\n",
    "%matplotlib inline"
   ]
  },
  {
   "cell_type": "code",
   "execution_count": 2,
   "metadata": {},
   "outputs": [],
   "source": [
    "# DATASET\n",
    "df = pd.read_csv(\"../datasets/stroke/healthcare-dataset-stroke-data_train.csv\")\n",
    "df.drop([\"id\", \"Unnamed: 0\"], axis=1, inplace=True)"
   ]
  },
  {
   "cell_type": "markdown",
   "metadata": {},
   "source": [
    "### BMI por edad (medianas)\n",
    "* Hasta:  10 años - BMI: 18.30  \n",
    "* Hasta:  20 años - BMI: 23.80  \n",
    "* Hasta:  30 años - BMI: 26.70  \n",
    "* Hasta:  40 años - BMI: 29.70  \n",
    "* Hasta:  50 años - BMI: 30.00  \n",
    "* Hasta:  60 años - BMI: 30.90  \n",
    "* Hasta:  70 años - BMI: 30.00  \n",
    "* Mayor 70 años - BMI: 28.30  \n",
    "* Mayor 30 años - BMI: 29.80  \n",
    "\n",
    "Hago grupos hasta 10, hasta 20, hasta 30 y mayor a 30 para rellenar NaNs."
   ]
  },
  {
   "cell_type": "code",
   "execution_count": 3,
   "metadata": {},
   "outputs": [],
   "source": [
    "bmi_fill = {\n",
    "    \"hasta_10\": 18.3,\n",
    "    \"hasta_20\": 23.8,\n",
    "    \"hasta_30\": 26.7,\n",
    "    \"mayor_30\": 29.8,\n",
    "}"
   ]
  },
  {
   "cell_type": "code",
   "execution_count": 4,
   "metadata": {},
   "outputs": [
    {
     "name": "stderr",
     "output_type": "stream",
     "text": [
      "/home/pablo/anaconda3/lib/python3.7/site-packages/pandas/core/indexing.py:1732: SettingWithCopyWarning: \n",
      "A value is trying to be set on a copy of a slice from a DataFrame\n",
      "\n",
      "See the caveats in the documentation: https://pandas.pydata.org/pandas-docs/stable/user_guide/indexing.html#returning-a-view-versus-a-copy\n",
      "  self._setitem_single_block(indexer, value, name)\n"
     ]
    }
   ],
   "source": [
    "# LLENO NaNs SEGUN EDAD\n",
    "df.bmi.fillna(0, inplace=True)\n",
    "for i in range(len(df)):\n",
    "    if df.bmi.iloc[i] == 0:\n",
    "        if (df.age.iloc[i]<=10):\n",
    "            df.bmi.iloc[i] = bmi_fill[\"hasta_10\"]\n",
    "        elif (df.age.loc[i]<=20)&(df.age.loc[i]>10):\n",
    "            df.bmi.iloc[i] = bmi_fill[\"hasta_20\"]\n",
    "        elif (df.age.loc[i]<=30)&(df.age.loc[i]>20):\n",
    "            df.bmi.iloc[i] = bmi_fill[\"hasta_30\"]\n",
    "        else:\n",
    "            df.bmi.iloc[i] = bmi_fill[\"mayor_30\"]"
   ]
  },
  {
   "cell_type": "markdown",
   "metadata": {},
   "source": [
    "## ENCODING"
   ]
  },
  {
   "cell_type": "code",
   "execution_count": 5,
   "metadata": {},
   "outputs": [],
   "source": [
    "from sklearn.preprocessing import OneHotEncoder, StandardScaler, LabelEncoder"
   ]
  },
  {
   "cell_type": "markdown",
   "metadata": {},
   "source": [
    "## La idea ahora sería hacerle OHE a work_type y smoking_status; y label encoding a gender y Residence_type, y después probar de nuevo los modelos.  \n",
    "Quizás habría que usar el ColumnTransformer?"
   ]
  },
  {
   "cell_type": "code",
   "execution_count": 6,
   "metadata": {},
   "outputs": [],
   "source": [
    "ohe_cols = [\"work_type\", \"smoking_status\"]\n",
    "label_cols = [\"gender\", \"ever_married\", \"Residence_type\"]\n",
    "cat_cols = ohe_cols+label_cols\n",
    "num_cols = [\"avg_glucose_level\", \"bmi\"]"
   ]
  },
  {
   "cell_type": "code",
   "execution_count": 7,
   "metadata": {},
   "outputs": [],
   "source": [
    "from sklearn.pipeline import Pipeline\n",
    "from sklearn.compose import ColumnTransformer\n",
    "\n",
    "class ModifiedLabelEncoder(LabelEncoder):\n",
    "\n",
    "    def fit_transform(self, y, *args, **kwargs):\n",
    "        return super().fit_transform(y).reshape(-1, 1)\n",
    "\n",
    "    def transform(self, y, *args, **kwargs):\n",
    "        return super().transform(y).reshape(-1, 1)\n",
    "\n",
    "# num_pipeline = Pipeline([\"std_scaler\", StandardScaler()])\n",
    "\n",
    "# label_pipeline = Pipeline([\"label_enc\", LabelEncoder()])\n",
    "\n",
    "# ohe_pipeline = Pipeline([\"ohe\", OneHotEncoder()])\n",
    "\n",
    "full_pipeline = ColumnTransformer([\n",
    "    (\"num\", StandardScaler(), num_cols),\n",
    "    (\"ohe\", OneHotEncoder(), ohe_cols),\n",
    "    (\"label_1\", ModifiedLabelEncoder(), label_cols[0]),\n",
    "    (\"label_2\", ModifiedLabelEncoder(), label_cols[1]),\n",
    "    (\"label_3\", ModifiedLabelEncoder(), label_cols[2]),\n",
    "])"
   ]
  },
  {
   "cell_type": "code",
   "execution_count": 8,
   "metadata": {
    "scrolled": false
   },
   "outputs": [],
   "source": [
    "df_prepared = full_pipeline.fit_transform(df)"
   ]
  },
  {
   "cell_type": "code",
   "execution_count": 9,
   "metadata": {
    "scrolled": false
   },
   "outputs": [],
   "source": [
    "df_processed = pd.DataFrame(df_prepared)\n",
    "# df_processed.columns = num_cols + ohe_cols + label_cols"
   ]
  },
  {
   "cell_type": "code",
   "execution_count": 10,
   "metadata": {
    "scrolled": true
   },
   "outputs": [
    {
     "data": {
      "text/plain": [
       "1.0"
      ]
     },
     "execution_count": 10,
     "metadata": {},
     "output_type": "execute_result"
    }
   ],
   "source": [
    "df_processed[0].to_numpy().std()"
   ]
  },
  {
   "cell_type": "code",
   "execution_count": 11,
   "metadata": {},
   "outputs": [],
   "source": [
    "df_listo = pd.concat([df_processed, df[[\"hypertension\", \"heart_disease\"]]], axis=1)"
   ]
  },
  {
   "cell_type": "code",
   "execution_count": 12,
   "metadata": {},
   "outputs": [
    {
     "data": {
      "text/html": [
       "<div>\n",
       "<style scoped>\n",
       "    .dataframe tbody tr th:only-of-type {\n",
       "        vertical-align: middle;\n",
       "    }\n",
       "\n",
       "    .dataframe tbody tr th {\n",
       "        vertical-align: top;\n",
       "    }\n",
       "\n",
       "    .dataframe thead th {\n",
       "        text-align: right;\n",
       "    }\n",
       "</style>\n",
       "<table border=\"1\" class=\"dataframe\">\n",
       "  <thead>\n",
       "    <tr style=\"text-align: right;\">\n",
       "      <th></th>\n",
       "      <th>0</th>\n",
       "      <th>1</th>\n",
       "      <th>2</th>\n",
       "      <th>3</th>\n",
       "      <th>4</th>\n",
       "      <th>5</th>\n",
       "      <th>6</th>\n",
       "      <th>7</th>\n",
       "      <th>8</th>\n",
       "      <th>9</th>\n",
       "      <th>10</th>\n",
       "      <th>11</th>\n",
       "      <th>12</th>\n",
       "      <th>13</th>\n",
       "      <th>hypertension</th>\n",
       "      <th>heart_disease</th>\n",
       "    </tr>\n",
       "  </thead>\n",
       "  <tbody>\n",
       "    <tr>\n",
       "      <th>0</th>\n",
       "      <td>-0.896710</td>\n",
       "      <td>-0.390718</td>\n",
       "      <td>0.0</td>\n",
       "      <td>0.0</td>\n",
       "      <td>0.0</td>\n",
       "      <td>0.0</td>\n",
       "      <td>1.0</td>\n",
       "      <td>1.0</td>\n",
       "      <td>0.0</td>\n",
       "      <td>0.0</td>\n",
       "      <td>0.0</td>\n",
       "      <td>1.0</td>\n",
       "      <td>0.0</td>\n",
       "      <td>1.0</td>\n",
       "      <td>0</td>\n",
       "      <td>0</td>\n",
       "    </tr>\n",
       "    <tr>\n",
       "      <th>1</th>\n",
       "      <td>-1.039486</td>\n",
       "      <td>0.074254</td>\n",
       "      <td>1.0</td>\n",
       "      <td>0.0</td>\n",
       "      <td>0.0</td>\n",
       "      <td>0.0</td>\n",
       "      <td>0.0</td>\n",
       "      <td>1.0</td>\n",
       "      <td>0.0</td>\n",
       "      <td>0.0</td>\n",
       "      <td>0.0</td>\n",
       "      <td>1.0</td>\n",
       "      <td>1.0</td>\n",
       "      <td>0.0</td>\n",
       "      <td>0</td>\n",
       "      <td>0</td>\n",
       "    </tr>\n",
       "    <tr>\n",
       "      <th>2</th>\n",
       "      <td>-0.886402</td>\n",
       "      <td>-0.933185</td>\n",
       "      <td>0.0</td>\n",
       "      <td>0.0</td>\n",
       "      <td>1.0</td>\n",
       "      <td>0.0</td>\n",
       "      <td>0.0</td>\n",
       "      <td>0.0</td>\n",
       "      <td>0.0</td>\n",
       "      <td>1.0</td>\n",
       "      <td>0.0</td>\n",
       "      <td>0.0</td>\n",
       "      <td>1.0</td>\n",
       "      <td>1.0</td>\n",
       "      <td>0</td>\n",
       "      <td>0</td>\n",
       "    </tr>\n",
       "    <tr>\n",
       "      <th>3</th>\n",
       "      <td>-0.742529</td>\n",
       "      <td>-0.067821</td>\n",
       "      <td>0.0</td>\n",
       "      <td>0.0</td>\n",
       "      <td>0.0</td>\n",
       "      <td>1.0</td>\n",
       "      <td>0.0</td>\n",
       "      <td>0.0</td>\n",
       "      <td>0.0</td>\n",
       "      <td>1.0</td>\n",
       "      <td>0.0</td>\n",
       "      <td>0.0</td>\n",
       "      <td>1.0</td>\n",
       "      <td>0.0</td>\n",
       "      <td>0</td>\n",
       "      <td>0</td>\n",
       "    </tr>\n",
       "    <tr>\n",
       "      <th>4</th>\n",
       "      <td>-0.509613</td>\n",
       "      <td>0.100085</td>\n",
       "      <td>0.0</td>\n",
       "      <td>0.0</td>\n",
       "      <td>1.0</td>\n",
       "      <td>0.0</td>\n",
       "      <td>0.0</td>\n",
       "      <td>0.0</td>\n",
       "      <td>0.0</td>\n",
       "      <td>0.0</td>\n",
       "      <td>1.0</td>\n",
       "      <td>0.0</td>\n",
       "      <td>1.0</td>\n",
       "      <td>0.0</td>\n",
       "      <td>0</td>\n",
       "      <td>0</td>\n",
       "    </tr>\n",
       "    <tr>\n",
       "      <th>...</th>\n",
       "      <td>...</td>\n",
       "      <td>...</td>\n",
       "      <td>...</td>\n",
       "      <td>...</td>\n",
       "      <td>...</td>\n",
       "      <td>...</td>\n",
       "      <td>...</td>\n",
       "      <td>...</td>\n",
       "      <td>...</td>\n",
       "      <td>...</td>\n",
       "      <td>...</td>\n",
       "      <td>...</td>\n",
       "      <td>...</td>\n",
       "      <td>...</td>\n",
       "      <td>...</td>\n",
       "      <td>...</td>\n",
       "    </tr>\n",
       "    <tr>\n",
       "      <th>4083</th>\n",
       "      <td>-0.143132</td>\n",
       "      <td>-1.372325</td>\n",
       "      <td>0.0</td>\n",
       "      <td>0.0</td>\n",
       "      <td>0.0</td>\n",
       "      <td>0.0</td>\n",
       "      <td>1.0</td>\n",
       "      <td>0.0</td>\n",
       "      <td>1.0</td>\n",
       "      <td>0.0</td>\n",
       "      <td>0.0</td>\n",
       "      <td>1.0</td>\n",
       "      <td>0.0</td>\n",
       "      <td>0.0</td>\n",
       "      <td>0</td>\n",
       "      <td>0</td>\n",
       "    </tr>\n",
       "    <tr>\n",
       "      <th>4084</th>\n",
       "      <td>0.958504</td>\n",
       "      <td>-0.468213</td>\n",
       "      <td>0.0</td>\n",
       "      <td>0.0</td>\n",
       "      <td>1.0</td>\n",
       "      <td>0.0</td>\n",
       "      <td>0.0</td>\n",
       "      <td>0.0</td>\n",
       "      <td>0.0</td>\n",
       "      <td>1.0</td>\n",
       "      <td>0.0</td>\n",
       "      <td>1.0</td>\n",
       "      <td>1.0</td>\n",
       "      <td>1.0</td>\n",
       "      <td>0</td>\n",
       "      <td>0</td>\n",
       "    </tr>\n",
       "    <tr>\n",
       "      <th>4085</th>\n",
       "      <td>-0.086109</td>\n",
       "      <td>0.048422</td>\n",
       "      <td>0.0</td>\n",
       "      <td>0.0</td>\n",
       "      <td>1.0</td>\n",
       "      <td>0.0</td>\n",
       "      <td>0.0</td>\n",
       "      <td>0.0</td>\n",
       "      <td>1.0</td>\n",
       "      <td>0.0</td>\n",
       "      <td>0.0</td>\n",
       "      <td>1.0</td>\n",
       "      <td>1.0</td>\n",
       "      <td>0.0</td>\n",
       "      <td>0</td>\n",
       "      <td>0</td>\n",
       "    </tr>\n",
       "    <tr>\n",
       "      <th>4086</th>\n",
       "      <td>-0.129973</td>\n",
       "      <td>2.747841</td>\n",
       "      <td>0.0</td>\n",
       "      <td>0.0</td>\n",
       "      <td>1.0</td>\n",
       "      <td>0.0</td>\n",
       "      <td>0.0</td>\n",
       "      <td>0.0</td>\n",
       "      <td>1.0</td>\n",
       "      <td>0.0</td>\n",
       "      <td>0.0</td>\n",
       "      <td>1.0</td>\n",
       "      <td>1.0</td>\n",
       "      <td>0.0</td>\n",
       "      <td>0</td>\n",
       "      <td>0</td>\n",
       "    </tr>\n",
       "    <tr>\n",
       "      <th>4087</th>\n",
       "      <td>-0.795823</td>\n",
       "      <td>-0.610288</td>\n",
       "      <td>0.0</td>\n",
       "      <td>0.0</td>\n",
       "      <td>1.0</td>\n",
       "      <td>0.0</td>\n",
       "      <td>0.0</td>\n",
       "      <td>0.0</td>\n",
       "      <td>0.0</td>\n",
       "      <td>1.0</td>\n",
       "      <td>0.0</td>\n",
       "      <td>0.0</td>\n",
       "      <td>1.0</td>\n",
       "      <td>0.0</td>\n",
       "      <td>0</td>\n",
       "      <td>0</td>\n",
       "    </tr>\n",
       "  </tbody>\n",
       "</table>\n",
       "<p>4088 rows × 16 columns</p>\n",
       "</div>"
      ],
      "text/plain": [
       "             0         1    2    3    4    5    6    7    8    9   10   11  \\\n",
       "0    -0.896710 -0.390718  0.0  0.0  0.0  0.0  1.0  1.0  0.0  0.0  0.0  1.0   \n",
       "1    -1.039486  0.074254  1.0  0.0  0.0  0.0  0.0  1.0  0.0  0.0  0.0  1.0   \n",
       "2    -0.886402 -0.933185  0.0  0.0  1.0  0.0  0.0  0.0  0.0  1.0  0.0  0.0   \n",
       "3    -0.742529 -0.067821  0.0  0.0  0.0  1.0  0.0  0.0  0.0  1.0  0.0  0.0   \n",
       "4    -0.509613  0.100085  0.0  0.0  1.0  0.0  0.0  0.0  0.0  0.0  1.0  0.0   \n",
       "...        ...       ...  ...  ...  ...  ...  ...  ...  ...  ...  ...  ...   \n",
       "4083 -0.143132 -1.372325  0.0  0.0  0.0  0.0  1.0  0.0  1.0  0.0  0.0  1.0   \n",
       "4084  0.958504 -0.468213  0.0  0.0  1.0  0.0  0.0  0.0  0.0  1.0  0.0  1.0   \n",
       "4085 -0.086109  0.048422  0.0  0.0  1.0  0.0  0.0  0.0  1.0  0.0  0.0  1.0   \n",
       "4086 -0.129973  2.747841  0.0  0.0  1.0  0.0  0.0  0.0  1.0  0.0  0.0  1.0   \n",
       "4087 -0.795823 -0.610288  0.0  0.0  1.0  0.0  0.0  0.0  0.0  1.0  0.0  0.0   \n",
       "\n",
       "       12   13  hypertension  heart_disease  \n",
       "0     0.0  1.0             0              0  \n",
       "1     1.0  0.0             0              0  \n",
       "2     1.0  1.0             0              0  \n",
       "3     1.0  0.0             0              0  \n",
       "4     1.0  0.0             0              0  \n",
       "...   ...  ...           ...            ...  \n",
       "4083  0.0  0.0             0              0  \n",
       "4084  1.0  1.0             0              0  \n",
       "4085  1.0  0.0             0              0  \n",
       "4086  1.0  0.0             0              0  \n",
       "4087  1.0  0.0             0              0  \n",
       "\n",
       "[4088 rows x 16 columns]"
      ]
     },
     "execution_count": 12,
     "metadata": {},
     "output_type": "execute_result"
    }
   ],
   "source": [
    "df_listo"
   ]
  },
  {
   "cell_type": "markdown",
   "metadata": {},
   "source": [
    "## MODELOS"
   ]
  },
  {
   "cell_type": "code",
   "execution_count": 19,
   "metadata": {},
   "outputs": [
    {
     "data": {
      "text/plain": [
       "array([[3884,    0],\n",
       "       [ 204,    0]])"
      ]
     },
     "execution_count": 19,
     "metadata": {},
     "output_type": "execute_result"
    }
   ],
   "source": [
    "from sklearn.linear_model import LogisticRegression\n",
    "from sklearn.model_selection import cross_val_predict\n",
    "from sklearn.metrics import confusion_matrix, accuracy_score\n",
    "\n",
    "lr = LogisticRegression()\n",
    "lr.fit(df_listo, df.stroke)\n",
    "ypred = cross_val_predict(lr, df_listo, df.stroke)\n",
    "y_score_log = cross_val_predict(lr, df_listo, df.stroke, method=\"predict_proba\")\n",
    "confusion_matrix(df.stroke, ypred)"
   ]
  },
  {
   "cell_type": "code",
   "execution_count": 20,
   "metadata": {},
   "outputs": [
    {
     "name": "stdout",
     "output_type": "stream",
     "text": [
      "0.9500978473581213\n",
      "0.0\n"
     ]
    }
   ],
   "source": [
    "print(accuracy_score(df.stroke, ypred))\n",
    "print(recall_score(df.stroke, ypred))"
   ]
  },
  {
   "cell_type": "code",
   "execution_count": 16,
   "metadata": {},
   "outputs": [
    {
     "data": {
      "text/plain": [
       "array([[2715, 1169],\n",
       "       [  67,  137]])"
      ]
     },
     "execution_count": 16,
     "metadata": {},
     "output_type": "execute_result"
    }
   ],
   "source": [
    "# Con pesos\n",
    "pesos = {0:1, 1:10}\n",
    "lr = LogisticRegression(class_weight=\"balanced\")\n",
    "lr.fit(df_listo, df.stroke)\n",
    "ypred = cross_val_predict(lr, df_listo, df.stroke)\n",
    "y_score_log = cross_val_predict(lr, df_listo, df.stroke, method=\"predict_proba\")\n",
    "confusion_matrix(df.stroke, ypred)"
   ]
  },
  {
   "cell_type": "code",
   "execution_count": 18,
   "metadata": {},
   "outputs": [
    {
     "name": "stdout",
     "output_type": "stream",
     "text": [
      "0.6976516634050881\n",
      "0.6715686274509803\n"
     ]
    }
   ],
   "source": [
    "from sklearn.metrics import recall_score\n",
    "\n",
    "print(accuracy_score(df.stroke, ypred))\n",
    "print(recall_score(df.stroke, ypred))"
   ]
  },
  {
   "cell_type": "code",
   "execution_count": 112,
   "metadata": {
    "scrolled": false
   },
   "outputs": [
    {
     "data": {
      "text/html": [
       "<div>\n",
       "<style scoped>\n",
       "    .dataframe tbody tr th:only-of-type {\n",
       "        vertical-align: middle;\n",
       "    }\n",
       "\n",
       "    .dataframe tbody tr th {\n",
       "        vertical-align: top;\n",
       "    }\n",
       "\n",
       "    .dataframe thead th {\n",
       "        text-align: right;\n",
       "    }\n",
       "</style>\n",
       "<table border=\"1\" class=\"dataframe\">\n",
       "  <thead>\n",
       "    <tr style=\"text-align: right;\">\n",
       "      <th></th>\n",
       "      <th>0</th>\n",
       "      <th>1</th>\n",
       "      <th>2</th>\n",
       "      <th>3</th>\n",
       "      <th>4</th>\n",
       "      <th>5</th>\n",
       "      <th>6</th>\n",
       "      <th>7</th>\n",
       "      <th>8</th>\n",
       "      <th>9</th>\n",
       "      <th>10</th>\n",
       "      <th>11</th>\n",
       "      <th>12</th>\n",
       "      <th>13</th>\n",
       "      <th>hypertension</th>\n",
       "      <th>heart_disease</th>\n",
       "    </tr>\n",
       "  </thead>\n",
       "  <tbody>\n",
       "    <tr>\n",
       "      <th>0</th>\n",
       "      <td>-0.896710</td>\n",
       "      <td>-0.386927</td>\n",
       "      <td>0.0</td>\n",
       "      <td>0.0</td>\n",
       "      <td>0.0</td>\n",
       "      <td>0.0</td>\n",
       "      <td>1.0</td>\n",
       "      <td>1.0</td>\n",
       "      <td>0.0</td>\n",
       "      <td>0.0</td>\n",
       "      <td>0.0</td>\n",
       "      <td>1.0</td>\n",
       "      <td>0.0</td>\n",
       "      <td>1.0</td>\n",
       "      <td>0</td>\n",
       "      <td>0</td>\n",
       "    </tr>\n",
       "    <tr>\n",
       "      <th>1</th>\n",
       "      <td>-1.039486</td>\n",
       "      <td>0.070569</td>\n",
       "      <td>1.0</td>\n",
       "      <td>0.0</td>\n",
       "      <td>0.0</td>\n",
       "      <td>0.0</td>\n",
       "      <td>0.0</td>\n",
       "      <td>1.0</td>\n",
       "      <td>0.0</td>\n",
       "      <td>0.0</td>\n",
       "      <td>0.0</td>\n",
       "      <td>1.0</td>\n",
       "      <td>1.0</td>\n",
       "      <td>0.0</td>\n",
       "      <td>0</td>\n",
       "      <td>0</td>\n",
       "    </tr>\n",
       "    <tr>\n",
       "      <th>2</th>\n",
       "      <td>-0.886402</td>\n",
       "      <td>-0.920673</td>\n",
       "      <td>0.0</td>\n",
       "      <td>0.0</td>\n",
       "      <td>1.0</td>\n",
       "      <td>0.0</td>\n",
       "      <td>0.0</td>\n",
       "      <td>0.0</td>\n",
       "      <td>0.0</td>\n",
       "      <td>1.0</td>\n",
       "      <td>0.0</td>\n",
       "      <td>0.0</td>\n",
       "      <td>1.0</td>\n",
       "      <td>1.0</td>\n",
       "      <td>0</td>\n",
       "      <td>0</td>\n",
       "    </tr>\n",
       "    <tr>\n",
       "      <th>3</th>\n",
       "      <td>-0.742529</td>\n",
       "      <td>-0.069221</td>\n",
       "      <td>0.0</td>\n",
       "      <td>0.0</td>\n",
       "      <td>0.0</td>\n",
       "      <td>1.0</td>\n",
       "      <td>0.0</td>\n",
       "      <td>0.0</td>\n",
       "      <td>0.0</td>\n",
       "      <td>1.0</td>\n",
       "      <td>0.0</td>\n",
       "      <td>0.0</td>\n",
       "      <td>1.0</td>\n",
       "      <td>0.0</td>\n",
       "      <td>0</td>\n",
       "      <td>0</td>\n",
       "    </tr>\n",
       "    <tr>\n",
       "      <th>4</th>\n",
       "      <td>-0.509613</td>\n",
       "      <td>0.095986</td>\n",
       "      <td>0.0</td>\n",
       "      <td>0.0</td>\n",
       "      <td>1.0</td>\n",
       "      <td>0.0</td>\n",
       "      <td>0.0</td>\n",
       "      <td>0.0</td>\n",
       "      <td>0.0</td>\n",
       "      <td>0.0</td>\n",
       "      <td>1.0</td>\n",
       "      <td>0.0</td>\n",
       "      <td>1.0</td>\n",
       "      <td>0.0</td>\n",
       "      <td>0</td>\n",
       "      <td>0</td>\n",
       "    </tr>\n",
       "    <tr>\n",
       "      <th>...</th>\n",
       "      <td>...</td>\n",
       "      <td>...</td>\n",
       "      <td>...</td>\n",
       "      <td>...</td>\n",
       "      <td>...</td>\n",
       "      <td>...</td>\n",
       "      <td>...</td>\n",
       "      <td>...</td>\n",
       "      <td>...</td>\n",
       "      <td>...</td>\n",
       "      <td>...</td>\n",
       "      <td>...</td>\n",
       "      <td>...</td>\n",
       "      <td>...</td>\n",
       "      <td>...</td>\n",
       "      <td>...</td>\n",
       "    </tr>\n",
       "    <tr>\n",
       "      <th>4083</th>\n",
       "      <td>-0.143132</td>\n",
       "      <td>NaN</td>\n",
       "      <td>0.0</td>\n",
       "      <td>0.0</td>\n",
       "      <td>0.0</td>\n",
       "      <td>0.0</td>\n",
       "      <td>1.0</td>\n",
       "      <td>0.0</td>\n",
       "      <td>1.0</td>\n",
       "      <td>0.0</td>\n",
       "      <td>0.0</td>\n",
       "      <td>1.0</td>\n",
       "      <td>0.0</td>\n",
       "      <td>0.0</td>\n",
       "      <td>0</td>\n",
       "      <td>0</td>\n",
       "    </tr>\n",
       "    <tr>\n",
       "      <th>4084</th>\n",
       "      <td>0.958504</td>\n",
       "      <td>-0.463177</td>\n",
       "      <td>0.0</td>\n",
       "      <td>0.0</td>\n",
       "      <td>1.0</td>\n",
       "      <td>0.0</td>\n",
       "      <td>0.0</td>\n",
       "      <td>0.0</td>\n",
       "      <td>0.0</td>\n",
       "      <td>1.0</td>\n",
       "      <td>0.0</td>\n",
       "      <td>1.0</td>\n",
       "      <td>1.0</td>\n",
       "      <td>1.0</td>\n",
       "      <td>0</td>\n",
       "      <td>0</td>\n",
       "    </tr>\n",
       "    <tr>\n",
       "      <th>4085</th>\n",
       "      <td>-0.086109</td>\n",
       "      <td>0.045153</td>\n",
       "      <td>0.0</td>\n",
       "      <td>0.0</td>\n",
       "      <td>1.0</td>\n",
       "      <td>0.0</td>\n",
       "      <td>0.0</td>\n",
       "      <td>0.0</td>\n",
       "      <td>1.0</td>\n",
       "      <td>0.0</td>\n",
       "      <td>0.0</td>\n",
       "      <td>1.0</td>\n",
       "      <td>1.0</td>\n",
       "      <td>0.0</td>\n",
       "      <td>0</td>\n",
       "      <td>0</td>\n",
       "    </tr>\n",
       "    <tr>\n",
       "      <th>4086</th>\n",
       "      <td>-0.129973</td>\n",
       "      <td>2.701174</td>\n",
       "      <td>0.0</td>\n",
       "      <td>0.0</td>\n",
       "      <td>1.0</td>\n",
       "      <td>0.0</td>\n",
       "      <td>0.0</td>\n",
       "      <td>0.0</td>\n",
       "      <td>1.0</td>\n",
       "      <td>0.0</td>\n",
       "      <td>0.0</td>\n",
       "      <td>1.0</td>\n",
       "      <td>1.0</td>\n",
       "      <td>0.0</td>\n",
       "      <td>0</td>\n",
       "      <td>0</td>\n",
       "    </tr>\n",
       "    <tr>\n",
       "      <th>4087</th>\n",
       "      <td>-0.795823</td>\n",
       "      <td>-0.602967</td>\n",
       "      <td>0.0</td>\n",
       "      <td>0.0</td>\n",
       "      <td>1.0</td>\n",
       "      <td>0.0</td>\n",
       "      <td>0.0</td>\n",
       "      <td>0.0</td>\n",
       "      <td>0.0</td>\n",
       "      <td>1.0</td>\n",
       "      <td>0.0</td>\n",
       "      <td>0.0</td>\n",
       "      <td>1.0</td>\n",
       "      <td>0.0</td>\n",
       "      <td>0</td>\n",
       "      <td>0</td>\n",
       "    </tr>\n",
       "  </tbody>\n",
       "</table>\n",
       "<p>4088 rows × 16 columns</p>\n",
       "</div>"
      ],
      "text/plain": [
       "             0         1    2    3    4    5    6    7    8    9   10   11  \\\n",
       "0    -0.896710 -0.386927  0.0  0.0  0.0  0.0  1.0  1.0  0.0  0.0  0.0  1.0   \n",
       "1    -1.039486  0.070569  1.0  0.0  0.0  0.0  0.0  1.0  0.0  0.0  0.0  1.0   \n",
       "2    -0.886402 -0.920673  0.0  0.0  1.0  0.0  0.0  0.0  0.0  1.0  0.0  0.0   \n",
       "3    -0.742529 -0.069221  0.0  0.0  0.0  1.0  0.0  0.0  0.0  1.0  0.0  0.0   \n",
       "4    -0.509613  0.095986  0.0  0.0  1.0  0.0  0.0  0.0  0.0  0.0  1.0  0.0   \n",
       "...        ...       ...  ...  ...  ...  ...  ...  ...  ...  ...  ...  ...   \n",
       "4083 -0.143132       NaN  0.0  0.0  0.0  0.0  1.0  0.0  1.0  0.0  0.0  1.0   \n",
       "4084  0.958504 -0.463177  0.0  0.0  1.0  0.0  0.0  0.0  0.0  1.0  0.0  1.0   \n",
       "4085 -0.086109  0.045153  0.0  0.0  1.0  0.0  0.0  0.0  1.0  0.0  0.0  1.0   \n",
       "4086 -0.129973  2.701174  0.0  0.0  1.0  0.0  0.0  0.0  1.0  0.0  0.0  1.0   \n",
       "4087 -0.795823 -0.602967  0.0  0.0  1.0  0.0  0.0  0.0  0.0  1.0  0.0  0.0   \n",
       "\n",
       "       12   13  hypertension  heart_disease  \n",
       "0     0.0  1.0             0              0  \n",
       "1     1.0  0.0             0              0  \n",
       "2     1.0  1.0             0              0  \n",
       "3     1.0  0.0             0              0  \n",
       "4     1.0  0.0             0              0  \n",
       "...   ...  ...           ...            ...  \n",
       "4083  0.0  0.0             0              0  \n",
       "4084  1.0  1.0             0              0  \n",
       "4085  1.0  0.0             0              0  \n",
       "4086  1.0  0.0             0              0  \n",
       "4087  1.0  0.0             0              0  \n",
       "\n",
       "[4088 rows x 16 columns]"
      ]
     },
     "execution_count": 112,
     "metadata": {},
     "output_type": "execute_result"
    }
   ],
   "source": [
    "df_listo"
   ]
  },
  {
   "cell_type": "markdown",
   "metadata": {
    "id": "3PMMBKOYIYb0"
   },
   "source": [
    "# Red Neuronal Artificial, ANN"
   ]
  },
  {
   "cell_type": "code",
   "execution_count": 15,
   "metadata": {
    "id": "zUnrG_fdIYb1",
    "scrolled": true
   },
   "outputs": [],
   "source": [
    "from tensorflow import keras\n",
    "import tensorflow as tf"
   ]
  },
  {
   "cell_type": "code",
   "execution_count": 16,
   "metadata": {
    "id": "hhBgKpvHM2ZU"
   },
   "outputs": [],
   "source": [
    "from sklearn.model_selection import train_test_split\n",
    "X_train, X_val, t_train, t_val = train_test_split(df_listo, df.stroke, test_size=0.15)"
   ]
  },
  {
   "cell_type": "code",
   "execution_count": 36,
   "metadata": {
    "id": "J-eOLiwYIYb2"
   },
   "outputs": [],
   "source": [
    "keras.backend.clear_session()\n",
    "np.random.seed(42)\n",
    "tf.random.set_seed(42)"
   ]
  },
  {
   "cell_type": "code",
   "execution_count": 37,
   "metadata": {
    "id": "ZkfwLWfWIYb3"
   },
   "outputs": [],
   "source": [
    "#Definimos una capa especial, que es la entrada del modelo:\n",
    "input_ = keras.layers.Input(shape=[df_listo.shape[1]])\n",
    "#Luego se instancia cada capa y se aplica como una función a la salida de la capa anterior\n",
    "\n",
    "hidden1 = keras.layers.Dense(40, activation=\"relu\")(input_)\n",
    "drop1 = keras.layers.Dropout(0.2)(hidden1)\n",
    "hidden2 = keras.layers.Dense(20, activation=\"relu\")(drop1)\n",
    "drop2 = keras.layers.Dropout(0.2)(hidden2)\n",
    "hidden3 = keras.layers.Dense(10, activation=\"relu\")(drop2)\n",
    "drop3 = keras.layers.Dropout(0.2)(hidden3)\n",
    "output = keras.layers.Dense(1, activation=\"sigmoid\")(drop3)\n",
    "\n",
    "#Cuando se haya llegado a las las salidas, podemos definir el modelo:\n",
    "model = keras.models.Model(inputs=[input_], outputs=[output])"
   ]
  },
  {
   "cell_type": "code",
   "execution_count": 38,
   "metadata": {
    "id": "ALxT5polJ8M2"
   },
   "outputs": [],
   "source": [
    "early = keras.callbacks.EarlyStopping(patience=17, restore_best_weights=True)\n",
    "model.compile(loss=\"binary_crossentropy\",\n",
    "              optimizer=\"sgd\",\n",
    "              metrics=[\"accuracy\",])"
   ]
  },
  {
   "cell_type": "code",
   "execution_count": 39,
   "metadata": {
    "colab": {
     "base_uri": "https://localhost:8080/"
    },
    "id": "jZkS9AjwKANx",
    "outputId": "49e09e17-7f23-4ab3-d6c1-8f983e6616e7"
   },
   "outputs": [
    {
     "data": {
      "text/plain": [
       "[<keras.engine.input_layer.InputLayer at 0x7f3fcf2e3290>,\n",
       " <keras.layers.core.Dense at 0x7f3fcf2b8850>,\n",
       " <keras.layers.core.Dropout at 0x7f3fcf2b86d0>,\n",
       " <keras.layers.core.Dense at 0x7f3fcfb4a590>,\n",
       " <keras.layers.core.Dropout at 0x7f3fd2ff25d0>,\n",
       " <keras.layers.core.Dense at 0x7f3fd2cd8d50>,\n",
       " <keras.layers.core.Dropout at 0x7f3fd2cd8890>,\n",
       " <keras.layers.core.Dense at 0x7f3fd2cd8490>]"
      ]
     },
     "execution_count": 39,
     "metadata": {},
     "output_type": "execute_result"
    }
   ],
   "source": [
    "#Cuantas capas hay?\n",
    "model.layers"
   ]
  },
  {
   "cell_type": "code",
   "execution_count": 40,
   "metadata": {
    "colab": {
     "base_uri": "https://localhost:8080/"
    },
    "id": "O5iK8omfLb9P",
    "outputId": "255517ca-5a39-420c-fdd0-134d945224d2"
   },
   "outputs": [
    {
     "name": "stdout",
     "output_type": "stream",
     "text": [
      "Model: \"model\"\n",
      "_________________________________________________________________\n",
      "Layer (type)                 Output Shape              Param #   \n",
      "=================================================================\n",
      "input_1 (InputLayer)         [(None, 16)]              0         \n",
      "_________________________________________________________________\n",
      "dense (Dense)                (None, 40)                680       \n",
      "_________________________________________________________________\n",
      "dropout (Dropout)            (None, 40)                0         \n",
      "_________________________________________________________________\n",
      "dense_1 (Dense)              (None, 20)                820       \n",
      "_________________________________________________________________\n",
      "dropout_1 (Dropout)          (None, 20)                0         \n",
      "_________________________________________________________________\n",
      "dense_2 (Dense)              (None, 10)                210       \n",
      "_________________________________________________________________\n",
      "dropout_2 (Dropout)          (None, 10)                0         \n",
      "_________________________________________________________________\n",
      "dense_3 (Dense)              (None, 1)                 11        \n",
      "=================================================================\n",
      "Total params: 1,721\n",
      "Trainable params: 1,721\n",
      "Non-trainable params: 0\n",
      "_________________________________________________________________\n"
     ]
    }
   ],
   "source": [
    "#cómo es el modelo?\n",
    "model.summary()"
   ]
  },
  {
   "cell_type": "code",
   "execution_count": 41,
   "metadata": {
    "colab": {
     "base_uri": "https://localhost:8080/"
    },
    "id": "Pf1026uyL5I2",
    "outputId": "00c18b79-d753-476c-81fe-80c0bec62049"
   },
   "outputs": [
    {
     "name": "stdout",
     "output_type": "stream",
     "text": [
      "Epoch 1/100\n",
      "109/109 [==============================] - 1s 3ms/step - loss: 1.5000 - accuracy: 0.2242 - val_loss: 0.8171 - val_accuracy: 0.0586\n",
      "Epoch 2/100\n",
      "109/109 [==============================] - 0s 1ms/step - loss: 1.4606 - accuracy: 0.1382 - val_loss: 0.7948 - val_accuracy: 0.1270\n",
      "Epoch 3/100\n",
      "109/109 [==============================] - 0s 1ms/step - loss: 1.4552 - accuracy: 0.2499 - val_loss: 0.8230 - val_accuracy: 0.1352\n",
      "Epoch 4/100\n",
      "109/109 [==============================] - 0s 1ms/step - loss: 1.4122 - accuracy: 0.3230 - val_loss: 0.8213 - val_accuracy: 0.2883\n",
      "Epoch 5/100\n",
      "109/109 [==============================] - 0s 1ms/step - loss: 1.4151 - accuracy: 0.4039 - val_loss: 0.7912 - val_accuracy: 0.4218\n",
      "Epoch 6/100\n",
      "109/109 [==============================] - 0s 1ms/step - loss: 1.4433 - accuracy: 0.4571 - val_loss: 0.7680 - val_accuracy: 0.5033\n",
      "Epoch 7/100\n",
      "109/109 [==============================] - 0s 1ms/step - loss: 1.4088 - accuracy: 0.5006 - val_loss: 0.7634 - val_accuracy: 0.5358\n",
      "Epoch 8/100\n",
      "109/109 [==============================] - 0s 2ms/step - loss: 1.3949 - accuracy: 0.5167 - val_loss: 0.7098 - val_accuracy: 0.6368\n",
      "Epoch 9/100\n",
      "109/109 [==============================] - 0s 1ms/step - loss: 1.3966 - accuracy: 0.5662 - val_loss: 0.7294 - val_accuracy: 0.6124\n",
      "Epoch 10/100\n",
      "109/109 [==============================] - 0s 1ms/step - loss: 1.3886 - accuracy: 0.5849 - val_loss: 0.7669 - val_accuracy: 0.5375\n",
      "Epoch 11/100\n",
      "109/109 [==============================] - 0s 1ms/step - loss: 1.3840 - accuracy: 0.5587 - val_loss: 0.7612 - val_accuracy: 0.5635\n",
      "Epoch 12/100\n",
      "109/109 [==============================] - 0s 1ms/step - loss: 1.3796 - accuracy: 0.5717 - val_loss: 0.7532 - val_accuracy: 0.5928\n",
      "Epoch 13/100\n",
      "109/109 [==============================] - 0s 2ms/step - loss: 1.3405 - accuracy: 0.5579 - val_loss: 0.6549 - val_accuracy: 0.7101\n",
      "Epoch 14/100\n",
      "109/109 [==============================] - 0s 1ms/step - loss: 1.3579 - accuracy: 0.6042 - val_loss: 0.6915 - val_accuracy: 0.6596\n",
      "Epoch 15/100\n",
      "109/109 [==============================] - 0s 1ms/step - loss: 1.3273 - accuracy: 0.5910 - val_loss: 0.6294 - val_accuracy: 0.7410\n",
      "Epoch 16/100\n",
      "109/109 [==============================] - 0s 1ms/step - loss: 1.3281 - accuracy: 0.6287 - val_loss: 0.6442 - val_accuracy: 0.7020\n",
      "Epoch 17/100\n",
      "109/109 [==============================] - 0s 1ms/step - loss: 1.3529 - accuracy: 0.6226 - val_loss: 0.7044 - val_accuracy: 0.6254\n",
      "Epoch 18/100\n",
      "109/109 [==============================] - 0s 1ms/step - loss: 1.3520 - accuracy: 0.6054 - val_loss: 0.7175 - val_accuracy: 0.6010\n",
      "Epoch 19/100\n",
      "109/109 [==============================] - 0s 1ms/step - loss: 1.3606 - accuracy: 0.5794 - val_loss: 0.6801 - val_accuracy: 0.6515\n",
      "Epoch 20/100\n",
      "109/109 [==============================] - 0s 1ms/step - loss: 1.3383 - accuracy: 0.5780 - val_loss: 0.6378 - val_accuracy: 0.6971\n",
      "Epoch 21/100\n",
      "109/109 [==============================] - 0s 1ms/step - loss: 1.3396 - accuracy: 0.6197 - val_loss: 0.6725 - val_accuracy: 0.6433\n",
      "Epoch 22/100\n",
      "109/109 [==============================] - 0s 1ms/step - loss: 1.3452 - accuracy: 0.6134 - val_loss: 0.6739 - val_accuracy: 0.6384\n",
      "Epoch 23/100\n",
      "109/109 [==============================] - 0s 1ms/step - loss: 1.3529 - accuracy: 0.5901 - val_loss: 0.6483 - val_accuracy: 0.6759\n",
      "Epoch 24/100\n",
      "109/109 [==============================] - 0s 1ms/step - loss: 1.3520 - accuracy: 0.5990 - val_loss: 0.7238 - val_accuracy: 0.5472\n",
      "Epoch 25/100\n",
      "109/109 [==============================] - 0s 2ms/step - loss: 1.3017 - accuracy: 0.5734 - val_loss: 0.6539 - val_accuracy: 0.6336\n",
      "Epoch 26/100\n",
      "109/109 [==============================] - 0s 1ms/step - loss: 1.3302 - accuracy: 0.5941 - val_loss: 0.6528 - val_accuracy: 0.6336\n",
      "Epoch 27/100\n",
      "109/109 [==============================] - 0s 1ms/step - loss: 1.2947 - accuracy: 0.5875 - val_loss: 0.6264 - val_accuracy: 0.6661\n",
      "Epoch 28/100\n",
      "109/109 [==============================] - 0s 1ms/step - loss: 1.3028 - accuracy: 0.5812 - val_loss: 0.7176 - val_accuracy: 0.5049\n",
      "Epoch 29/100\n",
      "109/109 [==============================] - 0s 1ms/step - loss: 1.3167 - accuracy: 0.5458 - val_loss: 0.6016 - val_accuracy: 0.6857\n",
      "Epoch 30/100\n",
      "109/109 [==============================] - 0s 2ms/step - loss: 1.2891 - accuracy: 0.6042 - val_loss: 0.6254 - val_accuracy: 0.6450\n",
      "Epoch 31/100\n",
      "109/109 [==============================] - 0s 1ms/step - loss: 1.2940 - accuracy: 0.5792 - val_loss: 0.7175 - val_accuracy: 0.4691\n",
      "Epoch 32/100\n",
      "109/109 [==============================] - 0s 1ms/step - loss: 1.2538 - accuracy: 0.5521 - val_loss: 0.6363 - val_accuracy: 0.6010\n",
      "Epoch 33/100\n",
      "109/109 [==============================] - 0s 1ms/step - loss: 1.2599 - accuracy: 0.5685 - val_loss: 0.5771 - val_accuracy: 0.6840\n",
      "Epoch 34/100\n",
      "109/109 [==============================] - 0s 1ms/step - loss: 1.2807 - accuracy: 0.5740 - val_loss: 0.6290 - val_accuracy: 0.6107\n",
      "Epoch 35/100\n",
      "109/109 [==============================] - 0s 1ms/step - loss: 1.2569 - accuracy: 0.5705 - val_loss: 0.6067 - val_accuracy: 0.6384\n",
      "Epoch 36/100\n",
      "109/109 [==============================] - 0s 2ms/step - loss: 1.2715 - accuracy: 0.5610 - val_loss: 0.6172 - val_accuracy: 0.6368\n",
      "Epoch 37/100\n",
      "109/109 [==============================] - 0s 2ms/step - loss: 1.2549 - accuracy: 0.5835 - val_loss: 0.6811 - val_accuracy: 0.5195\n",
      "Epoch 38/100\n",
      "109/109 [==============================] - 0s 2ms/step - loss: 1.2793 - accuracy: 0.5484 - val_loss: 0.6210 - val_accuracy: 0.6107\n",
      "Epoch 39/100\n",
      "109/109 [==============================] - 0s 1ms/step - loss: 1.2884 - accuracy: 0.5403 - val_loss: 0.6150 - val_accuracy: 0.6287\n",
      "Epoch 40/100\n",
      "109/109 [==============================] - 0s 2ms/step - loss: 1.2305 - accuracy: 0.6278 - val_loss: 0.7377 - val_accuracy: 0.4463\n",
      "Epoch 41/100\n",
      "109/109 [==============================] - 0s 2ms/step - loss: 1.2563 - accuracy: 0.5360 - val_loss: 0.5960 - val_accuracy: 0.6645\n",
      "Epoch 42/100\n",
      "109/109 [==============================] - 0s 1ms/step - loss: 1.2504 - accuracy: 0.5864 - val_loss: 0.6708 - val_accuracy: 0.5163\n",
      "Epoch 43/100\n",
      "109/109 [==============================] - 0s 1ms/step - loss: 1.2460 - accuracy: 0.5524 - val_loss: 0.6272 - val_accuracy: 0.6026\n",
      "Epoch 44/100\n",
      "109/109 [==============================] - 0s 2ms/step - loss: 1.2521 - accuracy: 0.5898 - val_loss: 0.6549 - val_accuracy: 0.5603\n",
      "Epoch 45/100\n",
      "109/109 [==============================] - 0s 1ms/step - loss: 1.2337 - accuracy: 0.5599 - val_loss: 0.6297 - val_accuracy: 0.6107\n",
      "Epoch 46/100\n",
      "109/109 [==============================] - 0s 1ms/step - loss: 1.2571 - accuracy: 0.5486 - val_loss: 0.6245 - val_accuracy: 0.5879\n",
      "Epoch 47/100\n",
      "109/109 [==============================] - 0s 1ms/step - loss: 1.2674 - accuracy: 0.5334 - val_loss: 0.6927 - val_accuracy: 0.4853\n",
      "Epoch 48/100\n",
      "109/109 [==============================] - 0s 1ms/step - loss: 1.2411 - accuracy: 0.5176 - val_loss: 0.6366 - val_accuracy: 0.5765\n",
      "Epoch 49/100\n",
      "109/109 [==============================] - 0s 1ms/step - loss: 1.2444 - accuracy: 0.5544 - val_loss: 0.5882 - val_accuracy: 0.6726\n",
      "Epoch 50/100\n",
      "109/109 [==============================] - 0s 1ms/step - loss: 1.2323 - accuracy: 0.5705 - val_loss: 0.6216 - val_accuracy: 0.6124\n"
     ]
    }
   ],
   "source": [
    "pesos = {0:1.0, 1:25}\n",
    "history = model.fit(epochs=100, batch_size=32, x=X_train, y= t_train, validation_data=(X_val, t_val), callbacks=[early,], class_weight=pesos)"
   ]
  },
  {
   "cell_type": "code",
   "execution_count": 42,
   "metadata": {
    "colab": {
     "base_uri": "https://localhost:8080/",
     "height": 282
    },
    "id": "97jjRH7K6pJl",
    "outputId": "923d462a-8da5-425b-d565-647a92a43685"
   },
   "outputs": [
    {
     "data": {
      "text/plain": [
       "<matplotlib.legend.Legend at 0x7f3fd2b16dd0>"
      ]
     },
     "execution_count": 42,
     "metadata": {},
     "output_type": "execute_result"
    },
    {
     "data": {
      "image/png": "[encoded data removed]",
      "text/plain": [
       "<Figure size 432x288 with 1 Axes>"
      ]
     },
     "metadata": {
      "needs_background": "light"
     },
     "output_type": "display_data"
    }
   ],
   "source": [
    "history.history.keys()\n",
    "plt.plot(history.history.get('val_loss'), label=\"validation\")\n",
    "plt.plot(history.history.get('loss'), label=\"train\")\n",
    "plt.legend()"
   ]
  },
  {
   "cell_type": "code",
   "execution_count": 51,
   "metadata": {
    "id": "8bsQNe04OIYZ"
   },
   "outputs": [],
   "source": [
    "y_pred_score = model.predict(df_listo)\n",
    "y_pred = np.zeros(len(y_pred_score))\n",
    "for i in range(len(y_pred_score)):\n",
    "    if(y_pred_score[i,0] > 0.5 ):\n",
    "        y_pred[i] = 1"
   ]
  },
  {
   "cell_type": "code",
   "execution_count": 52,
   "metadata": {
    "colab": {
     "base_uri": "https://localhost:8080/"
    },
    "id": "um5ZAgzyYFIt",
    "outputId": "b3b0f23d-b4e7-4cd4-aa3d-1fe08754fb7c"
   },
   "outputs": [
    {
     "name": "stdout",
     "output_type": "stream",
     "text": [
      "128/128 [==============================] - 0s 843us/step - loss: 0.5908 - accuracy: 0.6605\n"
     ]
    },
    {
     "data": {
      "text/plain": [
       "[0.5907881855964661, 0.660469651222229]"
      ]
     },
     "execution_count": 52,
     "metadata": {},
     "output_type": "execute_result"
    }
   ],
   "source": [
    "model.evaluate(df_listo, df.stroke)"
   ]
  },
  {
   "cell_type": "code",
   "execution_count": 53,
   "metadata": {
    "colab": {
     "base_uri": "https://localhost:8080/"
    },
    "id": "SPqg3Qtd7jb2",
    "outputId": "e37fc320-1ebc-4a2c-d8a8-f4d82aaea05f"
   },
   "outputs": [
    {
     "data": {
      "text/plain": [
       "array([[2544, 1340],\n",
       "       [  48,  156]])"
      ]
     },
     "execution_count": 53,
     "metadata": {},
     "output_type": "execute_result"
    }
   ],
   "source": [
    "from sklearn.metrics import confusion_matrix\n",
    "confusion_matrix(df.stroke, y_pred)"
   ]
  },
  {
   "cell_type": "code",
   "execution_count": null,
   "metadata": {
    "colab": {
     "base_uri": "https://localhost:8080/"
    },
    "id": "oQ76WtT2OSX5",
    "outputId": "2f98454c-85db-43ce-87b5-a37f6b7c502e"
   },
   "outputs": [
    {
     "data": {
      "text/plain": [
       "array([[1657, 2227],\n",
       "       [   9,  195]])"
      ]
     },
     "execution_count": 160,
     "metadata": {},
     "output_type": "execute_result"
    }
   ],
   "source": [
    "#No correr\n",
    "confusion_matrix(df.stroke, y_pred)#no olvidar que use una red con dos capas dense una de 300 y otra de 100 y pesos 0:1 1:100\n",
    "#[1657, 2227],\n",
    "#[   9,  195]"
   ]
  }
 ],
 "metadata": {
  "kernelspec": {
   "display_name": "Python 3",
   "language": "python",
   "name": "python3"
  },
  "language_info": {
   "codemirror_mode": {
    "name": "ipython",
    "version": 3
   },
   "file_extension": ".py",
   "mimetype": "text/x-python",
   "name": "python",
   "nbconvert_exporter": "python",
   "pygments_lexer": "ipython3",
   "version": "3.7.6"
  }
 },
 "nbformat": 4,
 "nbformat_minor": 5
}
