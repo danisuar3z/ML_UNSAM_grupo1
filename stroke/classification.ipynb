{
  "nbformat": 4,
  "nbformat_minor": 5,
  "metadata": {
    "kernelspec": {
      "display_name": "Python 3",
      "language": "python",
      "name": "python3"
    },
    "language_info": {
      "codemirror_mode": {
        "name": "ipython",
        "version": 3
      },
      "file_extension": ".py",
      "mimetype": "text/x-python",
      "name": "python",
      "nbconvert_exporter": "python",
      "pygments_lexer": "ipython3",
      "version": "3.7.6"
    },
    "colab": {
      "name": "classification.ipynb",
      "provenance": []
    }
  },
  "cells": [
    {
      "cell_type": "code",
      "metadata": {
        "id": "m8C1OJ3XxcjL"
      },
      "source": [
        "# IMPORTS\n",
        "import numpy as np\n",
        "import pandas as pd\n",
        "from matplotlib import pyplot as plt\n",
        "%matplotlib inline"
      ],
      "id": "m8C1OJ3XxcjL",
      "execution_count": 1,
      "outputs": []
    },
    {
      "cell_type": "code",
      "metadata": {
        "id": "gAkyvENdxcjo"
      },
      "source": [
        "# DATASET\n",
        "df = pd.read_csv(\"./healthcare-dataset-stroke-data_train.csv\")\n",
        "df.drop([\"id\", \"Unnamed: 0\"], axis=1, inplace=True)"
      ],
      "id": "gAkyvENdxcjo",
      "execution_count": 3,
      "outputs": []
    },
    {
      "cell_type": "markdown",
      "metadata": {
        "id": "HjvxQLcWxcjq"
      },
      "source": [
        "### BMI por edad (medianas)\n",
        "* Hasta:  10 años - BMI: 18.30  \n",
        "* Hasta:  20 años - BMI: 23.80  \n",
        "* Hasta:  30 años - BMI: 26.70  \n",
        "* Hasta:  40 años - BMI: 29.70  \n",
        "* Hasta:  50 años - BMI: 30.00  \n",
        "* Hasta:  60 años - BMI: 30.90  \n",
        "* Hasta:  70 años - BMI: 30.00  \n",
        "* Mayor 70 años - BMI: 28.30  \n",
        "* Mayor 30 años - BMI: 29.80  \n",
        "\n",
        "Hago grupos hasta 10, hasta 20, hasta 30 y mayor a 30 para rellenar NaNs."
      ],
      "id": "HjvxQLcWxcjq"
    },
    {
      "cell_type": "code",
      "metadata": {
        "id": "1Pc6curNxcjz"
      },
      "source": [
        "bmi_fill = {\n",
        "    \"hasta_10\": 18.3,\n",
        "    \"hasta_20\": 23.8,\n",
        "    \"hasta_30\": 26.7,\n",
        "    \"mayor_30\": 29.8,\n",
        "}"
      ],
      "id": "1Pc6curNxcjz",
      "execution_count": 4,
      "outputs": []
    },
    {
      "cell_type": "code",
      "metadata": {
        "colab": {
          "base_uri": "https://localhost:8080/"
        },
        "id": "3Se5OHD8xcj2",
        "outputId": "9603f588-d5fb-4d3e-eaaf-7cbddbd8c1e3"
      },
      "source": [
        "# LLENO NaNs SEGUN EDAD\n",
        "df.bmi.fillna(0, inplace=True)\n",
        "for i in range(len(df)):\n",
        "    if df.bmi.iloc[i] == 0:\n",
        "        if (df.age.iloc[i]<=10):\n",
        "            df.bmi.iloc[i] = bmi_fill[\"hasta_10\"]\n",
        "        elif (df.age.loc[i]<=20)&(df.age.loc[i]>10):\n",
        "            df.bmi.iloc[i] = bmi_fill[\"hasta_20\"]\n",
        "        elif (df.age.loc[i]<=30)&(df.age.loc[i]>20):\n",
        "            df.bmi.iloc[i] = bmi_fill[\"hasta_30\"]\n",
        "        else:\n",
        "            df.bmi.iloc[i] = bmi_fill[\"mayor_30\"]"
      ],
      "id": "3Se5OHD8xcj2",
      "execution_count": 5,
      "outputs": [
        {
          "output_type": "stream",
          "name": "stderr",
          "text": [
            "/usr/local/lib/python3.7/dist-packages/pandas/core/indexing.py:670: SettingWithCopyWarning: \n",
            "A value is trying to be set on a copy of a slice from a DataFrame\n",
            "\n",
            "See the caveats in the documentation: https://pandas.pydata.org/pandas-docs/stable/user_guide/indexing.html#returning-a-view-versus-a-copy\n",
            "  iloc._setitem_with_indexer(indexer, value)\n"
          ]
        }
      ]
    },
    {
      "cell_type": "markdown",
      "metadata": {
        "id": "VOkSIvkzxcj_"
      },
      "source": [
        "## ENCODING"
      ],
      "id": "VOkSIvkzxcj_"
    },
    {
      "cell_type": "code",
      "metadata": {
        "id": "xuJpLR1_xckE"
      },
      "source": [
        "from sklearn.preprocessing import OneHotEncoder, StandardScaler, LabelEncoder"
      ],
      "id": "xuJpLR1_xckE",
      "execution_count": 6,
      "outputs": []
    },
    {
      "cell_type": "markdown",
      "metadata": {
        "id": "Nk275IT_xckG"
      },
      "source": [
        "## La idea ahora sería hacerle OHE a work_type y smoking_status; y label encoding a gender y Residence_type, y después probar de nuevo los modelos.  \n",
        "Quizás habría que usar el ColumnTransformer?"
      ],
      "id": "Nk275IT_xckG"
    },
    {
      "cell_type": "code",
      "metadata": {
        "id": "aplNg1wxxckI"
      },
      "source": [
        "ohe_cols = [\"work_type\", \"smoking_status\"]\n",
        "label_cols = [\"gender\", \"ever_married\", \"Residence_type\"]\n",
        "cat_cols = ohe_cols+label_cols\n",
        "num_cols = [\"avg_glucose_level\", \"bmi\"]"
      ],
      "id": "aplNg1wxxckI",
      "execution_count": 7,
      "outputs": []
    },
    {
      "cell_type": "code",
      "metadata": {
        "id": "Aj2XlTZtxckL"
      },
      "source": [
        "from sklearn.pipeline import Pipeline\n",
        "from sklearn.compose import ColumnTransformer\n",
        "\n",
        "class ModifiedLabelEncoder(LabelEncoder):\n",
        "\n",
        "    def fit_transform(self, y, *args, **kwargs):\n",
        "        return super().fit_transform(y).reshape(-1, 1)\n",
        "\n",
        "    def transform(self, y, *args, **kwargs):\n",
        "        return super().transform(y).reshape(-1, 1)\n",
        "\n",
        "# num_pipeline = Pipeline([\"std_scaler\", StandardScaler()])\n",
        "\n",
        "# label_pipeline = Pipeline([\"label_enc\", LabelEncoder()])\n",
        "\n",
        "# ohe_pipeline = Pipeline([\"ohe\", OneHotEncoder()])\n",
        "\n",
        "full_pipeline = ColumnTransformer([\n",
        "    (\"num\", StandardScaler(), num_cols),\n",
        "    (\"ohe\", OneHotEncoder(), ohe_cols),\n",
        "    (\"label_1\", ModifiedLabelEncoder(), label_cols[0]),\n",
        "    (\"label_2\", ModifiedLabelEncoder(), label_cols[1]),\n",
        "    (\"label_3\", ModifiedLabelEncoder(), label_cols[2]),\n",
        "])"
      ],
      "id": "Aj2XlTZtxckL",
      "execution_count": 8,
      "outputs": []
    },
    {
      "cell_type": "code",
      "metadata": {
        "scrolled": false,
        "id": "olrfrtiNxckN"
      },
      "source": [
        "df_prepared = full_pipeline.fit_transform(df)"
      ],
      "id": "olrfrtiNxckN",
      "execution_count": 9,
      "outputs": []
    },
    {
      "cell_type": "code",
      "metadata": {
        "scrolled": false,
        "id": "ln8UDfbzxckR"
      },
      "source": [
        "df_processed = pd.DataFrame(df_prepared)\n",
        "# df_processed.columns = num_cols + ohe_cols + label_cols"
      ],
      "id": "ln8UDfbzxckR",
      "execution_count": 10,
      "outputs": []
    },
    {
      "cell_type": "code",
      "metadata": {
        "scrolled": true,
        "colab": {
          "base_uri": "https://localhost:8080/"
        },
        "id": "QCcmxxqTxckS",
        "outputId": "cae0e890-1703-49a0-9613-dcc66df5d0a7"
      },
      "source": [
        "df_processed[0].to_numpy().std()"
      ],
      "id": "QCcmxxqTxckS",
      "execution_count": 11,
      "outputs": [
        {
          "output_type": "execute_result",
          "data": {
            "text/plain": [
              "1.0"
            ]
          },
          "metadata": {},
          "execution_count": 11
        }
      ]
    },
    {
      "cell_type": "code",
      "metadata": {
        "id": "YQUb1plCxckW"
      },
      "source": [
        "df_listo = pd.concat([df_processed, df[[\"hypertension\", \"heart_disease\"]]], axis=1)"
      ],
      "id": "YQUb1plCxckW",
      "execution_count": 12,
      "outputs": []
    },
    {
      "cell_type": "code",
      "metadata": {
        "colab": {
          "base_uri": "https://localhost:8080/",
          "height": 424
        },
        "id": "azBRDxymxckX",
        "outputId": "6d9edada-834e-44e1-aae9-47437e16e41f"
      },
      "source": [
        "df_listo"
      ],
      "id": "azBRDxymxckX",
      "execution_count": 13,
      "outputs": [
        {
          "output_type": "execute_result",
          "data": {
            "text/html": [
              "<div>\n",
              "<style scoped>\n",
              "    .dataframe tbody tr th:only-of-type {\n",
              "        vertical-align: middle;\n",
              "    }\n",
              "\n",
              "    .dataframe tbody tr th {\n",
              "        vertical-align: top;\n",
              "    }\n",
              "\n",
              "    .dataframe thead th {\n",
              "        text-align: right;\n",
              "    }\n",
              "</style>\n",
              "<table border=\"1\" class=\"dataframe\">\n",
              "  <thead>\n",
              "    <tr style=\"text-align: right;\">\n",
              "      <th></th>\n",
              "      <th>0</th>\n",
              "      <th>1</th>\n",
              "      <th>2</th>\n",
              "      <th>3</th>\n",
              "      <th>4</th>\n",
              "      <th>5</th>\n",
              "      <th>6</th>\n",
              "      <th>7</th>\n",
              "      <th>8</th>\n",
              "      <th>9</th>\n",
              "      <th>10</th>\n",
              "      <th>11</th>\n",
              "      <th>12</th>\n",
              "      <th>13</th>\n",
              "      <th>hypertension</th>\n",
              "      <th>heart_disease</th>\n",
              "    </tr>\n",
              "  </thead>\n",
              "  <tbody>\n",
              "    <tr>\n",
              "      <th>0</th>\n",
              "      <td>-0.896710</td>\n",
              "      <td>-0.390718</td>\n",
              "      <td>0.0</td>\n",
              "      <td>0.0</td>\n",
              "      <td>0.0</td>\n",
              "      <td>0.0</td>\n",
              "      <td>1.0</td>\n",
              "      <td>1.0</td>\n",
              "      <td>0.0</td>\n",
              "      <td>0.0</td>\n",
              "      <td>0.0</td>\n",
              "      <td>1.0</td>\n",
              "      <td>0.0</td>\n",
              "      <td>1.0</td>\n",
              "      <td>0</td>\n",
              "      <td>0</td>\n",
              "    </tr>\n",
              "    <tr>\n",
              "      <th>1</th>\n",
              "      <td>-1.039486</td>\n",
              "      <td>0.074254</td>\n",
              "      <td>1.0</td>\n",
              "      <td>0.0</td>\n",
              "      <td>0.0</td>\n",
              "      <td>0.0</td>\n",
              "      <td>0.0</td>\n",
              "      <td>1.0</td>\n",
              "      <td>0.0</td>\n",
              "      <td>0.0</td>\n",
              "      <td>0.0</td>\n",
              "      <td>1.0</td>\n",
              "      <td>1.0</td>\n",
              "      <td>0.0</td>\n",
              "      <td>0</td>\n",
              "      <td>0</td>\n",
              "    </tr>\n",
              "    <tr>\n",
              "      <th>2</th>\n",
              "      <td>-0.886402</td>\n",
              "      <td>-0.933185</td>\n",
              "      <td>0.0</td>\n",
              "      <td>0.0</td>\n",
              "      <td>1.0</td>\n",
              "      <td>0.0</td>\n",
              "      <td>0.0</td>\n",
              "      <td>0.0</td>\n",
              "      <td>0.0</td>\n",
              "      <td>1.0</td>\n",
              "      <td>0.0</td>\n",
              "      <td>0.0</td>\n",
              "      <td>1.0</td>\n",
              "      <td>1.0</td>\n",
              "      <td>0</td>\n",
              "      <td>0</td>\n",
              "    </tr>\n",
              "    <tr>\n",
              "      <th>3</th>\n",
              "      <td>-0.742529</td>\n",
              "      <td>-0.067821</td>\n",
              "      <td>0.0</td>\n",
              "      <td>0.0</td>\n",
              "      <td>0.0</td>\n",
              "      <td>1.0</td>\n",
              "      <td>0.0</td>\n",
              "      <td>0.0</td>\n",
              "      <td>0.0</td>\n",
              "      <td>1.0</td>\n",
              "      <td>0.0</td>\n",
              "      <td>0.0</td>\n",
              "      <td>1.0</td>\n",
              "      <td>0.0</td>\n",
              "      <td>0</td>\n",
              "      <td>0</td>\n",
              "    </tr>\n",
              "    <tr>\n",
              "      <th>4</th>\n",
              "      <td>-0.509613</td>\n",
              "      <td>0.100085</td>\n",
              "      <td>0.0</td>\n",
              "      <td>0.0</td>\n",
              "      <td>1.0</td>\n",
              "      <td>0.0</td>\n",
              "      <td>0.0</td>\n",
              "      <td>0.0</td>\n",
              "      <td>0.0</td>\n",
              "      <td>0.0</td>\n",
              "      <td>1.0</td>\n",
              "      <td>0.0</td>\n",
              "      <td>1.0</td>\n",
              "      <td>0.0</td>\n",
              "      <td>0</td>\n",
              "      <td>0</td>\n",
              "    </tr>\n",
              "    <tr>\n",
              "      <th>...</th>\n",
              "      <td>...</td>\n",
              "      <td>...</td>\n",
              "      <td>...</td>\n",
              "      <td>...</td>\n",
              "      <td>...</td>\n",
              "      <td>...</td>\n",
              "      <td>...</td>\n",
              "      <td>...</td>\n",
              "      <td>...</td>\n",
              "      <td>...</td>\n",
              "      <td>...</td>\n",
              "      <td>...</td>\n",
              "      <td>...</td>\n",
              "      <td>...</td>\n",
              "      <td>...</td>\n",
              "      <td>...</td>\n",
              "    </tr>\n",
              "    <tr>\n",
              "      <th>4083</th>\n",
              "      <td>-0.143132</td>\n",
              "      <td>-1.372325</td>\n",
              "      <td>0.0</td>\n",
              "      <td>0.0</td>\n",
              "      <td>0.0</td>\n",
              "      <td>0.0</td>\n",
              "      <td>1.0</td>\n",
              "      <td>0.0</td>\n",
              "      <td>1.0</td>\n",
              "      <td>0.0</td>\n",
              "      <td>0.0</td>\n",
              "      <td>1.0</td>\n",
              "      <td>0.0</td>\n",
              "      <td>0.0</td>\n",
              "      <td>0</td>\n",
              "      <td>0</td>\n",
              "    </tr>\n",
              "    <tr>\n",
              "      <th>4084</th>\n",
              "      <td>0.958504</td>\n",
              "      <td>-0.468213</td>\n",
              "      <td>0.0</td>\n",
              "      <td>0.0</td>\n",
              "      <td>1.0</td>\n",
              "      <td>0.0</td>\n",
              "      <td>0.0</td>\n",
              "      <td>0.0</td>\n",
              "      <td>0.0</td>\n",
              "      <td>1.0</td>\n",
              "      <td>0.0</td>\n",
              "      <td>1.0</td>\n",
              "      <td>1.0</td>\n",
              "      <td>1.0</td>\n",
              "      <td>0</td>\n",
              "      <td>0</td>\n",
              "    </tr>\n",
              "    <tr>\n",
              "      <th>4085</th>\n",
              "      <td>-0.086109</td>\n",
              "      <td>0.048422</td>\n",
              "      <td>0.0</td>\n",
              "      <td>0.0</td>\n",
              "      <td>1.0</td>\n",
              "      <td>0.0</td>\n",
              "      <td>0.0</td>\n",
              "      <td>0.0</td>\n",
              "      <td>1.0</td>\n",
              "      <td>0.0</td>\n",
              "      <td>0.0</td>\n",
              "      <td>1.0</td>\n",
              "      <td>1.0</td>\n",
              "      <td>0.0</td>\n",
              "      <td>0</td>\n",
              "      <td>0</td>\n",
              "    </tr>\n",
              "    <tr>\n",
              "      <th>4086</th>\n",
              "      <td>-0.129973</td>\n",
              "      <td>2.747841</td>\n",
              "      <td>0.0</td>\n",
              "      <td>0.0</td>\n",
              "      <td>1.0</td>\n",
              "      <td>0.0</td>\n",
              "      <td>0.0</td>\n",
              "      <td>0.0</td>\n",
              "      <td>1.0</td>\n",
              "      <td>0.0</td>\n",
              "      <td>0.0</td>\n",
              "      <td>1.0</td>\n",
              "      <td>1.0</td>\n",
              "      <td>0.0</td>\n",
              "      <td>0</td>\n",
              "      <td>0</td>\n",
              "    </tr>\n",
              "    <tr>\n",
              "      <th>4087</th>\n",
              "      <td>-0.795823</td>\n",
              "      <td>-0.610288</td>\n",
              "      <td>0.0</td>\n",
              "      <td>0.0</td>\n",
              "      <td>1.0</td>\n",
              "      <td>0.0</td>\n",
              "      <td>0.0</td>\n",
              "      <td>0.0</td>\n",
              "      <td>0.0</td>\n",
              "      <td>1.0</td>\n",
              "      <td>0.0</td>\n",
              "      <td>0.0</td>\n",
              "      <td>1.0</td>\n",
              "      <td>0.0</td>\n",
              "      <td>0</td>\n",
              "      <td>0</td>\n",
              "    </tr>\n",
              "  </tbody>\n",
              "</table>\n",
              "<p>4088 rows × 16 columns</p>\n",
              "</div>"
            ],
            "text/plain": [
              "             0         1    2    3  ...   12   13  hypertension  heart_disease\n",
              "0    -0.896710 -0.390718  0.0  0.0  ...  0.0  1.0             0              0\n",
              "1    -1.039486  0.074254  1.0  0.0  ...  1.0  0.0             0              0\n",
              "2    -0.886402 -0.933185  0.0  0.0  ...  1.0  1.0             0              0\n",
              "3    -0.742529 -0.067821  0.0  0.0  ...  1.0  0.0             0              0\n",
              "4    -0.509613  0.100085  0.0  0.0  ...  1.0  0.0             0              0\n",
              "...        ...       ...  ...  ...  ...  ...  ...           ...            ...\n",
              "4083 -0.143132 -1.372325  0.0  0.0  ...  0.0  0.0             0              0\n",
              "4084  0.958504 -0.468213  0.0  0.0  ...  1.0  1.0             0              0\n",
              "4085 -0.086109  0.048422  0.0  0.0  ...  1.0  0.0             0              0\n",
              "4086 -0.129973  2.747841  0.0  0.0  ...  1.0  0.0             0              0\n",
              "4087 -0.795823 -0.610288  0.0  0.0  ...  1.0  0.0             0              0\n",
              "\n",
              "[4088 rows x 16 columns]"
            ]
          },
          "metadata": {},
          "execution_count": 13
        }
      ]
    },
    {
      "cell_type": "markdown",
      "metadata": {
        "id": "08SPYp5rxckY"
      },
      "source": [
        "## MODELOS"
      ],
      "id": "08SPYp5rxckY"
    },
    {
      "cell_type": "code",
      "metadata": {
        "colab": {
          "base_uri": "https://localhost:8080/"
        },
        "id": "-ddtndRvxckZ",
        "outputId": "5c1910ae-4077-482a-b5a9-0dce4b05e677"
      },
      "source": [
        "from sklearn.linear_model import LogisticRegression\n",
        "from sklearn.model_selection import cross_val_predict\n",
        "from sklearn.metrics import confusion_matrix, accuracy_score, recall_score\n",
        "\n",
        "lr = LogisticRegression()\n",
        "lr.fit(df_listo, df.stroke)\n",
        "ypred = cross_val_predict(lr, df_listo, df.stroke)\n",
        "y_score_log = cross_val_predict(lr, df_listo, df.stroke, method=\"predict_proba\")\n",
        "confusion_matrix(df.stroke, ypred)"
      ],
      "id": "-ddtndRvxckZ",
      "execution_count": null,
      "outputs": [
        {
          "output_type": "execute_result",
          "data": {
            "text/plain": [
              "array([[3884,    0],\n",
              "       [ 204,    0]])"
            ]
          },
          "metadata": {},
          "execution_count": 14
        }
      ]
    },
    {
      "cell_type": "code",
      "metadata": {
        "colab": {
          "base_uri": "https://localhost:8080/"
        },
        "id": "2kt0RAEExckb",
        "outputId": "98d0af1e-f32c-425a-938a-1f01390ef972"
      },
      "source": [
        "print(accuracy_score(df.stroke, ypred))\n",
        "print(recall_score(df.stroke, ypred))"
      ],
      "id": "2kt0RAEExckb",
      "execution_count": null,
      "outputs": [
        {
          "output_type": "stream",
          "name": "stdout",
          "text": [
            "0.9500978473581213\n",
            "0.0\n"
          ]
        }
      ]
    },
    {
      "cell_type": "code",
      "metadata": {
        "colab": {
          "base_uri": "https://localhost:8080/"
        },
        "id": "DTmxFzN6xckc",
        "outputId": "bfe81668-8c3b-4c02-c6cd-a7229af1e700"
      },
      "source": [
        "# Con pesos\n",
        "pesos = {0:1, 1:10}\n",
        "lr = LogisticRegression(class_weight=\"balanced\")\n",
        "lr.fit(df_listo, df.stroke)\n",
        "ypred = cross_val_predict(lr, df_listo, df.stroke)\n",
        "y_score_log = cross_val_predict(lr, df_listo, df.stroke, method=\"predict_proba\")\n",
        "confusion_matrix(df.stroke, ypred)"
      ],
      "id": "DTmxFzN6xckc",
      "execution_count": null,
      "outputs": [
        {
          "output_type": "execute_result",
          "data": {
            "text/plain": [
              "array([[2715, 1169],\n",
              "       [  67,  137]])"
            ]
          },
          "metadata": {},
          "execution_count": 16
        }
      ]
    },
    {
      "cell_type": "code",
      "metadata": {
        "colab": {
          "base_uri": "https://localhost:8080/"
        },
        "id": "A6gZj837xcke",
        "outputId": "c84cf0e6-623d-46e2-99c1-dffa71583ceb"
      },
      "source": [
        "from sklearn.metrics import recall_score, roc_auc_score\n",
        "\n",
        "print(accuracy_score(df.stroke, ypred))\n",
        "print(recall_score(df.stroke, ypred))\n",
        "print(roc_auc_score(df.stroke, ypred))"
      ],
      "id": "A6gZj837xcke",
      "execution_count": null,
      "outputs": [
        {
          "output_type": "stream",
          "name": "stdout",
          "text": [
            "0.6976516634050881\n",
            "0.6715686274509803\n",
            "0.6852951273197229\n"
          ]
        }
      ]
    },
    {
      "cell_type": "code",
      "metadata": {
        "scrolled": false,
        "colab": {
          "base_uri": "https://localhost:8080/",
          "height": 444
        },
        "id": "zZJkX4qVxckg",
        "outputId": "cdb09268-504e-420a-f9b8-2e8cc7bb4be4"
      },
      "source": [
        "df_listo"
      ],
      "id": "zZJkX4qVxckg",
      "execution_count": null,
      "outputs": [
        {
          "output_type": "execute_result",
          "data": {
            "text/html": [
              "<div>\n",
              "<style scoped>\n",
              "    .dataframe tbody tr th:only-of-type {\n",
              "        vertical-align: middle;\n",
              "    }\n",
              "\n",
              "    .dataframe tbody tr th {\n",
              "        vertical-align: top;\n",
              "    }\n",
              "\n",
              "    .dataframe thead th {\n",
              "        text-align: right;\n",
              "    }\n",
              "</style>\n",
              "<table border=\"1\" class=\"dataframe\">\n",
              "  <thead>\n",
              "    <tr style=\"text-align: right;\">\n",
              "      <th></th>\n",
              "      <th>0</th>\n",
              "      <th>1</th>\n",
              "      <th>2</th>\n",
              "      <th>3</th>\n",
              "      <th>4</th>\n",
              "      <th>5</th>\n",
              "      <th>6</th>\n",
              "      <th>7</th>\n",
              "      <th>8</th>\n",
              "      <th>9</th>\n",
              "      <th>10</th>\n",
              "      <th>11</th>\n",
              "      <th>12</th>\n",
              "      <th>13</th>\n",
              "      <th>hypertension</th>\n",
              "      <th>heart_disease</th>\n",
              "    </tr>\n",
              "  </thead>\n",
              "  <tbody>\n",
              "    <tr>\n",
              "      <th>0</th>\n",
              "      <td>-0.896710</td>\n",
              "      <td>-0.390718</td>\n",
              "      <td>0.0</td>\n",
              "      <td>0.0</td>\n",
              "      <td>0.0</td>\n",
              "      <td>0.0</td>\n",
              "      <td>1.0</td>\n",
              "      <td>1.0</td>\n",
              "      <td>0.0</td>\n",
              "      <td>0.0</td>\n",
              "      <td>0.0</td>\n",
              "      <td>1.0</td>\n",
              "      <td>0.0</td>\n",
              "      <td>1.0</td>\n",
              "      <td>0</td>\n",
              "      <td>0</td>\n",
              "    </tr>\n",
              "    <tr>\n",
              "      <th>1</th>\n",
              "      <td>-1.039486</td>\n",
              "      <td>0.074254</td>\n",
              "      <td>1.0</td>\n",
              "      <td>0.0</td>\n",
              "      <td>0.0</td>\n",
              "      <td>0.0</td>\n",
              "      <td>0.0</td>\n",
              "      <td>1.0</td>\n",
              "      <td>0.0</td>\n",
              "      <td>0.0</td>\n",
              "      <td>0.0</td>\n",
              "      <td>1.0</td>\n",
              "      <td>1.0</td>\n",
              "      <td>0.0</td>\n",
              "      <td>0</td>\n",
              "      <td>0</td>\n",
              "    </tr>\n",
              "    <tr>\n",
              "      <th>2</th>\n",
              "      <td>-0.886402</td>\n",
              "      <td>-0.933185</td>\n",
              "      <td>0.0</td>\n",
              "      <td>0.0</td>\n",
              "      <td>1.0</td>\n",
              "      <td>0.0</td>\n",
              "      <td>0.0</td>\n",
              "      <td>0.0</td>\n",
              "      <td>0.0</td>\n",
              "      <td>1.0</td>\n",
              "      <td>0.0</td>\n",
              "      <td>0.0</td>\n",
              "      <td>1.0</td>\n",
              "      <td>1.0</td>\n",
              "      <td>0</td>\n",
              "      <td>0</td>\n",
              "    </tr>\n",
              "    <tr>\n",
              "      <th>3</th>\n",
              "      <td>-0.742529</td>\n",
              "      <td>-0.067821</td>\n",
              "      <td>0.0</td>\n",
              "      <td>0.0</td>\n",
              "      <td>0.0</td>\n",
              "      <td>1.0</td>\n",
              "      <td>0.0</td>\n",
              "      <td>0.0</td>\n",
              "      <td>0.0</td>\n",
              "      <td>1.0</td>\n",
              "      <td>0.0</td>\n",
              "      <td>0.0</td>\n",
              "      <td>1.0</td>\n",
              "      <td>0.0</td>\n",
              "      <td>0</td>\n",
              "      <td>0</td>\n",
              "    </tr>\n",
              "    <tr>\n",
              "      <th>4</th>\n",
              "      <td>-0.509613</td>\n",
              "      <td>0.100085</td>\n",
              "      <td>0.0</td>\n",
              "      <td>0.0</td>\n",
              "      <td>1.0</td>\n",
              "      <td>0.0</td>\n",
              "      <td>0.0</td>\n",
              "      <td>0.0</td>\n",
              "      <td>0.0</td>\n",
              "      <td>0.0</td>\n",
              "      <td>1.0</td>\n",
              "      <td>0.0</td>\n",
              "      <td>1.0</td>\n",
              "      <td>0.0</td>\n",
              "      <td>0</td>\n",
              "      <td>0</td>\n",
              "    </tr>\n",
              "    <tr>\n",
              "      <th>...</th>\n",
              "      <td>...</td>\n",
              "      <td>...</td>\n",
              "      <td>...</td>\n",
              "      <td>...</td>\n",
              "      <td>...</td>\n",
              "      <td>...</td>\n",
              "      <td>...</td>\n",
              "      <td>...</td>\n",
              "      <td>...</td>\n",
              "      <td>...</td>\n",
              "      <td>...</td>\n",
              "      <td>...</td>\n",
              "      <td>...</td>\n",
              "      <td>...</td>\n",
              "      <td>...</td>\n",
              "      <td>...</td>\n",
              "    </tr>\n",
              "    <tr>\n",
              "      <th>4083</th>\n",
              "      <td>-0.143132</td>\n",
              "      <td>-1.372325</td>\n",
              "      <td>0.0</td>\n",
              "      <td>0.0</td>\n",
              "      <td>0.0</td>\n",
              "      <td>0.0</td>\n",
              "      <td>1.0</td>\n",
              "      <td>0.0</td>\n",
              "      <td>1.0</td>\n",
              "      <td>0.0</td>\n",
              "      <td>0.0</td>\n",
              "      <td>1.0</td>\n",
              "      <td>0.0</td>\n",
              "      <td>0.0</td>\n",
              "      <td>0</td>\n",
              "      <td>0</td>\n",
              "    </tr>\n",
              "    <tr>\n",
              "      <th>4084</th>\n",
              "      <td>0.958504</td>\n",
              "      <td>-0.468213</td>\n",
              "      <td>0.0</td>\n",
              "      <td>0.0</td>\n",
              "      <td>1.0</td>\n",
              "      <td>0.0</td>\n",
              "      <td>0.0</td>\n",
              "      <td>0.0</td>\n",
              "      <td>0.0</td>\n",
              "      <td>1.0</td>\n",
              "      <td>0.0</td>\n",
              "      <td>1.0</td>\n",
              "      <td>1.0</td>\n",
              "      <td>1.0</td>\n",
              "      <td>0</td>\n",
              "      <td>0</td>\n",
              "    </tr>\n",
              "    <tr>\n",
              "      <th>4085</th>\n",
              "      <td>-0.086109</td>\n",
              "      <td>0.048422</td>\n",
              "      <td>0.0</td>\n",
              "      <td>0.0</td>\n",
              "      <td>1.0</td>\n",
              "      <td>0.0</td>\n",
              "      <td>0.0</td>\n",
              "      <td>0.0</td>\n",
              "      <td>1.0</td>\n",
              "      <td>0.0</td>\n",
              "      <td>0.0</td>\n",
              "      <td>1.0</td>\n",
              "      <td>1.0</td>\n",
              "      <td>0.0</td>\n",
              "      <td>0</td>\n",
              "      <td>0</td>\n",
              "    </tr>\n",
              "    <tr>\n",
              "      <th>4086</th>\n",
              "      <td>-0.129973</td>\n",
              "      <td>2.747841</td>\n",
              "      <td>0.0</td>\n",
              "      <td>0.0</td>\n",
              "      <td>1.0</td>\n",
              "      <td>0.0</td>\n",
              "      <td>0.0</td>\n",
              "      <td>0.0</td>\n",
              "      <td>1.0</td>\n",
              "      <td>0.0</td>\n",
              "      <td>0.0</td>\n",
              "      <td>1.0</td>\n",
              "      <td>1.0</td>\n",
              "      <td>0.0</td>\n",
              "      <td>0</td>\n",
              "      <td>0</td>\n",
              "    </tr>\n",
              "    <tr>\n",
              "      <th>4087</th>\n",
              "      <td>-0.795823</td>\n",
              "      <td>-0.610288</td>\n",
              "      <td>0.0</td>\n",
              "      <td>0.0</td>\n",
              "      <td>1.0</td>\n",
              "      <td>0.0</td>\n",
              "      <td>0.0</td>\n",
              "      <td>0.0</td>\n",
              "      <td>0.0</td>\n",
              "      <td>1.0</td>\n",
              "      <td>0.0</td>\n",
              "      <td>0.0</td>\n",
              "      <td>1.0</td>\n",
              "      <td>0.0</td>\n",
              "      <td>0</td>\n",
              "      <td>0</td>\n",
              "    </tr>\n",
              "  </tbody>\n",
              "</table>\n",
              "<p>4088 rows × 16 columns</p>\n",
              "</div>"
            ],
            "text/plain": [
              "             0         1    2    3  ...   12   13  hypertension  heart_disease\n",
              "0    -0.896710 -0.390718  0.0  0.0  ...  0.0  1.0             0              0\n",
              "1    -1.039486  0.074254  1.0  0.0  ...  1.0  0.0             0              0\n",
              "2    -0.886402 -0.933185  0.0  0.0  ...  1.0  1.0             0              0\n",
              "3    -0.742529 -0.067821  0.0  0.0  ...  1.0  0.0             0              0\n",
              "4    -0.509613  0.100085  0.0  0.0  ...  1.0  0.0             0              0\n",
              "...        ...       ...  ...  ...  ...  ...  ...           ...            ...\n",
              "4083 -0.143132 -1.372325  0.0  0.0  ...  0.0  0.0             0              0\n",
              "4084  0.958504 -0.468213  0.0  0.0  ...  1.0  1.0             0              0\n",
              "4085 -0.086109  0.048422  0.0  0.0  ...  1.0  0.0             0              0\n",
              "4086 -0.129973  2.747841  0.0  0.0  ...  1.0  0.0             0              0\n",
              "4087 -0.795823 -0.610288  0.0  0.0  ...  1.0  0.0             0              0\n",
              "\n",
              "[4088 rows x 16 columns]"
            ]
          },
          "metadata": {},
          "execution_count": 17
        }
      ]
    },
    {
      "cell_type": "markdown",
      "metadata": {
        "id": "1Xq8l-Rxxckg"
      },
      "source": [
        "# Random Forest"
      ],
      "id": "1Xq8l-Rxxckg"
    },
    {
      "cell_type": "code",
      "metadata": {
        "id": "CTtGqUTOxckh",
        "outputId": "cb7ab55c-e37d-42d9-feb7-669e8b851871"
      },
      "source": [
        "from sklearn.ensemble import RandomForestClassifier\n",
        "from sklearn.model_selection import GridSearchCV, RandomizedSearchCV\n",
        "peso_clases = {0:1, 1:19}\n",
        "reg_rf = RandomForestClassifier(random_state=42, class_weight=\"balanced\")\n",
        "param_grid = {\"n_estimators\":np.arange(10,100, 10),\n",
        "              \"max_depth\":np.arange(4, 100, 10),\n",
        "              \"min_samples_leaf\":np.arange(1,30, 5)\n",
        "             }\n",
        "reg_rf.fit(df_listo, df.stroke)\n",
        "#gsrf = GridSearchCV(reg_rf, param_grid, verbose=3)\n",
        "rsrf = RandomizedSearchCV(reg_rf, param_grid, verbose=3, n_iter=25, random_state=42)\n",
        "rsrf.fit(df_listo, df.stroke)\n",
        "#ypred_gsrf = cross_val_predict(gsrf.best_estimator_, _train_scaled, t_train)"
      ],
      "id": "CTtGqUTOxckh",
      "execution_count": null,
      "outputs": [
        {
          "name": "stdout",
          "output_type": "stream",
          "text": [
            "Fitting 5 folds for each of 25 candidates, totalling 125 fits\n",
            "[CV] n_estimators=50, min_samples_leaf=6, max_depth=44 ...............\n"
          ]
        },
        {
          "name": "stderr",
          "output_type": "stream",
          "text": [
            "[Parallel(n_jobs=1)]: Using backend SequentialBackend with 1 concurrent workers.\n"
          ]
        },
        {
          "name": "stdout",
          "output_type": "stream",
          "text": [
            "[CV]  n_estimators=50, min_samples_leaf=6, max_depth=44, score=0.910, total=   0.3s\n",
            "[CV] n_estimators=50, min_samples_leaf=6, max_depth=44 ...............\n"
          ]
        },
        {
          "name": "stderr",
          "output_type": "stream",
          "text": [
            "[Parallel(n_jobs=1)]: Done   1 out of   1 | elapsed:    0.3s remaining:    0.0s\n"
          ]
        },
        {
          "name": "stdout",
          "output_type": "stream",
          "text": [
            "[CV]  n_estimators=50, min_samples_leaf=6, max_depth=44, score=0.914, total=   0.3s\n",
            "[CV] n_estimators=50, min_samples_leaf=6, max_depth=44 ...............\n"
          ]
        },
        {
          "name": "stderr",
          "output_type": "stream",
          "text": [
            "[Parallel(n_jobs=1)]: Done   2 out of   2 | elapsed:    0.6s remaining:    0.0s\n"
          ]
        },
        {
          "name": "stdout",
          "output_type": "stream",
          "text": [
            "[CV]  n_estimators=50, min_samples_leaf=6, max_depth=44, score=0.902, total=   0.3s\n",
            "[CV] n_estimators=50, min_samples_leaf=6, max_depth=44 ...............\n",
            "[CV]  n_estimators=50, min_samples_leaf=6, max_depth=44, score=0.897, total=   0.3s\n",
            "[CV] n_estimators=50, min_samples_leaf=6, max_depth=44 ...............\n",
            "[CV]  n_estimators=50, min_samples_leaf=6, max_depth=44, score=0.896, total=   0.3s\n",
            "[CV] n_estimators=20, min_samples_leaf=11, max_depth=14 ..............\n",
            "[CV]  n_estimators=20, min_samples_leaf=11, max_depth=14, score=0.864, total=   0.1s\n",
            "[CV] n_estimators=20, min_samples_leaf=11, max_depth=14 ..............\n",
            "[CV]  n_estimators=20, min_samples_leaf=11, max_depth=14, score=0.848, total=   0.1s\n",
            "[CV] n_estimators=20, min_samples_leaf=11, max_depth=14 ..............\n",
            "[CV]  n_estimators=20, min_samples_leaf=11, max_depth=14, score=0.861, total=   0.1s\n",
            "[CV] n_estimators=20, min_samples_leaf=11, max_depth=14 ..............\n",
            "[CV]  n_estimators=20, min_samples_leaf=11, max_depth=14, score=0.847, total=   0.1s\n",
            "[CV] n_estimators=20, min_samples_leaf=11, max_depth=14 ..............\n",
            "[CV]  n_estimators=20, min_samples_leaf=11, max_depth=14, score=0.854, total=   0.1s\n",
            "[CV] n_estimators=90, min_samples_leaf=16, max_depth=94 ..............\n",
            "[CV]  n_estimators=90, min_samples_leaf=16, max_depth=94, score=0.850, total=   0.5s\n",
            "[CV] n_estimators=90, min_samples_leaf=16, max_depth=94 ..............\n",
            "[CV]  n_estimators=90, min_samples_leaf=16, max_depth=94, score=0.837, total=   0.5s\n",
            "[CV] n_estimators=90, min_samples_leaf=16, max_depth=94 ..............\n",
            "[CV]  n_estimators=90, min_samples_leaf=16, max_depth=94, score=0.839, total=   0.5s\n",
            "[CV] n_estimators=90, min_samples_leaf=16, max_depth=94 ..............\n",
            "[CV]  n_estimators=90, min_samples_leaf=16, max_depth=94, score=0.821, total=   0.5s\n",
            "[CV] n_estimators=90, min_samples_leaf=16, max_depth=94 ..............\n",
            "[CV]  n_estimators=90, min_samples_leaf=16, max_depth=94, score=0.837, total=   0.5s\n",
            "[CV] n_estimators=60, min_samples_leaf=16, max_depth=14 ..............\n",
            "[CV]  n_estimators=60, min_samples_leaf=16, max_depth=14, score=0.850, total=   0.3s\n",
            "[CV] n_estimators=60, min_samples_leaf=16, max_depth=14 ..............\n",
            "[CV]  n_estimators=60, min_samples_leaf=16, max_depth=14, score=0.833, total=   0.4s\n",
            "[CV] n_estimators=60, min_samples_leaf=16, max_depth=14 ..............\n",
            "[CV]  n_estimators=60, min_samples_leaf=16, max_depth=14, score=0.835, total=   0.3s\n",
            "[CV] n_estimators=60, min_samples_leaf=16, max_depth=14 ..............\n",
            "[CV]  n_estimators=60, min_samples_leaf=16, max_depth=14, score=0.820, total=   0.4s\n",
            "[CV] n_estimators=60, min_samples_leaf=16, max_depth=14 ..............\n",
            "[CV]  n_estimators=60, min_samples_leaf=16, max_depth=14, score=0.824, total=   0.3s\n",
            "[CV] n_estimators=20, min_samples_leaf=21, max_depth=84 ..............\n",
            "[CV]  n_estimators=20, min_samples_leaf=21, max_depth=84, score=0.812, total=   0.1s\n",
            "[CV] n_estimators=20, min_samples_leaf=21, max_depth=84 ..............\n",
            "[CV]  n_estimators=20, min_samples_leaf=21, max_depth=84, score=0.812, total=   0.1s\n",
            "[CV] n_estimators=20, min_samples_leaf=21, max_depth=84 ..............\n",
            "[CV]  n_estimators=20, min_samples_leaf=21, max_depth=84, score=0.798, total=   0.1s\n",
            "[CV] n_estimators=20, min_samples_leaf=21, max_depth=84 ..............\n",
            "[CV]  n_estimators=20, min_samples_leaf=21, max_depth=84, score=0.793, total=   0.1s\n",
            "[CV] n_estimators=20, min_samples_leaf=21, max_depth=84 ..............\n",
            "[CV]  n_estimators=20, min_samples_leaf=21, max_depth=84, score=0.812, total=   0.1s\n",
            "[CV] n_estimators=60, min_samples_leaf=11, max_depth=14 ..............\n",
            "[CV]  n_estimators=60, min_samples_leaf=11, max_depth=14, score=0.878, total=   0.3s\n",
            "[CV] n_estimators=60, min_samples_leaf=11, max_depth=14 ..............\n",
            "[CV]  n_estimators=60, min_samples_leaf=11, max_depth=14, score=0.869, total=   0.3s\n",
            "[CV] n_estimators=60, min_samples_leaf=11, max_depth=14 ..............\n",
            "[CV]  n_estimators=60, min_samples_leaf=11, max_depth=14, score=0.859, total=   0.3s\n",
            "[CV] n_estimators=60, min_samples_leaf=11, max_depth=14 ..............\n",
            "[CV]  n_estimators=60, min_samples_leaf=11, max_depth=14, score=0.853, total=   0.4s\n",
            "[CV] n_estimators=60, min_samples_leaf=11, max_depth=14 ..............\n",
            "[CV]  n_estimators=60, min_samples_leaf=11, max_depth=14, score=0.854, total=   0.4s\n",
            "[CV] n_estimators=10, min_samples_leaf=16, max_depth=54 ..............\n",
            "[CV]  n_estimators=10, min_samples_leaf=16, max_depth=54, score=0.841, total=   0.1s\n",
            "[CV] n_estimators=10, min_samples_leaf=16, max_depth=54 ..............\n",
            "[CV]  n_estimators=10, min_samples_leaf=16, max_depth=54, score=0.787, total=   0.1s\n",
            "[CV] n_estimators=10, min_samples_leaf=16, max_depth=54 ..............\n",
            "[CV]  n_estimators=10, min_samples_leaf=16, max_depth=54, score=0.829, total=   0.1s\n",
            "[CV] n_estimators=10, min_samples_leaf=16, max_depth=54 ..............\n",
            "[CV]  n_estimators=10, min_samples_leaf=16, max_depth=54, score=0.818, total=   0.1s\n",
            "[CV] n_estimators=10, min_samples_leaf=16, max_depth=54 ..............\n",
            "[CV]  n_estimators=10, min_samples_leaf=16, max_depth=54, score=0.808, total=   0.1s\n",
            "[CV] n_estimators=50, min_samples_leaf=21, max_depth=74 ..............\n",
            "[CV]  n_estimators=50, min_samples_leaf=21, max_depth=74, score=0.828, total=   0.3s\n",
            "[CV] n_estimators=50, min_samples_leaf=21, max_depth=74 ..............\n",
            "[CV]  n_estimators=50, min_samples_leaf=21, max_depth=74, score=0.822, total=   0.3s\n",
            "[CV] n_estimators=50, min_samples_leaf=21, max_depth=74 ..............\n",
            "[CV]  n_estimators=50, min_samples_leaf=21, max_depth=74, score=0.812, total=   0.3s\n",
            "[CV] n_estimators=50, min_samples_leaf=21, max_depth=74 ..............\n",
            "[CV]  n_estimators=50, min_samples_leaf=21, max_depth=74, score=0.818, total=   0.3s\n",
            "[CV] n_estimators=50, min_samples_leaf=21, max_depth=74 ..............\n",
            "[CV]  n_estimators=50, min_samples_leaf=21, max_depth=74, score=0.824, total=   0.3s\n",
            "[CV] n_estimators=10, min_samples_leaf=11, max_depth=64 ..............\n",
            "[CV]  n_estimators=10, min_samples_leaf=11, max_depth=64, score=0.851, total=   0.1s\n",
            "[CV] n_estimators=10, min_samples_leaf=11, max_depth=64 ..............\n",
            "[CV]  n_estimators=10, min_samples_leaf=11, max_depth=64, score=0.822, total=   0.1s\n",
            "[CV] n_estimators=10, min_samples_leaf=11, max_depth=64 ..............\n",
            "[CV]  n_estimators=10, min_samples_leaf=11, max_depth=64, score=0.847, total=   0.1s\n",
            "[CV] n_estimators=10, min_samples_leaf=11, max_depth=64 ..............\n",
            "[CV]  n_estimators=10, min_samples_leaf=11, max_depth=64, score=0.831, total=   0.1s\n",
            "[CV] n_estimators=10, min_samples_leaf=11, max_depth=64 ..............\n",
            "[CV]  n_estimators=10, min_samples_leaf=11, max_depth=64, score=0.847, total=   0.1s\n",
            "[CV] n_estimators=60, min_samples_leaf=1, max_depth=74 ...............\n",
            "[CV]  n_estimators=60, min_samples_leaf=1, max_depth=74, score=0.950, total=   0.4s\n",
            "[CV] n_estimators=60, min_samples_leaf=1, max_depth=74 ...............\n",
            "[CV]  n_estimators=60, min_samples_leaf=1, max_depth=74, score=0.946, total=   0.4s\n",
            "[CV] n_estimators=60, min_samples_leaf=1, max_depth=74 ...............\n",
            "[CV]  n_estimators=60, min_samples_leaf=1, max_depth=74, score=0.946, total=   0.4s\n",
            "[CV] n_estimators=60, min_samples_leaf=1, max_depth=74 ...............\n",
            "[CV]  n_estimators=60, min_samples_leaf=1, max_depth=74, score=0.947, total=   0.4s\n",
            "[CV] n_estimators=60, min_samples_leaf=1, max_depth=74 ...............\n",
            "[CV]  n_estimators=60, min_samples_leaf=1, max_depth=74, score=0.949, total=   0.4s\n",
            "[CV] n_estimators=70, min_samples_leaf=1, max_depth=4 ................\n",
            "[CV]  n_estimators=70, min_samples_leaf=1, max_depth=4, score=0.741, total=   0.3s\n",
            "[CV] n_estimators=70, min_samples_leaf=1, max_depth=4 ................\n",
            "[CV]  n_estimators=70, min_samples_leaf=1, max_depth=4, score=0.738, total=   0.4s\n",
            "[CV] n_estimators=70, min_samples_leaf=1, max_depth=4 ................\n",
            "[CV]  n_estimators=70, min_samples_leaf=1, max_depth=4, score=0.751, total=   0.3s\n",
            "[CV] n_estimators=70, min_samples_leaf=1, max_depth=4 ................\n",
            "[CV]  n_estimators=70, min_samples_leaf=1, max_depth=4, score=0.733, total=   0.3s\n",
            "[CV] n_estimators=70, min_samples_leaf=1, max_depth=4 ................\n",
            "[CV]  n_estimators=70, min_samples_leaf=1, max_depth=4, score=0.772, total=   0.3s\n",
            "[CV] n_estimators=10, min_samples_leaf=6, max_depth=24 ...............\n",
            "[CV]  n_estimators=10, min_samples_leaf=6, max_depth=24, score=0.888, total=   0.1s\n",
            "[CV] n_estimators=10, min_samples_leaf=6, max_depth=24 ...............\n",
            "[CV]  n_estimators=10, min_samples_leaf=6, max_depth=24, score=0.877, total=   0.1s\n",
            "[CV] n_estimators=10, min_samples_leaf=6, max_depth=24 ...............\n"
          ]
        },
        {
          "name": "stdout",
          "output_type": "stream",
          "text": [
            "[CV]  n_estimators=10, min_samples_leaf=6, max_depth=24, score=0.886, total=   0.1s\n",
            "[CV] n_estimators=10, min_samples_leaf=6, max_depth=24 ...............\n",
            "[CV]  n_estimators=10, min_samples_leaf=6, max_depth=24, score=0.878, total=   0.1s\n",
            "[CV] n_estimators=10, min_samples_leaf=6, max_depth=24 ...............\n",
            "[CV]  n_estimators=10, min_samples_leaf=6, max_depth=24, score=0.891, total=   0.1s\n",
            "[CV] n_estimators=60, min_samples_leaf=16, max_depth=74 ..............\n",
            "[CV]  n_estimators=60, min_samples_leaf=16, max_depth=74, score=0.847, total=   0.4s\n",
            "[CV] n_estimators=60, min_samples_leaf=16, max_depth=74 ..............\n",
            "[CV]  n_estimators=60, min_samples_leaf=16, max_depth=74, score=0.837, total=   0.3s\n",
            "[CV] n_estimators=60, min_samples_leaf=16, max_depth=74 ..............\n",
            "[CV]  n_estimators=60, min_samples_leaf=16, max_depth=74, score=0.834, total=   0.3s\n",
            "[CV] n_estimators=60, min_samples_leaf=16, max_depth=74 ..............\n",
            "[CV]  n_estimators=60, min_samples_leaf=16, max_depth=74, score=0.823, total=   0.3s\n",
            "[CV] n_estimators=60, min_samples_leaf=16, max_depth=74 ..............\n",
            "[CV]  n_estimators=60, min_samples_leaf=16, max_depth=74, score=0.825, total=   0.3s\n",
            "[CV] n_estimators=40, min_samples_leaf=11, max_depth=14 ..............\n",
            "[CV]  n_estimators=40, min_samples_leaf=11, max_depth=14, score=0.873, total=   0.2s\n",
            "[CV] n_estimators=40, min_samples_leaf=11, max_depth=14 ..............\n",
            "[CV]  n_estimators=40, min_samples_leaf=11, max_depth=14, score=0.866, total=   0.3s\n",
            "[CV] n_estimators=40, min_samples_leaf=11, max_depth=14 ..............\n",
            "[CV]  n_estimators=40, min_samples_leaf=11, max_depth=14, score=0.858, total=   0.2s\n",
            "[CV] n_estimators=40, min_samples_leaf=11, max_depth=14 ..............\n",
            "[CV]  n_estimators=40, min_samples_leaf=11, max_depth=14, score=0.851, total=   0.2s\n",
            "[CV] n_estimators=40, min_samples_leaf=11, max_depth=14 ..............\n",
            "[CV]  n_estimators=40, min_samples_leaf=11, max_depth=14, score=0.856, total=   0.2s\n",
            "[CV] n_estimators=30, min_samples_leaf=1, max_depth=54 ...............\n",
            "[CV]  n_estimators=30, min_samples_leaf=1, max_depth=54, score=0.947, total=   0.2s\n",
            "[CV] n_estimators=30, min_samples_leaf=1, max_depth=54 ...............\n",
            "[CV]  n_estimators=30, min_samples_leaf=1, max_depth=54, score=0.946, total=   0.2s\n",
            "[CV] n_estimators=30, min_samples_leaf=1, max_depth=54 ...............\n",
            "[CV]  n_estimators=30, min_samples_leaf=1, max_depth=54, score=0.945, total=   0.2s\n",
            "[CV] n_estimators=30, min_samples_leaf=1, max_depth=54 ...............\n",
            "[CV]  n_estimators=30, min_samples_leaf=1, max_depth=54, score=0.945, total=   0.2s\n",
            "[CV] n_estimators=30, min_samples_leaf=1, max_depth=54 ...............\n",
            "[CV]  n_estimators=30, min_samples_leaf=1, max_depth=54, score=0.947, total=   0.2s\n",
            "[CV] n_estimators=70, min_samples_leaf=16, max_depth=34 ..............\n",
            "[CV]  n_estimators=70, min_samples_leaf=16, max_depth=34, score=0.851, total=   0.4s\n",
            "[CV] n_estimators=70, min_samples_leaf=16, max_depth=34 ..............\n",
            "[CV]  n_estimators=70, min_samples_leaf=16, max_depth=34, score=0.848, total=   0.4s\n",
            "[CV] n_estimators=70, min_samples_leaf=16, max_depth=34 ..............\n",
            "[CV]  n_estimators=70, min_samples_leaf=16, max_depth=34, score=0.834, total=   0.4s\n",
            "[CV] n_estimators=70, min_samples_leaf=16, max_depth=34 ..............\n",
            "[CV]  n_estimators=70, min_samples_leaf=16, max_depth=34, score=0.823, total=   0.4s\n",
            "[CV] n_estimators=70, min_samples_leaf=16, max_depth=34 ..............\n",
            "[CV]  n_estimators=70, min_samples_leaf=16, max_depth=34, score=0.829, total=   0.4s\n",
            "[CV] n_estimators=90, min_samples_leaf=1, max_depth=94 ...............\n",
            "[CV]  n_estimators=90, min_samples_leaf=1, max_depth=94, score=0.950, total=   0.5s\n",
            "[CV] n_estimators=90, min_samples_leaf=1, max_depth=94 ...............\n",
            "[CV]  n_estimators=90, min_samples_leaf=1, max_depth=94, score=0.945, total=   0.5s\n",
            "[CV] n_estimators=90, min_samples_leaf=1, max_depth=94 ...............\n",
            "[CV]  n_estimators=90, min_samples_leaf=1, max_depth=94, score=0.945, total=   0.6s\n",
            "[CV] n_estimators=90, min_samples_leaf=1, max_depth=94 ...............\n",
            "[CV]  n_estimators=90, min_samples_leaf=1, max_depth=94, score=0.947, total=   0.5s\n",
            "[CV] n_estimators=90, min_samples_leaf=1, max_depth=94 ...............\n",
            "[CV]  n_estimators=90, min_samples_leaf=1, max_depth=94, score=0.949, total=   0.6s\n",
            "[CV] n_estimators=30, min_samples_leaf=26, max_depth=14 ..............\n",
            "[CV]  n_estimators=30, min_samples_leaf=26, max_depth=14, score=0.812, total=   0.2s\n",
            "[CV] n_estimators=30, min_samples_leaf=26, max_depth=14 ..............\n",
            "[CV]  n_estimators=30, min_samples_leaf=26, max_depth=14, score=0.792, total=   0.2s\n",
            "[CV] n_estimators=30, min_samples_leaf=26, max_depth=14 ..............\n",
            "[CV]  n_estimators=30, min_samples_leaf=26, max_depth=14, score=0.807, total=   0.2s\n",
            "[CV] n_estimators=30, min_samples_leaf=26, max_depth=14 ..............\n",
            "[CV]  n_estimators=30, min_samples_leaf=26, max_depth=14, score=0.799, total=   0.2s\n",
            "[CV] n_estimators=30, min_samples_leaf=26, max_depth=14 ..............\n",
            "[CV]  n_estimators=30, min_samples_leaf=26, max_depth=14, score=0.787, total=   0.2s\n",
            "[CV] n_estimators=50, min_samples_leaf=21, max_depth=94 ..............\n",
            "[CV]  n_estimators=50, min_samples_leaf=21, max_depth=94, score=0.828, total=   0.3s\n",
            "[CV] n_estimators=50, min_samples_leaf=21, max_depth=94 ..............\n",
            "[CV]  n_estimators=50, min_samples_leaf=21, max_depth=94, score=0.822, total=   0.3s\n",
            "[CV] n_estimators=50, min_samples_leaf=21, max_depth=94 ..............\n",
            "[CV]  n_estimators=50, min_samples_leaf=21, max_depth=94, score=0.812, total=   0.3s\n",
            "[CV] n_estimators=50, min_samples_leaf=21, max_depth=94 ..............\n",
            "[CV]  n_estimators=50, min_samples_leaf=21, max_depth=94, score=0.818, total=   0.3s\n",
            "[CV] n_estimators=50, min_samples_leaf=21, max_depth=94 ..............\n",
            "[CV]  n_estimators=50, min_samples_leaf=21, max_depth=94, score=0.824, total=   0.3s\n",
            "[CV] n_estimators=20, min_samples_leaf=1, max_depth=14 ...............\n",
            "[CV]  n_estimators=20, min_samples_leaf=1, max_depth=14, score=0.946, total=   0.1s\n",
            "[CV] n_estimators=20, min_samples_leaf=1, max_depth=14 ...............\n",
            "[CV]  n_estimators=20, min_samples_leaf=1, max_depth=14, score=0.940, total=   0.1s\n",
            "[CV] n_estimators=20, min_samples_leaf=1, max_depth=14 ...............\n",
            "[CV]  n_estimators=20, min_samples_leaf=1, max_depth=14, score=0.944, total=   0.1s\n",
            "[CV] n_estimators=20, min_samples_leaf=1, max_depth=14 ...............\n",
            "[CV]  n_estimators=20, min_samples_leaf=1, max_depth=14, score=0.942, total=   0.1s\n",
            "[CV] n_estimators=20, min_samples_leaf=1, max_depth=14 ...............\n",
            "[CV]  n_estimators=20, min_samples_leaf=1, max_depth=14, score=0.944, total=   0.1s\n",
            "[CV] n_estimators=50, min_samples_leaf=26, max_depth=64 ..............\n",
            "[CV]  n_estimators=50, min_samples_leaf=26, max_depth=64, score=0.809, total=   0.3s\n",
            "[CV] n_estimators=50, min_samples_leaf=26, max_depth=64 ..............\n",
            "[CV]  n_estimators=50, min_samples_leaf=26, max_depth=64, score=0.806, total=   0.3s\n",
            "[CV] n_estimators=50, min_samples_leaf=26, max_depth=64 ..............\n",
            "[CV]  n_estimators=50, min_samples_leaf=26, max_depth=64, score=0.811, total=   0.3s\n",
            "[CV] n_estimators=50, min_samples_leaf=26, max_depth=64 ..............\n",
            "[CV]  n_estimators=50, min_samples_leaf=26, max_depth=64, score=0.803, total=   0.3s\n",
            "[CV] n_estimators=50, min_samples_leaf=26, max_depth=64 ..............\n",
            "[CV]  n_estimators=50, min_samples_leaf=26, max_depth=64, score=0.799, total=   0.3s\n",
            "[CV] n_estimators=60, min_samples_leaf=11, max_depth=34 ..............\n",
            "[CV]  n_estimators=60, min_samples_leaf=11, max_depth=34, score=0.877, total=   0.3s\n",
            "[CV] n_estimators=60, min_samples_leaf=11, max_depth=34 ..............\n",
            "[CV]  n_estimators=60, min_samples_leaf=11, max_depth=34, score=0.863, total=   0.3s\n",
            "[CV] n_estimators=60, min_samples_leaf=11, max_depth=34 ..............\n",
            "[CV]  n_estimators=60, min_samples_leaf=11, max_depth=34, score=0.866, total=   0.3s\n",
            "[CV] n_estimators=60, min_samples_leaf=11, max_depth=34 ..............\n",
            "[CV]  n_estimators=60, min_samples_leaf=11, max_depth=34, score=0.858, total=   0.4s\n",
            "[CV] n_estimators=60, min_samples_leaf=11, max_depth=34 ..............\n",
            "[CV]  n_estimators=60, min_samples_leaf=11, max_depth=34, score=0.857, total=   0.4s\n",
            "[CV] n_estimators=20, min_samples_leaf=16, max_depth=54 ..............\n",
            "[CV]  n_estimators=20, min_samples_leaf=16, max_depth=54, score=0.850, total=   0.1s\n",
            "[CV] n_estimators=20, min_samples_leaf=16, max_depth=54 ..............\n"
          ]
        },
        {
          "name": "stdout",
          "output_type": "stream",
          "text": [
            "[CV]  n_estimators=20, min_samples_leaf=16, max_depth=54, score=0.812, total=   0.1s\n",
            "[CV] n_estimators=20, min_samples_leaf=16, max_depth=54 ..............\n",
            "[CV]  n_estimators=20, min_samples_leaf=16, max_depth=54, score=0.839, total=   0.1s\n",
            "[CV] n_estimators=20, min_samples_leaf=16, max_depth=54 ..............\n",
            "[CV]  n_estimators=20, min_samples_leaf=16, max_depth=54, score=0.815, total=   0.1s\n",
            "[CV] n_estimators=20, min_samples_leaf=16, max_depth=54 ..............\n",
            "[CV]  n_estimators=20, min_samples_leaf=16, max_depth=54, score=0.823, total=   0.1s\n",
            "[CV] n_estimators=60, min_samples_leaf=1, max_depth=34 ...............\n",
            "[CV]  n_estimators=60, min_samples_leaf=1, max_depth=34, score=0.950, total=   0.4s\n",
            "[CV] n_estimators=60, min_samples_leaf=1, max_depth=34 ...............\n",
            "[CV]  n_estimators=60, min_samples_leaf=1, max_depth=34, score=0.946, total=   0.4s\n",
            "[CV] n_estimators=60, min_samples_leaf=1, max_depth=34 ...............\n",
            "[CV]  n_estimators=60, min_samples_leaf=1, max_depth=34, score=0.946, total=   0.4s\n",
            "[CV] n_estimators=60, min_samples_leaf=1, max_depth=34 ...............\n",
            "[CV]  n_estimators=60, min_samples_leaf=1, max_depth=34, score=0.947, total=   0.4s\n",
            "[CV] n_estimators=60, min_samples_leaf=1, max_depth=34 ...............\n",
            "[CV]  n_estimators=60, min_samples_leaf=1, max_depth=34, score=0.949, total=   0.4s\n",
            "[CV] n_estimators=30, min_samples_leaf=26, max_depth=84 ..............\n",
            "[CV]  n_estimators=30, min_samples_leaf=26, max_depth=84, score=0.812, total=   0.2s\n",
            "[CV] n_estimators=30, min_samples_leaf=26, max_depth=84 ..............\n",
            "[CV]  n_estimators=30, min_samples_leaf=26, max_depth=84, score=0.797, total=   0.2s\n",
            "[CV] n_estimators=30, min_samples_leaf=26, max_depth=84 ..............\n",
            "[CV]  n_estimators=30, min_samples_leaf=26, max_depth=84, score=0.809, total=   0.2s\n",
            "[CV] n_estimators=30, min_samples_leaf=26, max_depth=84 ..............\n",
            "[CV]  n_estimators=30, min_samples_leaf=26, max_depth=84, score=0.799, total=   0.2s\n",
            "[CV] n_estimators=30, min_samples_leaf=26, max_depth=84 ..............\n",
            "[CV]  n_estimators=30, min_samples_leaf=26, max_depth=84, score=0.789, total=   0.2s\n"
          ]
        },
        {
          "name": "stderr",
          "output_type": "stream",
          "text": [
            "[Parallel(n_jobs=1)]: Done 125 out of 125 | elapsed:   32.3s finished\n"
          ]
        },
        {
          "data": {
            "text/plain": [
              "RandomizedSearchCV(cv=None, error_score=nan,\n",
              "                   estimator=RandomForestClassifier(bootstrap=True,\n",
              "                                                    ccp_alpha=0.0,\n",
              "                                                    class_weight='balanced',\n",
              "                                                    criterion='gini',\n",
              "                                                    max_depth=None,\n",
              "                                                    max_features='auto',\n",
              "                                                    max_leaf_nodes=None,\n",
              "                                                    max_samples=None,\n",
              "                                                    min_impurity_decrease=0.0,\n",
              "                                                    min_impurity_split=None,\n",
              "                                                    min_samples_leaf=1,\n",
              "                                                    min_samples_split=2,\n",
              "                                                    min_weight_fraction_leaf=0.0,\n",
              "                                                    n_estimators=1...\n",
              "                                                    oob_score=False,\n",
              "                                                    random_state=42, verbose=0,\n",
              "                                                    warm_start=False),\n",
              "                   iid='deprecated', n_iter=25, n_jobs=None,\n",
              "                   param_distributions={'max_depth': array([ 4, 14, 24, 34, 44, 54, 64, 74, 84, 94]),\n",
              "                                        'min_samples_leaf': array([ 1,  6, 11, 16, 21, 26]),\n",
              "                                        'n_estimators': array([10, 20, 30, 40, 50, 60, 70, 80, 90])},\n",
              "                   pre_dispatch='2*n_jobs', random_state=42, refit=True,\n",
              "                   return_train_score=False, scoring=None, verbose=3)"
            ]
          },
          "execution_count": 26,
          "metadata": {},
          "output_type": "execute_result"
        }
      ]
    },
    {
      "cell_type": "code",
      "metadata": {
        "id": "IyxBgJM8xcki",
        "outputId": "41481711-0de6-40fa-af50-58746d98e41e"
      },
      "source": [
        "rsrf.best_params_"
      ],
      "id": "IyxBgJM8xcki",
      "execution_count": null,
      "outputs": [
        {
          "data": {
            "text/plain": [
              "{'n_estimators': 60, 'min_samples_leaf': 1, 'max_depth': 74}"
            ]
          },
          "execution_count": 27,
          "metadata": {},
          "output_type": "execute_result"
        }
      ]
    },
    {
      "cell_type": "code",
      "metadata": {
        "id": "fPZTUCGixckj",
        "outputId": "71400d65-ab1f-42e4-cada-115d64005674"
      },
      "source": [
        "ypred_rsrf = cross_val_predict(rsrf.best_estimator_, df_listo, df.stroke)\n",
        "confusion_matrix(df.stroke, ypred_rsrf)"
      ],
      "id": "fPZTUCGixckj",
      "execution_count": null,
      "outputs": [
        {
          "data": {
            "text/plain": [
              "array([[3873,   11],\n",
              "       [ 203,    1]])"
            ]
          },
          "execution_count": 28,
          "metadata": {},
          "output_type": "execute_result"
        }
      ]
    },
    {
      "cell_type": "code",
      "metadata": {
        "id": "6qqc34ezxckk",
        "outputId": "5d215f9a-f821-4f31-b3ad-8d199872d2e7"
      },
      "source": [
        "print(accuracy_score(df.stroke, ypred_rsrf))\n",
        "print(recall_score(df.stroke, ypred_rsrf))"
      ],
      "id": "6qqc34ezxckk",
      "execution_count": null,
      "outputs": [
        {
          "name": "stdout",
          "output_type": "stream",
          "text": [
            "0.9476516634050881\n",
            "0.004901960784313725\n"
          ]
        }
      ]
    },
    {
      "cell_type": "markdown",
      "metadata": {
        "id": "b6xB4yWQxckl"
      },
      "source": [
        "## Usando scoring = F1 para el randomized search"
      ],
      "id": "b6xB4yWQxckl"
    },
    {
      "cell_type": "code",
      "metadata": {
        "id": "WUUCwUdcxckm",
        "outputId": "ce63a87d-ed93-43c0-9268-721efbec7a49"
      },
      "source": [
        "from sklearn.ensemble import RandomForestClassifier\n",
        "from sklearn.model_selection import GridSearchCV, RandomizedSearchCV\n",
        "peso_clases = {0:1, 1:19}\n",
        "reg_rf = RandomForestClassifier(random_state=42, class_weight=\"balanced\")\n",
        "param_grid = {\"n_estimators\":np.arange(100,500, 10),\n",
        "              \"max_depth\":np.arange(200, 500, 10),\n",
        "              \"min_samples_leaf\":np.arange(1,30, 5)\n",
        "             }\n",
        "reg_rf.fit(df_listo, df.stroke)\n",
        "#gsrf = GridSearchCV(reg_rf, param_grid, verbose=3)\n",
        "rsrf = RandomizedSearchCV(reg_rf, param_grid, verbose=3, n_iter=25, random_state=42, scoring=\"f1\")\n",
        "rsrf.fit(df_listo, df.stroke)\n",
        "#ypred_gsrf = cross_val_predict(gsrf.best_estimator_, _train_scaled, t_train)"
      ],
      "id": "WUUCwUdcxckm",
      "execution_count": null,
      "outputs": [
        {
          "name": "stdout",
          "output_type": "stream",
          "text": [
            "Fitting 5 folds for each of 25 candidates, totalling 125 fits\n",
            "[CV] n_estimators=300, min_samples_leaf=16, max_depth=230 ............\n"
          ]
        },
        {
          "name": "stderr",
          "output_type": "stream",
          "text": [
            "[Parallel(n_jobs=1)]: Using backend SequentialBackend with 1 concurrent workers.\n"
          ]
        },
        {
          "name": "stdout",
          "output_type": "stream",
          "text": [
            "[CV]  n_estimators=300, min_samples_leaf=16, max_depth=230, score=0.211, total=   1.8s\n",
            "[CV] n_estimators=300, min_samples_leaf=16, max_depth=230 ............\n"
          ]
        },
        {
          "name": "stderr",
          "output_type": "stream",
          "text": [
            "[Parallel(n_jobs=1)]: Done   1 out of   1 | elapsed:    1.8s remaining:    0.0s\n"
          ]
        },
        {
          "name": "stdout",
          "output_type": "stream",
          "text": [
            "[CV]  n_estimators=300, min_samples_leaf=16, max_depth=230, score=0.229, total=   1.8s\n",
            "[CV] n_estimators=300, min_samples_leaf=16, max_depth=230 ............\n"
          ]
        },
        {
          "name": "stderr",
          "output_type": "stream",
          "text": [
            "[Parallel(n_jobs=1)]: Done   2 out of   2 | elapsed:    3.6s remaining:    0.0s\n"
          ]
        },
        {
          "ename": "KeyboardInterrupt",
          "evalue": "",
          "output_type": "error",
          "traceback": [
            "\u001b[0;31m---------------------------------------------------------------------------\u001b[0m",
            "\u001b[0;31mKeyboardInterrupt\u001b[0m                         Traceback (most recent call last)",
            "\u001b[0;32m<ipython-input-25-9b1c14a36cb6>\u001b[0m in \u001b[0;36m<module>\u001b[0;34m\u001b[0m\n\u001b[1;32m     10\u001b[0m \u001b[0;31m#gsrf = GridSearchCV(reg_rf, param_grid, verbose=3)\u001b[0m\u001b[0;34m\u001b[0m\u001b[0;34m\u001b[0m\u001b[0;34m\u001b[0m\u001b[0m\n\u001b[1;32m     11\u001b[0m \u001b[0mrsrf\u001b[0m \u001b[0;34m=\u001b[0m \u001b[0mRandomizedSearchCV\u001b[0m\u001b[0;34m(\u001b[0m\u001b[0mreg_rf\u001b[0m\u001b[0;34m,\u001b[0m \u001b[0mparam_grid\u001b[0m\u001b[0;34m,\u001b[0m \u001b[0mverbose\u001b[0m\u001b[0;34m=\u001b[0m\u001b[0;36m3\u001b[0m\u001b[0;34m,\u001b[0m \u001b[0mn_iter\u001b[0m\u001b[0;34m=\u001b[0m\u001b[0;36m25\u001b[0m\u001b[0;34m,\u001b[0m \u001b[0mrandom_state\u001b[0m\u001b[0;34m=\u001b[0m\u001b[0;36m42\u001b[0m\u001b[0;34m,\u001b[0m \u001b[0mscoring\u001b[0m\u001b[0;34m=\u001b[0m\u001b[0;34m\"f1\"\u001b[0m\u001b[0;34m)\u001b[0m\u001b[0;34m\u001b[0m\u001b[0;34m\u001b[0m\u001b[0m\n\u001b[0;32m---> 12\u001b[0;31m \u001b[0mrsrf\u001b[0m\u001b[0;34m.\u001b[0m\u001b[0mfit\u001b[0m\u001b[0;34m(\u001b[0m\u001b[0mdf_listo\u001b[0m\u001b[0;34m,\u001b[0m \u001b[0mdf\u001b[0m\u001b[0;34m.\u001b[0m\u001b[0mstroke\u001b[0m\u001b[0;34m)\u001b[0m\u001b[0;34m\u001b[0m\u001b[0;34m\u001b[0m\u001b[0m\n\u001b[0m\u001b[1;32m     13\u001b[0m \u001b[0;31m#ypred_gsrf = cross_val_predict(gsrf.best_estimator_, _train_scaled, t_train)\u001b[0m\u001b[0;34m\u001b[0m\u001b[0;34m\u001b[0m\u001b[0;34m\u001b[0m\u001b[0m\n",
            "\u001b[0;32m~/anaconda3/lib/python3.7/site-packages/sklearn/model_selection/_search.py\u001b[0m in \u001b[0;36mfit\u001b[0;34m(self, X, y, groups, **fit_params)\u001b[0m\n\u001b[1;32m    708\u001b[0m                 \u001b[0;32mreturn\u001b[0m \u001b[0mresults\u001b[0m\u001b[0;34m\u001b[0m\u001b[0;34m\u001b[0m\u001b[0m\n\u001b[1;32m    709\u001b[0m \u001b[0;34m\u001b[0m\u001b[0m\n\u001b[0;32m--> 710\u001b[0;31m             \u001b[0mself\u001b[0m\u001b[0;34m.\u001b[0m\u001b[0m_run_search\u001b[0m\u001b[0;34m(\u001b[0m\u001b[0mevaluate_candidates\u001b[0m\u001b[0;34m)\u001b[0m\u001b[0;34m\u001b[0m\u001b[0;34m\u001b[0m\u001b[0m\n\u001b[0m\u001b[1;32m    711\u001b[0m \u001b[0;34m\u001b[0m\u001b[0m\n\u001b[1;32m    712\u001b[0m         \u001b[0;31m# For multi-metric evaluation, store the best_index_, best_params_ and\u001b[0m\u001b[0;34m\u001b[0m\u001b[0;34m\u001b[0m\u001b[0;34m\u001b[0m\u001b[0m\n",
            "\u001b[0;32m~/anaconda3/lib/python3.7/site-packages/sklearn/model_selection/_search.py\u001b[0m in \u001b[0;36m_run_search\u001b[0;34m(self, evaluate_candidates)\u001b[0m\n\u001b[1;32m   1482\u001b[0m         evaluate_candidates(ParameterSampler(\n\u001b[1;32m   1483\u001b[0m             \u001b[0mself\u001b[0m\u001b[0;34m.\u001b[0m\u001b[0mparam_distributions\u001b[0m\u001b[0;34m,\u001b[0m \u001b[0mself\u001b[0m\u001b[0;34m.\u001b[0m\u001b[0mn_iter\u001b[0m\u001b[0;34m,\u001b[0m\u001b[0;34m\u001b[0m\u001b[0;34m\u001b[0m\u001b[0m\n\u001b[0;32m-> 1484\u001b[0;31m             random_state=self.random_state))\n\u001b[0m",
            "\u001b[0;32m~/anaconda3/lib/python3.7/site-packages/sklearn/model_selection/_search.py\u001b[0m in \u001b[0;36mevaluate_candidates\u001b[0;34m(candidate_params)\u001b[0m\n\u001b[1;32m    687\u001b[0m                                \u001b[0;32mfor\u001b[0m \u001b[0mparameters\u001b[0m\u001b[0;34m,\u001b[0m \u001b[0;34m(\u001b[0m\u001b[0mtrain\u001b[0m\u001b[0;34m,\u001b[0m \u001b[0mtest\u001b[0m\u001b[0;34m)\u001b[0m\u001b[0;34m\u001b[0m\u001b[0;34m\u001b[0m\u001b[0m\n\u001b[1;32m    688\u001b[0m                                in product(candidate_params,\n\u001b[0;32m--> 689\u001b[0;31m                                           cv.split(X, y, groups)))\n\u001b[0m\u001b[1;32m    690\u001b[0m \u001b[0;34m\u001b[0m\u001b[0m\n\u001b[1;32m    691\u001b[0m                 \u001b[0;32mif\u001b[0m \u001b[0mlen\u001b[0m\u001b[0;34m(\u001b[0m\u001b[0mout\u001b[0m\u001b[0;34m)\u001b[0m \u001b[0;34m<\u001b[0m \u001b[0;36m1\u001b[0m\u001b[0;34m:\u001b[0m\u001b[0;34m\u001b[0m\u001b[0;34m\u001b[0m\u001b[0m\n",
            "\u001b[0;32m~/anaconda3/lib/python3.7/site-packages/joblib/parallel.py\u001b[0m in \u001b[0;36m__call__\u001b[0;34m(self, iterable)\u001b[0m\n\u001b[1;32m   1005\u001b[0m                 \u001b[0mself\u001b[0m\u001b[0;34m.\u001b[0m\u001b[0m_iterating\u001b[0m \u001b[0;34m=\u001b[0m \u001b[0mself\u001b[0m\u001b[0;34m.\u001b[0m\u001b[0m_original_iterator\u001b[0m \u001b[0;32mis\u001b[0m \u001b[0;32mnot\u001b[0m \u001b[0;32mNone\u001b[0m\u001b[0;34m\u001b[0m\u001b[0;34m\u001b[0m\u001b[0m\n\u001b[1;32m   1006\u001b[0m \u001b[0;34m\u001b[0m\u001b[0m\n\u001b[0;32m-> 1007\u001b[0;31m             \u001b[0;32mwhile\u001b[0m \u001b[0mself\u001b[0m\u001b[0;34m.\u001b[0m\u001b[0mdispatch_one_batch\u001b[0m\u001b[0;34m(\u001b[0m\u001b[0miterator\u001b[0m\u001b[0;34m)\u001b[0m\u001b[0;34m:\u001b[0m\u001b[0;34m\u001b[0m\u001b[0;34m\u001b[0m\u001b[0m\n\u001b[0m\u001b[1;32m   1008\u001b[0m                 \u001b[0;32mpass\u001b[0m\u001b[0;34m\u001b[0m\u001b[0;34m\u001b[0m\u001b[0m\n\u001b[1;32m   1009\u001b[0m \u001b[0;34m\u001b[0m\u001b[0m\n",
            "\u001b[0;32m~/anaconda3/lib/python3.7/site-packages/joblib/parallel.py\u001b[0m in \u001b[0;36mdispatch_one_batch\u001b[0;34m(self, iterator)\u001b[0m\n\u001b[1;32m    833\u001b[0m                 \u001b[0;32mreturn\u001b[0m \u001b[0;32mFalse\u001b[0m\u001b[0;34m\u001b[0m\u001b[0;34m\u001b[0m\u001b[0m\n\u001b[1;32m    834\u001b[0m             \u001b[0;32melse\u001b[0m\u001b[0;34m:\u001b[0m\u001b[0;34m\u001b[0m\u001b[0;34m\u001b[0m\u001b[0m\n\u001b[0;32m--> 835\u001b[0;31m                 \u001b[0mself\u001b[0m\u001b[0;34m.\u001b[0m\u001b[0m_dispatch\u001b[0m\u001b[0;34m(\u001b[0m\u001b[0mtasks\u001b[0m\u001b[0;34m)\u001b[0m\u001b[0;34m\u001b[0m\u001b[0;34m\u001b[0m\u001b[0m\n\u001b[0m\u001b[1;32m    836\u001b[0m                 \u001b[0;32mreturn\u001b[0m \u001b[0;32mTrue\u001b[0m\u001b[0;34m\u001b[0m\u001b[0;34m\u001b[0m\u001b[0m\n\u001b[1;32m    837\u001b[0m \u001b[0;34m\u001b[0m\u001b[0m\n",
            "\u001b[0;32m~/anaconda3/lib/python3.7/site-packages/joblib/parallel.py\u001b[0m in \u001b[0;36m_dispatch\u001b[0;34m(self, batch)\u001b[0m\n\u001b[1;32m    752\u001b[0m         \u001b[0;32mwith\u001b[0m \u001b[0mself\u001b[0m\u001b[0;34m.\u001b[0m\u001b[0m_lock\u001b[0m\u001b[0;34m:\u001b[0m\u001b[0;34m\u001b[0m\u001b[0;34m\u001b[0m\u001b[0m\n\u001b[1;32m    753\u001b[0m             \u001b[0mjob_idx\u001b[0m \u001b[0;34m=\u001b[0m \u001b[0mlen\u001b[0m\u001b[0;34m(\u001b[0m\u001b[0mself\u001b[0m\u001b[0;34m.\u001b[0m\u001b[0m_jobs\u001b[0m\u001b[0;34m)\u001b[0m\u001b[0;34m\u001b[0m\u001b[0;34m\u001b[0m\u001b[0m\n\u001b[0;32m--> 754\u001b[0;31m             \u001b[0mjob\u001b[0m \u001b[0;34m=\u001b[0m \u001b[0mself\u001b[0m\u001b[0;34m.\u001b[0m\u001b[0m_backend\u001b[0m\u001b[0;34m.\u001b[0m\u001b[0mapply_async\u001b[0m\u001b[0;34m(\u001b[0m\u001b[0mbatch\u001b[0m\u001b[0;34m,\u001b[0m \u001b[0mcallback\u001b[0m\u001b[0;34m=\u001b[0m\u001b[0mcb\u001b[0m\u001b[0;34m)\u001b[0m\u001b[0;34m\u001b[0m\u001b[0;34m\u001b[0m\u001b[0m\n\u001b[0m\u001b[1;32m    755\u001b[0m             \u001b[0;31m# A job can complete so quickly than its callback is\u001b[0m\u001b[0;34m\u001b[0m\u001b[0;34m\u001b[0m\u001b[0;34m\u001b[0m\u001b[0m\n\u001b[1;32m    756\u001b[0m             \u001b[0;31m# called before we get here, causing self._jobs to\u001b[0m\u001b[0;34m\u001b[0m\u001b[0;34m\u001b[0m\u001b[0;34m\u001b[0m\u001b[0m\n",
            "\u001b[0;32m~/anaconda3/lib/python3.7/site-packages/joblib/_parallel_backends.py\u001b[0m in \u001b[0;36mapply_async\u001b[0;34m(self, func, callback)\u001b[0m\n\u001b[1;32m    207\u001b[0m     \u001b[0;32mdef\u001b[0m \u001b[0mapply_async\u001b[0m\u001b[0;34m(\u001b[0m\u001b[0mself\u001b[0m\u001b[0;34m,\u001b[0m \u001b[0mfunc\u001b[0m\u001b[0;34m,\u001b[0m \u001b[0mcallback\u001b[0m\u001b[0;34m=\u001b[0m\u001b[0;32mNone\u001b[0m\u001b[0;34m)\u001b[0m\u001b[0;34m:\u001b[0m\u001b[0;34m\u001b[0m\u001b[0;34m\u001b[0m\u001b[0m\n\u001b[1;32m    208\u001b[0m         \u001b[0;34m\"\"\"Schedule a func to be run\"\"\"\u001b[0m\u001b[0;34m\u001b[0m\u001b[0;34m\u001b[0m\u001b[0m\n\u001b[0;32m--> 209\u001b[0;31m         \u001b[0mresult\u001b[0m \u001b[0;34m=\u001b[0m \u001b[0mImmediateResult\u001b[0m\u001b[0;34m(\u001b[0m\u001b[0mfunc\u001b[0m\u001b[0;34m)\u001b[0m\u001b[0;34m\u001b[0m\u001b[0;34m\u001b[0m\u001b[0m\n\u001b[0m\u001b[1;32m    210\u001b[0m         \u001b[0;32mif\u001b[0m \u001b[0mcallback\u001b[0m\u001b[0;34m:\u001b[0m\u001b[0;34m\u001b[0m\u001b[0;34m\u001b[0m\u001b[0m\n\u001b[1;32m    211\u001b[0m             \u001b[0mcallback\u001b[0m\u001b[0;34m(\u001b[0m\u001b[0mresult\u001b[0m\u001b[0;34m)\u001b[0m\u001b[0;34m\u001b[0m\u001b[0;34m\u001b[0m\u001b[0m\n",
            "\u001b[0;32m~/anaconda3/lib/python3.7/site-packages/joblib/_parallel_backends.py\u001b[0m in \u001b[0;36m__init__\u001b[0;34m(self, batch)\u001b[0m\n\u001b[1;32m    588\u001b[0m         \u001b[0;31m# Don't delay the application, to avoid keeping the input\u001b[0m\u001b[0;34m\u001b[0m\u001b[0;34m\u001b[0m\u001b[0;34m\u001b[0m\u001b[0m\n\u001b[1;32m    589\u001b[0m         \u001b[0;31m# arguments in memory\u001b[0m\u001b[0;34m\u001b[0m\u001b[0;34m\u001b[0m\u001b[0;34m\u001b[0m\u001b[0m\n\u001b[0;32m--> 590\u001b[0;31m         \u001b[0mself\u001b[0m\u001b[0;34m.\u001b[0m\u001b[0mresults\u001b[0m \u001b[0;34m=\u001b[0m \u001b[0mbatch\u001b[0m\u001b[0;34m(\u001b[0m\u001b[0;34m)\u001b[0m\u001b[0;34m\u001b[0m\u001b[0;34m\u001b[0m\u001b[0m\n\u001b[0m\u001b[1;32m    591\u001b[0m \u001b[0;34m\u001b[0m\u001b[0m\n\u001b[1;32m    592\u001b[0m     \u001b[0;32mdef\u001b[0m \u001b[0mget\u001b[0m\u001b[0;34m(\u001b[0m\u001b[0mself\u001b[0m\u001b[0;34m)\u001b[0m\u001b[0;34m:\u001b[0m\u001b[0;34m\u001b[0m\u001b[0;34m\u001b[0m\u001b[0m\n",
            "\u001b[0;32m~/anaconda3/lib/python3.7/site-packages/joblib/parallel.py\u001b[0m in \u001b[0;36m__call__\u001b[0;34m(self)\u001b[0m\n\u001b[1;32m    254\u001b[0m         \u001b[0;32mwith\u001b[0m \u001b[0mparallel_backend\u001b[0m\u001b[0;34m(\u001b[0m\u001b[0mself\u001b[0m\u001b[0;34m.\u001b[0m\u001b[0m_backend\u001b[0m\u001b[0;34m,\u001b[0m \u001b[0mn_jobs\u001b[0m\u001b[0;34m=\u001b[0m\u001b[0mself\u001b[0m\u001b[0;34m.\u001b[0m\u001b[0m_n_jobs\u001b[0m\u001b[0;34m)\u001b[0m\u001b[0;34m:\u001b[0m\u001b[0;34m\u001b[0m\u001b[0;34m\u001b[0m\u001b[0m\n\u001b[1;32m    255\u001b[0m             return [func(*args, **kwargs)\n\u001b[0;32m--> 256\u001b[0;31m                     for func, args, kwargs in self.items]\n\u001b[0m\u001b[1;32m    257\u001b[0m \u001b[0;34m\u001b[0m\u001b[0m\n\u001b[1;32m    258\u001b[0m     \u001b[0;32mdef\u001b[0m \u001b[0m__len__\u001b[0m\u001b[0;34m(\u001b[0m\u001b[0mself\u001b[0m\u001b[0;34m)\u001b[0m\u001b[0;34m:\u001b[0m\u001b[0;34m\u001b[0m\u001b[0;34m\u001b[0m\u001b[0m\n",
            "\u001b[0;32m~/anaconda3/lib/python3.7/site-packages/joblib/parallel.py\u001b[0m in \u001b[0;36m<listcomp>\u001b[0;34m(.0)\u001b[0m\n\u001b[1;32m    254\u001b[0m         \u001b[0;32mwith\u001b[0m \u001b[0mparallel_backend\u001b[0m\u001b[0;34m(\u001b[0m\u001b[0mself\u001b[0m\u001b[0;34m.\u001b[0m\u001b[0m_backend\u001b[0m\u001b[0;34m,\u001b[0m \u001b[0mn_jobs\u001b[0m\u001b[0;34m=\u001b[0m\u001b[0mself\u001b[0m\u001b[0;34m.\u001b[0m\u001b[0m_n_jobs\u001b[0m\u001b[0;34m)\u001b[0m\u001b[0;34m:\u001b[0m\u001b[0;34m\u001b[0m\u001b[0;34m\u001b[0m\u001b[0m\n\u001b[1;32m    255\u001b[0m             return [func(*args, **kwargs)\n\u001b[0;32m--> 256\u001b[0;31m                     for func, args, kwargs in self.items]\n\u001b[0m\u001b[1;32m    257\u001b[0m \u001b[0;34m\u001b[0m\u001b[0m\n\u001b[1;32m    258\u001b[0m     \u001b[0;32mdef\u001b[0m \u001b[0m__len__\u001b[0m\u001b[0;34m(\u001b[0m\u001b[0mself\u001b[0m\u001b[0;34m)\u001b[0m\u001b[0;34m:\u001b[0m\u001b[0;34m\u001b[0m\u001b[0;34m\u001b[0m\u001b[0m\n",
            "\u001b[0;32m~/anaconda3/lib/python3.7/site-packages/sklearn/model_selection/_validation.py\u001b[0m in \u001b[0;36m_fit_and_score\u001b[0;34m(estimator, X, y, scorer, train, test, verbose, parameters, fit_params, return_train_score, return_parameters, return_n_test_samples, return_times, return_estimator, error_score)\u001b[0m\n\u001b[1;32m    513\u001b[0m             \u001b[0mestimator\u001b[0m\u001b[0;34m.\u001b[0m\u001b[0mfit\u001b[0m\u001b[0;34m(\u001b[0m\u001b[0mX_train\u001b[0m\u001b[0;34m,\u001b[0m \u001b[0;34m**\u001b[0m\u001b[0mfit_params\u001b[0m\u001b[0;34m)\u001b[0m\u001b[0;34m\u001b[0m\u001b[0;34m\u001b[0m\u001b[0m\n\u001b[1;32m    514\u001b[0m         \u001b[0;32melse\u001b[0m\u001b[0;34m:\u001b[0m\u001b[0;34m\u001b[0m\u001b[0;34m\u001b[0m\u001b[0m\n\u001b[0;32m--> 515\u001b[0;31m             \u001b[0mestimator\u001b[0m\u001b[0;34m.\u001b[0m\u001b[0mfit\u001b[0m\u001b[0;34m(\u001b[0m\u001b[0mX_train\u001b[0m\u001b[0;34m,\u001b[0m \u001b[0my_train\u001b[0m\u001b[0;34m,\u001b[0m \u001b[0;34m**\u001b[0m\u001b[0mfit_params\u001b[0m\u001b[0;34m)\u001b[0m\u001b[0;34m\u001b[0m\u001b[0;34m\u001b[0m\u001b[0m\n\u001b[0m\u001b[1;32m    516\u001b[0m \u001b[0;34m\u001b[0m\u001b[0m\n\u001b[1;32m    517\u001b[0m     \u001b[0;32mexcept\u001b[0m \u001b[0mException\u001b[0m \u001b[0;32mas\u001b[0m \u001b[0me\u001b[0m\u001b[0;34m:\u001b[0m\u001b[0;34m\u001b[0m\u001b[0;34m\u001b[0m\u001b[0m\n",
            "\u001b[0;32m~/anaconda3/lib/python3.7/site-packages/sklearn/ensemble/_forest.py\u001b[0m in \u001b[0;36mfit\u001b[0;34m(self, X, y, sample_weight)\u001b[0m\n\u001b[1;32m    367\u001b[0m             trees = [self._make_estimator(append=False,\n\u001b[1;32m    368\u001b[0m                                           random_state=random_state)\n\u001b[0;32m--> 369\u001b[0;31m                      for i in range(n_more_estimators)]\n\u001b[0m\u001b[1;32m    370\u001b[0m \u001b[0;34m\u001b[0m\u001b[0m\n\u001b[1;32m    371\u001b[0m             \u001b[0;31m# Parallel loop: we prefer the threading backend as the Cython code\u001b[0m\u001b[0;34m\u001b[0m\u001b[0;34m\u001b[0m\u001b[0;34m\u001b[0m\u001b[0m\n",
            "\u001b[0;32m~/anaconda3/lib/python3.7/site-packages/sklearn/ensemble/_forest.py\u001b[0m in \u001b[0;36m<listcomp>\u001b[0;34m(.0)\u001b[0m\n\u001b[1;32m    367\u001b[0m             trees = [self._make_estimator(append=False,\n\u001b[1;32m    368\u001b[0m                                           random_state=random_state)\n\u001b[0;32m--> 369\u001b[0;31m                      for i in range(n_more_estimators)]\n\u001b[0m\u001b[1;32m    370\u001b[0m \u001b[0;34m\u001b[0m\u001b[0m\n\u001b[1;32m    371\u001b[0m             \u001b[0;31m# Parallel loop: we prefer the threading backend as the Cython code\u001b[0m\u001b[0;34m\u001b[0m\u001b[0;34m\u001b[0m\u001b[0;34m\u001b[0m\u001b[0m\n",
            "\u001b[0;32m~/anaconda3/lib/python3.7/site-packages/sklearn/ensemble/_base.py\u001b[0m in \u001b[0;36m_make_estimator\u001b[0;34m(self, append, random_state)\u001b[0m\n\u001b[1;32m    147\u001b[0m         \u001b[0mestimator\u001b[0m \u001b[0;34m=\u001b[0m \u001b[0mclone\u001b[0m\u001b[0;34m(\u001b[0m\u001b[0mself\u001b[0m\u001b[0;34m.\u001b[0m\u001b[0mbase_estimator_\u001b[0m\u001b[0;34m)\u001b[0m\u001b[0;34m\u001b[0m\u001b[0;34m\u001b[0m\u001b[0m\n\u001b[1;32m    148\u001b[0m         estimator.set_params(**{p: getattr(self, p)\n\u001b[0;32m--> 149\u001b[0;31m                                 for p in self.estimator_params})\n\u001b[0m\u001b[1;32m    150\u001b[0m \u001b[0;34m\u001b[0m\u001b[0m\n\u001b[1;32m    151\u001b[0m         \u001b[0;32mif\u001b[0m \u001b[0mrandom_state\u001b[0m \u001b[0;32mis\u001b[0m \u001b[0;32mnot\u001b[0m \u001b[0;32mNone\u001b[0m\u001b[0;34m:\u001b[0m\u001b[0;34m\u001b[0m\u001b[0;34m\u001b[0m\u001b[0m\n",
            "\u001b[0;32m~/anaconda3/lib/python3.7/site-packages/sklearn/base.py\u001b[0m in \u001b[0;36mset_params\u001b[0;34m(self, **params)\u001b[0m\n\u001b[1;32m    225\u001b[0m             \u001b[0;31m# Simple optimization to gain speed (inspect is slow)\u001b[0m\u001b[0;34m\u001b[0m\u001b[0;34m\u001b[0m\u001b[0;34m\u001b[0m\u001b[0m\n\u001b[1;32m    226\u001b[0m             \u001b[0;32mreturn\u001b[0m \u001b[0mself\u001b[0m\u001b[0;34m\u001b[0m\u001b[0;34m\u001b[0m\u001b[0m\n\u001b[0;32m--> 227\u001b[0;31m         \u001b[0mvalid_params\u001b[0m \u001b[0;34m=\u001b[0m \u001b[0mself\u001b[0m\u001b[0;34m.\u001b[0m\u001b[0mget_params\u001b[0m\u001b[0;34m(\u001b[0m\u001b[0mdeep\u001b[0m\u001b[0;34m=\u001b[0m\u001b[0;32mTrue\u001b[0m\u001b[0;34m)\u001b[0m\u001b[0;34m\u001b[0m\u001b[0;34m\u001b[0m\u001b[0m\n\u001b[0m\u001b[1;32m    228\u001b[0m \u001b[0;34m\u001b[0m\u001b[0m\n\u001b[1;32m    229\u001b[0m         \u001b[0mnested_params\u001b[0m \u001b[0;34m=\u001b[0m \u001b[0mdefaultdict\u001b[0m\u001b[0;34m(\u001b[0m\u001b[0mdict\u001b[0m\u001b[0;34m)\u001b[0m  \u001b[0;31m# grouped by prefix\u001b[0m\u001b[0;34m\u001b[0m\u001b[0;34m\u001b[0m\u001b[0m\n",
            "\u001b[0;32m~/anaconda3/lib/python3.7/site-packages/sklearn/base.py\u001b[0m in \u001b[0;36mget_params\u001b[0;34m(self, deep)\u001b[0m\n\u001b[1;32m    187\u001b[0m         \"\"\"\n\u001b[1;32m    188\u001b[0m         \u001b[0mout\u001b[0m \u001b[0;34m=\u001b[0m \u001b[0mdict\u001b[0m\u001b[0;34m(\u001b[0m\u001b[0;34m)\u001b[0m\u001b[0;34m\u001b[0m\u001b[0;34m\u001b[0m\u001b[0m\n\u001b[0;32m--> 189\u001b[0;31m         \u001b[0;32mfor\u001b[0m \u001b[0mkey\u001b[0m \u001b[0;32min\u001b[0m \u001b[0mself\u001b[0m\u001b[0;34m.\u001b[0m\u001b[0m_get_param_names\u001b[0m\u001b[0;34m(\u001b[0m\u001b[0;34m)\u001b[0m\u001b[0;34m:\u001b[0m\u001b[0;34m\u001b[0m\u001b[0;34m\u001b[0m\u001b[0m\n\u001b[0m\u001b[1;32m    190\u001b[0m             \u001b[0;32mtry\u001b[0m\u001b[0;34m:\u001b[0m\u001b[0;34m\u001b[0m\u001b[0;34m\u001b[0m\u001b[0m\n\u001b[1;32m    191\u001b[0m                 \u001b[0mvalue\u001b[0m \u001b[0;34m=\u001b[0m \u001b[0mgetattr\u001b[0m\u001b[0;34m(\u001b[0m\u001b[0mself\u001b[0m\u001b[0;34m,\u001b[0m \u001b[0mkey\u001b[0m\u001b[0;34m)\u001b[0m\u001b[0;34m\u001b[0m\u001b[0;34m\u001b[0m\u001b[0m\n",
            "\u001b[0;32m~/anaconda3/lib/python3.7/site-packages/sklearn/base.py\u001b[0m in \u001b[0;36m_get_param_names\u001b[0;34m(cls)\u001b[0m\n\u001b[1;32m    156\u001b[0m         \u001b[0;31m# introspect the constructor arguments to find the model parameters\u001b[0m\u001b[0;34m\u001b[0m\u001b[0;34m\u001b[0m\u001b[0;34m\u001b[0m\u001b[0m\n\u001b[1;32m    157\u001b[0m         \u001b[0;31m# to represent\u001b[0m\u001b[0;34m\u001b[0m\u001b[0;34m\u001b[0m\u001b[0;34m\u001b[0m\u001b[0m\n\u001b[0;32m--> 158\u001b[0;31m         \u001b[0minit_signature\u001b[0m \u001b[0;34m=\u001b[0m \u001b[0minspect\u001b[0m\u001b[0;34m.\u001b[0m\u001b[0msignature\u001b[0m\u001b[0;34m(\u001b[0m\u001b[0minit\u001b[0m\u001b[0;34m)\u001b[0m\u001b[0;34m\u001b[0m\u001b[0;34m\u001b[0m\u001b[0m\n\u001b[0m\u001b[1;32m    159\u001b[0m         \u001b[0;31m# Consider the constructor parameters excluding 'self'\u001b[0m\u001b[0;34m\u001b[0m\u001b[0;34m\u001b[0m\u001b[0;34m\u001b[0m\u001b[0m\n\u001b[1;32m    160\u001b[0m         parameters = [p for p in init_signature.parameters.values()\n",
            "\u001b[0;32m~/anaconda3/lib/python3.7/inspect.py\u001b[0m in \u001b[0;36msignature\u001b[0;34m(obj, follow_wrapped)\u001b[0m\n\u001b[1;32m   3081\u001b[0m \u001b[0;32mdef\u001b[0m \u001b[0msignature\u001b[0m\u001b[0;34m(\u001b[0m\u001b[0mobj\u001b[0m\u001b[0;34m,\u001b[0m \u001b[0;34m*\u001b[0m\u001b[0;34m,\u001b[0m \u001b[0mfollow_wrapped\u001b[0m\u001b[0;34m=\u001b[0m\u001b[0;32mTrue\u001b[0m\u001b[0;34m)\u001b[0m\u001b[0;34m:\u001b[0m\u001b[0;34m\u001b[0m\u001b[0;34m\u001b[0m\u001b[0m\n\u001b[1;32m   3082\u001b[0m     \u001b[0;34m\"\"\"Get a signature object for the passed callable.\"\"\"\u001b[0m\u001b[0;34m\u001b[0m\u001b[0;34m\u001b[0m\u001b[0m\n\u001b[0;32m-> 3083\u001b[0;31m     \u001b[0;32mreturn\u001b[0m \u001b[0mSignature\u001b[0m\u001b[0;34m.\u001b[0m\u001b[0mfrom_callable\u001b[0m\u001b[0;34m(\u001b[0m\u001b[0mobj\u001b[0m\u001b[0;34m,\u001b[0m \u001b[0mfollow_wrapped\u001b[0m\u001b[0;34m=\u001b[0m\u001b[0mfollow_wrapped\u001b[0m\u001b[0;34m)\u001b[0m\u001b[0;34m\u001b[0m\u001b[0;34m\u001b[0m\u001b[0m\n\u001b[0m\u001b[1;32m   3084\u001b[0m \u001b[0;34m\u001b[0m\u001b[0m\n\u001b[1;32m   3085\u001b[0m \u001b[0;34m\u001b[0m\u001b[0m\n",
            "\u001b[0;32m~/anaconda3/lib/python3.7/inspect.py\u001b[0m in \u001b[0;36mfrom_callable\u001b[0;34m(cls, obj, follow_wrapped)\u001b[0m\n\u001b[1;32m   2831\u001b[0m         \u001b[0;34m\"\"\"Constructs Signature for the given callable object.\"\"\"\u001b[0m\u001b[0;34m\u001b[0m\u001b[0;34m\u001b[0m\u001b[0m\n\u001b[1;32m   2832\u001b[0m         return _signature_from_callable(obj, sigcls=cls,\n\u001b[0;32m-> 2833\u001b[0;31m                                         follow_wrapper_chains=follow_wrapped)\n\u001b[0m\u001b[1;32m   2834\u001b[0m \u001b[0;34m\u001b[0m\u001b[0m\n\u001b[1;32m   2835\u001b[0m     \u001b[0;34m@\u001b[0m\u001b[0mproperty\u001b[0m\u001b[0;34m\u001b[0m\u001b[0;34m\u001b[0m\u001b[0m\n",
            "\u001b[0;32m~/anaconda3/lib/python3.7/inspect.py\u001b[0m in \u001b[0;36m_signature_from_callable\u001b[0;34m(obj, follow_wrapper_chains, skip_bound_arg, sigcls)\u001b[0m\n\u001b[1;32m   2224\u001b[0m     \u001b[0;31m# Was this function wrapped by a decorator?\u001b[0m\u001b[0;34m\u001b[0m\u001b[0;34m\u001b[0m\u001b[0;34m\u001b[0m\u001b[0m\n\u001b[1;32m   2225\u001b[0m     \u001b[0;32mif\u001b[0m \u001b[0mfollow_wrapper_chains\u001b[0m\u001b[0;34m:\u001b[0m\u001b[0;34m\u001b[0m\u001b[0;34m\u001b[0m\u001b[0m\n\u001b[0;32m-> 2226\u001b[0;31m         \u001b[0mobj\u001b[0m \u001b[0;34m=\u001b[0m \u001b[0munwrap\u001b[0m\u001b[0;34m(\u001b[0m\u001b[0mobj\u001b[0m\u001b[0;34m,\u001b[0m \u001b[0mstop\u001b[0m\u001b[0;34m=\u001b[0m\u001b[0;34m(\u001b[0m\u001b[0;32mlambda\u001b[0m \u001b[0mf\u001b[0m\u001b[0;34m:\u001b[0m \u001b[0mhasattr\u001b[0m\u001b[0;34m(\u001b[0m\u001b[0mf\u001b[0m\u001b[0;34m,\u001b[0m \u001b[0;34m\"__signature__\"\u001b[0m\u001b[0;34m)\u001b[0m\u001b[0;34m)\u001b[0m\u001b[0;34m)\u001b[0m\u001b[0;34m\u001b[0m\u001b[0;34m\u001b[0m\u001b[0m\n\u001b[0m\u001b[1;32m   2227\u001b[0m         \u001b[0;32mif\u001b[0m \u001b[0misinstance\u001b[0m\u001b[0;34m(\u001b[0m\u001b[0mobj\u001b[0m\u001b[0;34m,\u001b[0m \u001b[0mtypes\u001b[0m\u001b[0;34m.\u001b[0m\u001b[0mMethodType\u001b[0m\u001b[0;34m)\u001b[0m\u001b[0;34m:\u001b[0m\u001b[0;34m\u001b[0m\u001b[0;34m\u001b[0m\u001b[0m\n\u001b[1;32m   2228\u001b[0m             \u001b[0;31m# If the unwrapped object is a *method*, we might want to\u001b[0m\u001b[0;34m\u001b[0m\u001b[0;34m\u001b[0m\u001b[0;34m\u001b[0m\u001b[0m\n",
            "\u001b[0;32m~/anaconda3/lib/python3.7/inspect.py\u001b[0m in \u001b[0;36munwrap\u001b[0;34m(func, stop)\u001b[0m\n\u001b[1;32m    509\u001b[0m     \u001b[0mmemo\u001b[0m \u001b[0;34m=\u001b[0m \u001b[0;34m{\u001b[0m\u001b[0mid\u001b[0m\u001b[0;34m(\u001b[0m\u001b[0mf\u001b[0m\u001b[0;34m)\u001b[0m\u001b[0;34m:\u001b[0m \u001b[0mf\u001b[0m\u001b[0;34m}\u001b[0m\u001b[0;34m\u001b[0m\u001b[0;34m\u001b[0m\u001b[0m\n\u001b[1;32m    510\u001b[0m     \u001b[0mrecursion_limit\u001b[0m \u001b[0;34m=\u001b[0m \u001b[0msys\u001b[0m\u001b[0;34m.\u001b[0m\u001b[0mgetrecursionlimit\u001b[0m\u001b[0;34m(\u001b[0m\u001b[0;34m)\u001b[0m\u001b[0;34m\u001b[0m\u001b[0;34m\u001b[0m\u001b[0m\n\u001b[0;32m--> 511\u001b[0;31m     \u001b[0;32mwhile\u001b[0m \u001b[0m_is_wrapper\u001b[0m\u001b[0;34m(\u001b[0m\u001b[0mfunc\u001b[0m\u001b[0;34m)\u001b[0m\u001b[0;34m:\u001b[0m\u001b[0;34m\u001b[0m\u001b[0;34m\u001b[0m\u001b[0m\n\u001b[0m\u001b[1;32m    512\u001b[0m         \u001b[0mfunc\u001b[0m \u001b[0;34m=\u001b[0m \u001b[0mfunc\u001b[0m\u001b[0;34m.\u001b[0m\u001b[0m__wrapped__\u001b[0m\u001b[0;34m\u001b[0m\u001b[0;34m\u001b[0m\u001b[0m\n\u001b[1;32m    513\u001b[0m         \u001b[0mid_func\u001b[0m \u001b[0;34m=\u001b[0m \u001b[0mid\u001b[0m\u001b[0;34m(\u001b[0m\u001b[0mfunc\u001b[0m\u001b[0;34m)\u001b[0m\u001b[0;34m\u001b[0m\u001b[0;34m\u001b[0m\u001b[0m\n",
            "\u001b[0;32m~/anaconda3/lib/python3.7/inspect.py\u001b[0m in \u001b[0;36m_is_wrapper\u001b[0;34m(f)\u001b[0m\n\u001b[1;32m    502\u001b[0m             \u001b[0;32mreturn\u001b[0m \u001b[0mhasattr\u001b[0m\u001b[0;34m(\u001b[0m\u001b[0mf\u001b[0m\u001b[0;34m,\u001b[0m \u001b[0;34m'__wrapped__'\u001b[0m\u001b[0;34m)\u001b[0m\u001b[0;34m\u001b[0m\u001b[0;34m\u001b[0m\u001b[0m\n\u001b[1;32m    503\u001b[0m     \u001b[0;32melse\u001b[0m\u001b[0;34m:\u001b[0m\u001b[0;34m\u001b[0m\u001b[0;34m\u001b[0m\u001b[0m\n\u001b[0;32m--> 504\u001b[0;31m         \u001b[0;32mdef\u001b[0m \u001b[0m_is_wrapper\u001b[0m\u001b[0;34m(\u001b[0m\u001b[0mf\u001b[0m\u001b[0;34m)\u001b[0m\u001b[0;34m:\u001b[0m\u001b[0;34m\u001b[0m\u001b[0;34m\u001b[0m\u001b[0m\n\u001b[0m\u001b[1;32m    505\u001b[0m             \u001b[0;32mreturn\u001b[0m \u001b[0mhasattr\u001b[0m\u001b[0;34m(\u001b[0m\u001b[0mf\u001b[0m\u001b[0;34m,\u001b[0m \u001b[0;34m'__wrapped__'\u001b[0m\u001b[0;34m)\u001b[0m \u001b[0;32mand\u001b[0m \u001b[0;32mnot\u001b[0m \u001b[0mstop\u001b[0m\u001b[0;34m(\u001b[0m\u001b[0mf\u001b[0m\u001b[0;34m)\u001b[0m\u001b[0;34m\u001b[0m\u001b[0;34m\u001b[0m\u001b[0m\n\u001b[1;32m    506\u001b[0m     \u001b[0mf\u001b[0m \u001b[0;34m=\u001b[0m \u001b[0mfunc\u001b[0m  \u001b[0;31m# remember the original func for error reporting\u001b[0m\u001b[0;34m\u001b[0m\u001b[0;34m\u001b[0m\u001b[0m\n",
            "\u001b[0;31mKeyboardInterrupt\u001b[0m: "
          ]
        }
      ]
    },
    {
      "cell_type": "code",
      "metadata": {
        "id": "OAqkOQ5Vxckn",
        "outputId": "e8f62bbd-7acb-4de7-b79a-98baab216470"
      },
      "source": [
        "rsrf.best_params_"
      ],
      "id": "OAqkOQ5Vxckn",
      "execution_count": null,
      "outputs": [
        {
          "data": {
            "text/plain": [
              "{'n_estimators': 150, 'min_samples_leaf': 11, 'max_depth': 384}"
            ]
          },
          "execution_count": 22,
          "metadata": {},
          "output_type": "execute_result"
        }
      ]
    },
    {
      "cell_type": "code",
      "metadata": {
        "id": "08CPgS7Sxckn",
        "outputId": "361dd1fc-0c7d-438b-a13e-58c17525b366"
      },
      "source": [
        "ypred_rsrf = cross_val_predict(rsrf.best_estimator_, df_listo, df.stroke)\n",
        "confusion_matrix(df.stroke, ypred_rsrf)"
      ],
      "id": "08CPgS7Sxckn",
      "execution_count": null,
      "outputs": [
        {
          "data": {
            "text/plain": [
              "array([[3473,  411],\n",
              "       [ 131,   73]])"
            ]
          },
          "execution_count": 23,
          "metadata": {},
          "output_type": "execute_result"
        }
      ]
    },
    {
      "cell_type": "code",
      "metadata": {
        "id": "ANIFpycuxcko",
        "outputId": "e1a1d44e-0dc8-495b-ec00-f35d3b13b78c"
      },
      "source": [
        "print(accuracy_score(df.stroke, ypred_rsrf))\n",
        "print(recall_score(df.stroke, ypred_rsrf))"
      ],
      "id": "ANIFpycuxcko",
      "execution_count": null,
      "outputs": [
        {
          "name": "stdout",
          "output_type": "stream",
          "text": [
            "0.8674168297455969\n",
            "0.35784313725490197\n"
          ]
        }
      ]
    },
    {
      "cell_type": "markdown",
      "metadata": {
        "id": "C-0CtBrIxckp"
      },
      "source": [
        "## Usando AUC_roc como scoring"
      ],
      "id": "C-0CtBrIxckp"
    },
    {
      "cell_type": "code",
      "metadata": {
        "id": "iX2iedOexckq",
        "outputId": "b20ec053-0f20-4b7e-d1ce-c75943d1a291"
      },
      "source": [
        "from sklearn.ensemble import RandomForestClassifier\n",
        "from sklearn.model_selection import GridSearchCV, RandomizedSearchCV\n",
        "peso_clases = {0:1, 1:19}\n",
        "reg_rf = RandomForestClassifier(random_state=42, class_weight=\"balanced\")\n",
        "param_grid = {\"n_estimators\":np.arange(100,500, 10),\n",
        "              \"max_depth\":np.arange(200, 500, 10),\n",
        "              \"min_samples_leaf\":np.arange(1,600, 5)\n",
        "             }\n",
        "reg_rf.fit(df_listo, df.stroke)\n",
        "#gsrf = GridSearchCV(reg_rf, param_grid, verbose=3)\n",
        "rsrf = RandomizedSearchCV(reg_rf, param_grid, verbose=3, n_iter=35, random_state=42, scoring=\"roc_auc\")\n",
        "rsrf.fit(df_listo, df.stroke)\n",
        "#ypred_gsrf = cross_val_predict(gsrf.best_estimator_, _train_scaled, t_train)"
      ],
      "id": "iX2iedOexckq",
      "execution_count": null,
      "outputs": [
        {
          "name": "stdout",
          "output_type": "stream",
          "text": [
            "Fitting 5 folds for each of 35 candidates, totalling 175 fits\n",
            "[CV] n_estimators=480, min_samples_leaf=241, max_depth=450 ...........\n"
          ]
        },
        {
          "name": "stderr",
          "output_type": "stream",
          "text": [
            "[Parallel(n_jobs=1)]: Using backend SequentialBackend with 1 concurrent workers.\n"
          ]
        },
        {
          "name": "stdout",
          "output_type": "stream",
          "text": [
            "[CV]  n_estimators=480, min_samples_leaf=241, max_depth=450, score=0.731, total=   1.9s\n",
            "[CV] n_estimators=480, min_samples_leaf=241, max_depth=450 ...........\n"
          ]
        },
        {
          "name": "stderr",
          "output_type": "stream",
          "text": [
            "[Parallel(n_jobs=1)]: Done   1 out of   1 | elapsed:    1.9s remaining:    0.0s\n"
          ]
        },
        {
          "name": "stdout",
          "output_type": "stream",
          "text": [
            "[CV]  n_estimators=480, min_samples_leaf=241, max_depth=450, score=0.755, total=   1.9s\n",
            "[CV] n_estimators=480, min_samples_leaf=241, max_depth=450 ...........\n"
          ]
        },
        {
          "name": "stderr",
          "output_type": "stream",
          "text": [
            "[Parallel(n_jobs=1)]: Done   2 out of   2 | elapsed:    3.8s remaining:    0.0s\n"
          ]
        },
        {
          "name": "stdout",
          "output_type": "stream",
          "text": [
            "[CV]  n_estimators=480, min_samples_leaf=241, max_depth=450, score=0.683, total=   1.9s\n",
            "[CV] n_estimators=480, min_samples_leaf=241, max_depth=450 ...........\n",
            "[CV]  n_estimators=480, min_samples_leaf=241, max_depth=450, score=0.707, total=   1.9s\n",
            "[CV] n_estimators=480, min_samples_leaf=241, max_depth=450 ...........\n",
            "[CV]  n_estimators=480, min_samples_leaf=241, max_depth=450, score=0.728, total=   1.9s\n",
            "[CV] n_estimators=220, min_samples_leaf=291, max_depth=470 ...........\n",
            "[CV]  n_estimators=220, min_samples_leaf=291, max_depth=470, score=0.726, total=   0.8s\n",
            "[CV] n_estimators=220, min_samples_leaf=291, max_depth=470 ...........\n",
            "[CV]  n_estimators=220, min_samples_leaf=291, max_depth=470, score=0.749, total=   0.8s\n",
            "[CV] n_estimators=220, min_samples_leaf=291, max_depth=470 ...........\n",
            "[CV]  n_estimators=220, min_samples_leaf=291, max_depth=470, score=0.684, total=   0.8s\n",
            "[CV] n_estimators=220, min_samples_leaf=291, max_depth=470 ...........\n",
            "[CV]  n_estimators=220, min_samples_leaf=291, max_depth=470, score=0.699, total=   0.8s\n",
            "[CV] n_estimators=220, min_samples_leaf=291, max_depth=470 ...........\n",
            "[CV]  n_estimators=220, min_samples_leaf=291, max_depth=470, score=0.718, total=   0.8s\n",
            "[CV] n_estimators=240, min_samples_leaf=361, max_depth=410 ...........\n",
            "[CV]  n_estimators=240, min_samples_leaf=361, max_depth=410, score=0.715, total=   0.9s\n",
            "[CV] n_estimators=240, min_samples_leaf=361, max_depth=410 ...........\n",
            "[CV]  n_estimators=240, min_samples_leaf=361, max_depth=410, score=0.735, total=   0.9s\n",
            "[CV] n_estimators=240, min_samples_leaf=361, max_depth=410 ...........\n",
            "[CV]  n_estimators=240, min_samples_leaf=361, max_depth=410, score=0.671, total=   0.9s\n",
            "[CV] n_estimators=240, min_samples_leaf=361, max_depth=410 ...........\n",
            "[CV]  n_estimators=240, min_samples_leaf=361, max_depth=410, score=0.694, total=   0.9s\n",
            "[CV] n_estimators=240, min_samples_leaf=361, max_depth=410 ...........\n",
            "[CV]  n_estimators=240, min_samples_leaf=361, max_depth=410, score=0.708, total=   0.9s\n",
            "[CV] n_estimators=490, min_samples_leaf=581, max_depth=440 ...........\n",
            "[CV]  n_estimators=490, min_samples_leaf=581, max_depth=440, score=0.703, total=   1.7s\n",
            "[CV] n_estimators=490, min_samples_leaf=581, max_depth=440 ...........\n",
            "[CV]  n_estimators=490, min_samples_leaf=581, max_depth=440, score=0.724, total=   1.7s\n",
            "[CV] n_estimators=490, min_samples_leaf=581, max_depth=440 ...........\n",
            "[CV]  n_estimators=490, min_samples_leaf=581, max_depth=440, score=0.674, total=   1.7s\n",
            "[CV] n_estimators=490, min_samples_leaf=581, max_depth=440 ...........\n",
            "[CV]  n_estimators=490, min_samples_leaf=581, max_depth=440, score=0.684, total=   1.7s\n",
            "[CV] n_estimators=490, min_samples_leaf=581, max_depth=440 ...........\n",
            "[CV]  n_estimators=490, min_samples_leaf=581, max_depth=440, score=0.698, total=   1.7s\n",
            "[CV] n_estimators=380, min_samples_leaf=581, max_depth=420 ...........\n",
            "[CV]  n_estimators=380, min_samples_leaf=581, max_depth=420, score=0.703, total=   1.3s\n",
            "[CV] n_estimators=380, min_samples_leaf=581, max_depth=420 ...........\n",
            "[CV]  n_estimators=380, min_samples_leaf=581, max_depth=420, score=0.721, total=   1.3s\n",
            "[CV] n_estimators=380, min_samples_leaf=581, max_depth=420 ...........\n",
            "[CV]  n_estimators=380, min_samples_leaf=581, max_depth=420, score=0.676, total=   1.3s\n",
            "[CV] n_estimators=380, min_samples_leaf=581, max_depth=420 ...........\n",
            "[CV]  n_estimators=380, min_samples_leaf=581, max_depth=420, score=0.683, total=   1.3s\n",
            "[CV] n_estimators=380, min_samples_leaf=581, max_depth=420 ...........\n",
            "[CV]  n_estimators=380, min_samples_leaf=581, max_depth=420, score=0.698, total=   1.3s\n",
            "[CV] n_estimators=160, min_samples_leaf=261, max_depth=310 ...........\n",
            "[CV]  n_estimators=160, min_samples_leaf=261, max_depth=310, score=0.725, total=   0.6s\n",
            "[CV] n_estimators=160, min_samples_leaf=261, max_depth=310 ...........\n",
            "[CV]  n_estimators=160, min_samples_leaf=261, max_depth=310, score=0.745, total=   0.6s\n",
            "[CV] n_estimators=160, min_samples_leaf=261, max_depth=310 ...........\n",
            "[CV]  n_estimators=160, min_samples_leaf=261, max_depth=310, score=0.684, total=   0.6s\n",
            "[CV] n_estimators=160, min_samples_leaf=261, max_depth=310 ...........\n",
            "[CV]  n_estimators=160, min_samples_leaf=261, max_depth=310, score=0.704, total=   0.6s\n",
            "[CV] n_estimators=160, min_samples_leaf=261, max_depth=310 ...........\n",
            "[CV]  n_estimators=160, min_samples_leaf=261, max_depth=310, score=0.720, total=   0.6s\n",
            "[CV] n_estimators=270, min_samples_leaf=366, max_depth=480 ...........\n",
            "[CV]  n_estimators=270, min_samples_leaf=366, max_depth=480, score=0.713, total=   1.0s\n",
            "[CV] n_estimators=270, min_samples_leaf=366, max_depth=480 ...........\n",
            "[CV]  n_estimators=270, min_samples_leaf=366, max_depth=480, score=0.731, total=   1.0s\n",
            "[CV] n_estimators=270, min_samples_leaf=366, max_depth=480 ...........\n",
            "[CV]  n_estimators=270, min_samples_leaf=366, max_depth=480, score=0.671, total=   1.0s\n",
            "[CV] n_estimators=270, min_samples_leaf=366, max_depth=480 ...........\n",
            "[CV]  n_estimators=270, min_samples_leaf=366, max_depth=480, score=0.691, total=   1.0s\n",
            "[CV] n_estimators=270, min_samples_leaf=366, max_depth=480 ...........\n",
            "[CV]  n_estimators=270, min_samples_leaf=366, max_depth=480, score=0.710, total=   1.0s\n",
            "[CV] n_estimators=280, min_samples_leaf=136, max_depth=380 ...........\n",
            "[CV]  n_estimators=280, min_samples_leaf=136, max_depth=380, score=0.755, total=   1.2s\n",
            "[CV] n_estimators=280, min_samples_leaf=136, max_depth=380 ...........\n",
            "[CV]  n_estimators=280, min_samples_leaf=136, max_depth=380, score=0.773, total=   1.2s\n",
            "[CV] n_estimators=280, min_samples_leaf=136, max_depth=380 ...........\n",
            "[CV]  n_estimators=280, min_samples_leaf=136, max_depth=380, score=0.704, total=   1.2s\n",
            "[CV] n_estimators=280, min_samples_leaf=136, max_depth=380 ...........\n",
            "[CV]  n_estimators=280, min_samples_leaf=136, max_depth=380, score=0.719, total=   1.2s\n",
            "[CV] n_estimators=280, min_samples_leaf=136, max_depth=380 ...........\n",
            "[CV]  n_estimators=280, min_samples_leaf=136, max_depth=380, score=0.755, total=   1.2s\n",
            "[CV] n_estimators=170, min_samples_leaf=291, max_depth=430 ...........\n",
            "[CV]  n_estimators=170, min_samples_leaf=291, max_depth=430, score=0.726, total=   0.6s\n",
            "[CV] n_estimators=170, min_samples_leaf=291, max_depth=430 ...........\n",
            "[CV]  n_estimators=170, min_samples_leaf=291, max_depth=430, score=0.745, total=   0.6s\n",
            "[CV] n_estimators=170, min_samples_leaf=291, max_depth=430 ...........\n",
            "[CV]  n_estimators=170, min_samples_leaf=291, max_depth=430, score=0.684, total=   0.6s\n",
            "[CV] n_estimators=170, min_samples_leaf=291, max_depth=430 ...........\n",
            "[CV]  n_estimators=170, min_samples_leaf=291, max_depth=430, score=0.699, total=   0.6s\n",
            "[CV] n_estimators=170, min_samples_leaf=291, max_depth=430 ...........\n",
            "[CV]  n_estimators=170, min_samples_leaf=291, max_depth=430, score=0.721, total=   0.6s\n",
            "[CV] n_estimators=140, min_samples_leaf=191, max_depth=460 ...........\n",
            "[CV]  n_estimators=140, min_samples_leaf=191, max_depth=460, score=0.742, total=   0.6s\n",
            "[CV] n_estimators=140, min_samples_leaf=191, max_depth=460 ...........\n",
            "[CV]  n_estimators=140, min_samples_leaf=191, max_depth=460, score=0.763, total=   0.6s\n",
            "[CV] n_estimators=140, min_samples_leaf=191, max_depth=460 ...........\n",
            "[CV]  n_estimators=140, min_samples_leaf=191, max_depth=460, score=0.692, total=   0.6s\n",
            "[CV] n_estimators=140, min_samples_leaf=191, max_depth=460 ...........\n",
            "[CV]  n_estimators=140, min_samples_leaf=191, max_depth=460, score=0.716, total=   0.6s\n",
            "[CV] n_estimators=140, min_samples_leaf=191, max_depth=460 ...........\n",
            "[CV]  n_estimators=140, min_samples_leaf=191, max_depth=460, score=0.739, total=   0.6s\n",
            "[CV] n_estimators=330, min_samples_leaf=201, max_depth=230 ...........\n",
            "[CV]  n_estimators=330, min_samples_leaf=201, max_depth=230, score=0.744, total=   1.3s\n",
            "[CV] n_estimators=330, min_samples_leaf=201, max_depth=230 ...........\n",
            "[CV]  n_estimators=330, min_samples_leaf=201, max_depth=230, score=0.767, total=   1.3s\n",
            "[CV] n_estimators=330, min_samples_leaf=201, max_depth=230 ...........\n",
            "[CV]  n_estimators=330, min_samples_leaf=201, max_depth=230, score=0.695, total=   1.3s\n",
            "[CV] n_estimators=330, min_samples_leaf=201, max_depth=230 ...........\n",
            "[CV]  n_estimators=330, min_samples_leaf=201, max_depth=230, score=0.718, total=   1.3s\n",
            "[CV] n_estimators=330, min_samples_leaf=201, max_depth=230 ...........\n"
          ]
        },
        {
          "name": "stdout",
          "output_type": "stream",
          "text": [
            "[CV]  n_estimators=330, min_samples_leaf=201, max_depth=230, score=0.740, total=   1.3s\n",
            "[CV] n_estimators=200, min_samples_leaf=336, max_depth=280 ...........\n",
            "[CV]  n_estimators=200, min_samples_leaf=336, max_depth=280, score=0.717, total=   0.7s\n",
            "[CV] n_estimators=200, min_samples_leaf=336, max_depth=280 ...........\n",
            "[CV]  n_estimators=200, min_samples_leaf=336, max_depth=280, score=0.739, total=   0.7s\n",
            "[CV] n_estimators=200, min_samples_leaf=336, max_depth=280 ...........\n",
            "[CV]  n_estimators=200, min_samples_leaf=336, max_depth=280, score=0.674, total=   0.7s\n",
            "[CV] n_estimators=200, min_samples_leaf=336, max_depth=280 ...........\n",
            "[CV]  n_estimators=200, min_samples_leaf=336, max_depth=280, score=0.694, total=   0.7s\n",
            "[CV] n_estimators=200, min_samples_leaf=336, max_depth=280 ...........\n",
            "[CV]  n_estimators=200, min_samples_leaf=336, max_depth=280, score=0.710, total=   0.7s\n",
            "[CV] n_estimators=310, min_samples_leaf=1, max_depth=340 .............\n",
            "[CV]  n_estimators=310, min_samples_leaf=1, max_depth=340, score=0.682, total=   1.8s\n",
            "[CV] n_estimators=310, min_samples_leaf=1, max_depth=340 .............\n",
            "[CV]  n_estimators=310, min_samples_leaf=1, max_depth=340, score=0.713, total=   1.8s\n",
            "[CV] n_estimators=310, min_samples_leaf=1, max_depth=340 .............\n",
            "[CV]  n_estimators=310, min_samples_leaf=1, max_depth=340, score=0.714, total=   1.8s\n",
            "[CV] n_estimators=310, min_samples_leaf=1, max_depth=340 .............\n",
            "[CV]  n_estimators=310, min_samples_leaf=1, max_depth=340, score=0.696, total=   1.8s\n",
            "[CV] n_estimators=310, min_samples_leaf=1, max_depth=340 .............\n",
            "[CV]  n_estimators=310, min_samples_leaf=1, max_depth=340, score=0.709, total=   1.8s\n",
            "[CV] n_estimators=300, min_samples_leaf=301, max_depth=330 ...........\n",
            "[CV]  n_estimators=300, min_samples_leaf=301, max_depth=330, score=0.722, total=   1.1s\n",
            "[CV] n_estimators=300, min_samples_leaf=301, max_depth=330 ...........\n",
            "[CV]  n_estimators=300, min_samples_leaf=301, max_depth=330, score=0.746, total=   1.1s\n",
            "[CV] n_estimators=300, min_samples_leaf=301, max_depth=330 ...........\n",
            "[CV]  n_estimators=300, min_samples_leaf=301, max_depth=330, score=0.680, total=   1.1s\n",
            "[CV] n_estimators=300, min_samples_leaf=301, max_depth=330 ...........\n",
            "[CV]  n_estimators=300, min_samples_leaf=301, max_depth=330, score=0.702, total=   1.1s\n",
            "[CV] n_estimators=300, min_samples_leaf=301, max_depth=330 ...........\n",
            "[CV]  n_estimators=300, min_samples_leaf=301, max_depth=330, score=0.719, total=   1.1s\n",
            "[CV] n_estimators=190, min_samples_leaf=96, max_depth=200 ............\n",
            "[CV]  n_estimators=190, min_samples_leaf=96, max_depth=200, score=0.760, total=   0.8s\n",
            "[CV] n_estimators=190, min_samples_leaf=96, max_depth=200 ............\n",
            "[CV]  n_estimators=190, min_samples_leaf=96, max_depth=200, score=0.772, total=   0.8s\n",
            "[CV] n_estimators=190, min_samples_leaf=96, max_depth=200 ............\n",
            "[CV]  n_estimators=190, min_samples_leaf=96, max_depth=200, score=0.726, total=   0.8s\n",
            "[CV] n_estimators=190, min_samples_leaf=96, max_depth=200 ............\n",
            "[CV]  n_estimators=190, min_samples_leaf=96, max_depth=200, score=0.724, total=   0.8s\n",
            "[CV] n_estimators=190, min_samples_leaf=96, max_depth=200 ............\n",
            "[CV]  n_estimators=190, min_samples_leaf=96, max_depth=200, score=0.762, total=   0.8s\n",
            "[CV] n_estimators=250, min_samples_leaf=266, max_depth=320 ...........\n",
            "[CV]  n_estimators=250, min_samples_leaf=266, max_depth=320, score=0.727, total=   1.0s\n",
            "[CV] n_estimators=250, min_samples_leaf=266, max_depth=320 ...........\n",
            "[CV]  n_estimators=250, min_samples_leaf=266, max_depth=320, score=0.753, total=   1.0s\n",
            "[CV] n_estimators=250, min_samples_leaf=266, max_depth=320 ...........\n",
            "[CV]  n_estimators=250, min_samples_leaf=266, max_depth=320, score=0.685, total=   1.0s\n",
            "[CV] n_estimators=250, min_samples_leaf=266, max_depth=320 ...........\n",
            "[CV]  n_estimators=250, min_samples_leaf=266, max_depth=320, score=0.704, total=   1.0s\n",
            "[CV] n_estimators=250, min_samples_leaf=266, max_depth=320 ...........\n",
            "[CV]  n_estimators=250, min_samples_leaf=266, max_depth=320, score=0.722, total=   1.0s\n",
            "[CV] n_estimators=150, min_samples_leaf=316, max_depth=330 ...........\n",
            "[CV]  n_estimators=150, min_samples_leaf=316, max_depth=330, score=0.722, total=   0.6s\n",
            "[CV] n_estimators=150, min_samples_leaf=316, max_depth=330 ...........\n",
            "[CV]  n_estimators=150, min_samples_leaf=316, max_depth=330, score=0.737, total=   0.6s\n",
            "[CV] n_estimators=150, min_samples_leaf=316, max_depth=330 ...........\n",
            "[CV]  n_estimators=150, min_samples_leaf=316, max_depth=330, score=0.680, total=   0.6s\n",
            "[CV] n_estimators=150, min_samples_leaf=316, max_depth=330 ...........\n",
            "[CV]  n_estimators=150, min_samples_leaf=316, max_depth=330, score=0.695, total=   0.6s\n",
            "[CV] n_estimators=150, min_samples_leaf=316, max_depth=330 ...........\n",
            "[CV]  n_estimators=150, min_samples_leaf=316, max_depth=330, score=0.714, total=   0.6s\n",
            "[CV] n_estimators=410, min_samples_leaf=61, max_depth=210 ............\n",
            "[CV]  n_estimators=410, min_samples_leaf=61, max_depth=210, score=0.759, total=   1.8s\n",
            "[CV] n_estimators=410, min_samples_leaf=61, max_depth=210 ............\n",
            "[CV]  n_estimators=410, min_samples_leaf=61, max_depth=210, score=0.777, total=   1.9s\n",
            "[CV] n_estimators=410, min_samples_leaf=61, max_depth=210 ............\n",
            "[CV]  n_estimators=410, min_samples_leaf=61, max_depth=210, score=0.726, total=   1.9s\n",
            "[CV] n_estimators=410, min_samples_leaf=61, max_depth=210 ............\n",
            "[CV]  n_estimators=410, min_samples_leaf=61, max_depth=210, score=0.721, total=   1.9s\n",
            "[CV] n_estimators=410, min_samples_leaf=61, max_depth=210 ............\n",
            "[CV]  n_estimators=410, min_samples_leaf=61, max_depth=210, score=0.763, total=   1.9s\n",
            "[CV] n_estimators=450, min_samples_leaf=316, max_depth=410 ...........\n",
            "[CV]  n_estimators=450, min_samples_leaf=316, max_depth=410, score=0.721, total=   1.7s\n",
            "[CV] n_estimators=450, min_samples_leaf=316, max_depth=410 ...........\n",
            "[CV]  n_estimators=450, min_samples_leaf=316, max_depth=410, score=0.743, total=   1.7s\n",
            "[CV] n_estimators=450, min_samples_leaf=316, max_depth=410 ...........\n",
            "[CV]  n_estimators=450, min_samples_leaf=316, max_depth=410, score=0.678, total=   1.7s\n",
            "[CV] n_estimators=450, min_samples_leaf=316, max_depth=410 ...........\n",
            "[CV]  n_estimators=450, min_samples_leaf=316, max_depth=410, score=0.701, total=   1.7s\n",
            "[CV] n_estimators=450, min_samples_leaf=316, max_depth=410 ...........\n",
            "[CV]  n_estimators=450, min_samples_leaf=316, max_depth=410, score=0.718, total=   1.7s\n",
            "[CV] n_estimators=350, min_samples_leaf=461, max_depth=370 ...........\n",
            "[CV]  n_estimators=350, min_samples_leaf=461, max_depth=370, score=0.702, total=   1.2s\n",
            "[CV] n_estimators=350, min_samples_leaf=461, max_depth=370 ...........\n",
            "[CV]  n_estimators=350, min_samples_leaf=461, max_depth=370, score=0.727, total=   1.2s\n",
            "[CV] n_estimators=350, min_samples_leaf=461, max_depth=370 ...........\n",
            "[CV]  n_estimators=350, min_samples_leaf=461, max_depth=370, score=0.673, total=   1.2s\n",
            "[CV] n_estimators=350, min_samples_leaf=461, max_depth=370 ...........\n",
            "[CV]  n_estimators=350, min_samples_leaf=461, max_depth=370, score=0.684, total=   1.2s\n",
            "[CV] n_estimators=350, min_samples_leaf=461, max_depth=370 ...........\n",
            "[CV]  n_estimators=350, min_samples_leaf=461, max_depth=370, score=0.707, total=   1.2s\n",
            "[CV] n_estimators=180, min_samples_leaf=126, max_depth=470 ...........\n",
            "[CV]  n_estimators=180, min_samples_leaf=126, max_depth=470, score=0.755, total=   0.8s\n",
            "[CV] n_estimators=180, min_samples_leaf=126, max_depth=470 ...........\n",
            "[CV]  n_estimators=180, min_samples_leaf=126, max_depth=470, score=0.771, total=   0.8s\n",
            "[CV] n_estimators=180, min_samples_leaf=126, max_depth=470 ...........\n",
            "[CV]  n_estimators=180, min_samples_leaf=126, max_depth=470, score=0.707, total=   0.8s\n",
            "[CV] n_estimators=180, min_samples_leaf=126, max_depth=470 ...........\n",
            "[CV]  n_estimators=180, min_samples_leaf=126, max_depth=470, score=0.719, total=   0.8s\n",
            "[CV] n_estimators=180, min_samples_leaf=126, max_depth=470 ...........\n",
            "[CV]  n_estimators=180, min_samples_leaf=126, max_depth=470, score=0.755, total=   0.8s\n",
            "[CV] n_estimators=480, min_samples_leaf=356, max_depth=370 ...........\n",
            "[CV]  n_estimators=480, min_samples_leaf=356, max_depth=370, score=0.711, total=   1.7s\n",
            "[CV] n_estimators=480, min_samples_leaf=356, max_depth=370 ...........\n"
          ]
        },
        {
          "name": "stdout",
          "output_type": "stream",
          "text": [
            "[CV]  n_estimators=480, min_samples_leaf=356, max_depth=370, score=0.737, total=   1.7s\n",
            "[CV] n_estimators=480, min_samples_leaf=356, max_depth=370 ...........\n",
            "[CV]  n_estimators=480, min_samples_leaf=356, max_depth=370, score=0.674, total=   1.7s\n",
            "[CV] n_estimators=480, min_samples_leaf=356, max_depth=370 ...........\n",
            "[CV]  n_estimators=480, min_samples_leaf=356, max_depth=370, score=0.694, total=   1.7s\n",
            "[CV] n_estimators=480, min_samples_leaf=356, max_depth=370 ...........\n",
            "[CV]  n_estimators=480, min_samples_leaf=356, max_depth=370, score=0.712, total=   1.7s\n",
            "[CV] n_estimators=270, min_samples_leaf=316, max_depth=450 ...........\n",
            "[CV]  n_estimators=270, min_samples_leaf=316, max_depth=450, score=0.721, total=   1.0s\n",
            "[CV] n_estimators=270, min_samples_leaf=316, max_depth=450 ...........\n",
            "[CV]  n_estimators=270, min_samples_leaf=316, max_depth=450, score=0.742, total=   1.0s\n",
            "[CV] n_estimators=270, min_samples_leaf=316, max_depth=450 ...........\n",
            "[CV]  n_estimators=270, min_samples_leaf=316, max_depth=450, score=0.678, total=   1.0s\n",
            "[CV] n_estimators=270, min_samples_leaf=316, max_depth=450 ...........\n",
            "[CV]  n_estimators=270, min_samples_leaf=316, max_depth=450, score=0.698, total=   1.0s\n",
            "[CV] n_estimators=270, min_samples_leaf=316, max_depth=450 ...........\n",
            "[CV]  n_estimators=270, min_samples_leaf=316, max_depth=450, score=0.715, total=   1.0s\n",
            "[CV] n_estimators=130, min_samples_leaf=116, max_depth=470 ...........\n",
            "[CV]  n_estimators=130, min_samples_leaf=116, max_depth=470, score=0.758, total=   0.6s\n",
            "[CV] n_estimators=130, min_samples_leaf=116, max_depth=470 ...........\n",
            "[CV]  n_estimators=130, min_samples_leaf=116, max_depth=470, score=0.771, total=   0.6s\n",
            "[CV] n_estimators=130, min_samples_leaf=116, max_depth=470 ...........\n",
            "[CV]  n_estimators=130, min_samples_leaf=116, max_depth=470, score=0.704, total=   0.6s\n",
            "[CV] n_estimators=130, min_samples_leaf=116, max_depth=470 ...........\n",
            "[CV]  n_estimators=130, min_samples_leaf=116, max_depth=470, score=0.713, total=   0.6s\n",
            "[CV] n_estimators=130, min_samples_leaf=116, max_depth=470 ...........\n",
            "[CV]  n_estimators=130, min_samples_leaf=116, max_depth=470, score=0.757, total=   0.6s\n",
            "[CV] n_estimators=370, min_samples_leaf=341, max_depth=200 ...........\n",
            "[CV]  n_estimators=370, min_samples_leaf=341, max_depth=200, score=0.715, total=   1.4s\n",
            "[CV] n_estimators=370, min_samples_leaf=341, max_depth=200 ...........\n",
            "[CV]  n_estimators=370, min_samples_leaf=341, max_depth=200, score=0.737, total=   1.4s\n",
            "[CV] n_estimators=370, min_samples_leaf=341, max_depth=200 ...........\n",
            "[CV]  n_estimators=370, min_samples_leaf=341, max_depth=200, score=0.676, total=   1.4s\n",
            "[CV] n_estimators=370, min_samples_leaf=341, max_depth=200 ...........\n",
            "[CV]  n_estimators=370, min_samples_leaf=341, max_depth=200, score=0.700, total=   1.4s\n",
            "[CV] n_estimators=370, min_samples_leaf=341, max_depth=200 ...........\n",
            "[CV]  n_estimators=370, min_samples_leaf=341, max_depth=200, score=0.714, total=   1.4s\n",
            "[CV] n_estimators=250, min_samples_leaf=481, max_depth=450 ...........\n",
            "[CV]  n_estimators=250, min_samples_leaf=481, max_depth=450, score=0.702, total=   0.9s\n",
            "[CV] n_estimators=250, min_samples_leaf=481, max_depth=450 ...........\n",
            "[CV]  n_estimators=250, min_samples_leaf=481, max_depth=450, score=0.721, total=   0.9s\n",
            "[CV] n_estimators=250, min_samples_leaf=481, max_depth=450 ...........\n",
            "[CV]  n_estimators=250, min_samples_leaf=481, max_depth=450, score=0.671, total=   0.9s\n",
            "[CV] n_estimators=250, min_samples_leaf=481, max_depth=450 ...........\n",
            "[CV]  n_estimators=250, min_samples_leaf=481, max_depth=450, score=0.684, total=   0.9s\n",
            "[CV] n_estimators=250, min_samples_leaf=481, max_depth=450 ...........\n",
            "[CV]  n_estimators=250, min_samples_leaf=481, max_depth=450, score=0.702, total=   0.9s\n",
            "[CV] n_estimators=150, min_samples_leaf=416, max_depth=330 ...........\n",
            "[CV]  n_estimators=150, min_samples_leaf=416, max_depth=330, score=0.700, total=   0.5s\n",
            "[CV] n_estimators=150, min_samples_leaf=416, max_depth=330 ...........\n",
            "[CV]  n_estimators=150, min_samples_leaf=416, max_depth=330, score=0.732, total=   0.5s\n",
            "[CV] n_estimators=150, min_samples_leaf=416, max_depth=330 ...........\n",
            "[CV]  n_estimators=150, min_samples_leaf=416, max_depth=330, score=0.667, total=   0.5s\n",
            "[CV] n_estimators=150, min_samples_leaf=416, max_depth=330 ...........\n",
            "[CV]  n_estimators=150, min_samples_leaf=416, max_depth=330, score=0.691, total=   0.5s\n",
            "[CV] n_estimators=150, min_samples_leaf=416, max_depth=330 ...........\n",
            "[CV]  n_estimators=150, min_samples_leaf=416, max_depth=330, score=0.708, total=   0.5s\n",
            "[CV] n_estimators=310, min_samples_leaf=46, max_depth=470 ............\n",
            "[CV]  n_estimators=310, min_samples_leaf=46, max_depth=470, score=0.761, total=   1.5s\n",
            "[CV] n_estimators=310, min_samples_leaf=46, max_depth=470 ............\n",
            "[CV]  n_estimators=310, min_samples_leaf=46, max_depth=470, score=0.778, total=   1.5s\n",
            "[CV] n_estimators=310, min_samples_leaf=46, max_depth=470 ............\n",
            "[CV]  n_estimators=310, min_samples_leaf=46, max_depth=470, score=0.725, total=   1.4s\n",
            "[CV] n_estimators=310, min_samples_leaf=46, max_depth=470 ............\n",
            "[CV]  n_estimators=310, min_samples_leaf=46, max_depth=470, score=0.715, total=   1.4s\n",
            "[CV] n_estimators=310, min_samples_leaf=46, max_depth=470 ............\n",
            "[CV]  n_estimators=310, min_samples_leaf=46, max_depth=470, score=0.766, total=   1.4s\n",
            "[CV] n_estimators=240, min_samples_leaf=381, max_depth=370 ...........\n",
            "[CV]  n_estimators=240, min_samples_leaf=381, max_depth=370, score=0.712, total=   0.9s\n",
            "[CV] n_estimators=240, min_samples_leaf=381, max_depth=370 ...........\n",
            "[CV]  n_estimators=240, min_samples_leaf=381, max_depth=370, score=0.732, total=   0.9s\n",
            "[CV] n_estimators=240, min_samples_leaf=381, max_depth=370 ...........\n",
            "[CV]  n_estimators=240, min_samples_leaf=381, max_depth=370, score=0.670, total=   0.9s\n",
            "[CV] n_estimators=240, min_samples_leaf=381, max_depth=370 ...........\n",
            "[CV]  n_estimators=240, min_samples_leaf=381, max_depth=370, score=0.692, total=   0.9s\n",
            "[CV] n_estimators=240, min_samples_leaf=381, max_depth=370 ...........\n",
            "[CV]  n_estimators=240, min_samples_leaf=381, max_depth=370, score=0.712, total=   0.9s\n",
            "[CV] n_estimators=360, min_samples_leaf=516, max_depth=440 ...........\n",
            "[CV]  n_estimators=360, min_samples_leaf=516, max_depth=440, score=0.706, total=   1.2s\n",
            "[CV] n_estimators=360, min_samples_leaf=516, max_depth=440 ...........\n",
            "[CV]  n_estimators=360, min_samples_leaf=516, max_depth=440, score=0.721, total=   1.2s\n",
            "[CV] n_estimators=360, min_samples_leaf=516, max_depth=440 ...........\n",
            "[CV]  n_estimators=360, min_samples_leaf=516, max_depth=440, score=0.671, total=   1.3s\n",
            "[CV] n_estimators=360, min_samples_leaf=516, max_depth=440 ...........\n",
            "[CV]  n_estimators=360, min_samples_leaf=516, max_depth=440, score=0.682, total=   1.3s\n",
            "[CV] n_estimators=360, min_samples_leaf=516, max_depth=440 ...........\n",
            "[CV]  n_estimators=360, min_samples_leaf=516, max_depth=440, score=0.702, total=   1.2s\n",
            "[CV] n_estimators=450, min_samples_leaf=26, max_depth=340 ............\n",
            "[CV]  n_estimators=450, min_samples_leaf=26, max_depth=340, score=0.756, total=   2.2s\n",
            "[CV] n_estimators=450, min_samples_leaf=26, max_depth=340 ............\n",
            "[CV]  n_estimators=450, min_samples_leaf=26, max_depth=340, score=0.773, total=   2.2s\n",
            "[CV] n_estimators=450, min_samples_leaf=26, max_depth=340 ............\n",
            "[CV]  n_estimators=450, min_samples_leaf=26, max_depth=340, score=0.722, total=   2.2s\n",
            "[CV] n_estimators=450, min_samples_leaf=26, max_depth=340 ............\n",
            "[CV]  n_estimators=450, min_samples_leaf=26, max_depth=340, score=0.713, total=   2.2s\n",
            "[CV] n_estimators=450, min_samples_leaf=26, max_depth=340 ............\n",
            "[CV]  n_estimators=450, min_samples_leaf=26, max_depth=340, score=0.762, total=   2.2s\n",
            "[CV] n_estimators=160, min_samples_leaf=511, max_depth=310 ...........\n",
            "[CV]  n_estimators=160, min_samples_leaf=511, max_depth=310, score=0.704, total=   0.6s\n",
            "[CV] n_estimators=160, min_samples_leaf=511, max_depth=310 ...........\n",
            "[CV]  n_estimators=160, min_samples_leaf=511, max_depth=310, score=0.713, total=   0.6s\n",
            "[CV] n_estimators=160, min_samples_leaf=511, max_depth=310 ...........\n",
            "[CV]  n_estimators=160, min_samples_leaf=511, max_depth=310, score=0.680, total=   0.6s\n",
            "[CV] n_estimators=160, min_samples_leaf=511, max_depth=310 ...........\n"
          ]
        },
        {
          "name": "stdout",
          "output_type": "stream",
          "text": [
            "[CV]  n_estimators=160, min_samples_leaf=511, max_depth=310, score=0.679, total=   0.6s\n",
            "[CV] n_estimators=160, min_samples_leaf=511, max_depth=310 ...........\n",
            "[CV]  n_estimators=160, min_samples_leaf=511, max_depth=310, score=0.690, total=   0.6s\n",
            "[CV] n_estimators=130, min_samples_leaf=551, max_depth=330 ...........\n",
            "[CV]  n_estimators=130, min_samples_leaf=551, max_depth=330, score=0.704, total=   0.5s\n",
            "[CV] n_estimators=130, min_samples_leaf=551, max_depth=330 ...........\n",
            "[CV]  n_estimators=130, min_samples_leaf=551, max_depth=330, score=0.718, total=   0.5s\n",
            "[CV] n_estimators=130, min_samples_leaf=551, max_depth=330 ...........\n",
            "[CV]  n_estimators=130, min_samples_leaf=551, max_depth=330, score=0.681, total=   0.5s\n",
            "[CV] n_estimators=130, min_samples_leaf=551, max_depth=330 ...........\n",
            "[CV]  n_estimators=130, min_samples_leaf=551, max_depth=330, score=0.676, total=   0.5s\n",
            "[CV] n_estimators=130, min_samples_leaf=551, max_depth=330 ...........\n",
            "[CV]  n_estimators=130, min_samples_leaf=551, max_depth=330, score=0.686, total=   0.5s\n",
            "[CV] n_estimators=410, min_samples_leaf=341, max_depth=260 ...........\n",
            "[CV]  n_estimators=410, min_samples_leaf=341, max_depth=260, score=0.715, total=   1.5s\n",
            "[CV] n_estimators=410, min_samples_leaf=341, max_depth=260 ...........\n",
            "[CV]  n_estimators=410, min_samples_leaf=341, max_depth=260, score=0.738, total=   1.5s\n",
            "[CV] n_estimators=410, min_samples_leaf=341, max_depth=260 ...........\n",
            "[CV]  n_estimators=410, min_samples_leaf=341, max_depth=260, score=0.676, total=   1.5s\n",
            "[CV] n_estimators=410, min_samples_leaf=341, max_depth=260 ...........\n",
            "[CV]  n_estimators=410, min_samples_leaf=341, max_depth=260, score=0.698, total=   1.5s\n",
            "[CV] n_estimators=410, min_samples_leaf=341, max_depth=260 ...........\n",
            "[CV]  n_estimators=410, min_samples_leaf=341, max_depth=260, score=0.714, total=   1.5s\n",
            "[CV] n_estimators=260, min_samples_leaf=126, max_depth=440 ...........\n",
            "[CV]  n_estimators=260, min_samples_leaf=126, max_depth=440, score=0.755, total=   1.1s\n",
            "[CV] n_estimators=260, min_samples_leaf=126, max_depth=440 ...........\n",
            "[CV]  n_estimators=260, min_samples_leaf=126, max_depth=440, score=0.774, total=   1.1s\n",
            "[CV] n_estimators=260, min_samples_leaf=126, max_depth=440 ...........\n",
            "[CV]  n_estimators=260, min_samples_leaf=126, max_depth=440, score=0.708, total=   1.1s\n",
            "[CV] n_estimators=260, min_samples_leaf=126, max_depth=440 ...........\n",
            "[CV]  n_estimators=260, min_samples_leaf=126, max_depth=440, score=0.719, total=   1.1s\n",
            "[CV] n_estimators=260, min_samples_leaf=126, max_depth=440 ...........\n",
            "[CV]  n_estimators=260, min_samples_leaf=126, max_depth=440, score=0.757, total=   1.1s\n"
          ]
        },
        {
          "name": "stderr",
          "output_type": "stream",
          "text": [
            "[Parallel(n_jobs=1)]: Done 175 out of 175 | elapsed:  3.2min finished\n"
          ]
        },
        {
          "data": {
            "text/plain": [
              "RandomizedSearchCV(cv=None, error_score=nan,\n",
              "                   estimator=RandomForestClassifier(bootstrap=True,\n",
              "                                                    ccp_alpha=0.0,\n",
              "                                                    class_weight='balanced',\n",
              "                                                    criterion='gini',\n",
              "                                                    max_depth=None,\n",
              "                                                    max_features='auto',\n",
              "                                                    max_leaf_nodes=None,\n",
              "                                                    max_samples=None,\n",
              "                                                    min_impurity_decrease=0.0,\n",
              "                                                    min_impurity_split=None,\n",
              "                                                    min_samples_leaf=1,\n",
              "                                                    min_samples_split=2,\n",
              "                                                    min_weight_fraction_leaf=0.0,\n",
              "                                                    n_estimators=1...\n",
              "       521, 526, 531, 536, 541, 546, 551, 556, 561, 566, 571, 576, 581,\n",
              "       586, 591, 596]),\n",
              "                                        'n_estimators': array([100, 110, 120, 130, 140, 150, 160, 170, 180, 190, 200, 210, 220,\n",
              "       230, 240, 250, 260, 270, 280, 290, 300, 310, 320, 330, 340, 350,\n",
              "       360, 370, 380, 390, 400, 410, 420, 430, 440, 450, 460, 470, 480,\n",
              "       490])},\n",
              "                   pre_dispatch='2*n_jobs', random_state=42, refit=True,\n",
              "                   return_train_score=False, scoring='roc_auc', verbose=3)"
            ]
          },
          "execution_count": 22,
          "metadata": {},
          "output_type": "execute_result"
        }
      ]
    },
    {
      "cell_type": "code",
      "metadata": {
        "scrolled": true,
        "id": "CrfoEPcCxckr",
        "outputId": "d602f685-0c67-4154-904f-a1b7ccaac381"
      },
      "source": [
        "rsrf.best_params_"
      ],
      "id": "CrfoEPcCxckr",
      "execution_count": null,
      "outputs": [
        {
          "data": {
            "text/plain": [
              "{'n_estimators': 410, 'min_samples_leaf': 61, 'max_depth': 210}"
            ]
          },
          "execution_count": 23,
          "metadata": {},
          "output_type": "execute_result"
        }
      ]
    },
    {
      "cell_type": "code",
      "metadata": {
        "id": "ko36b5uOxcks",
        "outputId": "f90c721b-4c0b-498f-b617-36a5bb400856"
      },
      "source": [
        "ypred_rsrf = cross_val_predict(rsrf.best_estimator_, df_listo, df.stroke)\n",
        "confusion_matrix(df.stroke, ypred_rsrf)"
      ],
      "id": "ko36b5uOxcks",
      "execution_count": null,
      "outputs": [
        {
          "data": {
            "text/plain": [
              "array([[2940,  944],\n",
              "       [  81,  123]])"
            ]
          },
          "execution_count": 24,
          "metadata": {},
          "output_type": "execute_result"
        }
      ]
    },
    {
      "cell_type": "code",
      "metadata": {
        "id": "PvWwvzIMxckt",
        "outputId": "5a261336-c061-40d7-c920-8f90d853aaa1"
      },
      "source": [
        "print(accuracy_score(df.stroke, ypred_rsrf))\n",
        "print(recall_score(df.stroke, ypred_rsrf))"
      ],
      "id": "PvWwvzIMxckt",
      "execution_count": null,
      "outputs": [
        {
          "name": "stdout",
          "output_type": "stream",
          "text": [
            "0.74926614481409\n",
            "0.6029411764705882\n"
          ]
        }
      ]
    },
    {
      "cell_type": "code",
      "metadata": {
        "id": "C8yYeIv9xcku",
        "outputId": "1107d6e7-9986-401b-8b35-b4a445111d1e"
      },
      "source": [
        "print(roc_auc_score(df.stroke, ypred_rsrf))"
      ],
      "id": "C8yYeIv9xcku",
      "execution_count": null,
      "outputs": [
        {
          "name": "stdout",
          "output_type": "stream",
          "text": [
            "0.6799463863815352\n"
          ]
        }
      ]
    },
    {
      "cell_type": "markdown",
      "metadata": {
        "id": "TwR8Iw1dOomX"
      },
      "source": [
        "# Boosting\n"
      ],
      "id": "TwR8Iw1dOomX"
    },
    {
      "cell_type": "markdown",
      "metadata": {
        "id": "n2JqSb8umfYG"
      },
      "source": [
        "## AdaBoost\n"
      ],
      "id": "n2JqSb8umfYG"
    },
    {
      "cell_type": "code",
      "metadata": {
        "colab": {
          "base_uri": "https://localhost:8080/"
        },
        "id": "hNWLR9I2Om6l",
        "outputId": "4f8879d1-5088-466f-93ff-510c18bf35c6"
      },
      "source": [
        "from sklearn.ensemble import AdaBoostClassifier, GradientBoostingClassifier\n",
        "from sklearn.linear_model import LogisticRegression\n",
        "from sklearn.tree import DecisionTreeClassifier\n",
        "from sklearn.model_selection import RandomizedSearchCV\n",
        "\n",
        "dt_stump = DecisionTreeClassifier(max_depth=1, min_samples_leaf=1)\n",
        "\n",
        "ada_clf = AdaBoostClassifier(dt_stump, algorithm=\"SAMME.R\", random_state=42)\n",
        "ada_clf.fit(df_listo, df.stroke)\n",
        "param_grid = {\"n_estimators\":np.arange(10,300, 10),\n",
        "              \"learning_rate\": np.linspace(0.1, 1.5, 40)\n",
        "             }\n",
        "\n",
        "rs_ada = RandomizedSearchCV(ada_clf, param_grid, verbose=3, n_iter=35, random_state=42, scoring=\"f1\")\n",
        "rs_ada.fit(df_listo, df.stroke)"
      ],
      "id": "hNWLR9I2Om6l",
      "execution_count": 53,
      "outputs": [
        {
          "output_type": "stream",
          "name": "stdout",
          "text": [
            "Fitting 5 folds for each of 35 candidates, totalling 175 fits\n",
            "[CV] n_estimators=120, learning_rate=0.9615384615384615 ..............\n"
          ]
        },
        {
          "output_type": "stream",
          "name": "stderr",
          "text": [
            "[Parallel(n_jobs=1)]: Using backend SequentialBackend with 1 concurrent workers.\n"
          ]
        },
        {
          "output_type": "stream",
          "name": "stdout",
          "text": [
            "[CV]  n_estimators=120, learning_rate=0.9615384615384615, score=0.000, total=   0.5s\n",
            "[CV] n_estimators=120, learning_rate=0.9615384615384615 ..............\n"
          ]
        },
        {
          "output_type": "stream",
          "name": "stderr",
          "text": [
            "[Parallel(n_jobs=1)]: Done   1 out of   1 | elapsed:    0.5s remaining:    0.0s\n"
          ]
        },
        {
          "output_type": "stream",
          "name": "stdout",
          "text": [
            "[CV]  n_estimators=120, learning_rate=0.9615384615384615, score=0.000, total=   0.5s\n",
            "[CV] n_estimators=120, learning_rate=0.9615384615384615 ..............\n"
          ]
        },
        {
          "output_type": "stream",
          "name": "stderr",
          "text": [
            "[Parallel(n_jobs=1)]: Done   2 out of   2 | elapsed:    0.9s remaining:    0.0s\n"
          ]
        },
        {
          "output_type": "stream",
          "name": "stdout",
          "text": [
            "[CV]  n_estimators=120, learning_rate=0.9615384615384615, score=0.000, total=   0.5s\n",
            "[CV] n_estimators=120, learning_rate=0.9615384615384615 ..............\n",
            "[CV]  n_estimators=120, learning_rate=0.9615384615384615, score=0.042, total=   0.5s\n",
            "[CV] n_estimators=120, learning_rate=0.9615384615384615 ..............\n",
            "[CV]  n_estimators=120, learning_rate=0.9615384615384615, score=0.000, total=   0.4s\n",
            "[CV] n_estimators=210, learning_rate=1.5 .............................\n",
            "[CV] . n_estimators=210, learning_rate=1.5, score=0.000, total=   0.8s\n",
            "[CV] n_estimators=210, learning_rate=1.5 .............................\n",
            "[CV] . n_estimators=210, learning_rate=1.5, score=0.000, total=   0.8s\n",
            "[CV] n_estimators=210, learning_rate=1.5 .............................\n",
            "[CV] . n_estimators=210, learning_rate=1.5, score=0.000, total=   0.8s\n",
            "[CV] n_estimators=210, learning_rate=1.5 .............................\n",
            "[CV] . n_estimators=210, learning_rate=1.5, score=0.083, total=   0.8s\n",
            "[CV] n_estimators=210, learning_rate=1.5 .............................\n",
            "[CV] . n_estimators=210, learning_rate=1.5, score=0.000, total=   0.8s\n",
            "[CV] n_estimators=220, learning_rate=0.6743589743589743 ..............\n",
            "[CV]  n_estimators=220, learning_rate=0.6743589743589743, score=0.000, total=   0.8s\n",
            "[CV] n_estimators=220, learning_rate=0.6743589743589743 ..............\n",
            "[CV]  n_estimators=220, learning_rate=0.6743589743589743, score=0.000, total=   0.8s\n",
            "[CV] n_estimators=220, learning_rate=0.6743589743589743 ..............\n",
            "[CV]  n_estimators=220, learning_rate=0.6743589743589743, score=0.000, total=   0.8s\n",
            "[CV] n_estimators=220, learning_rate=0.6743589743589743 ..............\n",
            "[CV]  n_estimators=220, learning_rate=0.6743589743589743, score=0.043, total=   0.8s\n",
            "[CV] n_estimators=220, learning_rate=0.6743589743589743 ..............\n",
            "[CV]  n_estimators=220, learning_rate=0.6743589743589743, score=0.000, total=   0.8s\n",
            "[CV] n_estimators=210, learning_rate=0.13589743589743591 .............\n",
            "[CV]  n_estimators=210, learning_rate=0.13589743589743591, score=0.000, total=   0.8s\n",
            "[CV] n_estimators=210, learning_rate=0.13589743589743591 .............\n",
            "[CV]  n_estimators=210, learning_rate=0.13589743589743591, score=0.000, total=   0.8s\n",
            "[CV] n_estimators=210, learning_rate=0.13589743589743591 .............\n",
            "[CV]  n_estimators=210, learning_rate=0.13589743589743591, score=0.000, total=   0.8s\n",
            "[CV] n_estimators=210, learning_rate=0.13589743589743591 .............\n",
            "[CV]  n_estimators=210, learning_rate=0.13589743589743591, score=0.000, total=   0.8s\n",
            "[CV] n_estimators=210, learning_rate=0.13589743589743591 .............\n",
            "[CV]  n_estimators=210, learning_rate=0.13589743589743591, score=0.000, total=   0.8s\n",
            "[CV] n_estimators=140, learning_rate=1.2128205128205127 ..............\n",
            "[CV]  n_estimators=140, learning_rate=1.2128205128205127, score=0.000, total=   0.5s\n",
            "[CV] n_estimators=140, learning_rate=1.2128205128205127 ..............\n",
            "[CV]  n_estimators=140, learning_rate=1.2128205128205127, score=0.000, total=   0.5s\n",
            "[CV] n_estimators=140, learning_rate=1.2128205128205127 ..............\n",
            "[CV]  n_estimators=140, learning_rate=1.2128205128205127, score=0.000, total=   0.6s\n",
            "[CV] n_estimators=140, learning_rate=1.2128205128205127 ..............\n",
            "[CV]  n_estimators=140, learning_rate=1.2128205128205127, score=0.042, total=   0.5s\n",
            "[CV] n_estimators=140, learning_rate=1.2128205128205127 ..............\n",
            "[CV]  n_estimators=140, learning_rate=1.2128205128205127, score=0.000, total=   0.6s\n",
            "[CV] n_estimators=180, learning_rate=1.0333333333333332 ..............\n",
            "[CV]  n_estimators=180, learning_rate=1.0333333333333332, score=0.000, total=   0.7s\n",
            "[CV] n_estimators=180, learning_rate=1.0333333333333332 ..............\n",
            "[CV]  n_estimators=180, learning_rate=1.0333333333333332, score=0.000, total=   0.7s\n",
            "[CV] n_estimators=180, learning_rate=1.0333333333333332 ..............\n",
            "[CV]  n_estimators=180, learning_rate=1.0333333333333332, score=0.000, total=   0.7s\n",
            "[CV] n_estimators=180, learning_rate=1.0333333333333332 ..............\n",
            "[CV]  n_estimators=180, learning_rate=1.0333333333333332, score=0.041, total=   0.7s\n",
            "[CV] n_estimators=180, learning_rate=1.0333333333333332 ..............\n",
            "[CV]  n_estimators=180, learning_rate=1.0333333333333332, score=0.000, total=   0.7s\n",
            "[CV] n_estimators=280, learning_rate=0.6025641025641025 ..............\n",
            "[CV]  n_estimators=280, learning_rate=0.6025641025641025, score=0.000, total=   1.1s\n",
            "[CV] n_estimators=280, learning_rate=0.6025641025641025 ..............\n",
            "[CV]  n_estimators=280, learning_rate=0.6025641025641025, score=0.000, total=   1.1s\n",
            "[CV] n_estimators=280, learning_rate=0.6025641025641025 ..............\n",
            "[CV]  n_estimators=280, learning_rate=0.6025641025641025, score=0.000, total=   1.1s\n",
            "[CV] n_estimators=280, learning_rate=0.6025641025641025 ..............\n",
            "[CV]  n_estimators=280, learning_rate=0.6025641025641025, score=0.043, total=   1.1s\n",
            "[CV] n_estimators=280, learning_rate=0.6025641025641025 ..............\n",
            "[CV]  n_estimators=280, learning_rate=0.6025641025641025, score=0.000, total=   1.1s\n",
            "[CV] n_estimators=260, learning_rate=0.2794871794871795 ..............\n",
            "[CV]  n_estimators=260, learning_rate=0.2794871794871795, score=0.000, total=   1.0s\n",
            "[CV] n_estimators=260, learning_rate=0.2794871794871795 ..............\n",
            "[CV]  n_estimators=260, learning_rate=0.2794871794871795, score=0.000, total=   1.0s\n",
            "[CV] n_estimators=260, learning_rate=0.2794871794871795 ..............\n",
            "[CV]  n_estimators=260, learning_rate=0.2794871794871795, score=0.000, total=   1.0s\n",
            "[CV] n_estimators=260, learning_rate=0.2794871794871795 ..............\n",
            "[CV]  n_estimators=260, learning_rate=0.2794871794871795, score=0.047, total=   1.0s\n",
            "[CV] n_estimators=260, learning_rate=0.2794871794871795 ..............\n",
            "[CV]  n_estimators=260, learning_rate=0.2794871794871795, score=0.000, total=   1.0s\n",
            "[CV] n_estimators=10, learning_rate=0.3153846153846154 ...............\n",
            "[CV]  n_estimators=10, learning_rate=0.3153846153846154, score=0.000, total=   0.0s\n",
            "[CV] n_estimators=10, learning_rate=0.3153846153846154 ...............\n",
            "[CV]  n_estimators=10, learning_rate=0.3153846153846154, score=0.000, total=   0.0s\n",
            "[CV] n_estimators=10, learning_rate=0.3153846153846154 ...............\n",
            "[CV]  n_estimators=10, learning_rate=0.3153846153846154, score=0.000, total=   0.0s\n",
            "[CV] n_estimators=10, learning_rate=0.3153846153846154 ...............\n",
            "[CV]  n_estimators=10, learning_rate=0.3153846153846154, score=0.000, total=   0.0s\n",
            "[CV] n_estimators=10, learning_rate=0.3153846153846154 ...............\n",
            "[CV]  n_estimators=10, learning_rate=0.3153846153846154, score=0.000, total=   0.1s\n",
            "[CV] n_estimators=150, learning_rate=0.4948717948717949 ..............\n",
            "[CV]  n_estimators=150, learning_rate=0.4948717948717949, score=0.000, total=   0.6s\n",
            "[CV] n_estimators=150, learning_rate=0.4948717948717949 ..............\n",
            "[CV]  n_estimators=150, learning_rate=0.4948717948717949, score=0.000, total=   0.6s\n",
            "[CV] n_estimators=150, learning_rate=0.4948717948717949 ..............\n",
            "[CV]  n_estimators=150, learning_rate=0.4948717948717949, score=0.000, total=   0.6s\n",
            "[CV] n_estimators=150, learning_rate=0.4948717948717949 ..............\n",
            "[CV]  n_estimators=150, learning_rate=0.4948717948717949, score=0.044, total=   0.6s\n",
            "[CV] n_estimators=150, learning_rate=0.4948717948717949 ..............\n",
            "[CV]  n_estimators=150, learning_rate=0.4948717948717949, score=0.000, total=   0.5s\n",
            "[CV] n_estimators=110, learning_rate=0.6384615384615384 ..............\n",
            "[CV]  n_estimators=110, learning_rate=0.6384615384615384, score=0.000, total=   0.4s\n",
            "[CV] n_estimators=110, learning_rate=0.6384615384615384 ..............\n",
            "[CV]  n_estimators=110, learning_rate=0.6384615384615384, score=0.000, total=   0.4s\n",
            "[CV] n_estimators=110, learning_rate=0.6384615384615384 ..............\n",
            "[CV]  n_estimators=110, learning_rate=0.6384615384615384, score=0.000, total=   0.4s\n",
            "[CV] n_estimators=110, learning_rate=0.6384615384615384 ..............\n",
            "[CV]  n_estimators=110, learning_rate=0.6384615384615384, score=0.044, total=   0.4s\n",
            "[CV] n_estimators=110, learning_rate=0.6384615384615384 ..............\n",
            "[CV]  n_estimators=110, learning_rate=0.6384615384615384, score=0.000, total=   0.4s\n",
            "[CV] n_estimators=160, learning_rate=1.0692307692307692 ..............\n",
            "[CV]  n_estimators=160, learning_rate=1.0692307692307692, score=0.000, total=   0.6s\n",
            "[CV] n_estimators=160, learning_rate=1.0692307692307692 ..............\n",
            "[CV]  n_estimators=160, learning_rate=1.0692307692307692, score=0.000, total=   0.6s\n",
            "[CV] n_estimators=160, learning_rate=1.0692307692307692 ..............\n",
            "[CV]  n_estimators=160, learning_rate=1.0692307692307692, score=0.000, total=   0.6s\n",
            "[CV] n_estimators=160, learning_rate=1.0692307692307692 ..............\n",
            "[CV]  n_estimators=160, learning_rate=1.0692307692307692, score=0.042, total=   0.6s\n",
            "[CV] n_estimators=160, learning_rate=1.0692307692307692 ..............\n",
            "[CV]  n_estimators=160, learning_rate=1.0692307692307692, score=0.000, total=   0.6s\n",
            "[CV] n_estimators=150, learning_rate=0.423076923076923 ...............\n",
            "[CV]  n_estimators=150, learning_rate=0.423076923076923, score=0.000, total=   0.6s\n",
            "[CV] n_estimators=150, learning_rate=0.423076923076923 ...............\n",
            "[CV]  n_estimators=150, learning_rate=0.423076923076923, score=0.000, total=   0.6s\n",
            "[CV] n_estimators=150, learning_rate=0.423076923076923 ...............\n",
            "[CV]  n_estimators=150, learning_rate=0.423076923076923, score=0.000, total=   0.6s\n",
            "[CV] n_estimators=150, learning_rate=0.423076923076923 ...............\n",
            "[CV]  n_estimators=150, learning_rate=0.423076923076923, score=0.047, total=   0.6s\n",
            "[CV] n_estimators=150, learning_rate=0.423076923076923 ...............\n",
            "[CV]  n_estimators=150, learning_rate=0.423076923076923, score=0.000, total=   0.6s\n",
            "[CV] n_estimators=240, learning_rate=1.141025641025641 ...............\n",
            "[CV]  n_estimators=240, learning_rate=1.141025641025641, score=0.000, total=   0.9s\n",
            "[CV] n_estimators=240, learning_rate=1.141025641025641 ...............\n",
            "[CV]  n_estimators=240, learning_rate=1.141025641025641, score=0.000, total=   0.9s\n",
            "[CV] n_estimators=240, learning_rate=1.141025641025641 ...............\n",
            "[CV]  n_estimators=240, learning_rate=1.141025641025641, score=0.000, total=   0.9s\n",
            "[CV] n_estimators=240, learning_rate=1.141025641025641 ...............\n",
            "[CV]  n_estimators=240, learning_rate=1.141025641025641, score=0.041, total=   0.9s\n",
            "[CV] n_estimators=240, learning_rate=1.141025641025641 ...............\n",
            "[CV]  n_estimators=240, learning_rate=1.141025641025641, score=0.000, total=   0.9s\n",
            "[CV] n_estimators=210, learning_rate=0.20769230769230768 .............\n",
            "[CV]  n_estimators=210, learning_rate=0.20769230769230768, score=0.000, total=   0.8s\n",
            "[CV] n_estimators=210, learning_rate=0.20769230769230768 .............\n",
            "[CV]  n_estimators=210, learning_rate=0.20769230769230768, score=0.000, total=   0.8s\n",
            "[CV] n_estimators=210, learning_rate=0.20769230769230768 .............\n",
            "[CV]  n_estimators=210, learning_rate=0.20769230769230768, score=0.000, total=   0.8s\n",
            "[CV] n_estimators=210, learning_rate=0.20769230769230768 .............\n",
            "[CV]  n_estimators=210, learning_rate=0.20769230769230768, score=0.048, total=   0.8s\n",
            "[CV] n_estimators=210, learning_rate=0.20769230769230768 .............\n",
            "[CV]  n_estimators=210, learning_rate=0.20769230769230768, score=0.000, total=   0.8s\n",
            "[CV] n_estimators=190, learning_rate=1.2128205128205127 ..............\n",
            "[CV]  n_estimators=190, learning_rate=1.2128205128205127, score=0.000, total=   0.7s\n",
            "[CV] n_estimators=190, learning_rate=1.2128205128205127 ..............\n",
            "[CV]  n_estimators=190, learning_rate=1.2128205128205127, score=0.000, total=   0.7s\n",
            "[CV] n_estimators=190, learning_rate=1.2128205128205127 ..............\n",
            "[CV]  n_estimators=190, learning_rate=1.2128205128205127, score=0.000, total=   0.7s\n",
            "[CV] n_estimators=190, learning_rate=1.2128205128205127 ..............\n",
            "[CV]  n_estimators=190, learning_rate=1.2128205128205127, score=0.041, total=   0.7s\n",
            "[CV] n_estimators=190, learning_rate=1.2128205128205127 ..............\n",
            "[CV]  n_estimators=190, learning_rate=1.2128205128205127, score=0.000, total=   0.7s\n",
            "[CV] n_estimators=20, learning_rate=0.8179487179487178 ...............\n",
            "[CV]  n_estimators=20, learning_rate=0.8179487179487178, score=0.000, total=   0.1s\n",
            "[CV] n_estimators=20, learning_rate=0.8179487179487178 ...............\n",
            "[CV]  n_estimators=20, learning_rate=0.8179487179487178, score=0.000, total=   0.1s\n",
            "[CV] n_estimators=20, learning_rate=0.8179487179487178 ...............\n",
            "[CV]  n_estimators=20, learning_rate=0.8179487179487178, score=0.000, total=   0.1s\n",
            "[CV] n_estimators=20, learning_rate=0.8179487179487178 ...............\n",
            "[CV]  n_estimators=20, learning_rate=0.8179487179487178, score=0.049, total=   0.1s\n",
            "[CV] n_estimators=20, learning_rate=0.8179487179487178 ...............\n",
            "[CV]  n_estimators=20, learning_rate=0.8179487179487178, score=0.000, total=   0.1s\n",
            "[CV] n_estimators=290, learning_rate=0.5307692307692308 ..............\n",
            "[CV]  n_estimators=290, learning_rate=0.5307692307692308, score=0.000, total=   1.1s\n",
            "[CV] n_estimators=290, learning_rate=0.5307692307692308 ..............\n",
            "[CV]  n_estimators=290, learning_rate=0.5307692307692308, score=0.000, total=   1.1s\n",
            "[CV] n_estimators=290, learning_rate=0.5307692307692308 ..............\n",
            "[CV]  n_estimators=290, learning_rate=0.5307692307692308, score=0.000, total=   1.1s\n",
            "[CV] n_estimators=290, learning_rate=0.5307692307692308 ..............\n",
            "[CV]  n_estimators=290, learning_rate=0.5307692307692308, score=0.043, total=   1.1s\n",
            "[CV] n_estimators=290, learning_rate=0.5307692307692308 ..............\n",
            "[CV]  n_estimators=290, learning_rate=0.5307692307692308, score=0.000, total=   1.1s\n",
            "[CV] n_estimators=220, learning_rate=1.4282051282051282 ..............\n",
            "[CV]  n_estimators=220, learning_rate=1.4282051282051282, score=0.000, total=   0.8s\n",
            "[CV] n_estimators=220, learning_rate=1.4282051282051282 ..............\n",
            "[CV]  n_estimators=220, learning_rate=1.4282051282051282, score=0.043, total=   0.8s\n",
            "[CV] n_estimators=220, learning_rate=1.4282051282051282 ..............\n",
            "[CV]  n_estimators=220, learning_rate=1.4282051282051282, score=0.000, total=   0.8s\n",
            "[CV] n_estimators=220, learning_rate=1.4282051282051282 ..............\n",
            "[CV]  n_estimators=220, learning_rate=1.4282051282051282, score=0.044, total=   0.8s\n",
            "[CV] n_estimators=220, learning_rate=1.4282051282051282 ..............\n",
            "[CV]  n_estimators=220, learning_rate=1.4282051282051282, score=0.000, total=   0.8s\n",
            "[CV] n_estimators=70, learning_rate=0.9256410256410256 ...............\n",
            "[CV]  n_estimators=70, learning_rate=0.9256410256410256, score=0.000, total=   0.3s\n",
            "[CV] n_estimators=70, learning_rate=0.9256410256410256 ...............\n",
            "[CV]  n_estimators=70, learning_rate=0.9256410256410256, score=0.000, total=   0.3s\n",
            "[CV] n_estimators=70, learning_rate=0.9256410256410256 ...............\n",
            "[CV]  n_estimators=70, learning_rate=0.9256410256410256, score=0.000, total=   0.3s\n",
            "[CV] n_estimators=70, learning_rate=0.9256410256410256 ...............\n",
            "[CV]  n_estimators=70, learning_rate=0.9256410256410256, score=0.043, total=   0.3s\n",
            "[CV] n_estimators=70, learning_rate=0.9256410256410256 ...............\n",
            "[CV]  n_estimators=70, learning_rate=0.9256410256410256, score=0.000, total=   0.3s\n",
            "[CV] n_estimators=280, learning_rate=0.7820512820512819 ..............\n",
            "[CV]  n_estimators=280, learning_rate=0.7820512820512819, score=0.000, total=   1.0s\n",
            "[CV] n_estimators=280, learning_rate=0.7820512820512819 ..............\n",
            "[CV]  n_estimators=280, learning_rate=0.7820512820512819, score=0.000, total=   1.0s\n",
            "[CV] n_estimators=280, learning_rate=0.7820512820512819 ..............\n",
            "[CV]  n_estimators=280, learning_rate=0.7820512820512819, score=0.000, total=   1.0s\n",
            "[CV] n_estimators=280, learning_rate=0.7820512820512819 ..............\n",
            "[CV]  n_estimators=280, learning_rate=0.7820512820512819, score=0.043, total=   1.0s\n",
            "[CV] n_estimators=280, learning_rate=0.7820512820512819 ..............\n",
            "[CV]  n_estimators=280, learning_rate=0.7820512820512819, score=0.000, total=   1.0s\n",
            "[CV] n_estimators=180, learning_rate=1.3923076923076922 ..............\n",
            "[CV]  n_estimators=180, learning_rate=1.3923076923076922, score=0.000, total=   0.7s\n",
            "[CV] n_estimators=180, learning_rate=1.3923076923076922 ..............\n",
            "[CV]  n_estimators=180, learning_rate=1.3923076923076922, score=0.000, total=   0.7s\n",
            "[CV] n_estimators=180, learning_rate=1.3923076923076922 ..............\n",
            "[CV]  n_estimators=180, learning_rate=1.3923076923076922, score=0.000, total=   0.7s\n",
            "[CV] n_estimators=180, learning_rate=1.3923076923076922 ..............\n",
            "[CV]  n_estimators=180, learning_rate=1.3923076923076922, score=0.041, total=   0.7s\n",
            "[CV] n_estimators=180, learning_rate=1.3923076923076922 ..............\n",
            "[CV]  n_estimators=180, learning_rate=1.3923076923076922, score=0.000, total=   0.7s\n",
            "[CV] n_estimators=120, learning_rate=0.2794871794871795 ..............\n",
            "[CV]  n_estimators=120, learning_rate=0.2794871794871795, score=0.000, total=   0.5s\n",
            "[CV] n_estimators=120, learning_rate=0.2794871794871795 ..............\n",
            "[CV]  n_estimators=120, learning_rate=0.2794871794871795, score=0.000, total=   0.4s\n",
            "[CV] n_estimators=120, learning_rate=0.2794871794871795 ..............\n",
            "[CV]  n_estimators=120, learning_rate=0.2794871794871795, score=0.000, total=   0.5s\n",
            "[CV] n_estimators=120, learning_rate=0.2794871794871795 ..............\n",
            "[CV]  n_estimators=120, learning_rate=0.2794871794871795, score=0.000, total=   0.4s\n",
            "[CV] n_estimators=120, learning_rate=0.2794871794871795 ..............\n",
            "[CV]  n_estimators=120, learning_rate=0.2794871794871795, score=0.000, total=   0.5s\n",
            "[CV] n_estimators=180, learning_rate=0.4948717948717949 ..............\n",
            "[CV]  n_estimators=180, learning_rate=0.4948717948717949, score=0.000, total=   0.7s\n",
            "[CV] n_estimators=180, learning_rate=0.4948717948717949 ..............\n",
            "[CV]  n_estimators=180, learning_rate=0.4948717948717949, score=0.000, total=   0.7s\n",
            "[CV] n_estimators=180, learning_rate=0.4948717948717949 ..............\n",
            "[CV]  n_estimators=180, learning_rate=0.4948717948717949, score=0.000, total=   0.7s\n",
            "[CV] n_estimators=180, learning_rate=0.4948717948717949 ..............\n",
            "[CV]  n_estimators=180, learning_rate=0.4948717948717949, score=0.043, total=   0.7s\n",
            "[CV] n_estimators=180, learning_rate=0.4948717948717949 ..............\n",
            "[CV]  n_estimators=180, learning_rate=0.4948717948717949, score=0.000, total=   0.7s\n",
            "[CV] n_estimators=130, learning_rate=0.24358974358974358 .............\n",
            "[CV]  n_estimators=130, learning_rate=0.24358974358974358, score=0.000, total=   0.5s\n",
            "[CV] n_estimators=130, learning_rate=0.24358974358974358 .............\n",
            "[CV]  n_estimators=130, learning_rate=0.24358974358974358, score=0.000, total=   0.5s\n",
            "[CV] n_estimators=130, learning_rate=0.24358974358974358 .............\n",
            "[CV]  n_estimators=130, learning_rate=0.24358974358974358, score=0.000, total=   0.5s\n",
            "[CV] n_estimators=130, learning_rate=0.24358974358974358 .............\n",
            "[CV]  n_estimators=130, learning_rate=0.24358974358974358, score=0.000, total=   0.5s\n",
            "[CV] n_estimators=130, learning_rate=0.24358974358974358 .............\n",
            "[CV]  n_estimators=130, learning_rate=0.24358974358974358, score=0.000, total=   0.5s\n",
            "[CV] n_estimators=170, learning_rate=0.9615384615384615 ..............\n",
            "[CV]  n_estimators=170, learning_rate=0.9615384615384615, score=0.000, total=   0.6s\n",
            "[CV] n_estimators=170, learning_rate=0.9615384615384615 ..............\n",
            "[CV]  n_estimators=170, learning_rate=0.9615384615384615, score=0.000, total=   0.6s\n",
            "[CV] n_estimators=170, learning_rate=0.9615384615384615 ..............\n",
            "[CV]  n_estimators=170, learning_rate=0.9615384615384615, score=0.000, total=   0.6s\n",
            "[CV] n_estimators=170, learning_rate=0.9615384615384615 ..............\n",
            "[CV]  n_estimators=170, learning_rate=0.9615384615384615, score=0.042, total=   0.6s\n",
            "[CV] n_estimators=170, learning_rate=0.9615384615384615 ..............\n",
            "[CV]  n_estimators=170, learning_rate=0.9615384615384615, score=0.000, total=   0.6s\n",
            "[CV] n_estimators=150, learning_rate=1.176923076923077 ...............\n",
            "[CV]  n_estimators=150, learning_rate=1.176923076923077, score=0.000, total=   0.6s\n",
            "[CV] n_estimators=150, learning_rate=1.176923076923077 ...............\n",
            "[CV]  n_estimators=150, learning_rate=1.176923076923077, score=0.000, total=   0.6s\n",
            "[CV] n_estimators=150, learning_rate=1.176923076923077 ...............\n",
            "[CV]  n_estimators=150, learning_rate=1.176923076923077, score=0.000, total=   0.6s\n",
            "[CV] n_estimators=150, learning_rate=1.176923076923077 ...............\n",
            "[CV]  n_estimators=150, learning_rate=1.176923076923077, score=0.040, total=   0.5s\n",
            "[CV] n_estimators=150, learning_rate=1.176923076923077 ...............\n",
            "[CV]  n_estimators=150, learning_rate=1.176923076923077, score=0.000, total=   0.6s\n",
            "[CV] n_estimators=190, learning_rate=0.3153846153846154 ..............\n",
            "[CV]  n_estimators=190, learning_rate=0.3153846153846154, score=0.000, total=   0.7s\n",
            "[CV] n_estimators=190, learning_rate=0.3153846153846154 ..............\n",
            "[CV]  n_estimators=190, learning_rate=0.3153846153846154, score=0.000, total=   0.7s\n",
            "[CV] n_estimators=190, learning_rate=0.3153846153846154 ..............\n",
            "[CV]  n_estimators=190, learning_rate=0.3153846153846154, score=0.000, total=   0.7s\n",
            "[CV] n_estimators=190, learning_rate=0.3153846153846154 ..............\n",
            "[CV]  n_estimators=190, learning_rate=0.3153846153846154, score=0.048, total=   0.7s\n",
            "[CV] n_estimators=190, learning_rate=0.3153846153846154 ..............\n",
            "[CV]  n_estimators=190, learning_rate=0.3153846153846154, score=0.000, total=   0.7s\n",
            "[CV] n_estimators=270, learning_rate=0.20769230769230768 .............\n",
            "[CV]  n_estimators=270, learning_rate=0.20769230769230768, score=0.000, total=   1.0s\n",
            "[CV] n_estimators=270, learning_rate=0.20769230769230768 .............\n",
            "[CV]  n_estimators=270, learning_rate=0.20769230769230768, score=0.000, total=   1.0s\n",
            "[CV] n_estimators=270, learning_rate=0.20769230769230768 .............\n",
            "[CV]  n_estimators=270, learning_rate=0.20769230769230768, score=0.000, total=   1.0s\n",
            "[CV] n_estimators=270, learning_rate=0.20769230769230768 .............\n",
            "[CV]  n_estimators=270, learning_rate=0.20769230769230768, score=0.048, total=   1.0s\n",
            "[CV] n_estimators=270, learning_rate=0.20769230769230768 .............\n",
            "[CV]  n_estimators=270, learning_rate=0.20769230769230768, score=0.000, total=   1.0s\n",
            "[CV] n_estimators=270, learning_rate=1.3564102564102565 ..............\n",
            "[CV]  n_estimators=270, learning_rate=1.3564102564102565, score=0.000, total=   1.0s\n",
            "[CV] n_estimators=270, learning_rate=1.3564102564102565 ..............\n",
            "[CV]  n_estimators=270, learning_rate=1.3564102564102565, score=0.000, total=   1.0s\n",
            "[CV] n_estimators=270, learning_rate=1.3564102564102565 ..............\n",
            "[CV]  n_estimators=270, learning_rate=1.3564102564102565, score=0.000, total=   1.0s\n",
            "[CV] n_estimators=270, learning_rate=1.3564102564102565 ..............\n",
            "[CV]  n_estimators=270, learning_rate=1.3564102564102565, score=0.080, total=   1.0s\n",
            "[CV] n_estimators=270, learning_rate=1.3564102564102565 ..............\n",
            "[CV]  n_estimators=270, learning_rate=1.3564102564102565, score=0.000, total=   1.0s\n",
            "[CV] n_estimators=70, learning_rate=0.8897435897435897 ...............\n",
            "[CV]  n_estimators=70, learning_rate=0.8897435897435897, score=0.000, total=   0.3s\n",
            "[CV] n_estimators=70, learning_rate=0.8897435897435897 ...............\n",
            "[CV]  n_estimators=70, learning_rate=0.8897435897435897, score=0.000, total=   0.3s\n",
            "[CV] n_estimators=70, learning_rate=0.8897435897435897 ...............\n",
            "[CV]  n_estimators=70, learning_rate=0.8897435897435897, score=0.000, total=   0.3s\n",
            "[CV] n_estimators=70, learning_rate=0.8897435897435897 ...............\n",
            "[CV]  n_estimators=70, learning_rate=0.8897435897435897, score=0.043, total=   0.3s\n",
            "[CV] n_estimators=70, learning_rate=0.8897435897435897 ...............\n",
            "[CV]  n_estimators=70, learning_rate=0.8897435897435897, score=0.000, total=   0.3s\n",
            "[CV] n_estimators=20, learning_rate=1.141025641025641 ................\n",
            "[CV]  n_estimators=20, learning_rate=1.141025641025641, score=0.000, total=   0.1s\n",
            "[CV] n_estimators=20, learning_rate=1.141025641025641 ................\n",
            "[CV]  n_estimators=20, learning_rate=1.141025641025641, score=0.000, total=   0.1s\n",
            "[CV] n_estimators=20, learning_rate=1.141025641025641 ................\n",
            "[CV]  n_estimators=20, learning_rate=1.141025641025641, score=0.000, total=   0.1s\n",
            "[CV] n_estimators=20, learning_rate=1.141025641025641 ................\n",
            "[CV]  n_estimators=20, learning_rate=1.141025641025641, score=0.043, total=   0.1s\n",
            "[CV] n_estimators=20, learning_rate=1.141025641025641 ................\n",
            "[CV]  n_estimators=20, learning_rate=1.141025641025641, score=0.047, total=   0.1s\n",
            "[CV] n_estimators=180, learning_rate=0.7461538461538461 ..............\n",
            "[CV]  n_estimators=180, learning_rate=0.7461538461538461, score=0.000, total=   0.6s\n",
            "[CV] n_estimators=180, learning_rate=0.7461538461538461 ..............\n",
            "[CV]  n_estimators=180, learning_rate=0.7461538461538461, score=0.000, total=   0.6s\n",
            "[CV] n_estimators=180, learning_rate=0.7461538461538461 ..............\n",
            "[CV]  n_estimators=180, learning_rate=0.7461538461538461, score=0.000, total=   0.7s\n",
            "[CV] n_estimators=180, learning_rate=0.7461538461538461 ..............\n",
            "[CV]  n_estimators=180, learning_rate=0.7461538461538461, score=0.043, total=   0.7s\n",
            "[CV] n_estimators=180, learning_rate=0.7461538461538461 ..............\n",
            "[CV]  n_estimators=180, learning_rate=0.7461538461538461, score=0.000, total=   0.7s\n",
            "[CV] n_estimators=290, learning_rate=0.1717948717948718 ..............\n",
            "[CV]  n_estimators=290, learning_rate=0.1717948717948718, score=0.000, total=   1.1s\n",
            "[CV] n_estimators=290, learning_rate=0.1717948717948718 ..............\n",
            "[CV]  n_estimators=290, learning_rate=0.1717948717948718, score=0.000, total=   1.1s\n",
            "[CV] n_estimators=290, learning_rate=0.1717948717948718 ..............\n",
            "[CV]  n_estimators=290, learning_rate=0.1717948717948718, score=0.000, total=   1.0s\n",
            "[CV] n_estimators=290, learning_rate=0.1717948717948718 ..............\n",
            "[CV]  n_estimators=290, learning_rate=0.1717948717948718, score=0.000, total=   1.1s\n",
            "[CV] n_estimators=290, learning_rate=0.1717948717948718 ..............\n",
            "[CV]  n_estimators=290, learning_rate=0.1717948717948718, score=0.000, total=   1.1s\n",
            "[CV] n_estimators=230, learning_rate=0.20769230769230768 .............\n",
            "[CV]  n_estimators=230, learning_rate=0.20769230769230768, score=0.000, total=   0.8s\n",
            "[CV] n_estimators=230, learning_rate=0.20769230769230768 .............\n",
            "[CV]  n_estimators=230, learning_rate=0.20769230769230768, score=0.000, total=   0.8s\n",
            "[CV] n_estimators=230, learning_rate=0.20769230769230768 .............\n",
            "[CV]  n_estimators=230, learning_rate=0.20769230769230768, score=0.000, total=   0.9s\n",
            "[CV] n_estimators=230, learning_rate=0.20769230769230768 .............\n",
            "[CV]  n_estimators=230, learning_rate=0.20769230769230768, score=0.048, total=   0.8s\n",
            "[CV] n_estimators=230, learning_rate=0.20769230769230768 .............\n",
            "[CV]  n_estimators=230, learning_rate=0.20769230769230768, score=0.000, total=   0.9s\n"
          ]
        },
        {
          "output_type": "stream",
          "name": "stderr",
          "text": [
            "[Parallel(n_jobs=1)]: Done 175 out of 175 | elapsed:  1.9min finished\n"
          ]
        },
        {
          "output_type": "execute_result",
          "data": {
            "text/plain": [
              "RandomizedSearchCV(cv=None, error_score=nan,\n",
              "                   estimator=AdaBoostClassifier(algorithm='SAMME.R',\n",
              "                                                base_estimator=DecisionTreeClassifier(ccp_alpha=0.0,\n",
              "                                                                                      class_weight=None,\n",
              "                                                                                      criterion='gini',\n",
              "                                                                                      max_depth=1,\n",
              "                                                                                      max_features=None,\n",
              "                                                                                      max_leaf_nodes=None,\n",
              "                                                                                      min_impurity_decrease=0.0,\n",
              "                                                                                      min_impurity_split=None,\n",
              "                                                                                      min_samples_leaf=1,\n",
              "                                                                                      min_samples_split=2,\n",
              "                                                                                      min_weight_fraction_leaf=0.0,\n",
              "                                                                                      pre...\n",
              "       0.9974359 , 1.03333333, 1.06923077, 1.10512821, 1.14102564,\n",
              "       1.17692308, 1.21282051, 1.24871795, 1.28461538, 1.32051282,\n",
              "       1.35641026, 1.39230769, 1.42820513, 1.46410256, 1.5       ]),\n",
              "                                        'n_estimators': array([ 10,  20,  30,  40,  50,  60,  70,  80,  90, 100, 110, 120, 130,\n",
              "       140, 150, 160, 170, 180, 190, 200, 210, 220, 230, 240, 250, 260,\n",
              "       270, 280, 290])},\n",
              "                   pre_dispatch='2*n_jobs', random_state=42, refit=True,\n",
              "                   return_train_score=False, scoring='f1', verbose=3)"
            ]
          },
          "metadata": {},
          "execution_count": 53
        }
      ]
    },
    {
      "cell_type": "code",
      "metadata": {
        "colab": {
          "base_uri": "https://localhost:8080/"
        },
        "id": "oaf_PsdoWALp",
        "outputId": "2b90e23d-dbe0-47fd-804b-2c2bb2fbc8d1"
      },
      "source": [
        "rs_ada.best_params_"
      ],
      "id": "oaf_PsdoWALp",
      "execution_count": 54,
      "outputs": [
        {
          "output_type": "execute_result",
          "data": {
            "text/plain": [
              "{'learning_rate': 1.141025641025641, 'n_estimators': 20}"
            ]
          },
          "metadata": {},
          "execution_count": 54
        }
      ]
    },
    {
      "cell_type": "code",
      "metadata": {
        "colab": {
          "base_uri": "https://localhost:8080/"
        },
        "id": "c3JeyI2lWDZd",
        "outputId": "e9ef6aa2-ae36-4161-c168-e909dce21d25"
      },
      "source": [
        "from sklearn.model_selection import cross_val_predict\n",
        "from sklearn.metrics import confusion_matrix\n",
        "ypred_rs_ada = cross_val_predict(rs_ada.best_estimator_, df_listo, df.stroke)\n",
        "confusion_matrix(df.stroke, ypred_rs_ada)"
      ],
      "id": "c3JeyI2lWDZd",
      "execution_count": 55,
      "outputs": [
        {
          "output_type": "execute_result",
          "data": {
            "text/plain": [
              "array([[3872,   12],\n",
              "       [ 202,    2]])"
            ]
          },
          "metadata": {},
          "execution_count": 55
        }
      ]
    },
    {
      "cell_type": "code",
      "metadata": {
        "colab": {
          "base_uri": "https://localhost:8080/"
        },
        "id": "VdiWXGU3WDhU",
        "outputId": "5dbb5963-ddd3-4f19-8008-a970b5cb3121"
      },
      "source": [
        "from sklearn.metrics import accuracy_score, recall_score, roc_auc_score\n",
        "print(accuracy_score(df.stroke, ypred_rs_ada))\n",
        "print(recall_score(df.stroke, ypred_rs_ada))\n",
        "print(roc_auc_score(df.stroke, ypred_rs_ada))"
      ],
      "id": "VdiWXGU3WDhU",
      "execution_count": 56,
      "outputs": [
        {
          "output_type": "stream",
          "name": "stdout",
          "text": [
            "0.9476516634050881\n",
            "0.00980392156862745\n",
            "0.5033571616082065\n"
          ]
        }
      ]
    },
    {
      "cell_type": "markdown",
      "metadata": {
        "id": "7xyE8K-tmkU2"
      },
      "source": [
        "## GradientBoost"
      ],
      "id": "7xyE8K-tmkU2"
    },
    {
      "cell_type": "code",
      "metadata": {
        "id": "B7qZQcHhmkz2"
      },
      "source": [
        ""
      ],
      "id": "B7qZQcHhmkz2",
      "execution_count": null,
      "outputs": []
    },
    {
      "cell_type": "code",
      "metadata": {
        "id": "bowayEUqmlA7"
      },
      "source": [
        ""
      ],
      "id": "bowayEUqmlA7",
      "execution_count": null,
      "outputs": []
    },
    {
      "cell_type": "code",
      "metadata": {
        "id": "Ke1ytvg4mlRr"
      },
      "source": [
        ""
      ],
      "id": "Ke1ytvg4mlRr",
      "execution_count": null,
      "outputs": []
    },
    {
      "cell_type": "code",
      "metadata": {
        "id": "sAdSVj8rmldt"
      },
      "source": [
        ""
      ],
      "id": "sAdSVj8rmldt",
      "execution_count": null,
      "outputs": []
    },
    {
      "cell_type": "markdown",
      "metadata": {
        "id": "3PMMBKOYIYb0"
      },
      "source": [
        "# Red Neuronal Artificial, ANN"
      ],
      "id": "3PMMBKOYIYb0"
    },
    {
      "cell_type": "code",
      "metadata": {
        "id": "zUnrG_fdIYb1",
        "scrolled": true
      },
      "source": [
        "from tensorflow import keras\n",
        "import tensorflow as tf"
      ],
      "id": "zUnrG_fdIYb1",
      "execution_count": 14,
      "outputs": []
    },
    {
      "cell_type": "code",
      "metadata": {
        "id": "hhBgKpvHM2ZU"
      },
      "source": [
        "from sklearn.model_selection import train_test_split\n",
        "X_train, X_val, t_train, t_val = train_test_split(df_listo, df.stroke, test_size=0.15)"
      ],
      "id": "hhBgKpvHM2ZU",
      "execution_count": 15,
      "outputs": []
    },
    {
      "cell_type": "code",
      "metadata": {
        "id": "J-eOLiwYIYb2"
      },
      "source": [
        "keras.backend.clear_session()\n",
        "np.random.seed(42)\n",
        "tf.random.set_seed(42)"
      ],
      "id": "J-eOLiwYIYb2",
      "execution_count": 16,
      "outputs": []
    },
    {
      "cell_type": "code",
      "metadata": {
        "id": "ZkfwLWfWIYb3"
      },
      "source": [
        "#Definimos una capa especial, que es la entrada del modelo:\n",
        "input_ = keras.layers.Input(shape=[df_listo.shape[1]])\n",
        "#Luego se instancia cada capa y se aplica como una función a la salida de la capa anterior\n",
        "\n",
        "hidden1 = keras.layers.Dense(40, activation=\"relu\")(input_)\n",
        "drop1 = keras.layers.Dropout(0.2)(hidden1)\n",
        "hidden2 = keras.layers.Dense(20, activation=\"relu\")(drop1)\n",
        "drop2 = keras.layers.Dropout(0.2)(hidden2)\n",
        "hidden3 = keras.layers.Dense(10, activation=\"relu\")(drop2)\n",
        "drop3 = keras.layers.Dropout(0.2)(hidden3)\n",
        "output = keras.layers.Dense(1, activation=\"sigmoid\")(drop3)\n",
        "\n",
        "#Cuando se haya llegado a las las salidas, podemos definir el modelo:\n",
        "model = keras.models.Model(inputs=[input_], outputs=[output])"
      ],
      "id": "ZkfwLWfWIYb3",
      "execution_count": 17,
      "outputs": []
    },
    {
      "cell_type": "code",
      "metadata": {
        "id": "ALxT5polJ8M2"
      },
      "source": [
        "early = keras.callbacks.EarlyStopping(patience=17, restore_best_weights=True)\n",
        "model.compile(loss=\"binary_crossentropy\",\n",
        "              optimizer=\"sgd\",\n",
        "              metrics=[\"accuracy\",])"
      ],
      "id": "ALxT5polJ8M2",
      "execution_count": 18,
      "outputs": []
    },
    {
      "cell_type": "code",
      "metadata": {
        "colab": {
          "base_uri": "https://localhost:8080/"
        },
        "id": "jZkS9AjwKANx",
        "outputId": "946bb2a9-115d-4d85-9b31-2f49625b4260"
      },
      "source": [
        "#Cuantas capas hay?\n",
        "model.layers"
      ],
      "id": "jZkS9AjwKANx",
      "execution_count": null,
      "outputs": [
        {
          "output_type": "execute_result",
          "data": {
            "text/plain": [
              "[<keras.engine.input_layer.InputLayer at 0x7fa7eafba390>,\n",
              " <keras.layers.core.Dense at 0x7fa832e76490>,\n",
              " <keras.layers.core.Dropout at 0x7fa7eafc3810>,\n",
              " <keras.layers.core.Dense at 0x7fa7eafc3e10>,\n",
              " <keras.layers.core.Dropout at 0x7fa7eaf648d0>,\n",
              " <keras.layers.core.Dense at 0x7fa7e7758c50>,\n",
              " <keras.layers.core.Dropout at 0x7fa7eafc3b10>,\n",
              " <keras.layers.core.Dense at 0x7fa7e774f950>]"
            ]
          },
          "metadata": {},
          "execution_count": 24
        }
      ]
    },
    {
      "cell_type": "code",
      "metadata": {
        "colab": {
          "base_uri": "https://localhost:8080/"
        },
        "id": "O5iK8omfLb9P",
        "outputId": "6d8982f2-3edb-4258-d189-5d573b699a3b"
      },
      "source": [
        "#cómo es el modelo?\n",
        "model.summary()"
      ],
      "id": "O5iK8omfLb9P",
      "execution_count": null,
      "outputs": [
        {
          "output_type": "stream",
          "name": "stdout",
          "text": [
            "Model: \"model\"\n",
            "_________________________________________________________________\n",
            "Layer (type)                 Output Shape              Param #   \n",
            "=================================================================\n",
            "input_1 (InputLayer)         [(None, 16)]              0         \n",
            "_________________________________________________________________\n",
            "dense (Dense)                (None, 40)                680       \n",
            "_________________________________________________________________\n",
            "dropout (Dropout)            (None, 40)                0         \n",
            "_________________________________________________________________\n",
            "dense_1 (Dense)              (None, 20)                820       \n",
            "_________________________________________________________________\n",
            "dropout_1 (Dropout)          (None, 20)                0         \n",
            "_________________________________________________________________\n",
            "dense_2 (Dense)              (None, 10)                210       \n",
            "_________________________________________________________________\n",
            "dropout_2 (Dropout)          (None, 10)                0         \n",
            "_________________________________________________________________\n",
            "dense_3 (Dense)              (None, 1)                 11        \n",
            "=================================================================\n",
            "Total params: 1,721\n",
            "Trainable params: 1,721\n",
            "Non-trainable params: 0\n",
            "_________________________________________________________________\n"
          ]
        }
      ]
    },
    {
      "cell_type": "code",
      "metadata": {
        "colab": {
          "base_uri": "https://localhost:8080/"
        },
        "id": "Pf1026uyL5I2",
        "outputId": "a865d3f3-749d-415f-bfd7-5fdaf24fb477"
      },
      "source": [
        "pesos = {0:1.0, 1:25}\n",
        "history = model.fit(epochs=100, batch_size=32, x=X_train, y= t_train, validation_data=(X_val, t_val), \n",
        "                    callbacks=[early,], class_weight=pesos)"
      ],
      "id": "Pf1026uyL5I2",
      "execution_count": null,
      "outputs": [
        {
          "output_type": "stream",
          "name": "stdout",
          "text": [
            "Epoch 1/100\n",
            "109/109 [==============================] - 1s 4ms/step - loss: 1.5144 - accuracy: 0.2355 - val_loss: 0.7921 - val_accuracy: 0.0570\n",
            "Epoch 2/100\n",
            "109/109 [==============================] - 0s 2ms/step - loss: 1.4982 - accuracy: 0.1163 - val_loss: 0.7984 - val_accuracy: 0.0619\n",
            "Epoch 3/100\n",
            "109/109 [==============================] - 0s 2ms/step - loss: 1.4659 - accuracy: 0.1298 - val_loss: 0.7863 - val_accuracy: 0.1254\n",
            "Epoch 4/100\n",
            "109/109 [==============================] - 0s 2ms/step - loss: 1.4311 - accuracy: 0.1851 - val_loss: 0.8043 - val_accuracy: 0.1922\n",
            "Epoch 5/100\n",
            "109/109 [==============================] - 0s 2ms/step - loss: 1.4401 - accuracy: 0.3054 - val_loss: 0.8347 - val_accuracy: 0.2068\n",
            "Epoch 6/100\n",
            "109/109 [==============================] - 0s 2ms/step - loss: 1.4183 - accuracy: 0.3719 - val_loss: 0.7972 - val_accuracy: 0.3876\n",
            "Epoch 7/100\n",
            "109/109 [==============================] - 0s 2ms/step - loss: 1.3929 - accuracy: 0.4355 - val_loss: 0.7869 - val_accuracy: 0.4577\n",
            "Epoch 8/100\n",
            "109/109 [==============================] - 0s 2ms/step - loss: 1.4054 - accuracy: 0.4876 - val_loss: 0.7516 - val_accuracy: 0.5489\n",
            "Epoch 9/100\n",
            "109/109 [==============================] - 0s 2ms/step - loss: 1.3969 - accuracy: 0.5518 - val_loss: 0.7887 - val_accuracy: 0.4935\n",
            "Epoch 10/100\n",
            "109/109 [==============================] - 0s 2ms/step - loss: 1.3902 - accuracy: 0.5199 - val_loss: 0.7355 - val_accuracy: 0.5700\n",
            "Epoch 11/100\n",
            "109/109 [==============================] - 0s 2ms/step - loss: 1.3760 - accuracy: 0.5659 - val_loss: 0.7508 - val_accuracy: 0.5619\n",
            "Epoch 12/100\n",
            "109/109 [==============================] - 0s 2ms/step - loss: 1.3693 - accuracy: 0.5599 - val_loss: 0.7229 - val_accuracy: 0.6091\n",
            "Epoch 13/100\n",
            "109/109 [==============================] - 0s 2ms/step - loss: 1.3535 - accuracy: 0.6054 - val_loss: 0.7569 - val_accuracy: 0.5619\n",
            "Epoch 14/100\n",
            "109/109 [==============================] - 0s 2ms/step - loss: 1.3764 - accuracy: 0.6111 - val_loss: 0.7514 - val_accuracy: 0.5586\n",
            "Epoch 15/100\n",
            "109/109 [==============================] - 0s 2ms/step - loss: 1.3669 - accuracy: 0.5921 - val_loss: 0.7374 - val_accuracy: 0.5749\n",
            "Epoch 16/100\n",
            "109/109 [==============================] - 0s 2ms/step - loss: 1.3552 - accuracy: 0.5947 - val_loss: 0.6815 - val_accuracy: 0.6498\n",
            "Epoch 17/100\n",
            "109/109 [==============================] - 0s 2ms/step - loss: 1.3767 - accuracy: 0.5973 - val_loss: 0.7181 - val_accuracy: 0.5928\n",
            "Epoch 18/100\n",
            "109/109 [==============================] - 0s 2ms/step - loss: 1.3529 - accuracy: 0.6051 - val_loss: 0.7157 - val_accuracy: 0.5879\n",
            "Epoch 19/100\n",
            "109/109 [==============================] - 0s 2ms/step - loss: 1.3440 - accuracy: 0.5665 - val_loss: 0.7019 - val_accuracy: 0.5847\n",
            "Epoch 20/100\n",
            "109/109 [==============================] - 0s 2ms/step - loss: 1.3385 - accuracy: 0.5898 - val_loss: 0.6854 - val_accuracy: 0.6042\n",
            "Epoch 21/100\n",
            "109/109 [==============================] - 0s 2ms/step - loss: 1.3485 - accuracy: 0.6051 - val_loss: 0.7233 - val_accuracy: 0.5765\n",
            "Epoch 22/100\n",
            "109/109 [==============================] - 0s 2ms/step - loss: 1.3337 - accuracy: 0.5892 - val_loss: 0.7259 - val_accuracy: 0.5765\n",
            "Epoch 23/100\n",
            "109/109 [==============================] - 0s 2ms/step - loss: 1.3066 - accuracy: 0.5941 - val_loss: 0.6761 - val_accuracy: 0.6107\n",
            "Epoch 24/100\n",
            "109/109 [==============================] - 0s 2ms/step - loss: 1.3201 - accuracy: 0.5895 - val_loss: 0.6839 - val_accuracy: 0.5961\n",
            "Epoch 25/100\n",
            "109/109 [==============================] - 0s 2ms/step - loss: 1.2711 - accuracy: 0.5743 - val_loss: 0.6268 - val_accuracy: 0.6417\n",
            "Epoch 26/100\n",
            "109/109 [==============================] - 0s 2ms/step - loss: 1.3196 - accuracy: 0.6128 - val_loss: 0.7087 - val_accuracy: 0.5554\n",
            "Epoch 27/100\n",
            "109/109 [==============================] - 0s 2ms/step - loss: 1.2716 - accuracy: 0.5682 - val_loss: 0.6946 - val_accuracy: 0.5635\n",
            "Epoch 28/100\n",
            "109/109 [==============================] - 0s 2ms/step - loss: 1.2644 - accuracy: 0.5849 - val_loss: 0.7676 - val_accuracy: 0.4593\n",
            "Epoch 29/100\n",
            "109/109 [==============================] - 0s 2ms/step - loss: 1.2990 - accuracy: 0.5728 - val_loss: 0.7095 - val_accuracy: 0.5456\n",
            "Epoch 30/100\n",
            "109/109 [==============================] - 0s 2ms/step - loss: 1.2665 - accuracy: 0.5875 - val_loss: 0.6897 - val_accuracy: 0.5537\n",
            "Epoch 31/100\n",
            "109/109 [==============================] - 0s 2ms/step - loss: 1.2779 - accuracy: 0.5777 - val_loss: 0.6472 - val_accuracy: 0.6189\n",
            "Epoch 32/100\n",
            "109/109 [==============================] - 0s 2ms/step - loss: 1.2544 - accuracy: 0.6177 - val_loss: 0.6548 - val_accuracy: 0.6140\n",
            "Epoch 33/100\n",
            "109/109 [==============================] - 0s 2ms/step - loss: 1.2523 - accuracy: 0.6007 - val_loss: 0.6419 - val_accuracy: 0.6156\n",
            "Epoch 34/100\n",
            "109/109 [==============================] - 0s 2ms/step - loss: 1.2521 - accuracy: 0.5838 - val_loss: 0.7354 - val_accuracy: 0.4821\n",
            "Epoch 35/100\n",
            "109/109 [==============================] - 0s 2ms/step - loss: 1.2459 - accuracy: 0.5501 - val_loss: 0.6811 - val_accuracy: 0.5423\n",
            "Epoch 36/100\n",
            "109/109 [==============================] - 0s 2ms/step - loss: 1.2394 - accuracy: 0.5645 - val_loss: 0.6457 - val_accuracy: 0.5928\n",
            "Epoch 37/100\n",
            "109/109 [==============================] - 0s 2ms/step - loss: 1.2141 - accuracy: 0.5884 - val_loss: 0.6869 - val_accuracy: 0.5505\n",
            "Epoch 38/100\n",
            "109/109 [==============================] - 0s 2ms/step - loss: 1.1999 - accuracy: 0.5852 - val_loss: 0.6242 - val_accuracy: 0.6205\n",
            "Epoch 39/100\n",
            "109/109 [==============================] - 0s 2ms/step - loss: 1.2387 - accuracy: 0.5984 - val_loss: 0.6451 - val_accuracy: 0.6107\n",
            "Epoch 40/100\n",
            "109/109 [==============================] - 0s 2ms/step - loss: 1.2073 - accuracy: 0.5858 - val_loss: 0.5609 - val_accuracy: 0.6922\n",
            "Epoch 41/100\n",
            "109/109 [==============================] - 0s 2ms/step - loss: 1.2245 - accuracy: 0.5907 - val_loss: 0.6303 - val_accuracy: 0.6254\n",
            "Epoch 42/100\n",
            "109/109 [==============================] - 0s 2ms/step - loss: 1.2299 - accuracy: 0.5936 - val_loss: 0.6420 - val_accuracy: 0.5945\n",
            "Epoch 43/100\n",
            "109/109 [==============================] - 0s 2ms/step - loss: 1.1996 - accuracy: 0.5780 - val_loss: 0.6631 - val_accuracy: 0.5603\n",
            "Epoch 44/100\n",
            "109/109 [==============================] - 0s 2ms/step - loss: 1.1968 - accuracy: 0.5648 - val_loss: 0.5786 - val_accuracy: 0.6645\n",
            "Epoch 45/100\n",
            "109/109 [==============================] - 0s 2ms/step - loss: 1.2497 - accuracy: 0.5584 - val_loss: 0.6538 - val_accuracy: 0.5391\n",
            "Epoch 46/100\n",
            "109/109 [==============================] - 0s 2ms/step - loss: 1.2242 - accuracy: 0.5466 - val_loss: 0.6091 - val_accuracy: 0.6287\n",
            "Epoch 47/100\n",
            "109/109 [==============================] - 0s 2ms/step - loss: 1.1899 - accuracy: 0.5953 - val_loss: 0.6609 - val_accuracy: 0.5668\n",
            "Epoch 48/100\n",
            "109/109 [==============================] - 0s 2ms/step - loss: 1.2045 - accuracy: 0.5567 - val_loss: 0.6749 - val_accuracy: 0.5277\n",
            "Epoch 49/100\n",
            "109/109 [==============================] - 0s 2ms/step - loss: 1.1964 - accuracy: 0.5717 - val_loss: 0.6366 - val_accuracy: 0.5684\n",
            "Epoch 50/100\n",
            "109/109 [==============================] - 0s 2ms/step - loss: 1.1968 - accuracy: 0.5999 - val_loss: 0.7003 - val_accuracy: 0.5375\n",
            "Epoch 51/100\n",
            "109/109 [==============================] - 0s 2ms/step - loss: 1.1977 - accuracy: 0.5625 - val_loss: 0.6407 - val_accuracy: 0.5928\n",
            "Epoch 52/100\n",
            "109/109 [==============================] - 0s 2ms/step - loss: 1.2047 - accuracy: 0.5558 - val_loss: 0.7034 - val_accuracy: 0.4837\n",
            "Epoch 53/100\n",
            "109/109 [==============================] - 0s 2ms/step - loss: 1.1875 - accuracy: 0.5423 - val_loss: 0.6111 - val_accuracy: 0.6059\n",
            "Epoch 54/100\n",
            "109/109 [==============================] - 0s 2ms/step - loss: 1.2170 - accuracy: 0.5717 - val_loss: 0.6330 - val_accuracy: 0.6075\n",
            "Epoch 55/100\n",
            "109/109 [==============================] - 0s 2ms/step - loss: 1.1870 - accuracy: 0.5815 - val_loss: 0.6730 - val_accuracy: 0.5554\n",
            "Epoch 56/100\n",
            "109/109 [==============================] - 0s 2ms/step - loss: 1.1732 - accuracy: 0.5576 - val_loss: 0.6050 - val_accuracy: 0.6417\n",
            "Epoch 57/100\n",
            "109/109 [==============================] - 0s 2ms/step - loss: 1.1725 - accuracy: 0.5910 - val_loss: 0.5842 - val_accuracy: 0.6580\n"
          ]
        }
      ]
    },
    {
      "cell_type": "code",
      "metadata": {
        "colab": {
          "base_uri": "https://localhost:8080/",
          "height": 282
        },
        "id": "97jjRH7K6pJl",
        "outputId": "b24eb24e-c36a-4313-f8c6-f040cc12e19a"
      },
      "source": [
        "history.history.keys()\n",
        "plt.plot(history.history.get('val_loss'), label=\"validation\")\n",
        "plt.plot(history.history.get('loss'), label=\"train\")\n",
        "plt.legend()"
      ],
      "id": "97jjRH7K6pJl",
      "execution_count": null,
      "outputs": [
        {
          "output_type": "execute_result",
          "data": {
            "text/plain": [
              "<matplotlib.legend.Legend at 0x7fa7e5c45910>"
            ]
          },
          "metadata": {},
          "execution_count": 27
        },
        {
          "output_type": "display_data",
          "data": {
            "image/png": "[encoded data removed]",
            "text/plain": [
              "<Figure size 432x288 with 1 Axes>"
            ]
          },
          "metadata": {
            "needs_background": "light"
          }
        }
      ]
    },
    {
      "cell_type": "code",
      "metadata": {
        "id": "8bsQNe04OIYZ"
      },
      "source": [
        "y_pred_score = model.predict(X_val)\n",
        "y_pred = np.zeros(len(y_pred_score))\n",
        "for i in range(len(y_pred_score)):\n",
        "    if(y_pred_score[i,0] > 0.5 ):\n",
        "        y_pred[i] = 1"
      ],
      "id": "8bsQNe04OIYZ",
      "execution_count": null,
      "outputs": []
    },
    {
      "cell_type": "code",
      "metadata": {
        "colab": {
          "base_uri": "https://localhost:8080/"
        },
        "id": "um5ZAgzyYFIt",
        "outputId": "bda4a6c4-d6ed-45e7-bbd7-b46b8550a2ae"
      },
      "source": [
        "model.evaluate(X_val, t_val)"
      ],
      "id": "um5ZAgzyYFIt",
      "execution_count": null,
      "outputs": [
        {
          "output_type": "stream",
          "name": "stdout",
          "text": [
            "20/20 [==============================] - 0s 1ms/step - loss: 0.5609 - accuracy: 0.6922\n"
          ]
        },
        {
          "output_type": "execute_result",
          "data": {
            "text/plain": [
              "[0.5609360933303833, 0.6921824216842651]"
            ]
          },
          "metadata": {},
          "execution_count": 37
        }
      ]
    },
    {
      "cell_type": "code",
      "metadata": {
        "colab": {
          "base_uri": "https://localhost:8080/"
        },
        "id": "SPqg3Qtd7jb2",
        "outputId": "58214182-b932-411f-ec7e-6a449fc1b744"
      },
      "source": [
        "from sklearn.metrics import confusion_matrix\n",
        "confusion_matrix(t_val, y_pred)"
      ],
      "id": "SPqg3Qtd7jb2",
      "execution_count": null,
      "outputs": [
        {
          "output_type": "execute_result",
          "data": {
            "text/plain": [
              "array([[404, 178],\n",
              "       [ 11,  21]])"
            ]
          },
          "metadata": {},
          "execution_count": 38
        }
      ]
    },
    {
      "cell_type": "code",
      "metadata": {
        "colab": {
          "base_uri": "https://localhost:8080/"
        },
        "id": "sCbuZhuxyPnJ",
        "outputId": "52ef7f58-7cc5-4efa-ea20-d34c0eab1b30"
      },
      "source": [
        "print(accuracy_score(t_val, y_pred))\n",
        "print(recall_score(t_val, y_pred))\n",
        "print(roc_auc_score(t_val, y_pred))"
      ],
      "id": "sCbuZhuxyPnJ",
      "execution_count": null,
      "outputs": [
        {
          "output_type": "stream",
          "name": "stdout",
          "text": [
            "0.6921824104234527\n",
            "0.65625\n",
            "0.6752040378006873\n"
          ]
        }
      ]
    },
    {
      "cell_type": "markdown",
      "metadata": {
        "id": "Cwg1M-fJx7P2"
      },
      "source": [
        ""
      ],
      "id": "Cwg1M-fJx7P2"
    },
    {
      "cell_type": "code",
      "metadata": {
        "colab": {
          "base_uri": "https://localhost:8080/"
        },
        "id": "oQ76WtT2OSX5",
        "outputId": "f52ad902-c093-4d0a-9b81-e17b59675ce5"
      },
      "source": [
        "#No correr\n",
        "confusion_matrix(df.stroke, y_pred)#no olvidar que use una red con dos capas dense una de 300 y otra de 100 y pesos 0:1 1:100\n",
        "#[1657, 2227],\n",
        "#[   9,  195]"
      ],
      "id": "oQ76WtT2OSX5",
      "execution_count": null,
      "outputs": [
        {
          "output_type": "execute_result",
          "data": {
            "text/plain": [
              "array([[2645, 1239],\n",
              "       [  48,  156]])"
            ]
          },
          "metadata": {},
          "execution_count": 31
        }
      ]
    }
  ]
}