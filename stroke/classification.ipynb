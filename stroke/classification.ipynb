{
  "nbformat": 4,
  "nbformat_minor": 5,
  "metadata": {
    "kernelspec": {
      "display_name": "Python 3",
      "language": "python",
      "name": "python3"
    },
    "language_info": {
      "codemirror_mode": {
        "name": "ipython",
        "version": 3
      },
      "file_extension": ".py",
      "mimetype": "text/x-python",
      "name": "python",
      "nbconvert_exporter": "python",
      "pygments_lexer": "ipython3",
      "version": "3.7.6"
    },
    "colab": {
      "name": "classification.ipynb",
      "provenance": [],
      "collapsed_sections": [
        "08SPYp5rxckY",
        "b6xB4yWQxckl",
        "C-0CtBrIxckp",
        "n2JqSb8umfYG",
        "7xyE8K-tmkU2"
      ]
    }
  },
  "cells": [
    {
      "cell_type": "code",
      "metadata": {
        "id": "m8C1OJ3XxcjL"
      },
      "source": [
        "# IMPORTS\n",
        "import numpy as np\n",
        "import pandas as pd\n",
        "from matplotlib import pyplot as plt\n",
        "%matplotlib inline"
      ],
      "id": "m8C1OJ3XxcjL",
      "execution_count": null,
      "outputs": []
    },
    {
      "cell_type": "code",
      "metadata": {
        "id": "gAkyvENdxcjo"
      },
      "source": [
        "# DATASET\n",
        "df = pd.read_csv(\"./healthcare-dataset-stroke-data_train.csv\")\n",
        "df.drop([\"id\", \"Unnamed: 0\"], axis=1, inplace=True)"
      ],
      "id": "gAkyvENdxcjo",
      "execution_count": null,
      "outputs": []
    },
    {
      "cell_type": "markdown",
      "metadata": {
        "id": "HjvxQLcWxcjq"
      },
      "source": [
        "### BMI por edad (medianas)\n",
        "* Hasta:  10 años - BMI: 18.30  \n",
        "* Hasta:  20 años - BMI: 23.80  \n",
        "* Hasta:  30 años - BMI: 26.70  \n",
        "* Hasta:  40 años - BMI: 29.70  \n",
        "* Hasta:  50 años - BMI: 30.00  \n",
        "* Hasta:  60 años - BMI: 30.90  \n",
        "* Hasta:  70 años - BMI: 30.00  \n",
        "* Mayor 70 años - BMI: 28.30  \n",
        "* Mayor 30 años - BMI: 29.80  \n",
        "\n",
        "Hago grupos hasta 10, hasta 20, hasta 30 y mayor a 30 para rellenar NaNs."
      ],
      "id": "HjvxQLcWxcjq"
    },
    {
      "cell_type": "code",
      "metadata": {
        "id": "1Pc6curNxcjz"
      },
      "source": [
        "bmi_fill = {\n",
        "    \"hasta_10\": 18.3,\n",
        "    \"hasta_20\": 23.8,\n",
        "    \"hasta_30\": 26.7,\n",
        "    \"mayor_30\": 29.8,\n",
        "}"
      ],
      "id": "1Pc6curNxcjz",
      "execution_count": null,
      "outputs": []
    },
    {
      "cell_type": "code",
      "metadata": {
        "colab": {
          "base_uri": "https://localhost:8080/"
        },
        "id": "3Se5OHD8xcj2",
        "outputId": "21bc77db-ecd2-4b36-c1c0-61c4bbfd2ab1"
      },
      "source": [
        "# LLENO NaNs SEGUN EDAD\n",
        "df.bmi.fillna(0, inplace=True)\n",
        "for i in range(len(df)):\n",
        "    if df.bmi.iloc[i] == 0:\n",
        "        if (df.age.iloc[i]<=10):\n",
        "            df.bmi.iloc[i] = bmi_fill[\"hasta_10\"]\n",
        "        elif (df.age.loc[i]<=20)&(df.age.loc[i]>10):\n",
        "            df.bmi.iloc[i] = bmi_fill[\"hasta_20\"]\n",
        "        elif (df.age.loc[i]<=30)&(df.age.loc[i]>20):\n",
        "            df.bmi.iloc[i] = bmi_fill[\"hasta_30\"]\n",
        "        else:\n",
        "            df.bmi.iloc[i] = bmi_fill[\"mayor_30\"]"
      ],
      "id": "3Se5OHD8xcj2",
      "execution_count": null,
      "outputs": [
        {
          "output_type": "stream",
          "name": "stderr",
          "text": [
            "/usr/local/lib/python3.7/dist-packages/pandas/core/indexing.py:670: SettingWithCopyWarning: \n",
            "A value is trying to be set on a copy of a slice from a DataFrame\n",
            "\n",
            "See the caveats in the documentation: https://pandas.pydata.org/pandas-docs/stable/user_guide/indexing.html#returning-a-view-versus-a-copy\n",
            "  iloc._setitem_with_indexer(indexer, value)\n"
          ]
        }
      ]
    },
    {
      "cell_type": "markdown",
      "metadata": {
        "id": "VOkSIvkzxcj_"
      },
      "source": [
        "## ENCODING"
      ],
      "id": "VOkSIvkzxcj_"
    },
    {
      "cell_type": "code",
      "metadata": {
        "id": "xuJpLR1_xckE"
      },
      "source": [
        "from sklearn.preprocessing import OneHotEncoder, StandardScaler, LabelEncoder"
      ],
      "id": "xuJpLR1_xckE",
      "execution_count": null,
      "outputs": []
    },
    {
      "cell_type": "markdown",
      "metadata": {
        "id": "Nk275IT_xckG"
      },
      "source": [
        "## La idea ahora sería hacerle OHE a work_type y smoking_status; y label encoding a gender y Residence_type, y después probar de nuevo los modelos.  \n",
        "Quizás habría que usar el ColumnTransformer?"
      ],
      "id": "Nk275IT_xckG"
    },
    {
      "cell_type": "code",
      "metadata": {
        "id": "aplNg1wxxckI"
      },
      "source": [
        "ohe_cols = [\"work_type\", \"smoking_status\"]\n",
        "label_cols = [\"gender\", \"ever_married\", \"Residence_type\"]\n",
        "cat_cols = ohe_cols+label_cols\n",
        "num_cols = [\"avg_glucose_level\", \"bmi\"]"
      ],
      "id": "aplNg1wxxckI",
      "execution_count": null,
      "outputs": []
    },
    {
      "cell_type": "code",
      "metadata": {
        "id": "Aj2XlTZtxckL"
      },
      "source": [
        "from sklearn.pipeline import Pipeline\n",
        "from sklearn.compose import ColumnTransformer\n",
        "\n",
        "class ModifiedLabelEncoder(LabelEncoder):\n",
        "\n",
        "    def fit_transform(self, y, *args, **kwargs):\n",
        "        return super().fit_transform(y).reshape(-1, 1)\n",
        "\n",
        "    def transform(self, y, *args, **kwargs):\n",
        "        return super().transform(y).reshape(-1, 1)\n",
        "\n",
        "# num_pipeline = Pipeline([\"std_scaler\", StandardScaler()])\n",
        "\n",
        "# label_pipeline = Pipeline([\"label_enc\", LabelEncoder()])\n",
        "\n",
        "# ohe_pipeline = Pipeline([\"ohe\", OneHotEncoder()])\n",
        "\n",
        "full_pipeline = ColumnTransformer([\n",
        "    (\"num\", StandardScaler(), num_cols),\n",
        "    (\"ohe\", OneHotEncoder(), ohe_cols),\n",
        "    (\"label_1\", ModifiedLabelEncoder(), label_cols[0]),\n",
        "    (\"label_2\", ModifiedLabelEncoder(), label_cols[1]),\n",
        "    (\"label_3\", ModifiedLabelEncoder(), label_cols[2]),\n",
        "])"
      ],
      "id": "Aj2XlTZtxckL",
      "execution_count": null,
      "outputs": []
    },
    {
      "cell_type": "code",
      "metadata": {
        "scrolled": false,
        "id": "olrfrtiNxckN"
      },
      "source": [
        "df_prepared = full_pipeline.fit_transform(df)"
      ],
      "id": "olrfrtiNxckN",
      "execution_count": null,
      "outputs": []
    },
    {
      "cell_type": "code",
      "metadata": {
        "scrolled": false,
        "id": "ln8UDfbzxckR"
      },
      "source": [
        "df_processed = pd.DataFrame(df_prepared)\n",
        "# df_processed.columns = num_cols + ohe_cols + label_cols"
      ],
      "id": "ln8UDfbzxckR",
      "execution_count": null,
      "outputs": []
    },
    {
      "cell_type": "code",
      "metadata": {
        "scrolled": true,
        "colab": {
          "base_uri": "https://localhost:8080/"
        },
        "id": "QCcmxxqTxckS",
        "outputId": "f56fcbdf-23c0-4145-f363-497b5707443c"
      },
      "source": [
        "df_processed[0].to_numpy().std()"
      ],
      "id": "QCcmxxqTxckS",
      "execution_count": null,
      "outputs": [
        {
          "output_type": "execute_result",
          "data": {
            "text/plain": [
              "1.0"
            ]
          },
          "metadata": {},
          "execution_count": 11
        }
      ]
    },
    {
      "cell_type": "code",
      "metadata": {
        "id": "YQUb1plCxckW"
      },
      "source": [
        "df_listo = pd.concat([df_processed, df[[\"hypertension\", \"heart_disease\"]]], axis=1)"
      ],
      "id": "YQUb1plCxckW",
      "execution_count": null,
      "outputs": []
    },
    {
      "cell_type": "code",
      "metadata": {
        "colab": {
          "base_uri": "https://localhost:8080/",
          "height": 424
        },
        "id": "azBRDxymxckX",
        "outputId": "e012384e-0abc-4730-c15e-a816e148a784"
      },
      "source": [
        "df_listo"
      ],
      "id": "azBRDxymxckX",
      "execution_count": null,
      "outputs": [
        {
          "output_type": "execute_result",
          "data": {
            "text/html": [
              "<div>\n",
              "<style scoped>\n",
              "    .dataframe tbody tr th:only-of-type {\n",
              "        vertical-align: middle;\n",
              "    }\n",
              "\n",
              "    .dataframe tbody tr th {\n",
              "        vertical-align: top;\n",
              "    }\n",
              "\n",
              "    .dataframe thead th {\n",
              "        text-align: right;\n",
              "    }\n",
              "</style>\n",
              "<table border=\"1\" class=\"dataframe\">\n",
              "  <thead>\n",
              "    <tr style=\"text-align: right;\">\n",
              "      <th></th>\n",
              "      <th>0</th>\n",
              "      <th>1</th>\n",
              "      <th>2</th>\n",
              "      <th>3</th>\n",
              "      <th>4</th>\n",
              "      <th>5</th>\n",
              "      <th>6</th>\n",
              "      <th>7</th>\n",
              "      <th>8</th>\n",
              "      <th>9</th>\n",
              "      <th>10</th>\n",
              "      <th>11</th>\n",
              "      <th>12</th>\n",
              "      <th>13</th>\n",
              "      <th>hypertension</th>\n",
              "      <th>heart_disease</th>\n",
              "    </tr>\n",
              "  </thead>\n",
              "  <tbody>\n",
              "    <tr>\n",
              "      <th>0</th>\n",
              "      <td>-0.896710</td>\n",
              "      <td>-0.390718</td>\n",
              "      <td>0.0</td>\n",
              "      <td>0.0</td>\n",
              "      <td>0.0</td>\n",
              "      <td>0.0</td>\n",
              "      <td>1.0</td>\n",
              "      <td>1.0</td>\n",
              "      <td>0.0</td>\n",
              "      <td>0.0</td>\n",
              "      <td>0.0</td>\n",
              "      <td>1.0</td>\n",
              "      <td>0.0</td>\n",
              "      <td>1.0</td>\n",
              "      <td>0</td>\n",
              "      <td>0</td>\n",
              "    </tr>\n",
              "    <tr>\n",
              "      <th>1</th>\n",
              "      <td>-1.039486</td>\n",
              "      <td>0.074254</td>\n",
              "      <td>1.0</td>\n",
              "      <td>0.0</td>\n",
              "      <td>0.0</td>\n",
              "      <td>0.0</td>\n",
              "      <td>0.0</td>\n",
              "      <td>1.0</td>\n",
              "      <td>0.0</td>\n",
              "      <td>0.0</td>\n",
              "      <td>0.0</td>\n",
              "      <td>1.0</td>\n",
              "      <td>1.0</td>\n",
              "      <td>0.0</td>\n",
              "      <td>0</td>\n",
              "      <td>0</td>\n",
              "    </tr>\n",
              "    <tr>\n",
              "      <th>2</th>\n",
              "      <td>-0.886402</td>\n",
              "      <td>-0.933185</td>\n",
              "      <td>0.0</td>\n",
              "      <td>0.0</td>\n",
              "      <td>1.0</td>\n",
              "      <td>0.0</td>\n",
              "      <td>0.0</td>\n",
              "      <td>0.0</td>\n",
              "      <td>0.0</td>\n",
              "      <td>1.0</td>\n",
              "      <td>0.0</td>\n",
              "      <td>0.0</td>\n",
              "      <td>1.0</td>\n",
              "      <td>1.0</td>\n",
              "      <td>0</td>\n",
              "      <td>0</td>\n",
              "    </tr>\n",
              "    <tr>\n",
              "      <th>3</th>\n",
              "      <td>-0.742529</td>\n",
              "      <td>-0.067821</td>\n",
              "      <td>0.0</td>\n",
              "      <td>0.0</td>\n",
              "      <td>0.0</td>\n",
              "      <td>1.0</td>\n",
              "      <td>0.0</td>\n",
              "      <td>0.0</td>\n",
              "      <td>0.0</td>\n",
              "      <td>1.0</td>\n",
              "      <td>0.0</td>\n",
              "      <td>0.0</td>\n",
              "      <td>1.0</td>\n",
              "      <td>0.0</td>\n",
              "      <td>0</td>\n",
              "      <td>0</td>\n",
              "    </tr>\n",
              "    <tr>\n",
              "      <th>4</th>\n",
              "      <td>-0.509613</td>\n",
              "      <td>0.100085</td>\n",
              "      <td>0.0</td>\n",
              "      <td>0.0</td>\n",
              "      <td>1.0</td>\n",
              "      <td>0.0</td>\n",
              "      <td>0.0</td>\n",
              "      <td>0.0</td>\n",
              "      <td>0.0</td>\n",
              "      <td>0.0</td>\n",
              "      <td>1.0</td>\n",
              "      <td>0.0</td>\n",
              "      <td>1.0</td>\n",
              "      <td>0.0</td>\n",
              "      <td>0</td>\n",
              "      <td>0</td>\n",
              "    </tr>\n",
              "    <tr>\n",
              "      <th>...</th>\n",
              "      <td>...</td>\n",
              "      <td>...</td>\n",
              "      <td>...</td>\n",
              "      <td>...</td>\n",
              "      <td>...</td>\n",
              "      <td>...</td>\n",
              "      <td>...</td>\n",
              "      <td>...</td>\n",
              "      <td>...</td>\n",
              "      <td>...</td>\n",
              "      <td>...</td>\n",
              "      <td>...</td>\n",
              "      <td>...</td>\n",
              "      <td>...</td>\n",
              "      <td>...</td>\n",
              "      <td>...</td>\n",
              "    </tr>\n",
              "    <tr>\n",
              "      <th>4083</th>\n",
              "      <td>-0.143132</td>\n",
              "      <td>-1.372325</td>\n",
              "      <td>0.0</td>\n",
              "      <td>0.0</td>\n",
              "      <td>0.0</td>\n",
              "      <td>0.0</td>\n",
              "      <td>1.0</td>\n",
              "      <td>0.0</td>\n",
              "      <td>1.0</td>\n",
              "      <td>0.0</td>\n",
              "      <td>0.0</td>\n",
              "      <td>1.0</td>\n",
              "      <td>0.0</td>\n",
              "      <td>0.0</td>\n",
              "      <td>0</td>\n",
              "      <td>0</td>\n",
              "    </tr>\n",
              "    <tr>\n",
              "      <th>4084</th>\n",
              "      <td>0.958504</td>\n",
              "      <td>-0.468213</td>\n",
              "      <td>0.0</td>\n",
              "      <td>0.0</td>\n",
              "      <td>1.0</td>\n",
              "      <td>0.0</td>\n",
              "      <td>0.0</td>\n",
              "      <td>0.0</td>\n",
              "      <td>0.0</td>\n",
              "      <td>1.0</td>\n",
              "      <td>0.0</td>\n",
              "      <td>1.0</td>\n",
              "      <td>1.0</td>\n",
              "      <td>1.0</td>\n",
              "      <td>0</td>\n",
              "      <td>0</td>\n",
              "    </tr>\n",
              "    <tr>\n",
              "      <th>4085</th>\n",
              "      <td>-0.086109</td>\n",
              "      <td>0.048422</td>\n",
              "      <td>0.0</td>\n",
              "      <td>0.0</td>\n",
              "      <td>1.0</td>\n",
              "      <td>0.0</td>\n",
              "      <td>0.0</td>\n",
              "      <td>0.0</td>\n",
              "      <td>1.0</td>\n",
              "      <td>0.0</td>\n",
              "      <td>0.0</td>\n",
              "      <td>1.0</td>\n",
              "      <td>1.0</td>\n",
              "      <td>0.0</td>\n",
              "      <td>0</td>\n",
              "      <td>0</td>\n",
              "    </tr>\n",
              "    <tr>\n",
              "      <th>4086</th>\n",
              "      <td>-0.129973</td>\n",
              "      <td>2.747841</td>\n",
              "      <td>0.0</td>\n",
              "      <td>0.0</td>\n",
              "      <td>1.0</td>\n",
              "      <td>0.0</td>\n",
              "      <td>0.0</td>\n",
              "      <td>0.0</td>\n",
              "      <td>1.0</td>\n",
              "      <td>0.0</td>\n",
              "      <td>0.0</td>\n",
              "      <td>1.0</td>\n",
              "      <td>1.0</td>\n",
              "      <td>0.0</td>\n",
              "      <td>0</td>\n",
              "      <td>0</td>\n",
              "    </tr>\n",
              "    <tr>\n",
              "      <th>4087</th>\n",
              "      <td>-0.795823</td>\n",
              "      <td>-0.610288</td>\n",
              "      <td>0.0</td>\n",
              "      <td>0.0</td>\n",
              "      <td>1.0</td>\n",
              "      <td>0.0</td>\n",
              "      <td>0.0</td>\n",
              "      <td>0.0</td>\n",
              "      <td>0.0</td>\n",
              "      <td>1.0</td>\n",
              "      <td>0.0</td>\n",
              "      <td>0.0</td>\n",
              "      <td>1.0</td>\n",
              "      <td>0.0</td>\n",
              "      <td>0</td>\n",
              "      <td>0</td>\n",
              "    </tr>\n",
              "  </tbody>\n",
              "</table>\n",
              "<p>4088 rows × 16 columns</p>\n",
              "</div>"
            ],
            "text/plain": [
              "             0         1    2    3  ...   12   13  hypertension  heart_disease\n",
              "0    -0.896710 -0.390718  0.0  0.0  ...  0.0  1.0             0              0\n",
              "1    -1.039486  0.074254  1.0  0.0  ...  1.0  0.0             0              0\n",
              "2    -0.886402 -0.933185  0.0  0.0  ...  1.0  1.0             0              0\n",
              "3    -0.742529 -0.067821  0.0  0.0  ...  1.0  0.0             0              0\n",
              "4    -0.509613  0.100085  0.0  0.0  ...  1.0  0.0             0              0\n",
              "...        ...       ...  ...  ...  ...  ...  ...           ...            ...\n",
              "4083 -0.143132 -1.372325  0.0  0.0  ...  0.0  0.0             0              0\n",
              "4084  0.958504 -0.468213  0.0  0.0  ...  1.0  1.0             0              0\n",
              "4085 -0.086109  0.048422  0.0  0.0  ...  1.0  0.0             0              0\n",
              "4086 -0.129973  2.747841  0.0  0.0  ...  1.0  0.0             0              0\n",
              "4087 -0.795823 -0.610288  0.0  0.0  ...  1.0  0.0             0              0\n",
              "\n",
              "[4088 rows x 16 columns]"
            ]
          },
          "metadata": {},
          "execution_count": 12
        }
      ]
    },
    {
      "cell_type": "markdown",
      "metadata": {
        "id": "08SPYp5rxckY"
      },
      "source": [
        "## MODELOS"
      ],
      "id": "08SPYp5rxckY"
    },
    {
      "cell_type": "code",
      "metadata": {
        "colab": {
          "base_uri": "https://localhost:8080/"
        },
        "id": "-ddtndRvxckZ",
        "outputId": "a5bf0bc8-197f-4de6-e028-0c5c411bc361"
      },
      "source": [
        "from sklearn.linear_model import LogisticRegression\n",
        "from sklearn.model_selection import cross_val_predict\n",
        "from sklearn.metrics import confusion_matrix, accuracy_score, recall_score\n",
        "\n",
        "lr = LogisticRegression()\n",
        "lr.fit(df_listo, df.stroke)\n",
        "ypred = cross_val_predict(lr, df_listo, df.stroke)\n",
        "y_score_log = cross_val_predict(lr, df_listo, df.stroke, method=\"predict_proba\")\n",
        "confusion_matrix(df.stroke, ypred)"
      ],
      "id": "-ddtndRvxckZ",
      "execution_count": null,
      "outputs": [
        {
          "output_type": "execute_result",
          "data": {
            "text/plain": [
              "array([[3884,    0],\n",
              "       [ 204,    0]])"
            ]
          },
          "metadata": {},
          "execution_count": 21
        }
      ]
    },
    {
      "cell_type": "code",
      "metadata": {
        "colab": {
          "base_uri": "https://localhost:8080/"
        },
        "id": "2kt0RAEExckb",
        "outputId": "2cff5383-3a5e-46c4-9242-808b07bc6a27"
      },
      "source": [
        "from sklearn.metrics import roc_auc_score\n",
        "print(accuracy_score(df.stroke, ypred))\n",
        "print(recall_score(df.stroke, ypred))\n",
        "print(roc_auc_score(df.stroke, y_score_log[:,1]))"
      ],
      "id": "2kt0RAEExckb",
      "execution_count": null,
      "outputs": [
        {
          "output_type": "stream",
          "name": "stdout",
          "text": [
            "0.9500978473581213\n",
            "0.0\n",
            "0.7366357201995113\n"
          ]
        }
      ]
    },
    {
      "cell_type": "code",
      "metadata": {
        "colab": {
          "base_uri": "https://localhost:8080/"
        },
        "id": "DTmxFzN6xckc",
        "outputId": "17bafe67-2d49-4988-8757-7760c4207b79"
      },
      "source": [
        "# Con pesos\n",
        "pesos = {0:1, 1:10}\n",
        "lr = LogisticRegression(class_weight=\"balanced\")\n",
        "lr.fit(df_listo, df.stroke)\n",
        "ypred = cross_val_predict(lr, df_listo, df.stroke)\n",
        "y_score_log = cross_val_predict(lr, df_listo, df.stroke, method=\"predict_proba\")\n",
        "confusion_matrix(df.stroke, ypred)"
      ],
      "id": "DTmxFzN6xckc",
      "execution_count": null,
      "outputs": [
        {
          "output_type": "execute_result",
          "data": {
            "text/plain": [
              "array([[2715, 1169],\n",
              "       [  67,  137]])"
            ]
          },
          "metadata": {},
          "execution_count": 23
        }
      ]
    },
    {
      "cell_type": "code",
      "metadata": {
        "colab": {
          "base_uri": "https://localhost:8080/"
        },
        "id": "VvQ42jSp4g75",
        "outputId": "bb71e26d-885a-40e6-9d8c-925c94bac92a"
      },
      "source": [
        "y_score_log[:,1]"
      ],
      "id": "VvQ42jSp4g75",
      "execution_count": null,
      "outputs": [
        {
          "output_type": "execute_result",
          "data": {
            "text/plain": [
              "array([0.04293984, 0.41028402, 0.33943312, ..., 0.47807929, 0.43090794,\n",
              "       0.39675612])"
            ]
          },
          "metadata": {},
          "execution_count": 24
        }
      ]
    },
    {
      "cell_type": "code",
      "metadata": {
        "colab": {
          "base_uri": "https://localhost:8080/"
        },
        "id": "su3t-ChE5jj6",
        "outputId": "2ef8352a-916e-4d97-ef9b-d1808c558b10"
      },
      "source": [
        "np.where((df.stroke == 0 ) & (ypred == 1))\n",
        "print(df.stroke.iloc[np.where((df.stroke == 0 ) & (ypred == 1))])\n",
        "print(ypred[np.where((df.stroke == 0 ) & (ypred == 1))])"
      ],
      "id": "su3t-ChE5jj6",
      "execution_count": null,
      "outputs": [
        {
          "output_type": "stream",
          "name": "stdout",
          "text": [
            "8       0\n",
            "9       0\n",
            "10      0\n",
            "14      0\n",
            "19      0\n",
            "       ..\n",
            "4071    0\n",
            "4072    0\n",
            "4074    0\n",
            "4078    0\n",
            "4084    0\n",
            "Name: stroke, Length: 1169, dtype: int64\n",
            "[1 1 1 ... 1 1 1]\n"
          ]
        }
      ]
    },
    {
      "cell_type": "code",
      "metadata": {
        "colab": {
          "base_uri": "https://localhost:8080/",
          "height": 369
        },
        "id": "kr9vMvIp3Xdu",
        "outputId": "0328198f-6415-4908-c57e-ef12b585a66f"
      },
      "source": [
        "plt.hist(y_score_log[np.where((df.stroke == 0 ) & (ypred == 1)),1].T, density=1, histtype=\"step\")\n",
        "plt.hist(y_score_log[np.where((df.stroke == 1 ) & (ypred == 1)),1].T, density=1,histtype=\"step\")"
      ],
      "id": "kr9vMvIp3Xdu",
      "execution_count": null,
      "outputs": [
        {
          "output_type": "execute_result",
          "data": {
            "text/plain": [
              "(array([3.50436128, 2.86720468, 2.54862638, 3.02649383, 1.75218064,\n",
              "        1.75218064, 2.86720468, 1.91146979, 0.47786745, 1.11502404]),\n",
              " array([0.50380658, 0.54963061, 0.59545464, 0.64127866, 0.68710269,\n",
              "        0.73292671, 0.77875074, 0.82457476, 0.87039879, 0.91622282,\n",
              "        0.96204684]),\n",
              " <a list of 1 Patch objects>)"
            ]
          },
          "metadata": {},
          "execution_count": 49
        },
        {
          "output_type": "display_data",
          "data": {
            "image/png": "[encoded data removed]",
            "text/plain": [
              "<Figure size 432x288 with 1 Axes>"
            ]
          },
          "metadata": {
            "needs_background": "light"
          }
        }
      ]
    },
    {
      "cell_type": "code",
      "metadata": {
        "colab": {
          "base_uri": "https://localhost:8080/"
        },
        "id": "A6gZj837xcke",
        "outputId": "281c15d3-26bb-448b-f474-05724367588c"
      },
      "source": [
        "from sklearn.metrics import recall_score, roc_auc_score\n",
        "\n",
        "print(accuracy_score(df.stroke, ypred))\n",
        "print(recall_score(df.stroke, ypred))\n",
        "print(roc_auc_score(df.stroke, y_score_log[:,1]))"
      ],
      "id": "A6gZj837xcke",
      "execution_count": null,
      "outputs": [
        {
          "output_type": "stream",
          "name": "stdout",
          "text": [
            "0.6976516634050881\n",
            "0.6715686274509803\n",
            "0.7376416065911432\n"
          ]
        }
      ]
    },
    {
      "cell_type": "code",
      "metadata": {
        "colab": {
          "base_uri": "https://localhost:8080/"
        },
        "id": "k1XCs2_L7YlB",
        "outputId": "8554e1e4-5f9e-4f61-8046-b0fc3b9dc32a"
      },
      "source": [
        "#probamos subir el umbral a ver que pasa\n",
        "umbral = 0.5\n",
        "ypred_umbral = np.zeros(len(df_listo))\n",
        "for i in range(len(df_listo)):\n",
        "  if y_score_log[i,1] >= umbral:\n",
        "    ypred_umbral[i] = 1\n",
        "\n",
        "print(confusion_matrix(df.stroke, ypred_umbral))\n",
        "print(accuracy_score(df.stroke, ypred_umbral))\n",
        "print(recall_score(df.stroke, ypred_umbral))\n",
        "print(roc_auc_score(df.stroke, y_score_log[:,1]))"
      ],
      "id": "k1XCs2_L7YlB",
      "execution_count": null,
      "outputs": [
        {
          "output_type": "stream",
          "name": "stdout",
          "text": [
            "[[2715 1169]\n",
            " [  67  137]]\n",
            "0.6976516634050881\n",
            "0.6715686274509803\n",
            "0.7376416065911432\n"
          ]
        }
      ]
    },
    {
      "cell_type": "code",
      "metadata": {
        "scrolled": false,
        "colab": {
          "base_uri": "https://localhost:8080/",
          "height": 444
        },
        "id": "zZJkX4qVxckg",
        "outputId": "cdb09268-504e-420a-f9b8-2e8cc7bb4be4"
      },
      "source": [
        "df_listo"
      ],
      "id": "zZJkX4qVxckg",
      "execution_count": null,
      "outputs": [
        {
          "output_type": "execute_result",
          "data": {
            "text/html": [
              "<div>\n",
              "<style scoped>\n",
              "    .dataframe tbody tr th:only-of-type {\n",
              "        vertical-align: middle;\n",
              "    }\n",
              "\n",
              "    .dataframe tbody tr th {\n",
              "        vertical-align: top;\n",
              "    }\n",
              "\n",
              "    .dataframe thead th {\n",
              "        text-align: right;\n",
              "    }\n",
              "</style>\n",
              "<table border=\"1\" class=\"dataframe\">\n",
              "  <thead>\n",
              "    <tr style=\"text-align: right;\">\n",
              "      <th></th>\n",
              "      <th>0</th>\n",
              "      <th>1</th>\n",
              "      <th>2</th>\n",
              "      <th>3</th>\n",
              "      <th>4</th>\n",
              "      <th>5</th>\n",
              "      <th>6</th>\n",
              "      <th>7</th>\n",
              "      <th>8</th>\n",
              "      <th>9</th>\n",
              "      <th>10</th>\n",
              "      <th>11</th>\n",
              "      <th>12</th>\n",
              "      <th>13</th>\n",
              "      <th>hypertension</th>\n",
              "      <th>heart_disease</th>\n",
              "    </tr>\n",
              "  </thead>\n",
              "  <tbody>\n",
              "    <tr>\n",
              "      <th>0</th>\n",
              "      <td>-0.896710</td>\n",
              "      <td>-0.390718</td>\n",
              "      <td>0.0</td>\n",
              "      <td>0.0</td>\n",
              "      <td>0.0</td>\n",
              "      <td>0.0</td>\n",
              "      <td>1.0</td>\n",
              "      <td>1.0</td>\n",
              "      <td>0.0</td>\n",
              "      <td>0.0</td>\n",
              "      <td>0.0</td>\n",
              "      <td>1.0</td>\n",
              "      <td>0.0</td>\n",
              "      <td>1.0</td>\n",
              "      <td>0</td>\n",
              "      <td>0</td>\n",
              "    </tr>\n",
              "    <tr>\n",
              "      <th>1</th>\n",
              "      <td>-1.039486</td>\n",
              "      <td>0.074254</td>\n",
              "      <td>1.0</td>\n",
              "      <td>0.0</td>\n",
              "      <td>0.0</td>\n",
              "      <td>0.0</td>\n",
              "      <td>0.0</td>\n",
              "      <td>1.0</td>\n",
              "      <td>0.0</td>\n",
              "      <td>0.0</td>\n",
              "      <td>0.0</td>\n",
              "      <td>1.0</td>\n",
              "      <td>1.0</td>\n",
              "      <td>0.0</td>\n",
              "      <td>0</td>\n",
              "      <td>0</td>\n",
              "    </tr>\n",
              "    <tr>\n",
              "      <th>2</th>\n",
              "      <td>-0.886402</td>\n",
              "      <td>-0.933185</td>\n",
              "      <td>0.0</td>\n",
              "      <td>0.0</td>\n",
              "      <td>1.0</td>\n",
              "      <td>0.0</td>\n",
              "      <td>0.0</td>\n",
              "      <td>0.0</td>\n",
              "      <td>0.0</td>\n",
              "      <td>1.0</td>\n",
              "      <td>0.0</td>\n",
              "      <td>0.0</td>\n",
              "      <td>1.0</td>\n",
              "      <td>1.0</td>\n",
              "      <td>0</td>\n",
              "      <td>0</td>\n",
              "    </tr>\n",
              "    <tr>\n",
              "      <th>3</th>\n",
              "      <td>-0.742529</td>\n",
              "      <td>-0.067821</td>\n",
              "      <td>0.0</td>\n",
              "      <td>0.0</td>\n",
              "      <td>0.0</td>\n",
              "      <td>1.0</td>\n",
              "      <td>0.0</td>\n",
              "      <td>0.0</td>\n",
              "      <td>0.0</td>\n",
              "      <td>1.0</td>\n",
              "      <td>0.0</td>\n",
              "      <td>0.0</td>\n",
              "      <td>1.0</td>\n",
              "      <td>0.0</td>\n",
              "      <td>0</td>\n",
              "      <td>0</td>\n",
              "    </tr>\n",
              "    <tr>\n",
              "      <th>4</th>\n",
              "      <td>-0.509613</td>\n",
              "      <td>0.100085</td>\n",
              "      <td>0.0</td>\n",
              "      <td>0.0</td>\n",
              "      <td>1.0</td>\n",
              "      <td>0.0</td>\n",
              "      <td>0.0</td>\n",
              "      <td>0.0</td>\n",
              "      <td>0.0</td>\n",
              "      <td>0.0</td>\n",
              "      <td>1.0</td>\n",
              "      <td>0.0</td>\n",
              "      <td>1.0</td>\n",
              "      <td>0.0</td>\n",
              "      <td>0</td>\n",
              "      <td>0</td>\n",
              "    </tr>\n",
              "    <tr>\n",
              "      <th>...</th>\n",
              "      <td>...</td>\n",
              "      <td>...</td>\n",
              "      <td>...</td>\n",
              "      <td>...</td>\n",
              "      <td>...</td>\n",
              "      <td>...</td>\n",
              "      <td>...</td>\n",
              "      <td>...</td>\n",
              "      <td>...</td>\n",
              "      <td>...</td>\n",
              "      <td>...</td>\n",
              "      <td>...</td>\n",
              "      <td>...</td>\n",
              "      <td>...</td>\n",
              "      <td>...</td>\n",
              "      <td>...</td>\n",
              "    </tr>\n",
              "    <tr>\n",
              "      <th>4083</th>\n",
              "      <td>-0.143132</td>\n",
              "      <td>-1.372325</td>\n",
              "      <td>0.0</td>\n",
              "      <td>0.0</td>\n",
              "      <td>0.0</td>\n",
              "      <td>0.0</td>\n",
              "      <td>1.0</td>\n",
              "      <td>0.0</td>\n",
              "      <td>1.0</td>\n",
              "      <td>0.0</td>\n",
              "      <td>0.0</td>\n",
              "      <td>1.0</td>\n",
              "      <td>0.0</td>\n",
              "      <td>0.0</td>\n",
              "      <td>0</td>\n",
              "      <td>0</td>\n",
              "    </tr>\n",
              "    <tr>\n",
              "      <th>4084</th>\n",
              "      <td>0.958504</td>\n",
              "      <td>-0.468213</td>\n",
              "      <td>0.0</td>\n",
              "      <td>0.0</td>\n",
              "      <td>1.0</td>\n",
              "      <td>0.0</td>\n",
              "      <td>0.0</td>\n",
              "      <td>0.0</td>\n",
              "      <td>0.0</td>\n",
              "      <td>1.0</td>\n",
              "      <td>0.0</td>\n",
              "      <td>1.0</td>\n",
              "      <td>1.0</td>\n",
              "      <td>1.0</td>\n",
              "      <td>0</td>\n",
              "      <td>0</td>\n",
              "    </tr>\n",
              "    <tr>\n",
              "      <th>4085</th>\n",
              "      <td>-0.086109</td>\n",
              "      <td>0.048422</td>\n",
              "      <td>0.0</td>\n",
              "      <td>0.0</td>\n",
              "      <td>1.0</td>\n",
              "      <td>0.0</td>\n",
              "      <td>0.0</td>\n",
              "      <td>0.0</td>\n",
              "      <td>1.0</td>\n",
              "      <td>0.0</td>\n",
              "      <td>0.0</td>\n",
              "      <td>1.0</td>\n",
              "      <td>1.0</td>\n",
              "      <td>0.0</td>\n",
              "      <td>0</td>\n",
              "      <td>0</td>\n",
              "    </tr>\n",
              "    <tr>\n",
              "      <th>4086</th>\n",
              "      <td>-0.129973</td>\n",
              "      <td>2.747841</td>\n",
              "      <td>0.0</td>\n",
              "      <td>0.0</td>\n",
              "      <td>1.0</td>\n",
              "      <td>0.0</td>\n",
              "      <td>0.0</td>\n",
              "      <td>0.0</td>\n",
              "      <td>1.0</td>\n",
              "      <td>0.0</td>\n",
              "      <td>0.0</td>\n",
              "      <td>1.0</td>\n",
              "      <td>1.0</td>\n",
              "      <td>0.0</td>\n",
              "      <td>0</td>\n",
              "      <td>0</td>\n",
              "    </tr>\n",
              "    <tr>\n",
              "      <th>4087</th>\n",
              "      <td>-0.795823</td>\n",
              "      <td>-0.610288</td>\n",
              "      <td>0.0</td>\n",
              "      <td>0.0</td>\n",
              "      <td>1.0</td>\n",
              "      <td>0.0</td>\n",
              "      <td>0.0</td>\n",
              "      <td>0.0</td>\n",
              "      <td>0.0</td>\n",
              "      <td>1.0</td>\n",
              "      <td>0.0</td>\n",
              "      <td>0.0</td>\n",
              "      <td>1.0</td>\n",
              "      <td>0.0</td>\n",
              "      <td>0</td>\n",
              "      <td>0</td>\n",
              "    </tr>\n",
              "  </tbody>\n",
              "</table>\n",
              "<p>4088 rows × 16 columns</p>\n",
              "</div>"
            ],
            "text/plain": [
              "             0         1    2    3  ...   12   13  hypertension  heart_disease\n",
              "0    -0.896710 -0.390718  0.0  0.0  ...  0.0  1.0             0              0\n",
              "1    -1.039486  0.074254  1.0  0.0  ...  1.0  0.0             0              0\n",
              "2    -0.886402 -0.933185  0.0  0.0  ...  1.0  1.0             0              0\n",
              "3    -0.742529 -0.067821  0.0  0.0  ...  1.0  0.0             0              0\n",
              "4    -0.509613  0.100085  0.0  0.0  ...  1.0  0.0             0              0\n",
              "...        ...       ...  ...  ...  ...  ...  ...           ...            ...\n",
              "4083 -0.143132 -1.372325  0.0  0.0  ...  0.0  0.0             0              0\n",
              "4084  0.958504 -0.468213  0.0  0.0  ...  1.0  1.0             0              0\n",
              "4085 -0.086109  0.048422  0.0  0.0  ...  1.0  0.0             0              0\n",
              "4086 -0.129973  2.747841  0.0  0.0  ...  1.0  0.0             0              0\n",
              "4087 -0.795823 -0.610288  0.0  0.0  ...  1.0  0.0             0              0\n",
              "\n",
              "[4088 rows x 16 columns]"
            ]
          },
          "metadata": {},
          "execution_count": 17
        }
      ]
    },
    {
      "cell_type": "markdown",
      "metadata": {
        "id": "1Xq8l-Rxxckg"
      },
      "source": [
        "# Random Forest"
      ],
      "id": "1Xq8l-Rxxckg"
    },
    {
      "cell_type": "code",
      "metadata": {
        "id": "CTtGqUTOxckh",
        "colab": {
          "base_uri": "https://localhost:8080/"
        },
        "outputId": "abbb51e1-823d-4746-e8c0-3a469b8fa1ed"
      },
      "source": [
        "from sklearn.ensemble import RandomForestClassifier\n",
        "from sklearn.model_selection import GridSearchCV, RandomizedSearchCV\n",
        "peso_clases = {0:1, 1:19}\n",
        "reg_rf = RandomForestClassifier(random_state=42, class_weight=\"balanced\")\n",
        "param_grid = {\"n_estimators\":np.arange(10,100, 10),\n",
        "              \"max_depth\":np.arange(4, 100, 10),\n",
        "              \"min_samples_leaf\":np.arange(1,30, 5)\n",
        "             }\n",
        "reg_rf.fit(df_listo, df.stroke)\n",
        "#gsrf = GridSearchCV(reg_rf, param_grid, verbose=3)\n",
        "rsrf = RandomizedSearchCV(reg_rf, param_grid, verbose=3, n_iter=25, random_state=42)\n",
        "rsrf.fit(df_listo, df.stroke)\n",
        "#ypred_gsrf = cross_val_predict(gsrf.best_estimator_, _train_scaled, t_train)"
      ],
      "id": "CTtGqUTOxckh",
      "execution_count": null,
      "outputs": [
        {
          "output_type": "stream",
          "name": "stdout",
          "text": [
            "Fitting 5 folds for each of 25 candidates, totalling 125 fits\n",
            "[CV] n_estimators=50, min_samples_leaf=6, max_depth=44 ...............\n",
            "[CV]  n_estimators=50, min_samples_leaf=6, max_depth=44, score=0.910, total=   0.1s\n",
            "[CV] n_estimators=50, min_samples_leaf=6, max_depth=44 ...............\n"
          ]
        },
        {
          "output_type": "stream",
          "name": "stderr",
          "text": [
            "[Parallel(n_jobs=1)]: Using backend SequentialBackend with 1 concurrent workers.\n",
            "[Parallel(n_jobs=1)]: Done   1 out of   1 | elapsed:    0.1s remaining:    0.0s\n"
          ]
        },
        {
          "output_type": "stream",
          "name": "stdout",
          "text": [
            "[CV]  n_estimators=50, min_samples_leaf=6, max_depth=44, score=0.914, total=   0.2s\n",
            "[CV] n_estimators=50, min_samples_leaf=6, max_depth=44 ...............\n",
            "[CV]  n_estimators=50, min_samples_leaf=6, max_depth=44, score=0.902, total=   0.1s\n",
            "[CV] n_estimators=50, min_samples_leaf=6, max_depth=44 ...............\n"
          ]
        },
        {
          "output_type": "stream",
          "name": "stderr",
          "text": [
            "[Parallel(n_jobs=1)]: Done   2 out of   2 | elapsed:    0.3s remaining:    0.0s\n"
          ]
        },
        {
          "output_type": "stream",
          "name": "stdout",
          "text": [
            "[CV]  n_estimators=50, min_samples_leaf=6, max_depth=44, score=0.897, total=   0.2s\n",
            "[CV] n_estimators=50, min_samples_leaf=6, max_depth=44 ...............\n",
            "[CV]  n_estimators=50, min_samples_leaf=6, max_depth=44, score=0.896, total=   0.1s\n",
            "[CV] n_estimators=20, min_samples_leaf=11, max_depth=14 ..............\n",
            "[CV]  n_estimators=20, min_samples_leaf=11, max_depth=14, score=0.864, total=   0.1s\n",
            "[CV] n_estimators=20, min_samples_leaf=11, max_depth=14 ..............\n",
            "[CV]  n_estimators=20, min_samples_leaf=11, max_depth=14, score=0.848, total=   0.1s\n",
            "[CV] n_estimators=20, min_samples_leaf=11, max_depth=14 ..............\n",
            "[CV]  n_estimators=20, min_samples_leaf=11, max_depth=14, score=0.861, total=   0.1s\n",
            "[CV] n_estimators=20, min_samples_leaf=11, max_depth=14 ..............\n",
            "[CV]  n_estimators=20, min_samples_leaf=11, max_depth=14, score=0.847, total=   0.1s\n",
            "[CV] n_estimators=20, min_samples_leaf=11, max_depth=14 ..............\n",
            "[CV]  n_estimators=20, min_samples_leaf=11, max_depth=14, score=0.854, total=   0.1s\n",
            "[CV] n_estimators=90, min_samples_leaf=16, max_depth=94 ..............\n",
            "[CV]  n_estimators=90, min_samples_leaf=16, max_depth=94, score=0.850, total=   0.3s\n",
            "[CV] n_estimators=90, min_samples_leaf=16, max_depth=94 ..............\n",
            "[CV]  n_estimators=90, min_samples_leaf=16, max_depth=94, score=0.837, total=   0.2s\n",
            "[CV] n_estimators=90, min_samples_leaf=16, max_depth=94 ..............\n",
            "[CV]  n_estimators=90, min_samples_leaf=16, max_depth=94, score=0.839, total=   0.2s\n",
            "[CV] n_estimators=90, min_samples_leaf=16, max_depth=94 ..............\n",
            "[CV]  n_estimators=90, min_samples_leaf=16, max_depth=94, score=0.821, total=   0.2s\n",
            "[CV] n_estimators=90, min_samples_leaf=16, max_depth=94 ..............\n",
            "[CV]  n_estimators=90, min_samples_leaf=16, max_depth=94, score=0.837, total=   0.2s\n",
            "[CV] n_estimators=60, min_samples_leaf=16, max_depth=14 ..............\n",
            "[CV]  n_estimators=60, min_samples_leaf=16, max_depth=14, score=0.850, total=   0.2s\n",
            "[CV] n_estimators=60, min_samples_leaf=16, max_depth=14 ..............\n",
            "[CV]  n_estimators=60, min_samples_leaf=16, max_depth=14, score=0.833, total=   0.2s\n",
            "[CV] n_estimators=60, min_samples_leaf=16, max_depth=14 ..............\n",
            "[CV]  n_estimators=60, min_samples_leaf=16, max_depth=14, score=0.835, total=   0.2s\n",
            "[CV] n_estimators=60, min_samples_leaf=16, max_depth=14 ..............\n",
            "[CV]  n_estimators=60, min_samples_leaf=16, max_depth=14, score=0.820, total=   0.2s\n",
            "[CV] n_estimators=60, min_samples_leaf=16, max_depth=14 ..............\n",
            "[CV]  n_estimators=60, min_samples_leaf=16, max_depth=14, score=0.824, total=   0.2s\n",
            "[CV] n_estimators=20, min_samples_leaf=21, max_depth=84 ..............\n",
            "[CV]  n_estimators=20, min_samples_leaf=21, max_depth=84, score=0.812, total=   0.1s\n",
            "[CV] n_estimators=20, min_samples_leaf=21, max_depth=84 ..............\n",
            "[CV]  n_estimators=20, min_samples_leaf=21, max_depth=84, score=0.812, total=   0.1s\n",
            "[CV] n_estimators=20, min_samples_leaf=21, max_depth=84 ..............\n",
            "[CV]  n_estimators=20, min_samples_leaf=21, max_depth=84, score=0.798, total=   0.1s\n",
            "[CV] n_estimators=20, min_samples_leaf=21, max_depth=84 ..............\n",
            "[CV]  n_estimators=20, min_samples_leaf=21, max_depth=84, score=0.793, total=   0.1s\n",
            "[CV] n_estimators=20, min_samples_leaf=21, max_depth=84 ..............\n",
            "[CV]  n_estimators=20, min_samples_leaf=21, max_depth=84, score=0.812, total=   0.1s\n",
            "[CV] n_estimators=60, min_samples_leaf=11, max_depth=14 ..............\n",
            "[CV]  n_estimators=60, min_samples_leaf=11, max_depth=14, score=0.878, total=   0.2s\n",
            "[CV] n_estimators=60, min_samples_leaf=11, max_depth=14 ..............\n",
            "[CV]  n_estimators=60, min_samples_leaf=11, max_depth=14, score=0.869, total=   0.2s\n",
            "[CV] n_estimators=60, min_samples_leaf=11, max_depth=14 ..............\n",
            "[CV]  n_estimators=60, min_samples_leaf=11, max_depth=14, score=0.859, total=   0.2s\n",
            "[CV] n_estimators=60, min_samples_leaf=11, max_depth=14 ..............\n",
            "[CV]  n_estimators=60, min_samples_leaf=11, max_depth=14, score=0.853, total=   0.2s\n",
            "[CV] n_estimators=60, min_samples_leaf=11, max_depth=14 ..............\n",
            "[CV]  n_estimators=60, min_samples_leaf=11, max_depth=14, score=0.854, total=   0.2s\n",
            "[CV] n_estimators=10, min_samples_leaf=16, max_depth=54 ..............\n",
            "[CV]  n_estimators=10, min_samples_leaf=16, max_depth=54, score=0.841, total=   0.0s\n",
            "[CV] n_estimators=10, min_samples_leaf=16, max_depth=54 ..............\n",
            "[CV]  n_estimators=10, min_samples_leaf=16, max_depth=54, score=0.787, total=   0.0s\n",
            "[CV] n_estimators=10, min_samples_leaf=16, max_depth=54 ..............\n",
            "[CV]  n_estimators=10, min_samples_leaf=16, max_depth=54, score=0.829, total=   0.0s\n",
            "[CV] n_estimators=10, min_samples_leaf=16, max_depth=54 ..............\n",
            "[CV]  n_estimators=10, min_samples_leaf=16, max_depth=54, score=0.818, total=   0.0s\n",
            "[CV] n_estimators=10, min_samples_leaf=16, max_depth=54 ..............\n",
            "[CV]  n_estimators=10, min_samples_leaf=16, max_depth=54, score=0.808, total=   0.0s\n",
            "[CV] n_estimators=50, min_samples_leaf=21, max_depth=74 ..............\n",
            "[CV]  n_estimators=50, min_samples_leaf=21, max_depth=74, score=0.828, total=   0.1s\n",
            "[CV] n_estimators=50, min_samples_leaf=21, max_depth=74 ..............\n",
            "[CV]  n_estimators=50, min_samples_leaf=21, max_depth=74, score=0.822, total=   0.1s\n",
            "[CV] n_estimators=50, min_samples_leaf=21, max_depth=74 ..............\n",
            "[CV]  n_estimators=50, min_samples_leaf=21, max_depth=74, score=0.812, total=   0.1s\n",
            "[CV] n_estimators=50, min_samples_leaf=21, max_depth=74 ..............\n",
            "[CV]  n_estimators=50, min_samples_leaf=21, max_depth=74, score=0.818, total=   0.1s\n",
            "[CV] n_estimators=50, min_samples_leaf=21, max_depth=74 ..............\n",
            "[CV]  n_estimators=50, min_samples_leaf=21, max_depth=74, score=0.824, total=   0.1s\n",
            "[CV] n_estimators=10, min_samples_leaf=11, max_depth=64 ..............\n",
            "[CV]  n_estimators=10, min_samples_leaf=11, max_depth=64, score=0.851, total=   0.0s\n",
            "[CV] n_estimators=10, min_samples_leaf=11, max_depth=64 ..............\n",
            "[CV]  n_estimators=10, min_samples_leaf=11, max_depth=64, score=0.822, total=   0.0s\n",
            "[CV] n_estimators=10, min_samples_leaf=11, max_depth=64 ..............\n",
            "[CV]  n_estimators=10, min_samples_leaf=11, max_depth=64, score=0.847, total=   0.0s\n",
            "[CV] n_estimators=10, min_samples_leaf=11, max_depth=64 ..............\n",
            "[CV]  n_estimators=10, min_samples_leaf=11, max_depth=64, score=0.831, total=   0.0s\n",
            "[CV] n_estimators=10, min_samples_leaf=11, max_depth=64 ..............\n",
            "[CV]  n_estimators=10, min_samples_leaf=11, max_depth=64, score=0.847, total=   0.0s\n",
            "[CV] n_estimators=60, min_samples_leaf=1, max_depth=74 ...............\n",
            "[CV]  n_estimators=60, min_samples_leaf=1, max_depth=74, score=0.950, total=   0.2s\n",
            "[CV] n_estimators=60, min_samples_leaf=1, max_depth=74 ...............\n",
            "[CV]  n_estimators=60, min_samples_leaf=1, max_depth=74, score=0.946, total=   0.2s\n",
            "[CV] n_estimators=60, min_samples_leaf=1, max_depth=74 ...............\n",
            "[CV]  n_estimators=60, min_samples_leaf=1, max_depth=74, score=0.946, total=   0.2s\n",
            "[CV] n_estimators=60, min_samples_leaf=1, max_depth=74 ...............\n",
            "[CV]  n_estimators=60, min_samples_leaf=1, max_depth=74, score=0.947, total=   0.2s\n",
            "[CV] n_estimators=60, min_samples_leaf=1, max_depth=74 ...............\n",
            "[CV]  n_estimators=60, min_samples_leaf=1, max_depth=74, score=0.949, total=   0.2s\n",
            "[CV] n_estimators=70, min_samples_leaf=1, max_depth=4 ................\n",
            "[CV]  n_estimators=70, min_samples_leaf=1, max_depth=4, score=0.741, total=   0.2s\n",
            "[CV] n_estimators=70, min_samples_leaf=1, max_depth=4 ................\n",
            "[CV]  n_estimators=70, min_samples_leaf=1, max_depth=4, score=0.738, total=   0.2s\n",
            "[CV] n_estimators=70, min_samples_leaf=1, max_depth=4 ................\n",
            "[CV]  n_estimators=70, min_samples_leaf=1, max_depth=4, score=0.751, total=   0.2s\n",
            "[CV] n_estimators=70, min_samples_leaf=1, max_depth=4 ................\n",
            "[CV]  n_estimators=70, min_samples_leaf=1, max_depth=4, score=0.733, total=   0.2s\n",
            "[CV] n_estimators=70, min_samples_leaf=1, max_depth=4 ................\n",
            "[CV]  n_estimators=70, min_samples_leaf=1, max_depth=4, score=0.772, total=   0.2s\n",
            "[CV] n_estimators=10, min_samples_leaf=6, max_depth=24 ...............\n",
            "[CV]  n_estimators=10, min_samples_leaf=6, max_depth=24, score=0.888, total=   0.0s\n",
            "[CV] n_estimators=10, min_samples_leaf=6, max_depth=24 ...............\n",
            "[CV]  n_estimators=10, min_samples_leaf=6, max_depth=24, score=0.877, total=   0.0s\n",
            "[CV] n_estimators=10, min_samples_leaf=6, max_depth=24 ...............\n",
            "[CV]  n_estimators=10, min_samples_leaf=6, max_depth=24, score=0.886, total=   0.0s\n",
            "[CV] n_estimators=10, min_samples_leaf=6, max_depth=24 ...............\n",
            "[CV]  n_estimators=10, min_samples_leaf=6, max_depth=24, score=0.878, total=   0.0s\n",
            "[CV] n_estimators=10, min_samples_leaf=6, max_depth=24 ...............\n",
            "[CV]  n_estimators=10, min_samples_leaf=6, max_depth=24, score=0.891, total=   0.0s\n",
            "[CV] n_estimators=60, min_samples_leaf=16, max_depth=74 ..............\n",
            "[CV]  n_estimators=60, min_samples_leaf=16, max_depth=74, score=0.847, total=   0.2s\n",
            "[CV] n_estimators=60, min_samples_leaf=16, max_depth=74 ..............\n",
            "[CV]  n_estimators=60, min_samples_leaf=16, max_depth=74, score=0.837, total=   0.2s\n",
            "[CV] n_estimators=60, min_samples_leaf=16, max_depth=74 ..............\n",
            "[CV]  n_estimators=60, min_samples_leaf=16, max_depth=74, score=0.834, total=   0.2s\n",
            "[CV] n_estimators=60, min_samples_leaf=16, max_depth=74 ..............\n",
            "[CV]  n_estimators=60, min_samples_leaf=16, max_depth=74, score=0.823, total=   0.2s\n",
            "[CV] n_estimators=60, min_samples_leaf=16, max_depth=74 ..............\n",
            "[CV]  n_estimators=60, min_samples_leaf=16, max_depth=74, score=0.825, total=   0.2s\n",
            "[CV] n_estimators=40, min_samples_leaf=11, max_depth=14 ..............\n",
            "[CV]  n_estimators=40, min_samples_leaf=11, max_depth=14, score=0.873, total=   0.1s\n",
            "[CV] n_estimators=40, min_samples_leaf=11, max_depth=14 ..............\n",
            "[CV]  n_estimators=40, min_samples_leaf=11, max_depth=14, score=0.866, total=   0.1s\n",
            "[CV] n_estimators=40, min_samples_leaf=11, max_depth=14 ..............\n",
            "[CV]  n_estimators=40, min_samples_leaf=11, max_depth=14, score=0.858, total=   0.1s\n",
            "[CV] n_estimators=40, min_samples_leaf=11, max_depth=14 ..............\n",
            "[CV]  n_estimators=40, min_samples_leaf=11, max_depth=14, score=0.851, total=   0.1s\n",
            "[CV] n_estimators=40, min_samples_leaf=11, max_depth=14 ..............\n",
            "[CV]  n_estimators=40, min_samples_leaf=11, max_depth=14, score=0.856, total=   0.1s\n",
            "[CV] n_estimators=30, min_samples_leaf=1, max_depth=54 ...............\n",
            "[CV]  n_estimators=30, min_samples_leaf=1, max_depth=54, score=0.947, total=   0.1s\n",
            "[CV] n_estimators=30, min_samples_leaf=1, max_depth=54 ...............\n",
            "[CV]  n_estimators=30, min_samples_leaf=1, max_depth=54, score=0.946, total=   0.1s\n",
            "[CV] n_estimators=30, min_samples_leaf=1, max_depth=54 ...............\n",
            "[CV]  n_estimators=30, min_samples_leaf=1, max_depth=54, score=0.945, total=   0.1s\n",
            "[CV] n_estimators=30, min_samples_leaf=1, max_depth=54 ...............\n",
            "[CV]  n_estimators=30, min_samples_leaf=1, max_depth=54, score=0.945, total=   0.1s\n",
            "[CV] n_estimators=30, min_samples_leaf=1, max_depth=54 ...............\n",
            "[CV]  n_estimators=30, min_samples_leaf=1, max_depth=54, score=0.947, total=   0.1s\n",
            "[CV] n_estimators=70, min_samples_leaf=16, max_depth=34 ..............\n",
            "[CV]  n_estimators=70, min_samples_leaf=16, max_depth=34, score=0.851, total=   0.2s\n",
            "[CV] n_estimators=70, min_samples_leaf=16, max_depth=34 ..............\n",
            "[CV]  n_estimators=70, min_samples_leaf=16, max_depth=34, score=0.848, total=   0.2s\n",
            "[CV] n_estimators=70, min_samples_leaf=16, max_depth=34 ..............\n",
            "[CV]  n_estimators=70, min_samples_leaf=16, max_depth=34, score=0.834, total=   0.2s\n",
            "[CV] n_estimators=70, min_samples_leaf=16, max_depth=34 ..............\n",
            "[CV]  n_estimators=70, min_samples_leaf=16, max_depth=34, score=0.823, total=   0.2s\n",
            "[CV] n_estimators=70, min_samples_leaf=16, max_depth=34 ..............\n",
            "[CV]  n_estimators=70, min_samples_leaf=16, max_depth=34, score=0.829, total=   0.2s\n",
            "[CV] n_estimators=90, min_samples_leaf=1, max_depth=94 ...............\n",
            "[CV]  n_estimators=90, min_samples_leaf=1, max_depth=94, score=0.950, total=   0.3s\n",
            "[CV] n_estimators=90, min_samples_leaf=1, max_depth=94 ...............\n",
            "[CV]  n_estimators=90, min_samples_leaf=1, max_depth=94, score=0.945, total=   0.3s\n",
            "[CV] n_estimators=90, min_samples_leaf=1, max_depth=94 ...............\n",
            "[CV]  n_estimators=90, min_samples_leaf=1, max_depth=94, score=0.945, total=   0.3s\n",
            "[CV] n_estimators=90, min_samples_leaf=1, max_depth=94 ...............\n",
            "[CV]  n_estimators=90, min_samples_leaf=1, max_depth=94, score=0.947, total=   0.3s\n",
            "[CV] n_estimators=90, min_samples_leaf=1, max_depth=94 ...............\n",
            "[CV]  n_estimators=90, min_samples_leaf=1, max_depth=94, score=0.949, total=   0.3s\n",
            "[CV] n_estimators=30, min_samples_leaf=26, max_depth=14 ..............\n",
            "[CV]  n_estimators=30, min_samples_leaf=26, max_depth=14, score=0.812, total=   0.1s\n",
            "[CV] n_estimators=30, min_samples_leaf=26, max_depth=14 ..............\n",
            "[CV]  n_estimators=30, min_samples_leaf=26, max_depth=14, score=0.792, total=   0.1s\n",
            "[CV] n_estimators=30, min_samples_leaf=26, max_depth=14 ..............\n",
            "[CV]  n_estimators=30, min_samples_leaf=26, max_depth=14, score=0.807, total=   0.1s\n",
            "[CV] n_estimators=30, min_samples_leaf=26, max_depth=14 ..............\n",
            "[CV]  n_estimators=30, min_samples_leaf=26, max_depth=14, score=0.799, total=   0.1s\n",
            "[CV] n_estimators=30, min_samples_leaf=26, max_depth=14 ..............\n",
            "[CV]  n_estimators=30, min_samples_leaf=26, max_depth=14, score=0.787, total=   0.1s\n",
            "[CV] n_estimators=50, min_samples_leaf=21, max_depth=94 ..............\n",
            "[CV]  n_estimators=50, min_samples_leaf=21, max_depth=94, score=0.828, total=   0.1s\n",
            "[CV] n_estimators=50, min_samples_leaf=21, max_depth=94 ..............\n",
            "[CV]  n_estimators=50, min_samples_leaf=21, max_depth=94, score=0.822, total=   0.1s\n",
            "[CV] n_estimators=50, min_samples_leaf=21, max_depth=94 ..............\n",
            "[CV]  n_estimators=50, min_samples_leaf=21, max_depth=94, score=0.812, total=   0.1s\n",
            "[CV] n_estimators=50, min_samples_leaf=21, max_depth=94 ..............\n",
            "[CV]  n_estimators=50, min_samples_leaf=21, max_depth=94, score=0.818, total=   0.1s\n",
            "[CV] n_estimators=50, min_samples_leaf=21, max_depth=94 ..............\n",
            "[CV]  n_estimators=50, min_samples_leaf=21, max_depth=94, score=0.824, total=   0.1s\n",
            "[CV] n_estimators=20, min_samples_leaf=1, max_depth=14 ...............\n",
            "[CV]  n_estimators=20, min_samples_leaf=1, max_depth=14, score=0.946, total=   0.1s\n",
            "[CV] n_estimators=20, min_samples_leaf=1, max_depth=14 ...............\n",
            "[CV]  n_estimators=20, min_samples_leaf=1, max_depth=14, score=0.940, total=   0.1s\n",
            "[CV] n_estimators=20, min_samples_leaf=1, max_depth=14 ...............\n",
            "[CV]  n_estimators=20, min_samples_leaf=1, max_depth=14, score=0.944, total=   0.1s\n",
            "[CV] n_estimators=20, min_samples_leaf=1, max_depth=14 ...............\n",
            "[CV]  n_estimators=20, min_samples_leaf=1, max_depth=14, score=0.942, total=   0.1s\n",
            "[CV] n_estimators=20, min_samples_leaf=1, max_depth=14 ...............\n",
            "[CV]  n_estimators=20, min_samples_leaf=1, max_depth=14, score=0.944, total=   0.1s\n",
            "[CV] n_estimators=50, min_samples_leaf=26, max_depth=64 ..............\n",
            "[CV]  n_estimators=50, min_samples_leaf=26, max_depth=64, score=0.809, total=   0.1s\n",
            "[CV] n_estimators=50, min_samples_leaf=26, max_depth=64 ..............\n",
            "[CV]  n_estimators=50, min_samples_leaf=26, max_depth=64, score=0.806, total=   0.1s\n",
            "[CV] n_estimators=50, min_samples_leaf=26, max_depth=64 ..............\n",
            "[CV]  n_estimators=50, min_samples_leaf=26, max_depth=64, score=0.811, total=   0.1s\n",
            "[CV] n_estimators=50, min_samples_leaf=26, max_depth=64 ..............\n",
            "[CV]  n_estimators=50, min_samples_leaf=26, max_depth=64, score=0.803, total=   0.1s\n",
            "[CV] n_estimators=50, min_samples_leaf=26, max_depth=64 ..............\n",
            "[CV]  n_estimators=50, min_samples_leaf=26, max_depth=64, score=0.799, total=   0.1s\n",
            "[CV] n_estimators=60, min_samples_leaf=11, max_depth=34 ..............\n",
            "[CV]  n_estimators=60, min_samples_leaf=11, max_depth=34, score=0.877, total=   0.2s\n",
            "[CV] n_estimators=60, min_samples_leaf=11, max_depth=34 ..............\n",
            "[CV]  n_estimators=60, min_samples_leaf=11, max_depth=34, score=0.863, total=   0.2s\n",
            "[CV] n_estimators=60, min_samples_leaf=11, max_depth=34 ..............\n",
            "[CV]  n_estimators=60, min_samples_leaf=11, max_depth=34, score=0.866, total=   0.2s\n",
            "[CV] n_estimators=60, min_samples_leaf=11, max_depth=34 ..............\n",
            "[CV]  n_estimators=60, min_samples_leaf=11, max_depth=34, score=0.858, total=   0.2s\n",
            "[CV] n_estimators=60, min_samples_leaf=11, max_depth=34 ..............\n",
            "[CV]  n_estimators=60, min_samples_leaf=11, max_depth=34, score=0.857, total=   0.2s\n",
            "[CV] n_estimators=20, min_samples_leaf=16, max_depth=54 ..............\n",
            "[CV]  n_estimators=20, min_samples_leaf=16, max_depth=54, score=0.850, total=   0.1s\n",
            "[CV] n_estimators=20, min_samples_leaf=16, max_depth=54 ..............\n",
            "[CV]  n_estimators=20, min_samples_leaf=16, max_depth=54, score=0.812, total=   0.1s\n",
            "[CV] n_estimators=20, min_samples_leaf=16, max_depth=54 ..............\n",
            "[CV]  n_estimators=20, min_samples_leaf=16, max_depth=54, score=0.839, total=   0.1s\n",
            "[CV] n_estimators=20, min_samples_leaf=16, max_depth=54 ..............\n",
            "[CV]  n_estimators=20, min_samples_leaf=16, max_depth=54, score=0.815, total=   0.1s\n",
            "[CV] n_estimators=20, min_samples_leaf=16, max_depth=54 ..............\n",
            "[CV]  n_estimators=20, min_samples_leaf=16, max_depth=54, score=0.823, total=   0.1s\n",
            "[CV] n_estimators=60, min_samples_leaf=1, max_depth=34 ...............\n",
            "[CV]  n_estimators=60, min_samples_leaf=1, max_depth=34, score=0.950, total=   0.2s\n",
            "[CV] n_estimators=60, min_samples_leaf=1, max_depth=34 ...............\n",
            "[CV]  n_estimators=60, min_samples_leaf=1, max_depth=34, score=0.946, total=   0.2s\n",
            "[CV] n_estimators=60, min_samples_leaf=1, max_depth=34 ...............\n",
            "[CV]  n_estimators=60, min_samples_leaf=1, max_depth=34, score=0.946, total=   0.2s\n",
            "[CV] n_estimators=60, min_samples_leaf=1, max_depth=34 ...............\n",
            "[CV]  n_estimators=60, min_samples_leaf=1, max_depth=34, score=0.947, total=   0.2s\n",
            "[CV] n_estimators=60, min_samples_leaf=1, max_depth=34 ...............\n",
            "[CV]  n_estimators=60, min_samples_leaf=1, max_depth=34, score=0.949, total=   0.2s\n",
            "[CV] n_estimators=30, min_samples_leaf=26, max_depth=84 ..............\n",
            "[CV]  n_estimators=30, min_samples_leaf=26, max_depth=84, score=0.812, total=   0.1s\n",
            "[CV] n_estimators=30, min_samples_leaf=26, max_depth=84 ..............\n",
            "[CV]  n_estimators=30, min_samples_leaf=26, max_depth=84, score=0.797, total=   0.1s\n",
            "[CV] n_estimators=30, min_samples_leaf=26, max_depth=84 ..............\n",
            "[CV]  n_estimators=30, min_samples_leaf=26, max_depth=84, score=0.809, total=   0.1s\n",
            "[CV] n_estimators=30, min_samples_leaf=26, max_depth=84 ..............\n",
            "[CV]  n_estimators=30, min_samples_leaf=26, max_depth=84, score=0.799, total=   0.1s\n",
            "[CV] n_estimators=30, min_samples_leaf=26, max_depth=84 ..............\n",
            "[CV]  n_estimators=30, min_samples_leaf=26, max_depth=84, score=0.789, total=   0.1s\n"
          ]
        },
        {
          "output_type": "stream",
          "name": "stderr",
          "text": [
            "[Parallel(n_jobs=1)]: Done 125 out of 125 | elapsed:   16.6s finished\n"
          ]
        },
        {
          "output_type": "execute_result",
          "data": {
            "text/plain": [
              "RandomizedSearchCV(cv=None, error_score=nan,\n",
              "                   estimator=RandomForestClassifier(bootstrap=True,\n",
              "                                                    ccp_alpha=0.0,\n",
              "                                                    class_weight='balanced',\n",
              "                                                    criterion='gini',\n",
              "                                                    max_depth=None,\n",
              "                                                    max_features='auto',\n",
              "                                                    max_leaf_nodes=None,\n",
              "                                                    max_samples=None,\n",
              "                                                    min_impurity_decrease=0.0,\n",
              "                                                    min_impurity_split=None,\n",
              "                                                    min_samples_leaf=1,\n",
              "                                                    min_samples_split=2,\n",
              "                                                    min_weight_fraction_leaf=0.0,\n",
              "                                                    n_estimators=1...\n",
              "                                                    oob_score=False,\n",
              "                                                    random_state=42, verbose=0,\n",
              "                                                    warm_start=False),\n",
              "                   iid='deprecated', n_iter=25, n_jobs=None,\n",
              "                   param_distributions={'max_depth': array([ 4, 14, 24, 34, 44, 54, 64, 74, 84, 94]),\n",
              "                                        'min_samples_leaf': array([ 1,  6, 11, 16, 21, 26]),\n",
              "                                        'n_estimators': array([10, 20, 30, 40, 50, 60, 70, 80, 90])},\n",
              "                   pre_dispatch='2*n_jobs', random_state=42, refit=True,\n",
              "                   return_train_score=False, scoring=None, verbose=3)"
            ]
          },
          "metadata": {},
          "execution_count": 27
        }
      ]
    },
    {
      "cell_type": "code",
      "metadata": {
        "id": "IyxBgJM8xcki",
        "colab": {
          "base_uri": "https://localhost:8080/"
        },
        "outputId": "ab5bb65e-f422-4e3f-cd38-56c2335fc6bd"
      },
      "source": [
        "rsrf.best_params_"
      ],
      "id": "IyxBgJM8xcki",
      "execution_count": null,
      "outputs": [
        {
          "output_type": "execute_result",
          "data": {
            "text/plain": [
              "{'max_depth': 74, 'min_samples_leaf': 1, 'n_estimators': 60}"
            ]
          },
          "metadata": {},
          "execution_count": 28
        }
      ]
    },
    {
      "cell_type": "code",
      "metadata": {
        "id": "fPZTUCGixckj",
        "colab": {
          "base_uri": "https://localhost:8080/"
        },
        "outputId": "00393a4f-28e5-4813-d3bc-dd5a1151f84d"
      },
      "source": [
        "ypred_rsrf = cross_val_predict(rsrf.best_estimator_, df_listo, df.stroke)\n",
        "yscore_rsrf = cross_val_predict(rsrf.best_estimator_, df_listo, df.stroke, method=\"predict_proba\")\n",
        "confusion_matrix(df.stroke, ypred_rsrf)"
      ],
      "id": "fPZTUCGixckj",
      "execution_count": null,
      "outputs": [
        {
          "output_type": "execute_result",
          "data": {
            "text/plain": [
              "array([[3873,   11],\n",
              "       [ 203,    1]])"
            ]
          },
          "metadata": {},
          "execution_count": 29
        }
      ]
    },
    {
      "cell_type": "code",
      "metadata": {
        "id": "6qqc34ezxckk",
        "colab": {
          "base_uri": "https://localhost:8080/"
        },
        "outputId": "1cb53eb4-76fc-4339-a094-9082b0eaec92"
      },
      "source": [
        "print(accuracy_score(df.stroke, ypred_rsrf))\n",
        "print(recall_score(df.stroke, ypred_rsrf))\n",
        "print(roc_auc_score(df.stroke, yscore_rsrf[:,1]))"
      ],
      "id": "6qqc34ezxckk",
      "execution_count": null,
      "outputs": [
        {
          "output_type": "stream",
          "name": "stdout",
          "text": [
            "0.9476516634050881\n",
            "0.004901960784313725\n",
            "0.6723675309464672\n"
          ]
        }
      ]
    },
    {
      "cell_type": "markdown",
      "metadata": {
        "id": "b6xB4yWQxckl"
      },
      "source": [
        "## Usando scoring = F1 para el randomized search"
      ],
      "id": "b6xB4yWQxckl"
    },
    {
      "cell_type": "code",
      "metadata": {
        "id": "WUUCwUdcxckm",
        "colab": {
          "base_uri": "https://localhost:8080/"
        },
        "outputId": "da5b6a64-27bd-40cb-b910-ba6bce28f872"
      },
      "source": [
        "from sklearn.ensemble import RandomForestClassifier\n",
        "from sklearn.model_selection import GridSearchCV, RandomizedSearchCV\n",
        "peso_clases = {0:1, 1:19}\n",
        "reg_rf = RandomForestClassifier(random_state=42, class_weight=\"balanced\")\n",
        "param_grid = {\"n_estimators\":np.arange(100,500, 10),\n",
        "              \"max_depth\":np.arange(200, 500, 10),\n",
        "              \"min_samples_leaf\":np.arange(1,30, 5)\n",
        "             }\n",
        "reg_rf.fit(df_listo, df.stroke)\n",
        "#gsrf = GridSearchCV(reg_rf, param_grid, verbose=3)\n",
        "rsrf = RandomizedSearchCV(reg_rf, param_grid, verbose=3, n_iter=25, random_state=42, scoring=\"f1\")\n",
        "rsrf.fit(df_listo, df.stroke)\n",
        "#ypred_gsrf = cross_val_predict(gsrf.best_estimator_, _train_scaled, t_train)"
      ],
      "id": "WUUCwUdcxckm",
      "execution_count": null,
      "outputs": [
        {
          "output_type": "stream",
          "name": "stdout",
          "text": [
            "Fitting 5 folds for each of 25 candidates, totalling 125 fits\n",
            "[CV] n_estimators=300, min_samples_leaf=16, max_depth=230 ............\n"
          ]
        },
        {
          "output_type": "stream",
          "name": "stderr",
          "text": [
            "[Parallel(n_jobs=1)]: Using backend SequentialBackend with 1 concurrent workers.\n"
          ]
        },
        {
          "output_type": "stream",
          "name": "stdout",
          "text": [
            "[CV]  n_estimators=300, min_samples_leaf=16, max_depth=230, score=0.211, total=   0.8s\n",
            "[CV] n_estimators=300, min_samples_leaf=16, max_depth=230 ............\n"
          ]
        },
        {
          "output_type": "stream",
          "name": "stderr",
          "text": [
            "[Parallel(n_jobs=1)]: Done   1 out of   1 | elapsed:    0.8s remaining:    0.0s\n"
          ]
        },
        {
          "output_type": "stream",
          "name": "stdout",
          "text": [
            "[CV]  n_estimators=300, min_samples_leaf=16, max_depth=230, score=0.229, total=   0.8s\n",
            "[CV] n_estimators=300, min_samples_leaf=16, max_depth=230 ............\n"
          ]
        },
        {
          "output_type": "stream",
          "name": "stderr",
          "text": [
            "[Parallel(n_jobs=1)]: Done   2 out of   2 | elapsed:    1.6s remaining:    0.0s\n"
          ]
        },
        {
          "output_type": "stream",
          "name": "stdout",
          "text": [
            "[CV]  n_estimators=300, min_samples_leaf=16, max_depth=230, score=0.201, total=   0.8s\n",
            "[CV] n_estimators=300, min_samples_leaf=16, max_depth=230 ............\n",
            "[CV]  n_estimators=300, min_samples_leaf=16, max_depth=230, score=0.187, total=   0.8s\n",
            "[CV] n_estimators=300, min_samples_leaf=16, max_depth=230 ............\n",
            "[CV]  n_estimators=300, min_samples_leaf=16, max_depth=230, score=0.185, total=   0.8s\n",
            "[CV] n_estimators=400, min_samples_leaf=11, max_depth=420 ............\n",
            "[CV]  n_estimators=400, min_samples_leaf=11, max_depth=420, score=0.233, total=   1.1s\n",
            "[CV] n_estimators=400, min_samples_leaf=11, max_depth=420 ............\n",
            "[CV]  n_estimators=400, min_samples_leaf=11, max_depth=420, score=0.236, total=   1.1s\n",
            "[CV] n_estimators=400, min_samples_leaf=11, max_depth=420 ............\n",
            "[CV]  n_estimators=400, min_samples_leaf=11, max_depth=420, score=0.219, total=   1.1s\n",
            "[CV] n_estimators=400, min_samples_leaf=11, max_depth=420 ............\n",
            "[CV]  n_estimators=400, min_samples_leaf=11, max_depth=420, score=0.194, total=   1.1s\n",
            "[CV] n_estimators=400, min_samples_leaf=11, max_depth=420 ............\n",
            "[CV]  n_estimators=400, min_samples_leaf=11, max_depth=420, score=0.186, total=   1.1s\n",
            "[CV] n_estimators=360, min_samples_leaf=21, max_depth=410 ............\n",
            "[CV]  n_estimators=360, min_samples_leaf=21, max_depth=410, score=0.230, total=   0.9s\n",
            "[CV] n_estimators=360, min_samples_leaf=21, max_depth=410 ............\n",
            "[CV]  n_estimators=360, min_samples_leaf=21, max_depth=410, score=0.227, total=   1.0s\n",
            "[CV] n_estimators=360, min_samples_leaf=21, max_depth=410 ............\n",
            "[CV]  n_estimators=360, min_samples_leaf=21, max_depth=410, score=0.225, total=   0.9s\n",
            "[CV] n_estimators=360, min_samples_leaf=21, max_depth=410 ............\n",
            "[CV]  n_estimators=360, min_samples_leaf=21, max_depth=410, score=0.178, total=   1.0s\n",
            "[CV] n_estimators=360, min_samples_leaf=21, max_depth=410 ............\n",
            "[CV]  n_estimators=360, min_samples_leaf=21, max_depth=410, score=0.193, total=   0.9s\n",
            "[CV] n_estimators=410, min_samples_leaf=16, max_depth=410 ............\n",
            "[CV]  n_estimators=410, min_samples_leaf=16, max_depth=410, score=0.225, total=   1.1s\n",
            "[CV] n_estimators=410, min_samples_leaf=16, max_depth=410 ............\n",
            "[CV]  n_estimators=410, min_samples_leaf=16, max_depth=410, score=0.229, total=   1.1s\n",
            "[CV] n_estimators=410, min_samples_leaf=16, max_depth=410 ............\n",
            "[CV]  n_estimators=410, min_samples_leaf=16, max_depth=410, score=0.199, total=   1.1s\n",
            "[CV] n_estimators=410, min_samples_leaf=16, max_depth=410 ............\n",
            "[CV]  n_estimators=410, min_samples_leaf=16, max_depth=410, score=0.186, total=   1.1s\n",
            "[CV] n_estimators=410, min_samples_leaf=16, max_depth=410 ............\n",
            "[CV]  n_estimators=410, min_samples_leaf=16, max_depth=410, score=0.174, total=   1.2s\n",
            "[CV] n_estimators=220, min_samples_leaf=21, max_depth=350 ............\n",
            "[CV]  n_estimators=220, min_samples_leaf=21, max_depth=350, score=0.229, total=   0.6s\n",
            "[CV] n_estimators=220, min_samples_leaf=21, max_depth=350 ............\n",
            "[CV]  n_estimators=220, min_samples_leaf=21, max_depth=350, score=0.240, total=   0.6s\n",
            "[CV] n_estimators=220, min_samples_leaf=21, max_depth=350 ............\n",
            "[CV]  n_estimators=220, min_samples_leaf=21, max_depth=350, score=0.211, total=   0.6s\n",
            "[CV] n_estimators=220, min_samples_leaf=21, max_depth=350 ............\n",
            "[CV]  n_estimators=220, min_samples_leaf=21, max_depth=350, score=0.168, total=   0.6s\n",
            "[CV] n_estimators=220, min_samples_leaf=21, max_depth=350 ............\n",
            "[CV]  n_estimators=220, min_samples_leaf=21, max_depth=350, score=0.182, total=   0.6s\n",
            "[CV] n_estimators=220, min_samples_leaf=26, max_depth=320 ............\n",
            "[CV]  n_estimators=220, min_samples_leaf=26, max_depth=320, score=0.202, total=   0.6s\n",
            "[CV] n_estimators=220, min_samples_leaf=26, max_depth=320 ............\n",
            "[CV]  n_estimators=220, min_samples_leaf=26, max_depth=320, score=0.227, total=   0.6s\n",
            "[CV] n_estimators=220, min_samples_leaf=26, max_depth=320 ............\n",
            "[CV]  n_estimators=220, min_samples_leaf=26, max_depth=320, score=0.201, total=   0.5s\n",
            "[CV] n_estimators=220, min_samples_leaf=26, max_depth=320 ............\n",
            "[CV]  n_estimators=220, min_samples_leaf=26, max_depth=320, score=0.179, total=   0.6s\n",
            "[CV] n_estimators=220, min_samples_leaf=26, max_depth=320 ............\n",
            "[CV]  n_estimators=220, min_samples_leaf=26, max_depth=320, score=0.204, total=   0.6s\n",
            "[CV] n_estimators=240, min_samples_leaf=26, max_depth=430 ............\n",
            "[CV]  n_estimators=240, min_samples_leaf=26, max_depth=430, score=0.201, total=   0.6s\n",
            "[CV] n_estimators=240, min_samples_leaf=26, max_depth=430 ............\n",
            "[CV]  n_estimators=240, min_samples_leaf=26, max_depth=430, score=0.230, total=   0.6s\n",
            "[CV] n_estimators=240, min_samples_leaf=26, max_depth=430 ............\n",
            "[CV]  n_estimators=240, min_samples_leaf=26, max_depth=430, score=0.208, total=   0.6s\n",
            "[CV] n_estimators=240, min_samples_leaf=26, max_depth=430 ............\n",
            "[CV]  n_estimators=240, min_samples_leaf=26, max_depth=430, score=0.179, total=   0.6s\n",
            "[CV] n_estimators=240, min_samples_leaf=26, max_depth=430 ............\n",
            "[CV]  n_estimators=240, min_samples_leaf=26, max_depth=430, score=0.206, total=   0.6s\n",
            "[CV] n_estimators=350, min_samples_leaf=1, max_depth=460 .............\n",
            "[CV]  n_estimators=350, min_samples_leaf=1, max_depth=460, score=0.000, total=   1.1s\n",
            "[CV] n_estimators=350, min_samples_leaf=1, max_depth=460 .............\n",
            "[CV]  n_estimators=350, min_samples_leaf=1, max_depth=460, score=0.000, total=   1.1s\n",
            "[CV] n_estimators=350, min_samples_leaf=1, max_depth=460 .............\n",
            "[CV]  n_estimators=350, min_samples_leaf=1, max_depth=460, score=0.000, total=   1.0s\n",
            "[CV] n_estimators=350, min_samples_leaf=1, max_depth=460 .............\n",
            "[CV]  n_estimators=350, min_samples_leaf=1, max_depth=460, score=0.000, total=   1.1s\n",
            "[CV] n_estimators=350, min_samples_leaf=1, max_depth=460 .............\n",
            "[CV]  n_estimators=350, min_samples_leaf=1, max_depth=460, score=0.000, total=   1.1s\n",
            "[CV] n_estimators=360, min_samples_leaf=26, max_depth=210 ............\n",
            "[CV]  n_estimators=360, min_samples_leaf=26, max_depth=210, score=0.201, total=   0.9s\n",
            "[CV] n_estimators=360, min_samples_leaf=26, max_depth=210 ............\n",
            "[CV]  n_estimators=360, min_samples_leaf=26, max_depth=210, score=0.235, total=   0.9s\n",
            "[CV] n_estimators=360, min_samples_leaf=26, max_depth=210 ............\n",
            "[CV]  n_estimators=360, min_samples_leaf=26, max_depth=210, score=0.203, total=   1.0s\n",
            "[CV] n_estimators=360, min_samples_leaf=26, max_depth=210 ............\n",
            "[CV]  n_estimators=360, min_samples_leaf=26, max_depth=210, score=0.188, total=   0.9s\n",
            "[CV] n_estimators=360, min_samples_leaf=26, max_depth=210 ............\n",
            "[CV]  n_estimators=360, min_samples_leaf=26, max_depth=210, score=0.204, total=   0.9s\n",
            "[CV] n_estimators=240, min_samples_leaf=6, max_depth=420 .............\n",
            "[CV]  n_estimators=240, min_samples_leaf=6, max_depth=420, score=0.115, total=   0.7s\n",
            "[CV] n_estimators=240, min_samples_leaf=6, max_depth=420 .............\n",
            "[CV]  n_estimators=240, min_samples_leaf=6, max_depth=420, score=0.259, total=   0.7s\n",
            "[CV] n_estimators=240, min_samples_leaf=6, max_depth=420 .............\n",
            "[CV]  n_estimators=240, min_samples_leaf=6, max_depth=420, score=0.157, total=   0.7s\n",
            "[CV] n_estimators=240, min_samples_leaf=6, max_depth=420 .............\n",
            "[CV]  n_estimators=240, min_samples_leaf=6, max_depth=420, score=0.149, total=   0.7s\n",
            "[CV] n_estimators=240, min_samples_leaf=6, max_depth=420 .............\n",
            "[CV]  n_estimators=240, min_samples_leaf=6, max_depth=420, score=0.108, total=   0.7s\n",
            "[CV] n_estimators=360, min_samples_leaf=11, max_depth=380 ............\n",
            "[CV]  n_estimators=360, min_samples_leaf=11, max_depth=380, score=0.217, total=   1.0s\n",
            "[CV] n_estimators=360, min_samples_leaf=11, max_depth=380 ............\n",
            "[CV]  n_estimators=360, min_samples_leaf=11, max_depth=380, score=0.236, total=   1.0s\n",
            "[CV] n_estimators=360, min_samples_leaf=11, max_depth=380 ............\n",
            "[CV]  n_estimators=360, min_samples_leaf=11, max_depth=380, score=0.219, total=   1.0s\n",
            "[CV] n_estimators=360, min_samples_leaf=11, max_depth=380 ............\n",
            "[CV]  n_estimators=360, min_samples_leaf=11, max_depth=380, score=0.190, total=   1.0s\n",
            "[CV] n_estimators=360, min_samples_leaf=11, max_depth=380 ............\n",
            "[CV]  n_estimators=360, min_samples_leaf=11, max_depth=380, score=0.186, total=   1.0s\n",
            "[CV] n_estimators=280, min_samples_leaf=6, max_depth=430 .............\n",
            "[CV]  n_estimators=280, min_samples_leaf=6, max_depth=430, score=0.093, total=   0.8s\n",
            "[CV] n_estimators=280, min_samples_leaf=6, max_depth=430 .............\n",
            "[CV]  n_estimators=280, min_samples_leaf=6, max_depth=430, score=0.205, total=   0.8s\n",
            "[CV] n_estimators=280, min_samples_leaf=6, max_depth=430 .............\n",
            "[CV]  n_estimators=280, min_samples_leaf=6, max_depth=430, score=0.152, total=   0.8s\n",
            "[CV] n_estimators=280, min_samples_leaf=6, max_depth=430 .............\n",
            "[CV]  n_estimators=280, min_samples_leaf=6, max_depth=430, score=0.146, total=   0.8s\n",
            "[CV] n_estimators=280, min_samples_leaf=6, max_depth=430 .............\n",
            "[CV]  n_estimators=280, min_samples_leaf=6, max_depth=430, score=0.108, total=   0.8s\n",
            "[CV] n_estimators=410, min_samples_leaf=26, max_depth=450 ............\n",
            "[CV]  n_estimators=410, min_samples_leaf=26, max_depth=450, score=0.200, total=   1.1s\n",
            "[CV] n_estimators=410, min_samples_leaf=26, max_depth=450 ............\n",
            "[CV]  n_estimators=410, min_samples_leaf=26, max_depth=450, score=0.232, total=   1.1s\n",
            "[CV] n_estimators=410, min_samples_leaf=26, max_depth=450 ............\n",
            "[CV]  n_estimators=410, min_samples_leaf=26, max_depth=450, score=0.204, total=   1.1s\n",
            "[CV] n_estimators=410, min_samples_leaf=26, max_depth=450 ............\n",
            "[CV]  n_estimators=410, min_samples_leaf=26, max_depth=450, score=0.189, total=   1.1s\n",
            "[CV] n_estimators=410, min_samples_leaf=26, max_depth=450 ............\n",
            "[CV]  n_estimators=410, min_samples_leaf=26, max_depth=450, score=0.205, total=   1.0s\n",
            "[CV] n_estimators=140, min_samples_leaf=11, max_depth=340 ............\n",
            "[CV]  n_estimators=140, min_samples_leaf=11, max_depth=340, score=0.231, total=   0.4s\n",
            "[CV] n_estimators=140, min_samples_leaf=11, max_depth=340 ............\n",
            "[CV]  n_estimators=140, min_samples_leaf=11, max_depth=340, score=0.235, total=   0.4s\n",
            "[CV] n_estimators=140, min_samples_leaf=11, max_depth=340 ............\n",
            "[CV]  n_estimators=140, min_samples_leaf=11, max_depth=340, score=0.214, total=   0.4s\n",
            "[CV] n_estimators=140, min_samples_leaf=11, max_depth=340 ............\n",
            "[CV]  n_estimators=140, min_samples_leaf=11, max_depth=340, score=0.207, total=   0.4s\n",
            "[CV] n_estimators=140, min_samples_leaf=11, max_depth=340 ............\n",
            "[CV]  n_estimators=140, min_samples_leaf=11, max_depth=340, score=0.188, total=   0.4s\n",
            "[CV] n_estimators=210, min_samples_leaf=6, max_depth=330 .............\n",
            "[CV]  n_estimators=210, min_samples_leaf=6, max_depth=330, score=0.114, total=   0.6s\n",
            "[CV] n_estimators=210, min_samples_leaf=6, max_depth=330 .............\n",
            "[CV]  n_estimators=210, min_samples_leaf=6, max_depth=330, score=0.235, total=   0.6s\n",
            "[CV] n_estimators=210, min_samples_leaf=6, max_depth=330 .............\n",
            "[CV]  n_estimators=210, min_samples_leaf=6, max_depth=330, score=0.156, total=   0.6s\n",
            "[CV] n_estimators=210, min_samples_leaf=6, max_depth=330 .............\n",
            "[CV]  n_estimators=210, min_samples_leaf=6, max_depth=330, score=0.147, total=   0.6s\n",
            "[CV] n_estimators=210, min_samples_leaf=6, max_depth=330 .............\n",
            "[CV]  n_estimators=210, min_samples_leaf=6, max_depth=330, score=0.106, total=   0.6s\n",
            "[CV] n_estimators=490, min_samples_leaf=1, max_depth=320 .............\n",
            "[CV]  n_estimators=490, min_samples_leaf=1, max_depth=320, score=0.000, total=   1.5s\n",
            "[CV] n_estimators=490, min_samples_leaf=1, max_depth=320 .............\n",
            "[CV]  n_estimators=490, min_samples_leaf=1, max_depth=320, score=0.000, total=   1.5s\n",
            "[CV] n_estimators=490, min_samples_leaf=1, max_depth=320 .............\n",
            "[CV]  n_estimators=490, min_samples_leaf=1, max_depth=320, score=0.000, total=   1.5s\n",
            "[CV] n_estimators=490, min_samples_leaf=1, max_depth=320 .............\n",
            "[CV]  n_estimators=490, min_samples_leaf=1, max_depth=320, score=0.000, total=   1.5s\n",
            "[CV] n_estimators=490, min_samples_leaf=1, max_depth=320 .............\n",
            "[CV]  n_estimators=490, min_samples_leaf=1, max_depth=320, score=0.000, total=   1.5s\n",
            "[CV] n_estimators=200, min_samples_leaf=16, max_depth=200 ............\n",
            "[CV]  n_estimators=200, min_samples_leaf=16, max_depth=200, score=0.224, total=   0.6s\n",
            "[CV] n_estimators=200, min_samples_leaf=16, max_depth=200 ............\n",
            "[CV]  n_estimators=200, min_samples_leaf=16, max_depth=200, score=0.241, total=   0.6s\n",
            "[CV] n_estimators=200, min_samples_leaf=16, max_depth=200 ............\n",
            "[CV]  n_estimators=200, min_samples_leaf=16, max_depth=200, score=0.214, total=   0.6s\n",
            "[CV] n_estimators=200, min_samples_leaf=16, max_depth=200 ............\n",
            "[CV]  n_estimators=200, min_samples_leaf=16, max_depth=200, score=0.175, total=   0.5s\n",
            "[CV] n_estimators=200, min_samples_leaf=16, max_depth=200 ............\n",
            "[CV]  n_estimators=200, min_samples_leaf=16, max_depth=200, score=0.196, total=   0.5s\n",
            "[CV] n_estimators=150, min_samples_leaf=1, max_depth=270 .............\n",
            "[CV]  n_estimators=150, min_samples_leaf=1, max_depth=270, score=0.000, total=   0.5s\n",
            "[CV] n_estimators=150, min_samples_leaf=1, max_depth=270 .............\n",
            "[CV]  n_estimators=150, min_samples_leaf=1, max_depth=270, score=0.000, total=   0.5s\n",
            "[CV] n_estimators=150, min_samples_leaf=1, max_depth=270 .............\n",
            "[CV]  n_estimators=150, min_samples_leaf=1, max_depth=270, score=0.000, total=   0.5s\n",
            "[CV] n_estimators=150, min_samples_leaf=1, max_depth=270 .............\n",
            "[CV]  n_estimators=150, min_samples_leaf=1, max_depth=270, score=0.000, total=   0.5s\n",
            "[CV] n_estimators=150, min_samples_leaf=1, max_depth=270 .............\n",
            "[CV]  n_estimators=150, min_samples_leaf=1, max_depth=270, score=0.000, total=   0.4s\n",
            "[CV] n_estimators=190, min_samples_leaf=6, max_depth=230 .............\n",
            "[CV]  n_estimators=190, min_samples_leaf=6, max_depth=230, score=0.116, total=   0.5s\n",
            "[CV] n_estimators=190, min_samples_leaf=6, max_depth=230 .............\n",
            "[CV]  n_estimators=190, min_samples_leaf=6, max_depth=230, score=0.214, total=   0.5s\n",
            "[CV] n_estimators=190, min_samples_leaf=6, max_depth=230 .............\n",
            "[CV]  n_estimators=190, min_samples_leaf=6, max_depth=230, score=0.152, total=   0.5s\n",
            "[CV] n_estimators=190, min_samples_leaf=6, max_depth=230 .............\n",
            "[CV]  n_estimators=190, min_samples_leaf=6, max_depth=230, score=0.146, total=   0.5s\n",
            "[CV] n_estimators=190, min_samples_leaf=6, max_depth=230 .............\n",
            "[CV]  n_estimators=190, min_samples_leaf=6, max_depth=230, score=0.106, total=   0.5s\n",
            "[CV] n_estimators=410, min_samples_leaf=26, max_depth=290 ............\n",
            "[CV]  n_estimators=410, min_samples_leaf=26, max_depth=290, score=0.200, total=   1.1s\n",
            "[CV] n_estimators=410, min_samples_leaf=26, max_depth=290 ............\n",
            "[CV]  n_estimators=410, min_samples_leaf=26, max_depth=290, score=0.232, total=   1.1s\n",
            "[CV] n_estimators=410, min_samples_leaf=26, max_depth=290 ............\n",
            "[CV]  n_estimators=410, min_samples_leaf=26, max_depth=290, score=0.204, total=   1.0s\n",
            "[CV] n_estimators=410, min_samples_leaf=26, max_depth=290 ............\n",
            "[CV]  n_estimators=410, min_samples_leaf=26, max_depth=290, score=0.189, total=   1.0s\n",
            "[CV] n_estimators=410, min_samples_leaf=26, max_depth=290 ............\n",
            "[CV]  n_estimators=410, min_samples_leaf=26, max_depth=290, score=0.205, total=   1.0s\n",
            "[CV] n_estimators=210, min_samples_leaf=11, max_depth=430 ............\n",
            "[CV]  n_estimators=210, min_samples_leaf=11, max_depth=430, score=0.214, total=   0.6s\n",
            "[CV] n_estimators=210, min_samples_leaf=11, max_depth=430 ............\n",
            "[CV]  n_estimators=210, min_samples_leaf=11, max_depth=430, score=0.229, total=   0.6s\n",
            "[CV] n_estimators=210, min_samples_leaf=11, max_depth=430 ............\n",
            "[CV]  n_estimators=210, min_samples_leaf=11, max_depth=430, score=0.221, total=   0.6s\n",
            "[CV] n_estimators=210, min_samples_leaf=11, max_depth=430 ............\n",
            "[CV]  n_estimators=210, min_samples_leaf=11, max_depth=430, score=0.199, total=   0.5s\n",
            "[CV] n_estimators=210, min_samples_leaf=11, max_depth=430 ............\n",
            "[CV]  n_estimators=210, min_samples_leaf=11, max_depth=430, score=0.188, total=   0.6s\n",
            "[CV] n_estimators=390, min_samples_leaf=26, max_depth=480 ............\n",
            "[CV]  n_estimators=390, min_samples_leaf=26, max_depth=480, score=0.200, total=   1.0s\n",
            "[CV] n_estimators=390, min_samples_leaf=26, max_depth=480 ............\n",
            "[CV]  n_estimators=390, min_samples_leaf=26, max_depth=480, score=0.233, total=   1.0s\n",
            "[CV] n_estimators=390, min_samples_leaf=26, max_depth=480 ............\n",
            "[CV]  n_estimators=390, min_samples_leaf=26, max_depth=480, score=0.203, total=   1.0s\n",
            "[CV] n_estimators=390, min_samples_leaf=26, max_depth=480 ............\n",
            "[CV]  n_estimators=390, min_samples_leaf=26, max_depth=480, score=0.188, total=   1.0s\n",
            "[CV] n_estimators=390, min_samples_leaf=26, max_depth=480 ............\n",
            "[CV]  n_estimators=390, min_samples_leaf=26, max_depth=480, score=0.205, total=   1.0s\n",
            "[CV] n_estimators=430, min_samples_leaf=1, max_depth=300 .............\n",
            "[CV]  n_estimators=430, min_samples_leaf=1, max_depth=300, score=0.000, total=   1.3s\n",
            "[CV] n_estimators=430, min_samples_leaf=1, max_depth=300 .............\n",
            "[CV]  n_estimators=430, min_samples_leaf=1, max_depth=300, score=0.000, total=   1.3s\n",
            "[CV] n_estimators=430, min_samples_leaf=1, max_depth=300 .............\n",
            "[CV]  n_estimators=430, min_samples_leaf=1, max_depth=300, score=0.000, total=   1.3s\n",
            "[CV] n_estimators=430, min_samples_leaf=1, max_depth=300 .............\n",
            "[CV]  n_estimators=430, min_samples_leaf=1, max_depth=300, score=0.000, total=   1.4s\n",
            "[CV] n_estimators=430, min_samples_leaf=1, max_depth=300 .............\n",
            "[CV]  n_estimators=430, min_samples_leaf=1, max_depth=300, score=0.000, total=   1.3s\n",
            "[CV] n_estimators=410, min_samples_leaf=1, max_depth=420 .............\n",
            "[CV]  n_estimators=410, min_samples_leaf=1, max_depth=420, score=0.000, total=   1.3s\n",
            "[CV] n_estimators=410, min_samples_leaf=1, max_depth=420 .............\n",
            "[CV]  n_estimators=410, min_samples_leaf=1, max_depth=420, score=0.000, total=   1.3s\n",
            "[CV] n_estimators=410, min_samples_leaf=1, max_depth=420 .............\n",
            "[CV]  n_estimators=410, min_samples_leaf=1, max_depth=420, score=0.000, total=   1.2s\n",
            "[CV] n_estimators=410, min_samples_leaf=1, max_depth=420 .............\n",
            "[CV]  n_estimators=410, min_samples_leaf=1, max_depth=420, score=0.000, total=   1.2s\n",
            "[CV] n_estimators=410, min_samples_leaf=1, max_depth=420 .............\n",
            "[CV]  n_estimators=410, min_samples_leaf=1, max_depth=420, score=0.000, total=   1.2s\n",
            "[CV] n_estimators=210, min_samples_leaf=1, max_depth=410 .............\n",
            "[CV]  n_estimators=210, min_samples_leaf=1, max_depth=410, score=0.000, total=   0.7s\n",
            "[CV] n_estimators=210, min_samples_leaf=1, max_depth=410 .............\n",
            "[CV]  n_estimators=210, min_samples_leaf=1, max_depth=410, score=0.000, total=   0.6s\n",
            "[CV] n_estimators=210, min_samples_leaf=1, max_depth=410 .............\n",
            "[CV]  n_estimators=210, min_samples_leaf=1, max_depth=410, score=0.000, total=   0.6s\n",
            "[CV] n_estimators=210, min_samples_leaf=1, max_depth=410 .............\n",
            "[CV]  n_estimators=210, min_samples_leaf=1, max_depth=410, score=0.000, total=   0.6s\n",
            "[CV] n_estimators=210, min_samples_leaf=1, max_depth=410 .............\n",
            "[CV]  n_estimators=210, min_samples_leaf=1, max_depth=410, score=0.000, total=   0.7s\n"
          ]
        },
        {
          "output_type": "stream",
          "name": "stderr",
          "text": [
            "[Parallel(n_jobs=1)]: Done 125 out of 125 | elapsed:  1.8min finished\n"
          ]
        },
        {
          "output_type": "execute_result",
          "data": {
            "text/plain": [
              "RandomizedSearchCV(cv=None, error_score=nan,\n",
              "                   estimator=RandomForestClassifier(bootstrap=True,\n",
              "                                                    ccp_alpha=0.0,\n",
              "                                                    class_weight='balanced',\n",
              "                                                    criterion='gini',\n",
              "                                                    max_depth=None,\n",
              "                                                    max_features='auto',\n",
              "                                                    max_leaf_nodes=None,\n",
              "                                                    max_samples=None,\n",
              "                                                    min_impurity_decrease=0.0,\n",
              "                                                    min_impurity_split=None,\n",
              "                                                    min_samples_leaf=1,\n",
              "                                                    min_samples_split=2,\n",
              "                                                    min_weight_fraction_leaf=0.0,\n",
              "                                                    n_estimators=1...\n",
              "       330, 340, 350, 360, 370, 380, 390, 400, 410, 420, 430, 440, 450,\n",
              "       460, 470, 480, 490]),\n",
              "                                        'min_samples_leaf': array([ 1,  6, 11, 16, 21, 26]),\n",
              "                                        'n_estimators': array([100, 110, 120, 130, 140, 150, 160, 170, 180, 190, 200, 210, 220,\n",
              "       230, 240, 250, 260, 270, 280, 290, 300, 310, 320, 330, 340, 350,\n",
              "       360, 370, 380, 390, 400, 410, 420, 430, 440, 450, 460, 470, 480,\n",
              "       490])},\n",
              "                   pre_dispatch='2*n_jobs', random_state=42, refit=True,\n",
              "                   return_train_score=False, scoring='f1', verbose=3)"
            ]
          },
          "metadata": {},
          "execution_count": 32
        }
      ]
    },
    {
      "cell_type": "code",
      "metadata": {
        "id": "OAqkOQ5Vxckn",
        "colab": {
          "base_uri": "https://localhost:8080/"
        },
        "outputId": "c1c4aa31-e07a-4d9a-b53b-9a0c54a80e6a"
      },
      "source": [
        "rsrf.best_params_"
      ],
      "id": "OAqkOQ5Vxckn",
      "execution_count": null,
      "outputs": [
        {
          "output_type": "execute_result",
          "data": {
            "text/plain": [
              "{'max_depth': 340, 'min_samples_leaf': 11, 'n_estimators': 140}"
            ]
          },
          "metadata": {},
          "execution_count": 33
        }
      ]
    },
    {
      "cell_type": "code",
      "metadata": {
        "id": "08CPgS7Sxckn",
        "colab": {
          "base_uri": "https://localhost:8080/"
        },
        "outputId": "b2adf55b-c051-4f1a-ca1f-28c2f8f62abf"
      },
      "source": [
        "ypred_rsrf = cross_val_predict(rsrf.best_estimator_, df_listo, df.stroke)\n",
        "yscore_rsrf = cross_val_predict(rsrf.best_estimator_, df_listo, df.stroke, method=\"predict_proba\")\n",
        "confusion_matrix(df.stroke, ypred_rsrf)"
      ],
      "id": "08CPgS7Sxckn",
      "execution_count": null,
      "outputs": [
        {
          "output_type": "execute_result",
          "data": {
            "text/plain": [
              "array([[3473,  411],\n",
              "       [ 130,   74]])"
            ]
          },
          "metadata": {},
          "execution_count": 34
        }
      ]
    },
    {
      "cell_type": "code",
      "metadata": {
        "colab": {
          "base_uri": "https://localhost:8080/"
        },
        "id": "dttAZvTq9o5Y",
        "outputId": "33b5b277-b7de-4de0-ba52-45ccfd7ff0ca"
      },
      "source": [
        "dir ()"
      ],
      "id": "dttAZvTq9o5Y",
      "execution_count": null,
      "outputs": [
        {
          "output_type": "execute_result",
          "data": {
            "text/plain": [
              "['AdaBoostClassifier',\n",
              " 'ColumnTransformer',\n",
              " 'DecisionTreeClassifier',\n",
              " 'GradientBoostingClassifier',\n",
              " 'GridSearchCV',\n",
              " 'In',\n",
              " 'LabelEncoder',\n",
              " 'LogisticRegression',\n",
              " 'ModifiedLabelEncoder',\n",
              " 'OneHotEncoder',\n",
              " 'Out',\n",
              " 'Pipeline',\n",
              " 'RandomForestClassifier',\n",
              " 'RandomizedSearchCV',\n",
              " 'StandardScaler',\n",
              " '_',\n",
              " '_10',\n",
              " '_12',\n",
              " '_14',\n",
              " '_15',\n",
              " '_16',\n",
              " '_18',\n",
              " '_19',\n",
              " '_20',\n",
              " '_22',\n",
              " '_23',\n",
              " '_24',\n",
              " '_26',\n",
              " '_28',\n",
              " '_29',\n",
              " '_30',\n",
              " '_32',\n",
              " '_33',\n",
              " '_34',\n",
              " '_35',\n",
              " '_37',\n",
              " '_38',\n",
              " '_40',\n",
              " '_43',\n",
              " '_44',\n",
              " '_45',\n",
              " '_46',\n",
              " '_47',\n",
              " '_48',\n",
              " '_49',\n",
              " '_59',\n",
              " '__',\n",
              " '___',\n",
              " '__builtin__',\n",
              " '__builtins__',\n",
              " '__doc__',\n",
              " '__loader__',\n",
              " '__name__',\n",
              " '__package__',\n",
              " '__spec__',\n",
              " '_dh',\n",
              " '_i',\n",
              " '_i1',\n",
              " '_i10',\n",
              " '_i11',\n",
              " '_i12',\n",
              " '_i13',\n",
              " '_i14',\n",
              " '_i15',\n",
              " '_i16',\n",
              " '_i17',\n",
              " '_i18',\n",
              " '_i19',\n",
              " '_i2',\n",
              " '_i20',\n",
              " '_i21',\n",
              " '_i22',\n",
              " '_i23',\n",
              " '_i24',\n",
              " '_i25',\n",
              " '_i26',\n",
              " '_i27',\n",
              " '_i28',\n",
              " '_i29',\n",
              " '_i3',\n",
              " '_i30',\n",
              " '_i31',\n",
              " '_i32',\n",
              " '_i33',\n",
              " '_i34',\n",
              " '_i35',\n",
              " '_i36',\n",
              " '_i37',\n",
              " '_i38',\n",
              " '_i39',\n",
              " '_i4',\n",
              " '_i40',\n",
              " '_i41',\n",
              " '_i42',\n",
              " '_i43',\n",
              " '_i44',\n",
              " '_i45',\n",
              " '_i46',\n",
              " '_i47',\n",
              " '_i48',\n",
              " '_i49',\n",
              " '_i5',\n",
              " '_i50',\n",
              " '_i51',\n",
              " '_i52',\n",
              " '_i53',\n",
              " '_i54',\n",
              " '_i55',\n",
              " '_i56',\n",
              " '_i57',\n",
              " '_i58',\n",
              " '_i59',\n",
              " '_i6',\n",
              " '_i60',\n",
              " '_i7',\n",
              " '_i8',\n",
              " '_i9',\n",
              " '_ih',\n",
              " '_ii',\n",
              " '_iii',\n",
              " '_oh',\n",
              " '_sh',\n",
              " 'accuracy_score',\n",
              " 'ada_clf',\n",
              " 'bmi_fill',\n",
              " 'cat_cols',\n",
              " 'confusion_matrix',\n",
              " 'cross_val_predict',\n",
              " 'df',\n",
              " 'df_listo',\n",
              " 'df_prepared',\n",
              " 'df_processed',\n",
              " 'dt_stump',\n",
              " 'exit',\n",
              " 'full_pipeline',\n",
              " 'get_ipython',\n",
              " 'i',\n",
              " 'label_cols',\n",
              " 'lr',\n",
              " 'np',\n",
              " 'num_cols',\n",
              " 'ohe_cols',\n",
              " 'param_grid',\n",
              " 'pd',\n",
              " 'peso_clases',\n",
              " 'pesos',\n",
              " 'plt',\n",
              " 'quit',\n",
              " 'recall_score',\n",
              " 'reg_rf',\n",
              " 'roc_auc_score',\n",
              " 'rs_ada',\n",
              " 'rsrf',\n",
              " 'umbral',\n",
              " 'y_score_log',\n",
              " 'ypred',\n",
              " 'ypred_rs_ada',\n",
              " 'ypred_rsrf',\n",
              " 'ypred_umbral']"
            ]
          },
          "metadata": {},
          "execution_count": 60
        }
      ]
    },
    {
      "cell_type": "code",
      "metadata": {
        "id": "ANIFpycuxcko",
        "colab": {
          "base_uri": "https://localhost:8080/"
        },
        "outputId": "2c8a3ffa-1434-4d04-d7aa-8260f4270abc"
      },
      "source": [
        "print(accuracy_score(df.stroke, ypred_rsrf))\n",
        "print(recall_score(df.stroke, ypred_rsrf))\n",
        "print(roc_auc_score(df.stroke, yscore_rsrf[:,1]))"
      ],
      "id": "ANIFpycuxcko",
      "execution_count": null,
      "outputs": [
        {
          "output_type": "stream",
          "name": "stdout",
          "text": [
            "0.8676614481409002\n",
            "0.3627450980392157\n",
            "0.7439356535611155\n"
          ]
        }
      ]
    },
    {
      "cell_type": "markdown",
      "metadata": {
        "id": "C-0CtBrIxckp"
      },
      "source": [
        "## Usando AUC_roc como scoring"
      ],
      "id": "C-0CtBrIxckp"
    },
    {
      "cell_type": "code",
      "metadata": {
        "id": "iX2iedOexckq",
        "colab": {
          "base_uri": "https://localhost:8080/"
        },
        "outputId": "894d0525-66e3-41f5-b642-3896599f0e38"
      },
      "source": [
        "from sklearn.ensemble import RandomForestClassifier\n",
        "from sklearn.model_selection import GridSearchCV, RandomizedSearchCV\n",
        "peso_clases = {0:1, 1:19}\n",
        "reg_rf = RandomForestClassifier(random_state=42, class_weight=\"balanced\")\n",
        "param_grid = {\"n_estimators\":np.arange(100,500, 10),\n",
        "              \"max_depth\":np.arange(200, 500, 10),\n",
        "              \"min_samples_leaf\":np.arange(1,600, 5)\n",
        "             }\n",
        "reg_rf.fit(df_listo, df.stroke)\n",
        "#gsrf = GridSearchCV(reg_rf, param_grid, verbose=3)\n",
        "rsrf = RandomizedSearchCV(reg_rf, param_grid, verbose=3, n_iter=35, random_state=42, scoring=\"roc_auc\")\n",
        "rsrf.fit(df_listo, df.stroke)\n",
        "#ypred_gsrf = cross_val_predict(gsrf.best_estimator_, _train_scaled, t_train)"
      ],
      "id": "iX2iedOexckq",
      "execution_count": null,
      "outputs": [
        {
          "output_type": "stream",
          "name": "stdout",
          "text": [
            "Fitting 5 folds for each of 35 candidates, totalling 175 fits\n",
            "[CV] n_estimators=480, min_samples_leaf=241, max_depth=450 ...........\n"
          ]
        },
        {
          "output_type": "stream",
          "name": "stderr",
          "text": [
            "[Parallel(n_jobs=1)]: Using backend SequentialBackend with 1 concurrent workers.\n"
          ]
        },
        {
          "output_type": "stream",
          "name": "stdout",
          "text": [
            "[CV]  n_estimators=480, min_samples_leaf=241, max_depth=450, score=0.731, total=   1.0s\n",
            "[CV] n_estimators=480, min_samples_leaf=241, max_depth=450 ...........\n"
          ]
        },
        {
          "output_type": "stream",
          "name": "stderr",
          "text": [
            "[Parallel(n_jobs=1)]: Done   1 out of   1 | elapsed:    1.0s remaining:    0.0s\n"
          ]
        },
        {
          "output_type": "stream",
          "name": "stdout",
          "text": [
            "[CV]  n_estimators=480, min_samples_leaf=241, max_depth=450, score=0.755, total=   1.0s\n",
            "[CV] n_estimators=480, min_samples_leaf=241, max_depth=450 ...........\n"
          ]
        },
        {
          "output_type": "stream",
          "name": "stderr",
          "text": [
            "[Parallel(n_jobs=1)]: Done   2 out of   2 | elapsed:    2.0s remaining:    0.0s\n"
          ]
        },
        {
          "output_type": "stream",
          "name": "stdout",
          "text": [
            "[CV]  n_estimators=480, min_samples_leaf=241, max_depth=450, score=0.683, total=   0.9s\n",
            "[CV] n_estimators=480, min_samples_leaf=241, max_depth=450 ...........\n",
            "[CV]  n_estimators=480, min_samples_leaf=241, max_depth=450, score=0.707, total=   1.0s\n",
            "[CV] n_estimators=480, min_samples_leaf=241, max_depth=450 ...........\n",
            "[CV]  n_estimators=480, min_samples_leaf=241, max_depth=450, score=0.728, total=   1.0s\n",
            "[CV] n_estimators=220, min_samples_leaf=291, max_depth=470 ...........\n",
            "[CV]  n_estimators=220, min_samples_leaf=291, max_depth=470, score=0.726, total=   0.4s\n",
            "[CV] n_estimators=220, min_samples_leaf=291, max_depth=470 ...........\n",
            "[CV]  n_estimators=220, min_samples_leaf=291, max_depth=470, score=0.749, total=   0.4s\n",
            "[CV] n_estimators=220, min_samples_leaf=291, max_depth=470 ...........\n",
            "[CV]  n_estimators=220, min_samples_leaf=291, max_depth=470, score=0.684, total=   0.4s\n",
            "[CV] n_estimators=220, min_samples_leaf=291, max_depth=470 ...........\n",
            "[CV]  n_estimators=220, min_samples_leaf=291, max_depth=470, score=0.699, total=   0.4s\n",
            "[CV] n_estimators=220, min_samples_leaf=291, max_depth=470 ...........\n",
            "[CV]  n_estimators=220, min_samples_leaf=291, max_depth=470, score=0.718, total=   0.4s\n",
            "[CV] n_estimators=240, min_samples_leaf=361, max_depth=410 ...........\n",
            "[CV]  n_estimators=240, min_samples_leaf=361, max_depth=410, score=0.715, total=   0.4s\n",
            "[CV] n_estimators=240, min_samples_leaf=361, max_depth=410 ...........\n",
            "[CV]  n_estimators=240, min_samples_leaf=361, max_depth=410, score=0.735, total=   0.4s\n",
            "[CV] n_estimators=240, min_samples_leaf=361, max_depth=410 ...........\n",
            "[CV]  n_estimators=240, min_samples_leaf=361, max_depth=410, score=0.671, total=   0.4s\n",
            "[CV] n_estimators=240, min_samples_leaf=361, max_depth=410 ...........\n",
            "[CV]  n_estimators=240, min_samples_leaf=361, max_depth=410, score=0.694, total=   0.4s\n",
            "[CV] n_estimators=240, min_samples_leaf=361, max_depth=410 ...........\n",
            "[CV]  n_estimators=240, min_samples_leaf=361, max_depth=410, score=0.708, total=   0.4s\n",
            "[CV] n_estimators=490, min_samples_leaf=581, max_depth=440 ...........\n",
            "[CV]  n_estimators=490, min_samples_leaf=581, max_depth=440, score=0.703, total=   0.8s\n",
            "[CV] n_estimators=490, min_samples_leaf=581, max_depth=440 ...........\n",
            "[CV]  n_estimators=490, min_samples_leaf=581, max_depth=440, score=0.724, total=   0.8s\n",
            "[CV] n_estimators=490, min_samples_leaf=581, max_depth=440 ...........\n",
            "[CV]  n_estimators=490, min_samples_leaf=581, max_depth=440, score=0.674, total=   0.8s\n",
            "[CV] n_estimators=490, min_samples_leaf=581, max_depth=440 ...........\n",
            "[CV]  n_estimators=490, min_samples_leaf=581, max_depth=440, score=0.684, total=   0.9s\n",
            "[CV] n_estimators=490, min_samples_leaf=581, max_depth=440 ...........\n",
            "[CV]  n_estimators=490, min_samples_leaf=581, max_depth=440, score=0.698, total=   0.8s\n",
            "[CV] n_estimators=380, min_samples_leaf=581, max_depth=420 ...........\n",
            "[CV]  n_estimators=380, min_samples_leaf=581, max_depth=420, score=0.703, total=   0.7s\n",
            "[CV] n_estimators=380, min_samples_leaf=581, max_depth=420 ...........\n",
            "[CV]  n_estimators=380, min_samples_leaf=581, max_depth=420, score=0.721, total=   0.7s\n",
            "[CV] n_estimators=380, min_samples_leaf=581, max_depth=420 ...........\n",
            "[CV]  n_estimators=380, min_samples_leaf=581, max_depth=420, score=0.676, total=   0.7s\n",
            "[CV] n_estimators=380, min_samples_leaf=581, max_depth=420 ...........\n",
            "[CV]  n_estimators=380, min_samples_leaf=581, max_depth=420, score=0.683, total=   0.7s\n",
            "[CV] n_estimators=380, min_samples_leaf=581, max_depth=420 ...........\n",
            "[CV]  n_estimators=380, min_samples_leaf=581, max_depth=420, score=0.698, total=   0.6s\n",
            "[CV] n_estimators=160, min_samples_leaf=261, max_depth=310 ...........\n",
            "[CV]  n_estimators=160, min_samples_leaf=261, max_depth=310, score=0.725, total=   0.3s\n",
            "[CV] n_estimators=160, min_samples_leaf=261, max_depth=310 ...........\n",
            "[CV]  n_estimators=160, min_samples_leaf=261, max_depth=310, score=0.745, total=   0.3s\n",
            "[CV] n_estimators=160, min_samples_leaf=261, max_depth=310 ...........\n",
            "[CV]  n_estimators=160, min_samples_leaf=261, max_depth=310, score=0.684, total=   0.3s\n",
            "[CV] n_estimators=160, min_samples_leaf=261, max_depth=310 ...........\n",
            "[CV]  n_estimators=160, min_samples_leaf=261, max_depth=310, score=0.704, total=   0.3s\n",
            "[CV] n_estimators=160, min_samples_leaf=261, max_depth=310 ...........\n",
            "[CV]  n_estimators=160, min_samples_leaf=261, max_depth=310, score=0.720, total=   0.3s\n",
            "[CV] n_estimators=270, min_samples_leaf=366, max_depth=480 ...........\n",
            "[CV]  n_estimators=270, min_samples_leaf=366, max_depth=480, score=0.713, total=   0.5s\n",
            "[CV] n_estimators=270, min_samples_leaf=366, max_depth=480 ...........\n",
            "[CV]  n_estimators=270, min_samples_leaf=366, max_depth=480, score=0.731, total=   0.5s\n",
            "[CV] n_estimators=270, min_samples_leaf=366, max_depth=480 ...........\n",
            "[CV]  n_estimators=270, min_samples_leaf=366, max_depth=480, score=0.671, total=   0.5s\n",
            "[CV] n_estimators=270, min_samples_leaf=366, max_depth=480 ...........\n",
            "[CV]  n_estimators=270, min_samples_leaf=366, max_depth=480, score=0.691, total=   0.5s\n",
            "[CV] n_estimators=270, min_samples_leaf=366, max_depth=480 ...........\n",
            "[CV]  n_estimators=270, min_samples_leaf=366, max_depth=480, score=0.710, total=   0.5s\n",
            "[CV] n_estimators=280, min_samples_leaf=136, max_depth=380 ...........\n",
            "[CV]  n_estimators=280, min_samples_leaf=136, max_depth=380, score=0.755, total=   0.6s\n",
            "[CV] n_estimators=280, min_samples_leaf=136, max_depth=380 ...........\n",
            "[CV]  n_estimators=280, min_samples_leaf=136, max_depth=380, score=0.773, total=   0.6s\n",
            "[CV] n_estimators=280, min_samples_leaf=136, max_depth=380 ...........\n",
            "[CV]  n_estimators=280, min_samples_leaf=136, max_depth=380, score=0.704, total=   0.6s\n",
            "[CV] n_estimators=280, min_samples_leaf=136, max_depth=380 ...........\n",
            "[CV]  n_estimators=280, min_samples_leaf=136, max_depth=380, score=0.719, total=   0.6s\n",
            "[CV] n_estimators=280, min_samples_leaf=136, max_depth=380 ...........\n",
            "[CV]  n_estimators=280, min_samples_leaf=136, max_depth=380, score=0.755, total=   0.7s\n",
            "[CV] n_estimators=170, min_samples_leaf=291, max_depth=430 ...........\n",
            "[CV]  n_estimators=170, min_samples_leaf=291, max_depth=430, score=0.726, total=   0.3s\n",
            "[CV] n_estimators=170, min_samples_leaf=291, max_depth=430 ...........\n",
            "[CV]  n_estimators=170, min_samples_leaf=291, max_depth=430, score=0.745, total=   0.3s\n",
            "[CV] n_estimators=170, min_samples_leaf=291, max_depth=430 ...........\n",
            "[CV]  n_estimators=170, min_samples_leaf=291, max_depth=430, score=0.684, total=   0.3s\n",
            "[CV] n_estimators=170, min_samples_leaf=291, max_depth=430 ...........\n",
            "[CV]  n_estimators=170, min_samples_leaf=291, max_depth=430, score=0.699, total=   0.3s\n",
            "[CV] n_estimators=170, min_samples_leaf=291, max_depth=430 ...........\n",
            "[CV]  n_estimators=170, min_samples_leaf=291, max_depth=430, score=0.721, total=   0.3s\n",
            "[CV] n_estimators=140, min_samples_leaf=191, max_depth=460 ...........\n",
            "[CV]  n_estimators=140, min_samples_leaf=191, max_depth=460, score=0.742, total=   0.3s\n",
            "[CV] n_estimators=140, min_samples_leaf=191, max_depth=460 ...........\n",
            "[CV]  n_estimators=140, min_samples_leaf=191, max_depth=460, score=0.763, total=   0.3s\n",
            "[CV] n_estimators=140, min_samples_leaf=191, max_depth=460 ...........\n",
            "[CV]  n_estimators=140, min_samples_leaf=191, max_depth=460, score=0.692, total=   0.3s\n",
            "[CV] n_estimators=140, min_samples_leaf=191, max_depth=460 ...........\n",
            "[CV]  n_estimators=140, min_samples_leaf=191, max_depth=460, score=0.716, total=   0.3s\n",
            "[CV] n_estimators=140, min_samples_leaf=191, max_depth=460 ...........\n",
            "[CV]  n_estimators=140, min_samples_leaf=191, max_depth=460, score=0.739, total=   0.3s\n",
            "[CV] n_estimators=330, min_samples_leaf=201, max_depth=230 ...........\n",
            "[CV]  n_estimators=330, min_samples_leaf=201, max_depth=230, score=0.744, total=   0.6s\n",
            "[CV] n_estimators=330, min_samples_leaf=201, max_depth=230 ...........\n",
            "[CV]  n_estimators=330, min_samples_leaf=201, max_depth=230, score=0.767, total=   0.7s\n",
            "[CV] n_estimators=330, min_samples_leaf=201, max_depth=230 ...........\n",
            "[CV]  n_estimators=330, min_samples_leaf=201, max_depth=230, score=0.695, total=   0.7s\n",
            "[CV] n_estimators=330, min_samples_leaf=201, max_depth=230 ...........\n",
            "[CV]  n_estimators=330, min_samples_leaf=201, max_depth=230, score=0.718, total=   0.7s\n",
            "[CV] n_estimators=330, min_samples_leaf=201, max_depth=230 ...........\n",
            "[CV]  n_estimators=330, min_samples_leaf=201, max_depth=230, score=0.740, total=   0.6s\n",
            "[CV] n_estimators=200, min_samples_leaf=336, max_depth=280 ...........\n",
            "[CV]  n_estimators=200, min_samples_leaf=336, max_depth=280, score=0.717, total=   0.4s\n",
            "[CV] n_estimators=200, min_samples_leaf=336, max_depth=280 ...........\n",
            "[CV]  n_estimators=200, min_samples_leaf=336, max_depth=280, score=0.739, total=   0.4s\n",
            "[CV] n_estimators=200, min_samples_leaf=336, max_depth=280 ...........\n",
            "[CV]  n_estimators=200, min_samples_leaf=336, max_depth=280, score=0.674, total=   0.4s\n",
            "[CV] n_estimators=200, min_samples_leaf=336, max_depth=280 ...........\n",
            "[CV]  n_estimators=200, min_samples_leaf=336, max_depth=280, score=0.694, total=   0.4s\n",
            "[CV] n_estimators=200, min_samples_leaf=336, max_depth=280 ...........\n",
            "[CV]  n_estimators=200, min_samples_leaf=336, max_depth=280, score=0.710, total=   0.4s\n",
            "[CV] n_estimators=310, min_samples_leaf=1, max_depth=340 .............\n",
            "[CV]  n_estimators=310, min_samples_leaf=1, max_depth=340, score=0.682, total=   0.9s\n",
            "[CV] n_estimators=310, min_samples_leaf=1, max_depth=340 .............\n",
            "[CV]  n_estimators=310, min_samples_leaf=1, max_depth=340, score=0.713, total=   0.9s\n",
            "[CV] n_estimators=310, min_samples_leaf=1, max_depth=340 .............\n",
            "[CV]  n_estimators=310, min_samples_leaf=1, max_depth=340, score=0.714, total=   0.9s\n",
            "[CV] n_estimators=310, min_samples_leaf=1, max_depth=340 .............\n",
            "[CV]  n_estimators=310, min_samples_leaf=1, max_depth=340, score=0.696, total=   0.9s\n",
            "[CV] n_estimators=310, min_samples_leaf=1, max_depth=340 .............\n",
            "[CV]  n_estimators=310, min_samples_leaf=1, max_depth=340, score=0.709, total=   0.9s\n",
            "[CV] n_estimators=300, min_samples_leaf=301, max_depth=330 ...........\n",
            "[CV]  n_estimators=300, min_samples_leaf=301, max_depth=330, score=0.722, total=   0.5s\n",
            "[CV] n_estimators=300, min_samples_leaf=301, max_depth=330 ...........\n",
            "[CV]  n_estimators=300, min_samples_leaf=301, max_depth=330, score=0.746, total=   0.6s\n",
            "[CV] n_estimators=300, min_samples_leaf=301, max_depth=330 ...........\n",
            "[CV]  n_estimators=300, min_samples_leaf=301, max_depth=330, score=0.680, total=   0.6s\n",
            "[CV] n_estimators=300, min_samples_leaf=301, max_depth=330 ...........\n",
            "[CV]  n_estimators=300, min_samples_leaf=301, max_depth=330, score=0.702, total=   0.5s\n",
            "[CV] n_estimators=300, min_samples_leaf=301, max_depth=330 ...........\n",
            "[CV]  n_estimators=300, min_samples_leaf=301, max_depth=330, score=0.719, total=   0.6s\n",
            "[CV] n_estimators=190, min_samples_leaf=96, max_depth=200 ............\n",
            "[CV]  n_estimators=190, min_samples_leaf=96, max_depth=200, score=0.760, total=   0.4s\n",
            "[CV] n_estimators=190, min_samples_leaf=96, max_depth=200 ............\n",
            "[CV]  n_estimators=190, min_samples_leaf=96, max_depth=200, score=0.772, total=   0.4s\n",
            "[CV] n_estimators=190, min_samples_leaf=96, max_depth=200 ............\n",
            "[CV]  n_estimators=190, min_samples_leaf=96, max_depth=200, score=0.726, total=   0.4s\n",
            "[CV] n_estimators=190, min_samples_leaf=96, max_depth=200 ............\n",
            "[CV]  n_estimators=190, min_samples_leaf=96, max_depth=200, score=0.724, total=   0.4s\n",
            "[CV] n_estimators=190, min_samples_leaf=96, max_depth=200 ............\n",
            "[CV]  n_estimators=190, min_samples_leaf=96, max_depth=200, score=0.762, total=   0.4s\n",
            "[CV] n_estimators=250, min_samples_leaf=266, max_depth=320 ...........\n",
            "[CV]  n_estimators=250, min_samples_leaf=266, max_depth=320, score=0.727, total=   0.5s\n",
            "[CV] n_estimators=250, min_samples_leaf=266, max_depth=320 ...........\n",
            "[CV]  n_estimators=250, min_samples_leaf=266, max_depth=320, score=0.753, total=   0.5s\n",
            "[CV] n_estimators=250, min_samples_leaf=266, max_depth=320 ...........\n",
            "[CV]  n_estimators=250, min_samples_leaf=266, max_depth=320, score=0.685, total=   0.5s\n",
            "[CV] n_estimators=250, min_samples_leaf=266, max_depth=320 ...........\n",
            "[CV]  n_estimators=250, min_samples_leaf=266, max_depth=320, score=0.704, total=   0.5s\n",
            "[CV] n_estimators=250, min_samples_leaf=266, max_depth=320 ...........\n",
            "[CV]  n_estimators=250, min_samples_leaf=266, max_depth=320, score=0.722, total=   0.5s\n",
            "[CV] n_estimators=150, min_samples_leaf=316, max_depth=330 ...........\n",
            "[CV]  n_estimators=150, min_samples_leaf=316, max_depth=330, score=0.722, total=   0.3s\n",
            "[CV] n_estimators=150, min_samples_leaf=316, max_depth=330 ...........\n",
            "[CV]  n_estimators=150, min_samples_leaf=316, max_depth=330, score=0.737, total=   0.3s\n",
            "[CV] n_estimators=150, min_samples_leaf=316, max_depth=330 ...........\n",
            "[CV]  n_estimators=150, min_samples_leaf=316, max_depth=330, score=0.680, total=   0.3s\n",
            "[CV] n_estimators=150, min_samples_leaf=316, max_depth=330 ...........\n",
            "[CV]  n_estimators=150, min_samples_leaf=316, max_depth=330, score=0.695, total=   0.3s\n",
            "[CV] n_estimators=150, min_samples_leaf=316, max_depth=330 ...........\n",
            "[CV]  n_estimators=150, min_samples_leaf=316, max_depth=330, score=0.714, total=   0.3s\n",
            "[CV] n_estimators=410, min_samples_leaf=61, max_depth=210 ............\n",
            "[CV]  n_estimators=410, min_samples_leaf=61, max_depth=210, score=0.759, total=   1.0s\n",
            "[CV] n_estimators=410, min_samples_leaf=61, max_depth=210 ............\n",
            "[CV]  n_estimators=410, min_samples_leaf=61, max_depth=210, score=0.777, total=   1.0s\n",
            "[CV] n_estimators=410, min_samples_leaf=61, max_depth=210 ............\n",
            "[CV]  n_estimators=410, min_samples_leaf=61, max_depth=210, score=0.726, total=   0.9s\n",
            "[CV] n_estimators=410, min_samples_leaf=61, max_depth=210 ............\n",
            "[CV]  n_estimators=410, min_samples_leaf=61, max_depth=210, score=0.721, total=   0.9s\n",
            "[CV] n_estimators=410, min_samples_leaf=61, max_depth=210 ............\n",
            "[CV]  n_estimators=410, min_samples_leaf=61, max_depth=210, score=0.763, total=   1.0s\n",
            "[CV] n_estimators=450, min_samples_leaf=316, max_depth=410 ...........\n",
            "[CV]  n_estimators=450, min_samples_leaf=316, max_depth=410, score=0.721, total=   0.8s\n",
            "[CV] n_estimators=450, min_samples_leaf=316, max_depth=410 ...........\n",
            "[CV]  n_estimators=450, min_samples_leaf=316, max_depth=410, score=0.743, total=   0.8s\n",
            "[CV] n_estimators=450, min_samples_leaf=316, max_depth=410 ...........\n",
            "[CV]  n_estimators=450, min_samples_leaf=316, max_depth=410, score=0.678, total=   0.8s\n",
            "[CV] n_estimators=450, min_samples_leaf=316, max_depth=410 ...........\n",
            "[CV]  n_estimators=450, min_samples_leaf=316, max_depth=410, score=0.701, total=   0.8s\n",
            "[CV] n_estimators=450, min_samples_leaf=316, max_depth=410 ...........\n",
            "[CV]  n_estimators=450, min_samples_leaf=316, max_depth=410, score=0.718, total=   0.9s\n",
            "[CV] n_estimators=350, min_samples_leaf=461, max_depth=370 ...........\n",
            "[CV]  n_estimators=350, min_samples_leaf=461, max_depth=370, score=0.702, total=   0.6s\n",
            "[CV] n_estimators=350, min_samples_leaf=461, max_depth=370 ...........\n",
            "[CV]  n_estimators=350, min_samples_leaf=461, max_depth=370, score=0.727, total=   0.6s\n",
            "[CV] n_estimators=350, min_samples_leaf=461, max_depth=370 ...........\n",
            "[CV]  n_estimators=350, min_samples_leaf=461, max_depth=370, score=0.673, total=   0.6s\n",
            "[CV] n_estimators=350, min_samples_leaf=461, max_depth=370 ...........\n",
            "[CV]  n_estimators=350, min_samples_leaf=461, max_depth=370, score=0.684, total=   0.6s\n",
            "[CV] n_estimators=350, min_samples_leaf=461, max_depth=370 ...........\n",
            "[CV]  n_estimators=350, min_samples_leaf=461, max_depth=370, score=0.707, total=   0.6s\n",
            "[CV] n_estimators=180, min_samples_leaf=126, max_depth=470 ...........\n",
            "[CV]  n_estimators=180, min_samples_leaf=126, max_depth=470, score=0.755, total=   0.4s\n",
            "[CV] n_estimators=180, min_samples_leaf=126, max_depth=470 ...........\n",
            "[CV]  n_estimators=180, min_samples_leaf=126, max_depth=470, score=0.771, total=   0.4s\n",
            "[CV] n_estimators=180, min_samples_leaf=126, max_depth=470 ...........\n",
            "[CV]  n_estimators=180, min_samples_leaf=126, max_depth=470, score=0.707, total=   0.4s\n",
            "[CV] n_estimators=180, min_samples_leaf=126, max_depth=470 ...........\n",
            "[CV]  n_estimators=180, min_samples_leaf=126, max_depth=470, score=0.719, total=   0.4s\n",
            "[CV] n_estimators=180, min_samples_leaf=126, max_depth=470 ...........\n",
            "[CV]  n_estimators=180, min_samples_leaf=126, max_depth=470, score=0.755, total=   0.4s\n",
            "[CV] n_estimators=480, min_samples_leaf=356, max_depth=370 ...........\n",
            "[CV]  n_estimators=480, min_samples_leaf=356, max_depth=370, score=0.711, total=   0.9s\n",
            "[CV] n_estimators=480, min_samples_leaf=356, max_depth=370 ...........\n",
            "[CV]  n_estimators=480, min_samples_leaf=356, max_depth=370, score=0.737, total=   0.9s\n",
            "[CV] n_estimators=480, min_samples_leaf=356, max_depth=370 ...........\n",
            "[CV]  n_estimators=480, min_samples_leaf=356, max_depth=370, score=0.674, total=   0.8s\n",
            "[CV] n_estimators=480, min_samples_leaf=356, max_depth=370 ...........\n",
            "[CV]  n_estimators=480, min_samples_leaf=356, max_depth=370, score=0.694, total=   0.8s\n",
            "[CV] n_estimators=480, min_samples_leaf=356, max_depth=370 ...........\n",
            "[CV]  n_estimators=480, min_samples_leaf=356, max_depth=370, score=0.712, total=   0.9s\n",
            "[CV] n_estimators=270, min_samples_leaf=316, max_depth=450 ...........\n",
            "[CV]  n_estimators=270, min_samples_leaf=316, max_depth=450, score=0.721, total=   0.5s\n",
            "[CV] n_estimators=270, min_samples_leaf=316, max_depth=450 ...........\n",
            "[CV]  n_estimators=270, min_samples_leaf=316, max_depth=450, score=0.742, total=   0.5s\n",
            "[CV] n_estimators=270, min_samples_leaf=316, max_depth=450 ...........\n",
            "[CV]  n_estimators=270, min_samples_leaf=316, max_depth=450, score=0.678, total=   0.5s\n",
            "[CV] n_estimators=270, min_samples_leaf=316, max_depth=450 ...........\n",
            "[CV]  n_estimators=270, min_samples_leaf=316, max_depth=450, score=0.698, total=   0.5s\n",
            "[CV] n_estimators=270, min_samples_leaf=316, max_depth=450 ...........\n",
            "[CV]  n_estimators=270, min_samples_leaf=316, max_depth=450, score=0.715, total=   0.5s\n",
            "[CV] n_estimators=130, min_samples_leaf=116, max_depth=470 ...........\n",
            "[CV]  n_estimators=130, min_samples_leaf=116, max_depth=470, score=0.758, total=   0.3s\n",
            "[CV] n_estimators=130, min_samples_leaf=116, max_depth=470 ...........\n",
            "[CV]  n_estimators=130, min_samples_leaf=116, max_depth=470, score=0.771, total=   0.3s\n",
            "[CV] n_estimators=130, min_samples_leaf=116, max_depth=470 ...........\n",
            "[CV]  n_estimators=130, min_samples_leaf=116, max_depth=470, score=0.704, total=   0.3s\n",
            "[CV] n_estimators=130, min_samples_leaf=116, max_depth=470 ...........\n",
            "[CV]  n_estimators=130, min_samples_leaf=116, max_depth=470, score=0.713, total=   0.3s\n",
            "[CV] n_estimators=130, min_samples_leaf=116, max_depth=470 ...........\n",
            "[CV]  n_estimators=130, min_samples_leaf=116, max_depth=470, score=0.757, total=   0.3s\n",
            "[CV] n_estimators=370, min_samples_leaf=341, max_depth=200 ...........\n",
            "[CV]  n_estimators=370, min_samples_leaf=341, max_depth=200, score=0.715, total=   0.7s\n",
            "[CV] n_estimators=370, min_samples_leaf=341, max_depth=200 ...........\n",
            "[CV]  n_estimators=370, min_samples_leaf=341, max_depth=200, score=0.737, total=   0.7s\n",
            "[CV] n_estimators=370, min_samples_leaf=341, max_depth=200 ...........\n",
            "[CV]  n_estimators=370, min_samples_leaf=341, max_depth=200, score=0.676, total=   0.7s\n",
            "[CV] n_estimators=370, min_samples_leaf=341, max_depth=200 ...........\n",
            "[CV]  n_estimators=370, min_samples_leaf=341, max_depth=200, score=0.700, total=   0.7s\n",
            "[CV] n_estimators=370, min_samples_leaf=341, max_depth=200 ...........\n",
            "[CV]  n_estimators=370, min_samples_leaf=341, max_depth=200, score=0.714, total=   0.7s\n",
            "[CV] n_estimators=250, min_samples_leaf=481, max_depth=450 ...........\n",
            "[CV]  n_estimators=250, min_samples_leaf=481, max_depth=450, score=0.702, total=   0.4s\n",
            "[CV] n_estimators=250, min_samples_leaf=481, max_depth=450 ...........\n",
            "[CV]  n_estimators=250, min_samples_leaf=481, max_depth=450, score=0.721, total=   0.4s\n",
            "[CV] n_estimators=250, min_samples_leaf=481, max_depth=450 ...........\n",
            "[CV]  n_estimators=250, min_samples_leaf=481, max_depth=450, score=0.671, total=   0.4s\n",
            "[CV] n_estimators=250, min_samples_leaf=481, max_depth=450 ...........\n",
            "[CV]  n_estimators=250, min_samples_leaf=481, max_depth=450, score=0.684, total=   0.4s\n",
            "[CV] n_estimators=250, min_samples_leaf=481, max_depth=450 ...........\n",
            "[CV]  n_estimators=250, min_samples_leaf=481, max_depth=450, score=0.702, total=   0.4s\n",
            "[CV] n_estimators=150, min_samples_leaf=416, max_depth=330 ...........\n",
            "[CV]  n_estimators=150, min_samples_leaf=416, max_depth=330, score=0.700, total=   0.3s\n",
            "[CV] n_estimators=150, min_samples_leaf=416, max_depth=330 ...........\n",
            "[CV]  n_estimators=150, min_samples_leaf=416, max_depth=330, score=0.732, total=   0.3s\n",
            "[CV] n_estimators=150, min_samples_leaf=416, max_depth=330 ...........\n",
            "[CV]  n_estimators=150, min_samples_leaf=416, max_depth=330, score=0.667, total=   0.3s\n",
            "[CV] n_estimators=150, min_samples_leaf=416, max_depth=330 ...........\n",
            "[CV]  n_estimators=150, min_samples_leaf=416, max_depth=330, score=0.691, total=   0.3s\n",
            "[CV] n_estimators=150, min_samples_leaf=416, max_depth=330 ...........\n",
            "[CV]  n_estimators=150, min_samples_leaf=416, max_depth=330, score=0.708, total=   0.3s\n",
            "[CV] n_estimators=310, min_samples_leaf=46, max_depth=470 ............\n",
            "[CV]  n_estimators=310, min_samples_leaf=46, max_depth=470, score=0.761, total=   0.7s\n",
            "[CV] n_estimators=310, min_samples_leaf=46, max_depth=470 ............\n",
            "[CV]  n_estimators=310, min_samples_leaf=46, max_depth=470, score=0.778, total=   0.8s\n",
            "[CV] n_estimators=310, min_samples_leaf=46, max_depth=470 ............\n",
            "[CV]  n_estimators=310, min_samples_leaf=46, max_depth=470, score=0.725, total=   0.7s\n",
            "[CV] n_estimators=310, min_samples_leaf=46, max_depth=470 ............\n",
            "[CV]  n_estimators=310, min_samples_leaf=46, max_depth=470, score=0.715, total=   0.7s\n",
            "[CV] n_estimators=310, min_samples_leaf=46, max_depth=470 ............\n",
            "[CV]  n_estimators=310, min_samples_leaf=46, max_depth=470, score=0.766, total=   0.8s\n",
            "[CV] n_estimators=240, min_samples_leaf=381, max_depth=370 ...........\n",
            "[CV]  n_estimators=240, min_samples_leaf=381, max_depth=370, score=0.712, total=   0.4s\n",
            "[CV] n_estimators=240, min_samples_leaf=381, max_depth=370 ...........\n",
            "[CV]  n_estimators=240, min_samples_leaf=381, max_depth=370, score=0.732, total=   0.4s\n",
            "[CV] n_estimators=240, min_samples_leaf=381, max_depth=370 ...........\n",
            "[CV]  n_estimators=240, min_samples_leaf=381, max_depth=370, score=0.670, total=   0.5s\n",
            "[CV] n_estimators=240, min_samples_leaf=381, max_depth=370 ...........\n",
            "[CV]  n_estimators=240, min_samples_leaf=381, max_depth=370, score=0.692, total=   0.5s\n",
            "[CV] n_estimators=240, min_samples_leaf=381, max_depth=370 ...........\n",
            "[CV]  n_estimators=240, min_samples_leaf=381, max_depth=370, score=0.712, total=   0.4s\n",
            "[CV] n_estimators=360, min_samples_leaf=516, max_depth=440 ...........\n",
            "[CV]  n_estimators=360, min_samples_leaf=516, max_depth=440, score=0.706, total=   0.6s\n",
            "[CV] n_estimators=360, min_samples_leaf=516, max_depth=440 ...........\n",
            "[CV]  n_estimators=360, min_samples_leaf=516, max_depth=440, score=0.721, total=   0.6s\n",
            "[CV] n_estimators=360, min_samples_leaf=516, max_depth=440 ...........\n",
            "[CV]  n_estimators=360, min_samples_leaf=516, max_depth=440, score=0.671, total=   0.6s\n",
            "[CV] n_estimators=360, min_samples_leaf=516, max_depth=440 ...........\n",
            "[CV]  n_estimators=360, min_samples_leaf=516, max_depth=440, score=0.682, total=   0.6s\n",
            "[CV] n_estimators=360, min_samples_leaf=516, max_depth=440 ...........\n",
            "[CV]  n_estimators=360, min_samples_leaf=516, max_depth=440, score=0.702, total=   0.6s\n",
            "[CV] n_estimators=450, min_samples_leaf=26, max_depth=340 ............\n",
            "[CV]  n_estimators=450, min_samples_leaf=26, max_depth=340, score=0.756, total=   1.1s\n",
            "[CV] n_estimators=450, min_samples_leaf=26, max_depth=340 ............\n",
            "[CV]  n_estimators=450, min_samples_leaf=26, max_depth=340, score=0.773, total=   1.2s\n",
            "[CV] n_estimators=450, min_samples_leaf=26, max_depth=340 ............\n",
            "[CV]  n_estimators=450, min_samples_leaf=26, max_depth=340, score=0.722, total=   1.1s\n",
            "[CV] n_estimators=450, min_samples_leaf=26, max_depth=340 ............\n",
            "[CV]  n_estimators=450, min_samples_leaf=26, max_depth=340, score=0.713, total=   1.1s\n",
            "[CV] n_estimators=450, min_samples_leaf=26, max_depth=340 ............\n",
            "[CV]  n_estimators=450, min_samples_leaf=26, max_depth=340, score=0.762, total=   1.2s\n",
            "[CV] n_estimators=160, min_samples_leaf=511, max_depth=310 ...........\n",
            "[CV]  n_estimators=160, min_samples_leaf=511, max_depth=310, score=0.704, total=   0.3s\n",
            "[CV] n_estimators=160, min_samples_leaf=511, max_depth=310 ...........\n",
            "[CV]  n_estimators=160, min_samples_leaf=511, max_depth=310, score=0.713, total=   0.3s\n",
            "[CV] n_estimators=160, min_samples_leaf=511, max_depth=310 ...........\n",
            "[CV]  n_estimators=160, min_samples_leaf=511, max_depth=310, score=0.680, total=   0.3s\n",
            "[CV] n_estimators=160, min_samples_leaf=511, max_depth=310 ...........\n",
            "[CV]  n_estimators=160, min_samples_leaf=511, max_depth=310, score=0.679, total=   0.3s\n",
            "[CV] n_estimators=160, min_samples_leaf=511, max_depth=310 ...........\n",
            "[CV]  n_estimators=160, min_samples_leaf=511, max_depth=310, score=0.690, total=   0.3s\n",
            "[CV] n_estimators=130, min_samples_leaf=551, max_depth=330 ...........\n",
            "[CV]  n_estimators=130, min_samples_leaf=551, max_depth=330, score=0.704, total=   0.2s\n",
            "[CV] n_estimators=130, min_samples_leaf=551, max_depth=330 ...........\n",
            "[CV]  n_estimators=130, min_samples_leaf=551, max_depth=330, score=0.718, total=   0.2s\n",
            "[CV] n_estimators=130, min_samples_leaf=551, max_depth=330 ...........\n",
            "[CV]  n_estimators=130, min_samples_leaf=551, max_depth=330, score=0.681, total=   0.2s\n",
            "[CV] n_estimators=130, min_samples_leaf=551, max_depth=330 ...........\n",
            "[CV]  n_estimators=130, min_samples_leaf=551, max_depth=330, score=0.676, total=   0.2s\n",
            "[CV] n_estimators=130, min_samples_leaf=551, max_depth=330 ...........\n",
            "[CV]  n_estimators=130, min_samples_leaf=551, max_depth=330, score=0.686, total=   0.2s\n",
            "[CV] n_estimators=410, min_samples_leaf=341, max_depth=260 ...........\n",
            "[CV]  n_estimators=410, min_samples_leaf=341, max_depth=260, score=0.715, total=   0.8s\n",
            "[CV] n_estimators=410, min_samples_leaf=341, max_depth=260 ...........\n",
            "[CV]  n_estimators=410, min_samples_leaf=341, max_depth=260, score=0.738, total=   0.7s\n",
            "[CV] n_estimators=410, min_samples_leaf=341, max_depth=260 ...........\n",
            "[CV]  n_estimators=410, min_samples_leaf=341, max_depth=260, score=0.676, total=   0.7s\n",
            "[CV] n_estimators=410, min_samples_leaf=341, max_depth=260 ...........\n",
            "[CV]  n_estimators=410, min_samples_leaf=341, max_depth=260, score=0.698, total=   0.7s\n",
            "[CV] n_estimators=410, min_samples_leaf=341, max_depth=260 ...........\n",
            "[CV]  n_estimators=410, min_samples_leaf=341, max_depth=260, score=0.714, total=   0.8s\n",
            "[CV] n_estimators=260, min_samples_leaf=126, max_depth=440 ...........\n",
            "[CV]  n_estimators=260, min_samples_leaf=126, max_depth=440, score=0.755, total=   0.5s\n",
            "[CV] n_estimators=260, min_samples_leaf=126, max_depth=440 ...........\n",
            "[CV]  n_estimators=260, min_samples_leaf=126, max_depth=440, score=0.774, total=   0.5s\n",
            "[CV] n_estimators=260, min_samples_leaf=126, max_depth=440 ...........\n",
            "[CV]  n_estimators=260, min_samples_leaf=126, max_depth=440, score=0.708, total=   0.6s\n",
            "[CV] n_estimators=260, min_samples_leaf=126, max_depth=440 ...........\n",
            "[CV]  n_estimators=260, min_samples_leaf=126, max_depth=440, score=0.719, total=   0.6s\n",
            "[CV] n_estimators=260, min_samples_leaf=126, max_depth=440 ...........\n",
            "[CV]  n_estimators=260, min_samples_leaf=126, max_depth=440, score=0.757, total=   0.5s\n"
          ]
        },
        {
          "output_type": "stream",
          "name": "stderr",
          "text": [
            "[Parallel(n_jobs=1)]: Done 175 out of 175 | elapsed:  1.6min finished\n"
          ]
        },
        {
          "output_type": "execute_result",
          "data": {
            "text/plain": [
              "RandomizedSearchCV(cv=None, error_score=nan,\n",
              "                   estimator=RandomForestClassifier(bootstrap=True,\n",
              "                                                    ccp_alpha=0.0,\n",
              "                                                    class_weight='balanced',\n",
              "                                                    criterion='gini',\n",
              "                                                    max_depth=None,\n",
              "                                                    max_features='auto',\n",
              "                                                    max_leaf_nodes=None,\n",
              "                                                    max_samples=None,\n",
              "                                                    min_impurity_decrease=0.0,\n",
              "                                                    min_impurity_split=None,\n",
              "                                                    min_samples_leaf=1,\n",
              "                                                    min_samples_split=2,\n",
              "                                                    min_weight_fraction_leaf=0.0,\n",
              "                                                    n_estimators=1...\n",
              "       521, 526, 531, 536, 541, 546, 551, 556, 561, 566, 571, 576, 581,\n",
              "       586, 591, 596]),\n",
              "                                        'n_estimators': array([100, 110, 120, 130, 140, 150, 160, 170, 180, 190, 200, 210, 220,\n",
              "       230, 240, 250, 260, 270, 280, 290, 300, 310, 320, 330, 340, 350,\n",
              "       360, 370, 380, 390, 400, 410, 420, 430, 440, 450, 460, 470, 480,\n",
              "       490])},\n",
              "                   pre_dispatch='2*n_jobs', random_state=42, refit=True,\n",
              "                   return_train_score=False, scoring='roc_auc', verbose=3)"
            ]
          },
          "metadata": {},
          "execution_count": 36
        }
      ]
    },
    {
      "cell_type": "code",
      "metadata": {
        "scrolled": true,
        "id": "CrfoEPcCxckr",
        "colab": {
          "base_uri": "https://localhost:8080/"
        },
        "outputId": "494216d9-39e2-4995-e7c6-6043fc0fcf23"
      },
      "source": [
        "rsrf.best_params_"
      ],
      "id": "CrfoEPcCxckr",
      "execution_count": null,
      "outputs": [
        {
          "output_type": "execute_result",
          "data": {
            "text/plain": [
              "{'max_depth': 210, 'min_samples_leaf': 61, 'n_estimators': 410}"
            ]
          },
          "metadata": {},
          "execution_count": 37
        }
      ]
    },
    {
      "cell_type": "code",
      "metadata": {
        "id": "ko36b5uOxcks",
        "colab": {
          "base_uri": "https://localhost:8080/"
        },
        "outputId": "5f0daf8d-4138-494d-c999-569520a11ef1"
      },
      "source": [
        "ypred_rsrf = cross_val_predict(rsrf.best_estimator_, df_listo, df.stroke)\n",
        "yscore_rsrf = cross_val_predict(rsrf.best_estimator_, df_listo, df.stroke, method=\"predict_proba\")\n",
        "confusion_matrix(df.stroke, ypred_rsrf)"
      ],
      "id": "ko36b5uOxcks",
      "execution_count": null,
      "outputs": [
        {
          "output_type": "execute_result",
          "data": {
            "text/plain": [
              "array([[2940,  944],\n",
              "       [  81,  123]])"
            ]
          },
          "metadata": {},
          "execution_count": 38
        }
      ]
    },
    {
      "cell_type": "code",
      "metadata": {
        "id": "PvWwvzIMxckt",
        "colab": {
          "base_uri": "https://localhost:8080/"
        },
        "outputId": "cab8ae50-34e5-41d4-9f99-47fc27035f91"
      },
      "source": [
        "print(accuracy_score(df.stroke, ypred_rsrf))\n",
        "print(recall_score(df.stroke, ypred_rsrf))\n",
        "print(roc_auc_score(df.stroke, yscore_rsrf[:,1]))"
      ],
      "id": "PvWwvzIMxckt",
      "execution_count": null,
      "outputs": [
        {
          "output_type": "stream",
          "name": "stdout",
          "text": [
            "0.74926614481409\n",
            "0.6029411764705882\n",
            "0.7490685769673471\n"
          ]
        }
      ]
    },
    {
      "cell_type": "code",
      "metadata": {
        "id": "C8yYeIv9xcku",
        "outputId": "1107d6e7-9986-401b-8b35-b4a445111d1e"
      },
      "source": [
        "print(roc_auc_score(df.stroke, ypred_rsrf))"
      ],
      "id": "C8yYeIv9xcku",
      "execution_count": null,
      "outputs": [
        {
          "name": "stdout",
          "output_type": "stream",
          "text": [
            "0.6799463863815352\n"
          ]
        }
      ]
    },
    {
      "cell_type": "markdown",
      "metadata": {
        "id": "TwR8Iw1dOomX"
      },
      "source": [
        "# Boosting\n"
      ],
      "id": "TwR8Iw1dOomX"
    },
    {
      "cell_type": "markdown",
      "metadata": {
        "id": "n2JqSb8umfYG"
      },
      "source": [
        "## AdaBoost\n"
      ],
      "id": "n2JqSb8umfYG"
    },
    {
      "cell_type": "code",
      "metadata": {
        "colab": {
          "base_uri": "https://localhost:8080/"
        },
        "id": "hNWLR9I2Om6l",
        "outputId": "d4a3d291-54a8-40d6-f98f-d1fc321a9322"
      },
      "source": [
        "from sklearn.ensemble import AdaBoostClassifier, GradientBoostingClassifier\n",
        "from sklearn.linear_model import LogisticRegression\n",
        "from sklearn.tree import DecisionTreeClassifier\n",
        "from sklearn.model_selection import RandomizedSearchCV\n",
        "\n",
        "#dt_stump = DecisionTreeClassifier(max_depth=1, min_samples_leaf=1)\n",
        "\n",
        "ada_clf = AdaBoostClassifier(LogisticRegression(), algorithm=\"SAMME.R\", random_state=42)\n",
        "ada_clf.fit(df_listo, df.stroke)\n",
        "param_grid = {\"n_estimators\":np.arange(10,300, 10),\n",
        "              \"learning_rate\": np.linspace(0.1, 1.5, 40)\n",
        "             }\n",
        "\n",
        "rs_ada = RandomizedSearchCV(ada_clf, param_grid, verbose=3, n_iter=15, random_state=42, scoring=\"roc_auc\")\n",
        "rs_ada.fit(df_listo, df.stroke)"
      ],
      "id": "hNWLR9I2Om6l",
      "execution_count": null,
      "outputs": [
        {
          "output_type": "stream",
          "name": "stdout",
          "text": [
            "Fitting 5 folds for each of 15 candidates, totalling 75 fits\n",
            "[CV] n_estimators=120, learning_rate=0.9615384615384615 ..............\n"
          ]
        },
        {
          "output_type": "stream",
          "name": "stderr",
          "text": [
            "[Parallel(n_jobs=1)]: Using backend SequentialBackend with 1 concurrent workers.\n"
          ]
        },
        {
          "output_type": "stream",
          "name": "stdout",
          "text": [
            "[CV]  n_estimators=120, learning_rate=0.9615384615384615, score=0.742, total=   1.2s\n",
            "[CV] n_estimators=120, learning_rate=0.9615384615384615 ..............\n"
          ]
        },
        {
          "output_type": "stream",
          "name": "stderr",
          "text": [
            "[Parallel(n_jobs=1)]: Done   1 out of   1 | elapsed:    1.2s remaining:    0.0s\n"
          ]
        },
        {
          "output_type": "stream",
          "name": "stdout",
          "text": [
            "[CV]  n_estimators=120, learning_rate=0.9615384615384615, score=0.775, total=   1.1s\n",
            "[CV] n_estimators=120, learning_rate=0.9615384615384615 ..............\n"
          ]
        },
        {
          "output_type": "stream",
          "name": "stderr",
          "text": [
            "[Parallel(n_jobs=1)]: Done   2 out of   2 | elapsed:    2.3s remaining:    0.0s\n"
          ]
        },
        {
          "output_type": "stream",
          "name": "stdout",
          "text": [
            "[CV]  n_estimators=120, learning_rate=0.9615384615384615, score=0.702, total=   1.2s\n",
            "[CV] n_estimators=120, learning_rate=0.9615384615384615 ..............\n",
            "[CV]  n_estimators=120, learning_rate=0.9615384615384615, score=0.732, total=   1.1s\n",
            "[CV] n_estimators=120, learning_rate=0.9615384615384615 ..............\n",
            "[CV]  n_estimators=120, learning_rate=0.9615384615384615, score=0.718, total=   1.1s\n",
            "[CV] n_estimators=210, learning_rate=1.5 .............................\n",
            "[CV] . n_estimators=210, learning_rate=1.5, score=0.739, total=   1.6s\n",
            "[CV] n_estimators=210, learning_rate=1.5 .............................\n",
            "[CV] . n_estimators=210, learning_rate=1.5, score=0.775, total=   1.6s\n",
            "[CV] n_estimators=210, learning_rate=1.5 .............................\n",
            "[CV] . n_estimators=210, learning_rate=1.5, score=0.705, total=   2.0s\n",
            "[CV] n_estimators=210, learning_rate=1.5 .............................\n",
            "[CV] . n_estimators=210, learning_rate=1.5, score=0.730, total=   1.7s\n",
            "[CV] n_estimators=210, learning_rate=1.5 .............................\n",
            "[CV] . n_estimators=210, learning_rate=1.5, score=0.721, total=   1.7s\n",
            "[CV] n_estimators=220, learning_rate=0.6743589743589743 ..............\n",
            "[CV]  n_estimators=220, learning_rate=0.6743589743589743, score=0.742, total=   2.1s\n",
            "[CV] n_estimators=220, learning_rate=0.6743589743589743 ..............\n",
            "[CV]  n_estimators=220, learning_rate=0.6743589743589743, score=0.775, total=   2.0s\n",
            "[CV] n_estimators=220, learning_rate=0.6743589743589743 ..............\n",
            "[CV]  n_estimators=220, learning_rate=0.6743589743589743, score=0.702, total=   2.2s\n",
            "[CV] n_estimators=220, learning_rate=0.6743589743589743 ..............\n",
            "[CV]  n_estimators=220, learning_rate=0.6743589743589743, score=0.731, total=   2.0s\n",
            "[CV] n_estimators=220, learning_rate=0.6743589743589743 ..............\n",
            "[CV]  n_estimators=220, learning_rate=0.6743589743589743, score=0.718, total=   2.0s\n",
            "[CV] n_estimators=210, learning_rate=0.13589743589743591 .............\n",
            "[CV]  n_estimators=210, learning_rate=0.13589743589743591, score=0.742, total=   2.1s\n",
            "[CV] n_estimators=210, learning_rate=0.13589743589743591 .............\n",
            "[CV]  n_estimators=210, learning_rate=0.13589743589743591, score=0.768, total=   2.1s\n",
            "[CV] n_estimators=210, learning_rate=0.13589743589743591 .............\n",
            "[CV]  n_estimators=210, learning_rate=0.13589743589743591, score=0.708, total=   2.0s\n",
            "[CV] n_estimators=210, learning_rate=0.13589743589743591 .............\n",
            "[CV]  n_estimators=210, learning_rate=0.13589743589743591, score=0.728, total=   2.0s\n",
            "[CV] n_estimators=210, learning_rate=0.13589743589743591 .............\n",
            "[CV]  n_estimators=210, learning_rate=0.13589743589743591, score=0.721, total=   2.1s\n",
            "[CV] n_estimators=140, learning_rate=1.2128205128205127 ..............\n",
            "[CV]  n_estimators=140, learning_rate=1.2128205128205127, score=0.741, total=   1.3s\n",
            "[CV] n_estimators=140, learning_rate=1.2128205128205127 ..............\n",
            "[CV]  n_estimators=140, learning_rate=1.2128205128205127, score=0.775, total=   1.2s\n",
            "[CV] n_estimators=140, learning_rate=1.2128205128205127 ..............\n",
            "[CV]  n_estimators=140, learning_rate=1.2128205128205127, score=0.702, total=   1.4s\n",
            "[CV] n_estimators=140, learning_rate=1.2128205128205127 ..............\n",
            "[CV]  n_estimators=140, learning_rate=1.2128205128205127, score=0.731, total=   1.3s\n",
            "[CV] n_estimators=140, learning_rate=1.2128205128205127 ..............\n",
            "[CV]  n_estimators=140, learning_rate=1.2128205128205127, score=0.719, total=   1.2s\n",
            "[CV] n_estimators=180, learning_rate=1.0333333333333332 ..............\n",
            "[CV]  n_estimators=180, learning_rate=1.0333333333333332, score=0.741, total=   1.6s\n",
            "[CV] n_estimators=180, learning_rate=1.0333333333333332 ..............\n",
            "[CV]  n_estimators=180, learning_rate=1.0333333333333332, score=0.775, total=   1.6s\n",
            "[CV] n_estimators=180, learning_rate=1.0333333333333332 ..............\n",
            "[CV]  n_estimators=180, learning_rate=1.0333333333333332, score=0.702, total=   1.8s\n",
            "[CV] n_estimators=180, learning_rate=1.0333333333333332 ..............\n",
            "[CV]  n_estimators=180, learning_rate=1.0333333333333332, score=0.731, total=   1.6s\n",
            "[CV] n_estimators=180, learning_rate=1.0333333333333332 ..............\n",
            "[CV]  n_estimators=180, learning_rate=1.0333333333333332, score=0.719, total=   1.5s\n",
            "[CV] n_estimators=280, learning_rate=0.6025641025641025 ..............\n",
            "[CV]  n_estimators=280, learning_rate=0.6025641025641025, score=0.741, total=   2.4s\n",
            "[CV] n_estimators=280, learning_rate=0.6025641025641025 ..............\n",
            "[CV]  n_estimators=280, learning_rate=0.6025641025641025, score=0.775, total=   2.5s\n",
            "[CV] n_estimators=280, learning_rate=0.6025641025641025 ..............\n",
            "[CV]  n_estimators=280, learning_rate=0.6025641025641025, score=0.702, total=   2.8s\n",
            "[CV] n_estimators=280, learning_rate=0.6025641025641025 ..............\n",
            "[CV]  n_estimators=280, learning_rate=0.6025641025641025, score=0.731, total=   2.5s\n",
            "[CV] n_estimators=280, learning_rate=0.6025641025641025 ..............\n",
            "[CV]  n_estimators=280, learning_rate=0.6025641025641025, score=0.718, total=   2.4s\n",
            "[CV] n_estimators=260, learning_rate=0.2794871794871795 ..............\n",
            "[CV]  n_estimators=260, learning_rate=0.2794871794871795, score=0.745, total=   2.6s\n",
            "[CV] n_estimators=260, learning_rate=0.2794871794871795 ..............\n",
            "[CV]  n_estimators=260, learning_rate=0.2794871794871795, score=0.775, total=   2.7s\n",
            "[CV] n_estimators=260, learning_rate=0.2794871794871795 ..............\n",
            "[CV]  n_estimators=260, learning_rate=0.2794871794871795, score=0.704, total=   2.5s\n",
            "[CV] n_estimators=260, learning_rate=0.2794871794871795 ..............\n",
            "[CV]  n_estimators=260, learning_rate=0.2794871794871795, score=0.731, total=   2.6s\n",
            "[CV] n_estimators=260, learning_rate=0.2794871794871795 ..............\n",
            "[CV]  n_estimators=260, learning_rate=0.2794871794871795, score=0.717, total=   2.6s\n",
            "[CV] n_estimators=10, learning_rate=0.3153846153846154 ...............\n",
            "[CV]  n_estimators=10, learning_rate=0.3153846153846154, score=0.687, total=   0.1s\n",
            "[CV] n_estimators=10, learning_rate=0.3153846153846154 ...............\n",
            "[CV]  n_estimators=10, learning_rate=0.3153846153846154, score=0.711, total=   0.1s\n",
            "[CV] n_estimators=10, learning_rate=0.3153846153846154 ...............\n",
            "[CV]  n_estimators=10, learning_rate=0.3153846153846154, score=0.688, total=   0.1s\n",
            "[CV] n_estimators=10, learning_rate=0.3153846153846154 ...............\n",
            "[CV]  n_estimators=10, learning_rate=0.3153846153846154, score=0.698, total=   0.1s\n",
            "[CV] n_estimators=10, learning_rate=0.3153846153846154 ...............\n",
            "[CV]  n_estimators=10, learning_rate=0.3153846153846154, score=0.704, total=   0.1s\n",
            "[CV] n_estimators=150, learning_rate=0.4948717948717949 ..............\n",
            "[CV]  n_estimators=150, learning_rate=0.4948717948717949, score=0.744, total=   1.6s\n",
            "[CV] n_estimators=150, learning_rate=0.4948717948717949 ..............\n",
            "[CV]  n_estimators=150, learning_rate=0.4948717948717949, score=0.775, total=   1.6s\n",
            "[CV] n_estimators=150, learning_rate=0.4948717948717949 ..............\n",
            "[CV]  n_estimators=150, learning_rate=0.4948717948717949, score=0.704, total=   1.5s\n",
            "[CV] n_estimators=150, learning_rate=0.4948717948717949 ..............\n",
            "[CV]  n_estimators=150, learning_rate=0.4948717948717949, score=0.731, total=   1.5s\n",
            "[CV] n_estimators=150, learning_rate=0.4948717948717949 ..............\n",
            "[CV]  n_estimators=150, learning_rate=0.4948717948717949, score=0.716, total=   1.5s\n",
            "[CV] n_estimators=110, learning_rate=0.6384615384615384 ..............\n",
            "[CV]  n_estimators=110, learning_rate=0.6384615384615384, score=0.744, total=   1.1s\n",
            "[CV] n_estimators=110, learning_rate=0.6384615384615384 ..............\n",
            "[CV]  n_estimators=110, learning_rate=0.6384615384615384, score=0.775, total=   1.1s\n",
            "[CV] n_estimators=110, learning_rate=0.6384615384615384 ..............\n",
            "[CV]  n_estimators=110, learning_rate=0.6384615384615384, score=0.704, total=   1.1s\n",
            "[CV] n_estimators=110, learning_rate=0.6384615384615384 ..............\n",
            "[CV]  n_estimators=110, learning_rate=0.6384615384615384, score=0.731, total=   1.1s\n",
            "[CV] n_estimators=110, learning_rate=0.6384615384615384 ..............\n",
            "[CV]  n_estimators=110, learning_rate=0.6384615384615384, score=0.716, total=   1.2s\n",
            "[CV] n_estimators=160, learning_rate=1.0692307692307692 ..............\n",
            "[CV]  n_estimators=160, learning_rate=1.0692307692307692, score=0.741, total=   1.6s\n",
            "[CV] n_estimators=160, learning_rate=1.0692307692307692 ..............\n",
            "[CV]  n_estimators=160, learning_rate=1.0692307692307692, score=0.775, total=   1.5s\n",
            "[CV] n_estimators=160, learning_rate=1.0692307692307692 ..............\n",
            "[CV]  n_estimators=160, learning_rate=1.0692307692307692, score=0.702, total=   1.6s\n",
            "[CV] n_estimators=160, learning_rate=1.0692307692307692 ..............\n",
            "[CV]  n_estimators=160, learning_rate=1.0692307692307692, score=0.731, total=   1.4s\n",
            "[CV] n_estimators=160, learning_rate=1.0692307692307692 ..............\n",
            "[CV]  n_estimators=160, learning_rate=1.0692307692307692, score=0.719, total=   1.5s\n",
            "[CV] n_estimators=150, learning_rate=0.423076923076923 ...............\n",
            "[CV]  n_estimators=150, learning_rate=0.423076923076923, score=0.745, total=   1.5s\n",
            "[CV] n_estimators=150, learning_rate=0.423076923076923 ...............\n",
            "[CV]  n_estimators=150, learning_rate=0.423076923076923, score=0.775, total=   1.5s\n",
            "[CV] n_estimators=150, learning_rate=0.423076923076923 ...............\n",
            "[CV]  n_estimators=150, learning_rate=0.423076923076923, score=0.705, total=   1.5s\n",
            "[CV] n_estimators=150, learning_rate=0.423076923076923 ...............\n",
            "[CV]  n_estimators=150, learning_rate=0.423076923076923, score=0.731, total=   1.5s\n",
            "[CV] n_estimators=150, learning_rate=0.423076923076923 ...............\n",
            "[CV]  n_estimators=150, learning_rate=0.423076923076923, score=0.717, total=   1.4s\n",
            "[CV] n_estimators=240, learning_rate=1.141025641025641 ...............\n",
            "[CV]  n_estimators=240, learning_rate=1.141025641025641, score=0.740, total=   1.9s\n",
            "[CV] n_estimators=240, learning_rate=1.141025641025641 ...............\n",
            "[CV]  n_estimators=240, learning_rate=1.141025641025641, score=0.775, total=   2.0s\n",
            "[CV] n_estimators=240, learning_rate=1.141025641025641 ...............\n",
            "[CV]  n_estimators=240, learning_rate=1.141025641025641, score=0.705, total=   2.2s\n",
            "[CV] n_estimators=240, learning_rate=1.141025641025641 ...............\n",
            "[CV]  n_estimators=240, learning_rate=1.141025641025641, score=0.731, total=   2.0s\n",
            "[CV] n_estimators=240, learning_rate=1.141025641025641 ...............\n",
            "[CV]  n_estimators=240, learning_rate=1.141025641025641, score=0.721, total=   1.9s\n",
            "[CV] n_estimators=210, learning_rate=0.20769230769230768 .............\n",
            "[CV]  n_estimators=210, learning_rate=0.20769230769230768, score=0.745, total=   2.1s\n",
            "[CV] n_estimators=210, learning_rate=0.20769230769230768 .............\n",
            "[CV]  n_estimators=210, learning_rate=0.20769230769230768, score=0.772, total=   2.0s\n",
            "[CV] n_estimators=210, learning_rate=0.20769230769230768 .............\n",
            "[CV]  n_estimators=210, learning_rate=0.20769230769230768, score=0.707, total=   2.0s\n",
            "[CV] n_estimators=210, learning_rate=0.20769230769230768 .............\n",
            "[CV]  n_estimators=210, learning_rate=0.20769230769230768, score=0.730, total=   2.1s\n",
            "[CV] n_estimators=210, learning_rate=0.20769230769230768 .............\n",
            "[CV]  n_estimators=210, learning_rate=0.20769230769230768, score=0.719, total=   2.2s\n"
          ]
        },
        {
          "output_type": "stream",
          "name": "stderr",
          "text": [
            "[Parallel(n_jobs=1)]: Done  75 out of  75 | elapsed:  2.1min finished\n"
          ]
        },
        {
          "output_type": "execute_result",
          "data": {
            "text/plain": [
              "RandomizedSearchCV(cv=None, error_score=nan,\n",
              "                   estimator=AdaBoostClassifier(algorithm='SAMME.R',\n",
              "                                                base_estimator=LogisticRegression(C=1.0,\n",
              "                                                                                  class_weight=None,\n",
              "                                                                                  dual=False,\n",
              "                                                                                  fit_intercept=True,\n",
              "                                                                                  intercept_scaling=1,\n",
              "                                                                                  l1_ratio=None,\n",
              "                                                                                  max_iter=100,\n",
              "                                                                                  multi_class='auto',\n",
              "                                                                                  n_jobs=None,\n",
              "                                                                                  penalty='l2',\n",
              "                                                                                  random_state=None,\n",
              "                                                                                  solver='lbfgs',\n",
              "                                                                                  tol=0.0001,\n",
              "                                                                                  verbose=0,\n",
              "                                                                                  warm_start=False),\n",
              "                                                learnin...\n",
              "       0.9974359 , 1.03333333, 1.06923077, 1.10512821, 1.14102564,\n",
              "       1.17692308, 1.21282051, 1.24871795, 1.28461538, 1.32051282,\n",
              "       1.35641026, 1.39230769, 1.42820513, 1.46410256, 1.5       ]),\n",
              "                                        'n_estimators': array([ 10,  20,  30,  40,  50,  60,  70,  80,  90, 100, 110, 120, 130,\n",
              "       140, 150, 160, 170, 180, 190, 200, 210, 220, 230, 240, 250, 260,\n",
              "       270, 280, 290])},\n",
              "                   pre_dispatch='2*n_jobs', random_state=42, refit=True,\n",
              "                   return_train_score=False, scoring='roc_auc', verbose=3)"
            ]
          },
          "metadata": {},
          "execution_count": 40
        }
      ]
    },
    {
      "cell_type": "code",
      "metadata": {
        "colab": {
          "base_uri": "https://localhost:8080/"
        },
        "id": "oaf_PsdoWALp",
        "outputId": "c9c0e7f8-87d9-40ea-bc2e-2598b604f25c"
      },
      "source": [
        "rs_ada.best_params_"
      ],
      "id": "oaf_PsdoWALp",
      "execution_count": null,
      "outputs": [
        {
          "output_type": "execute_result",
          "data": {
            "text/plain": [
              "{'learning_rate': 0.423076923076923, 'n_estimators': 150}"
            ]
          },
          "metadata": {},
          "execution_count": 41
        }
      ]
    },
    {
      "cell_type": "code",
      "metadata": {
        "colab": {
          "base_uri": "https://localhost:8080/"
        },
        "id": "c3JeyI2lWDZd",
        "outputId": "55a9ebdb-6d87-4061-b7d5-7b8eb3098fa4"
      },
      "source": [
        "from sklearn.model_selection import cross_val_predict\n",
        "from sklearn.metrics import confusion_matrix\n",
        "ypred_rs_ada = cross_val_predict(rs_ada.best_estimator_, df_listo, df.stroke)\n",
        "yscore_rs_ada = cross_val_predict(rs_ada.best_estimator_, df_listo, df.stroke, method=\"predict_proba\")\n",
        "confusion_matrix(df.stroke, ypred_rs_ada)"
      ],
      "id": "c3JeyI2lWDZd",
      "execution_count": null,
      "outputs": [
        {
          "output_type": "execute_result",
          "data": {
            "text/plain": [
              "array([[3884,    0],\n",
              "       [ 204,    0]])"
            ]
          },
          "metadata": {},
          "execution_count": 42
        }
      ]
    },
    {
      "cell_type": "code",
      "metadata": {
        "colab": {
          "base_uri": "https://localhost:8080/"
        },
        "id": "VdiWXGU3WDhU",
        "outputId": "a50209c3-2b5f-442a-c573-d6fe976b3365"
      },
      "source": [
        "from sklearn.metrics import accuracy_score, recall_score, roc_auc_score\n",
        "print(accuracy_score(df.stroke, ypred_rs_ada))\n",
        "print(recall_score(df.stroke, ypred_rs_ada))\n",
        "print(roc_auc_score(df.stroke, yscore_rs_ada[:,1]))"
      ],
      "id": "VdiWXGU3WDhU",
      "execution_count": null,
      "outputs": [
        {
          "output_type": "stream",
          "name": "stdout",
          "text": [
            "0.9500978473581213\n",
            "0.0\n",
            "0.7328582823448638\n"
          ]
        }
      ]
    },
    {
      "cell_type": "markdown",
      "metadata": {
        "id": "7xyE8K-tmkU2"
      },
      "source": [
        "## GradientBoost"
      ],
      "id": "7xyE8K-tmkU2"
    },
    {
      "cell_type": "code",
      "metadata": {
        "id": "B7qZQcHhmkz2"
      },
      "source": [
        ""
      ],
      "id": "B7qZQcHhmkz2",
      "execution_count": null,
      "outputs": []
    },
    {
      "cell_type": "code",
      "metadata": {
        "id": "bowayEUqmlA7"
      },
      "source": [
        ""
      ],
      "id": "bowayEUqmlA7",
      "execution_count": null,
      "outputs": []
    },
    {
      "cell_type": "code",
      "metadata": {
        "id": "Ke1ytvg4mlRr"
      },
      "source": [
        ""
      ],
      "id": "Ke1ytvg4mlRr",
      "execution_count": null,
      "outputs": []
    },
    {
      "cell_type": "code",
      "metadata": {
        "id": "sAdSVj8rmldt"
      },
      "source": [
        ""
      ],
      "id": "sAdSVj8rmldt",
      "execution_count": null,
      "outputs": []
    },
    {
      "cell_type": "markdown",
      "metadata": {
        "id": "3PMMBKOYIYb0"
      },
      "source": [
        "# Red Neuronal Artificial, ANN"
      ],
      "id": "3PMMBKOYIYb0"
    },
    {
      "cell_type": "code",
      "metadata": {
        "id": "zUnrG_fdIYb1",
        "scrolled": true
      },
      "source": [
        "from tensorflow import keras\n",
        "import tensorflow as tf"
      ],
      "id": "zUnrG_fdIYb1",
      "execution_count": null,
      "outputs": []
    },
    {
      "cell_type": "code",
      "metadata": {
        "id": "hhBgKpvHM2ZU"
      },
      "source": [
        "from sklearn.model_selection import train_test_split\n",
        "X_train, X_val, t_train, t_val = train_test_split(df_listo, df.stroke, test_size=0.15)"
      ],
      "id": "hhBgKpvHM2ZU",
      "execution_count": null,
      "outputs": []
    },
    {
      "cell_type": "code",
      "metadata": {
        "id": "J-eOLiwYIYb2"
      },
      "source": [
        "keras.backend.clear_session()\n",
        "np.random.seed(42)\n",
        "tf.random.set_seed(42)"
      ],
      "id": "J-eOLiwYIYb2",
      "execution_count": null,
      "outputs": []
    },
    {
      "cell_type": "code",
      "metadata": {
        "id": "ZkfwLWfWIYb3"
      },
      "source": [
        "#Definimos una capa especial, que es la entrada del modelo:\n",
        "input_ = keras.layers.Input(shape=[df_listo.shape[1]])\n",
        "#Luego se instancia cada capa y se aplica como una función a la salida de la capa anterior\n",
        "\n",
        "hidden1 = keras.layers.Dense(40, activation=\"relu\")(input_)\n",
        "drop1 = keras.layers.Dropout(0.2)(hidden1)\n",
        "hidden2 = keras.layers.Dense(20, activation=\"relu\")(drop1)\n",
        "drop2 = keras.layers.Dropout(0.2)(hidden2)\n",
        "hidden3 = keras.layers.Dense(10, activation=\"relu\")(drop2)\n",
        "drop3 = keras.layers.Dropout(0.2)(hidden3)\n",
        "output = keras.layers.Dense(1, activation=\"sigmoid\")(drop3)\n",
        "\n",
        "#Cuando se haya llegado a las las salidas, podemos definir el modelo:\n",
        "model = keras.models.Model(inputs=[input_], outputs=[output])"
      ],
      "id": "ZkfwLWfWIYb3",
      "execution_count": null,
      "outputs": []
    },
    {
      "cell_type": "code",
      "metadata": {
        "id": "ALxT5polJ8M2"
      },
      "source": [
        "early = keras.callbacks.EarlyStopping(patience=17, restore_best_weights=True)\n",
        "model.compile(loss=\"binary_crossentropy\",\n",
        "              optimizer=\"sgd\",\n",
        "              metrics=[\"accuracy\",])"
      ],
      "id": "ALxT5polJ8M2",
      "execution_count": null,
      "outputs": []
    },
    {
      "cell_type": "code",
      "metadata": {
        "colab": {
          "base_uri": "https://localhost:8080/"
        },
        "id": "jZkS9AjwKANx",
        "outputId": "3f31c75c-c847-4bd3-8c8a-8a9bf46a23a4"
      },
      "source": [
        "#Cuantas capas hay?\n",
        "model.layers"
      ],
      "id": "jZkS9AjwKANx",
      "execution_count": null,
      "outputs": [
        {
          "output_type": "execute_result",
          "data": {
            "text/plain": [
              "[<keras.engine.input_layer.InputLayer at 0x7f0320480310>,\n",
              " <keras.layers.core.dense.Dense at 0x7f0320497110>,\n",
              " <keras.layers.core.dropout.Dropout at 0x7f03204801d0>,\n",
              " <keras.layers.core.dense.Dense at 0x7f0320576fd0>,\n",
              " <keras.layers.core.dropout.Dropout at 0x7f0386b28310>,\n",
              " <keras.layers.core.dense.Dense at 0x7f031fbcce50>,\n",
              " <keras.layers.core.dropout.Dropout at 0x7f031c3a6f50>,\n",
              " <keras.layers.core.dense.Dense at 0x7f031c3c0910>]"
            ]
          },
          "metadata": {},
          "execution_count": 49
        }
      ]
    },
    {
      "cell_type": "code",
      "metadata": {
        "colab": {
          "base_uri": "https://localhost:8080/"
        },
        "id": "O5iK8omfLb9P",
        "outputId": "36ee62d6-f6b4-49f2-80e1-67a046067999"
      },
      "source": [
        "#cómo es el modelo?\n",
        "model.summary()"
      ],
      "id": "O5iK8omfLb9P",
      "execution_count": null,
      "outputs": [
        {
          "output_type": "stream",
          "name": "stdout",
          "text": [
            "Model: \"model\"\n",
            "_________________________________________________________________\n",
            " Layer (type)                Output Shape              Param #   \n",
            "=================================================================\n",
            " input_1 (InputLayer)        [(None, 16)]              0         \n",
            "                                                                 \n",
            " dense (Dense)               (None, 40)                680       \n",
            "                                                                 \n",
            " dropout (Dropout)           (None, 40)                0         \n",
            "                                                                 \n",
            " dense_1 (Dense)             (None, 20)                820       \n",
            "                                                                 \n",
            " dropout_1 (Dropout)         (None, 20)                0         \n",
            "                                                                 \n",
            " dense_2 (Dense)             (None, 10)                210       \n",
            "                                                                 \n",
            " dropout_2 (Dropout)         (None, 10)                0         \n",
            "                                                                 \n",
            " dense_3 (Dense)             (None, 1)                 11        \n",
            "                                                                 \n",
            "=================================================================\n",
            "Total params: 1,721\n",
            "Trainable params: 1,721\n",
            "Non-trainable params: 0\n",
            "_________________________________________________________________\n"
          ]
        }
      ]
    },
    {
      "cell_type": "code",
      "metadata": {
        "colab": {
          "base_uri": "https://localhost:8080/"
        },
        "id": "Pf1026uyL5I2",
        "outputId": "deddac8d-42bd-4b4a-fa6f-1d214271a6fc"
      },
      "source": [
        "pesos = {0:1.0, 1:25}\n",
        "history = model.fit(epochs=100, batch_size=32, x=X_train, y= t_train, validation_data=(X_val, t_val), \n",
        "                    callbacks=[early,], class_weight=pesos)"
      ],
      "id": "Pf1026uyL5I2",
      "execution_count": null,
      "outputs": [
        {
          "output_type": "stream",
          "name": "stdout",
          "text": [
            "Epoch 1/100\n",
            "109/109 [==============================] - 1s 4ms/step - loss: 1.5144 - accuracy: 0.2784 - val_loss: 0.8548 - val_accuracy: 0.0440\n",
            "Epoch 2/100\n",
            "109/109 [==============================] - 0s 2ms/step - loss: 1.4917 - accuracy: 0.1229 - val_loss: 0.8144 - val_accuracy: 0.0651\n",
            "Epoch 3/100\n",
            "109/109 [==============================] - 0s 2ms/step - loss: 1.4852 - accuracy: 0.1503 - val_loss: 0.8259 - val_accuracy: 0.0961\n",
            "Epoch 4/100\n",
            "109/109 [==============================] - 0s 2ms/step - loss: 1.4536 - accuracy: 0.1957 - val_loss: 0.8270 - val_accuracy: 0.1678\n",
            "Epoch 5/100\n",
            "109/109 [==============================] - 0s 2ms/step - loss: 1.4396 - accuracy: 0.2522 - val_loss: 0.7874 - val_accuracy: 0.3599\n",
            "Epoch 6/100\n",
            "109/109 [==============================] - 0s 2ms/step - loss: 1.4669 - accuracy: 0.3621 - val_loss: 0.7999 - val_accuracy: 0.3518\n",
            "Epoch 7/100\n",
            "109/109 [==============================] - 0s 3ms/step - loss: 1.4377 - accuracy: 0.4024 - val_loss: 0.7984 - val_accuracy: 0.4039\n",
            "Epoch 8/100\n",
            "109/109 [==============================] - 0s 3ms/step - loss: 1.4378 - accuracy: 0.4637 - val_loss: 0.7865 - val_accuracy: 0.4463\n",
            "Epoch 9/100\n",
            "109/109 [==============================] - 0s 2ms/step - loss: 1.4141 - accuracy: 0.5058 - val_loss: 0.7956 - val_accuracy: 0.4642\n",
            "Epoch 10/100\n",
            "109/109 [==============================] - 0s 2ms/step - loss: 1.4147 - accuracy: 0.5127 - val_loss: 0.7738 - val_accuracy: 0.5130\n",
            "Epoch 11/100\n",
            "109/109 [==============================] - 0s 2ms/step - loss: 1.4150 - accuracy: 0.5481 - val_loss: 0.7916 - val_accuracy: 0.4935\n",
            "Epoch 12/100\n",
            "109/109 [==============================] - 0s 2ms/step - loss: 1.4130 - accuracy: 0.5492 - val_loss: 0.7780 - val_accuracy: 0.5309\n",
            "Epoch 13/100\n",
            "109/109 [==============================] - 0s 2ms/step - loss: 1.3931 - accuracy: 0.5530 - val_loss: 0.8004 - val_accuracy: 0.4967\n",
            "Epoch 14/100\n",
            "109/109 [==============================] - 0s 2ms/step - loss: 1.4141 - accuracy: 0.5766 - val_loss: 0.7865 - val_accuracy: 0.5358\n",
            "Epoch 15/100\n",
            "109/109 [==============================] - 0s 2ms/step - loss: 1.3792 - accuracy: 0.5535 - val_loss: 0.7562 - val_accuracy: 0.5814\n",
            "Epoch 16/100\n",
            "109/109 [==============================] - 0s 2ms/step - loss: 1.4018 - accuracy: 0.5622 - val_loss: 0.7362 - val_accuracy: 0.6140\n",
            "Epoch 17/100\n",
            "109/109 [==============================] - 0s 2ms/step - loss: 1.3763 - accuracy: 0.5918 - val_loss: 0.8044 - val_accuracy: 0.5195\n",
            "Epoch 18/100\n",
            "109/109 [==============================] - 0s 2ms/step - loss: 1.3640 - accuracy: 0.5443 - val_loss: 0.7004 - val_accuracy: 0.6401\n",
            "Epoch 19/100\n",
            "109/109 [==============================] - 0s 2ms/step - loss: 1.3352 - accuracy: 0.5999 - val_loss: 0.6864 - val_accuracy: 0.6661\n",
            "Epoch 20/100\n",
            "109/109 [==============================] - 0s 2ms/step - loss: 1.3456 - accuracy: 0.5993 - val_loss: 0.7465 - val_accuracy: 0.5863\n",
            "Epoch 21/100\n",
            "109/109 [==============================] - 0s 2ms/step - loss: 1.3595 - accuracy: 0.6079 - val_loss: 0.7822 - val_accuracy: 0.5489\n",
            "Epoch 22/100\n",
            "109/109 [==============================] - 0s 2ms/step - loss: 1.3631 - accuracy: 0.5869 - val_loss: 0.7709 - val_accuracy: 0.5521\n",
            "Epoch 23/100\n",
            "109/109 [==============================] - 0s 2ms/step - loss: 1.3447 - accuracy: 0.5982 - val_loss: 0.7078 - val_accuracy: 0.6010\n",
            "Epoch 24/100\n",
            "109/109 [==============================] - 0s 2ms/step - loss: 1.3282 - accuracy: 0.5987 - val_loss: 0.7558 - val_accuracy: 0.5472\n",
            "Epoch 25/100\n",
            "109/109 [==============================] - 0s 2ms/step - loss: 1.3397 - accuracy: 0.5794 - val_loss: 0.7512 - val_accuracy: 0.5440\n",
            "Epoch 26/100\n",
            "109/109 [==============================] - 0s 2ms/step - loss: 1.3253 - accuracy: 0.5714 - val_loss: 0.6514 - val_accuracy: 0.6498\n",
            "Epoch 27/100\n",
            "109/109 [==============================] - 0s 2ms/step - loss: 1.3122 - accuracy: 0.6016 - val_loss: 0.6985 - val_accuracy: 0.6091\n",
            "Epoch 28/100\n",
            "109/109 [==============================] - 0s 2ms/step - loss: 1.3354 - accuracy: 0.5892 - val_loss: 0.7226 - val_accuracy: 0.5651\n",
            "Epoch 29/100\n",
            "109/109 [==============================] - 0s 2ms/step - loss: 1.3195 - accuracy: 0.6028 - val_loss: 0.7840 - val_accuracy: 0.4609\n",
            "Epoch 30/100\n",
            "109/109 [==============================] - 0s 2ms/step - loss: 1.2980 - accuracy: 0.5475 - val_loss: 0.7330 - val_accuracy: 0.5309\n",
            "Epoch 31/100\n",
            "109/109 [==============================] - 0s 2ms/step - loss: 1.2990 - accuracy: 0.5596 - val_loss: 0.7380 - val_accuracy: 0.5342\n",
            "Epoch 32/100\n",
            "109/109 [==============================] - 0s 2ms/step - loss: 1.3123 - accuracy: 0.5613 - val_loss: 0.6343 - val_accuracy: 0.6303\n",
            "Epoch 33/100\n",
            "109/109 [==============================] - 0s 2ms/step - loss: 1.2543 - accuracy: 0.6249 - val_loss: 0.6727 - val_accuracy: 0.5961\n",
            "Epoch 34/100\n",
            "109/109 [==============================] - 0s 2ms/step - loss: 1.3072 - accuracy: 0.5616 - val_loss: 0.6437 - val_accuracy: 0.6140\n",
            "Epoch 35/100\n",
            "109/109 [==============================] - 0s 2ms/step - loss: 1.2813 - accuracy: 0.5734 - val_loss: 0.6603 - val_accuracy: 0.5765\n",
            "Epoch 36/100\n",
            "109/109 [==============================] - 0s 2ms/step - loss: 1.2777 - accuracy: 0.5610 - val_loss: 0.6699 - val_accuracy: 0.5668\n",
            "Epoch 37/100\n",
            "109/109 [==============================] - 0s 2ms/step - loss: 1.3120 - accuracy: 0.5380 - val_loss: 0.6646 - val_accuracy: 0.5603\n",
            "Epoch 38/100\n",
            "109/109 [==============================] - 0s 2ms/step - loss: 1.2523 - accuracy: 0.5774 - val_loss: 0.7712 - val_accuracy: 0.4446\n",
            "Epoch 39/100\n",
            "109/109 [==============================] - 0s 2ms/step - loss: 1.2831 - accuracy: 0.5207 - val_loss: 0.7038 - val_accuracy: 0.5179\n",
            "Epoch 40/100\n",
            "109/109 [==============================] - 0s 2ms/step - loss: 1.2606 - accuracy: 0.5665 - val_loss: 0.7162 - val_accuracy: 0.4919\n",
            "Epoch 41/100\n",
            "109/109 [==============================] - 0s 2ms/step - loss: 1.2993 - accuracy: 0.5504 - val_loss: 0.7205 - val_accuracy: 0.4707\n",
            "Epoch 42/100\n",
            "109/109 [==============================] - 0s 2ms/step - loss: 1.2421 - accuracy: 0.5271 - val_loss: 0.6335 - val_accuracy: 0.5912\n",
            "Epoch 43/100\n",
            "109/109 [==============================] - 0s 2ms/step - loss: 1.2648 - accuracy: 0.5521 - val_loss: 0.7172 - val_accuracy: 0.4886\n",
            "Epoch 44/100\n",
            "109/109 [==============================] - 0s 2ms/step - loss: 1.2497 - accuracy: 0.5509 - val_loss: 0.6938 - val_accuracy: 0.5130\n",
            "Epoch 45/100\n",
            "109/109 [==============================] - 0s 2ms/step - loss: 1.2434 - accuracy: 0.5573 - val_loss: 0.7273 - val_accuracy: 0.4707\n",
            "Epoch 46/100\n",
            "109/109 [==============================] - 0s 2ms/step - loss: 1.2376 - accuracy: 0.5538 - val_loss: 0.6906 - val_accuracy: 0.5309\n",
            "Epoch 47/100\n",
            "109/109 [==============================] - 0s 2ms/step - loss: 1.2450 - accuracy: 0.5438 - val_loss: 0.6514 - val_accuracy: 0.5651\n",
            "Epoch 48/100\n",
            "109/109 [==============================] - 0s 2ms/step - loss: 1.2315 - accuracy: 0.5841 - val_loss: 0.7064 - val_accuracy: 0.5147\n",
            "Epoch 49/100\n",
            "109/109 [==============================] - 0s 2ms/step - loss: 1.2398 - accuracy: 0.5403 - val_loss: 0.6148 - val_accuracy: 0.6091\n",
            "Epoch 50/100\n",
            "109/109 [==============================] - 0s 2ms/step - loss: 1.2243 - accuracy: 0.5648 - val_loss: 0.6862 - val_accuracy: 0.5130\n",
            "Epoch 51/100\n",
            "109/109 [==============================] - 0s 2ms/step - loss: 1.2249 - accuracy: 0.5250 - val_loss: 0.6628 - val_accuracy: 0.5277\n",
            "Epoch 52/100\n",
            "109/109 [==============================] - 0s 2ms/step - loss: 1.2183 - accuracy: 0.5570 - val_loss: 0.6455 - val_accuracy: 0.5489\n",
            "Epoch 53/100\n",
            "109/109 [==============================] - 0s 2ms/step - loss: 1.2486 - accuracy: 0.5711 - val_loss: 0.6848 - val_accuracy: 0.5065\n",
            "Epoch 54/100\n",
            "109/109 [==============================] - 0s 2ms/step - loss: 1.2201 - accuracy: 0.5702 - val_loss: 0.7417 - val_accuracy: 0.4674\n",
            "Epoch 55/100\n",
            "109/109 [==============================] - 0s 2ms/step - loss: 1.2550 - accuracy: 0.5213 - val_loss: 0.6936 - val_accuracy: 0.4756\n",
            "Epoch 56/100\n",
            "109/109 [==============================] - 0s 2ms/step - loss: 1.2235 - accuracy: 0.5204 - val_loss: 0.6678 - val_accuracy: 0.5261\n",
            "Epoch 57/100\n",
            "109/109 [==============================] - 0s 2ms/step - loss: 1.2242 - accuracy: 0.5558 - val_loss: 0.6593 - val_accuracy: 0.5554\n",
            "Epoch 58/100\n",
            "109/109 [==============================] - 0s 2ms/step - loss: 1.2407 - accuracy: 0.5461 - val_loss: 0.6950 - val_accuracy: 0.4886\n",
            "Epoch 59/100\n",
            "109/109 [==============================] - 0s 2ms/step - loss: 1.1726 - accuracy: 0.5472 - val_loss: 0.6411 - val_accuracy: 0.5684\n",
            "Epoch 60/100\n",
            "109/109 [==============================] - 0s 2ms/step - loss: 1.2182 - accuracy: 0.5573 - val_loss: 0.7054 - val_accuracy: 0.4870\n",
            "Epoch 61/100\n",
            "109/109 [==============================] - 0s 2ms/step - loss: 1.2294 - accuracy: 0.5429 - val_loss: 0.6532 - val_accuracy: 0.5489\n",
            "Epoch 62/100\n",
            "109/109 [==============================] - 0s 2ms/step - loss: 1.1783 - accuracy: 0.5472 - val_loss: 0.6192 - val_accuracy: 0.6156\n",
            "Epoch 63/100\n",
            "109/109 [==============================] - 0s 2ms/step - loss: 1.2064 - accuracy: 0.5630 - val_loss: 0.7242 - val_accuracy: 0.4967\n",
            "Epoch 64/100\n",
            "109/109 [==============================] - 0s 2ms/step - loss: 1.2095 - accuracy: 0.5547 - val_loss: 0.6488 - val_accuracy: 0.5684\n",
            "Epoch 65/100\n",
            "109/109 [==============================] - 0s 2ms/step - loss: 1.2018 - accuracy: 0.5889 - val_loss: 0.7093 - val_accuracy: 0.5326\n",
            "Epoch 66/100\n",
            "109/109 [==============================] - 0s 2ms/step - loss: 1.1977 - accuracy: 0.5273 - val_loss: 0.6402 - val_accuracy: 0.5977\n"
          ]
        }
      ]
    },
    {
      "cell_type": "code",
      "metadata": {
        "colab": {
          "base_uri": "https://localhost:8080/",
          "height": 282
        },
        "id": "97jjRH7K6pJl",
        "outputId": "fcf53087-3f4f-4923-eebe-44017c488e92"
      },
      "source": [
        "history.history.keys()\n",
        "plt.plot(history.history.get('val_loss'), label=\"validation\")\n",
        "plt.plot(history.history.get('loss'), label=\"train\")\n",
        "plt.legend()"
      ],
      "id": "97jjRH7K6pJl",
      "execution_count": null,
      "outputs": [
        {
          "output_type": "execute_result",
          "data": {
            "text/plain": [
              "<matplotlib.legend.Legend at 0x7f0318b18ad0>"
            ]
          },
          "metadata": {},
          "execution_count": 52
        },
        {
          "output_type": "display_data",
          "data": {
            "image/png": "[encoded data removed]",
            "text/plain": [
              "<Figure size 432x288 with 1 Axes>"
            ]
          },
          "metadata": {
            "needs_background": "light"
          }
        }
      ]
    },
    {
      "cell_type": "code",
      "metadata": {
        "id": "8bsQNe04OIYZ"
      },
      "source": [
        "y_pred_score = model.predict(X_val)\n",
        "y_pred = np.zeros(len(y_pred_score))\n",
        "for i in range(len(y_pred_score)):\n",
        "    if(y_pred_score[i,0] > 0.5 ):\n",
        "        y_pred[i] = 1"
      ],
      "id": "8bsQNe04OIYZ",
      "execution_count": null,
      "outputs": []
    },
    {
      "cell_type": "code",
      "metadata": {
        "colab": {
          "base_uri": "https://localhost:8080/"
        },
        "id": "um5ZAgzyYFIt",
        "outputId": "71ed6cab-5bdb-4f2e-c8d3-de855fb612de"
      },
      "source": [
        "model.evaluate(X_val, t_val)"
      ],
      "id": "um5ZAgzyYFIt",
      "execution_count": null,
      "outputs": [
        {
          "output_type": "stream",
          "name": "stdout",
          "text": [
            "20/20 [==============================] - 0s 1ms/step - loss: 0.6148 - accuracy: 0.6091\n"
          ]
        },
        {
          "output_type": "execute_result",
          "data": {
            "text/plain": [
              "[0.6148428916931152, 0.6091205477714539]"
            ]
          },
          "metadata": {},
          "execution_count": 54
        }
      ]
    },
    {
      "cell_type": "code",
      "metadata": {
        "colab": {
          "base_uri": "https://localhost:8080/"
        },
        "id": "SPqg3Qtd7jb2",
        "outputId": "d316a371-d1ab-4b82-d918-efd0b7ac1594"
      },
      "source": [
        "from sklearn.metrics import confusion_matrix\n",
        "confusion_matrix(t_val, y_pred)"
      ],
      "id": "SPqg3Qtd7jb2",
      "execution_count": null,
      "outputs": [
        {
          "output_type": "execute_result",
          "data": {
            "text/plain": [
              "array([[352, 235],\n",
              "       [  5,  22]])"
            ]
          },
          "metadata": {},
          "execution_count": 55
        }
      ]
    },
    {
      "cell_type": "code",
      "metadata": {
        "colab": {
          "base_uri": "https://localhost:8080/"
        },
        "id": "sCbuZhuxyPnJ",
        "outputId": "5e1dfcc9-d553-4941-c036-36013780b917"
      },
      "source": [
        "print(accuracy_score(t_val, y_pred))\n",
        "print(recall_score(t_val, y_pred))\n",
        "print(roc_auc_score(t_val, y_pred_score))"
      ],
      "id": "sCbuZhuxyPnJ",
      "execution_count": null,
      "outputs": [
        {
          "output_type": "stream",
          "name": "stdout",
          "text": [
            "0.6091205211726385\n",
            "0.8148148148148148\n",
            "0.7700170357751277\n"
          ]
        }
      ]
    },
    {
      "cell_type": "markdown",
      "metadata": {
        "id": "Cwg1M-fJx7P2"
      },
      "source": [
        ""
      ],
      "id": "Cwg1M-fJx7P2"
    },
    {
      "cell_type": "code",
      "metadata": {
        "colab": {
          "base_uri": "https://localhost:8080/"
        },
        "id": "oQ76WtT2OSX5",
        "outputId": "f52ad902-c093-4d0a-9b81-e17b59675ce5"
      },
      "source": [
        "#No correr\n",
        "confusion_matrix(df.stroke, y_pred)#no olvidar que use una red con dos capas dense una de 300 y otra de 100 y pesos 0:1 1:100\n",
        "#[1657, 2227],\n",
        "#[   9,  195]"
      ],
      "id": "oQ76WtT2OSX5",
      "execution_count": null,
      "outputs": [
        {
          "output_type": "execute_result",
          "data": {
            "text/plain": [
              "array([[2645, 1239],\n",
              "       [  48,  156]])"
            ]
          },
          "metadata": {},
          "execution_count": 31
        }
      ]
    }
  ]
}