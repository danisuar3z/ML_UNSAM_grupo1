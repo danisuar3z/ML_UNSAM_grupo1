{
 "cells": [
  {
   "cell_type": "code",
   "execution_count": 1,
   "id": "4db1645e",
   "metadata": {},
   "outputs": [],
   "source": [
    "# IMPORTS\n",
    "import numpy as np\n",
    "import pandas as pd\n",
    "from matplotlib import pyplot as plt\n",
    "%matplotlib inline"
   ]
  },
  {
   "cell_type": "code",
   "execution_count": 3,
   "id": "20f33955",
   "metadata": {},
   "outputs": [],
   "source": [
    "# DATASET\n",
    "df = pd.read_csv(\"../datasets/stroke/healthcare-dataset-stroke-data_train.csv\")\n",
    "df.drop(\"id\", axis=1, inplace=True)"
   ]
  },
  {
   "cell_type": "markdown",
   "id": "dfffd637",
   "metadata": {},
   "source": [
    "### BMI por edad (medianas)\n",
    "* Hasta:  10 años - BMI: 18.30  \n",
    "* Hasta:  20 años - BMI: 23.80  \n",
    "* Hasta:  30 años - BMI: 26.70  \n",
    "* Hasta:  40 años - BMI: 29.70  \n",
    "* Hasta:  50 años - BMI: 30.00  \n",
    "* Hasta:  60 años - BMI: 30.90  \n",
    "* Hasta:  70 años - BMI: 30.00  \n",
    "* Mayor 70 años - BMI: 28.30  \n",
    "* Mayor 30 años - BMI: 29.80  \n",
    "\n",
    "Hago grupos hasta 10, hasta 20, hasta 30 y mayor a 30 para rellenar NaNs."
   ]
  },
  {
   "cell_type": "code",
   "execution_count": 14,
   "id": "4c9bab2b",
   "metadata": {},
   "outputs": [],
   "source": [
    "bmi_fill = {\n",
    "    \"hasta_10\": 18.3,\n",
    "    \"hasta_20\": 23.8,\n",
    "    \"hasta_30\": 26.7,\n",
    "    \"mayor_30\": 29.8,\n",
    "}"
   ]
  },
  {
   "cell_type": "code",
   "execution_count": 29,
   "id": "f47cc5b2",
   "metadata": {},
   "outputs": [
    {
     "name": "stderr",
     "output_type": "stream",
     "text": [
      "c:\\users\\suare\\myscripts\\ml\\venv\\lib\\site-packages\\pandas\\core\\indexing.py:1732: SettingWithCopyWarning: \n",
      "A value is trying to be set on a copy of a slice from a DataFrame\n",
      "\n",
      "See the caveats in the documentation: https://pandas.pydata.org/pandas-docs/stable/user_guide/indexing.html#returning-a-view-versus-a-copy\n",
      "  self._setitem_single_block(indexer, value, name)\n"
     ]
    }
   ],
   "source": [
    "# LLENO NaNs SEGUN EDAD\n",
    "df.bmi.fillna(0, inplace=True)\n",
    "for i in range(len(df)):\n",
    "    if df.bmi.iloc[i] == 0:\n",
    "        if (df.age.iloc[i]<=10):\n",
    "            df.bmi.iloc[i] = bmi_fill[\"hasta_10\"]\n",
    "        elif (df.age.loc[i]<=20)&(df.age.loc[i]>10):\n",
    "            df.bmi.iloc[i] = bmi_fill[\"hasta_20\"]\n",
    "        elif (df.age.loc[i]<=30)&(df.age.loc[i]>20):\n",
    "            df.bmi.iloc[i] = bmi_fill[\"hasta_30\"]\n",
    "        else:\n",
    "            df.bmi.iloc[i] = bmi_fill[\"mayor_30\"]"
   ]
  },
  {
   "cell_type": "markdown",
   "id": "ed72a1b8",
   "metadata": {},
   "source": [
    "## ENCODING"
   ]
  },
  {
   "cell_type": "code",
   "execution_count": 36,
   "id": "4fd2df89",
   "metadata": {},
   "outputs": [],
   "source": [
    "from sklearn.preprocessing import OneHotEncoder, StandardScaler"
   ]
  },
  {
   "cell_type": "code",
   "execution_count": 42,
   "id": "ff610924",
   "metadata": {},
   "outputs": [
    {
     "data": {
      "text/plain": [
       "<4088x5 sparse matrix of type '<class 'numpy.float64'>'\n",
       "\twith 4088 stored elements in Compressed Sparse Row format>"
      ]
     },
     "execution_count": 42,
     "metadata": {},
     "output_type": "execute_result"
    }
   ],
   "source": [
    "ohe = OneHotEncoder()\n",
    "work_type_ohe = ohe.fit_transform(df[[\"work_type\"]])"
   ]
  },
  {
   "cell_type": "code",
   "execution_count": null,
   "id": "c4bd8ef0",
   "metadata": {},
   "outputs": [],
   "source": []
  }
 ],
 "metadata": {
  "kernelspec": {
   "display_name": "Python 3 (ipykernel)",
   "language": "python",
   "name": "python3"
  },
  "language_info": {
   "codemirror_mode": {
    "name": "ipython",
    "version": 3
   },
   "file_extension": ".py",
   "mimetype": "text/x-python",
   "name": "python",
   "nbconvert_exporter": "python",
   "pygments_lexer": "ipython3",
   "version": "3.9.7"
  }
 },
 "nbformat": 4,
 "nbformat_minor": 5
}
